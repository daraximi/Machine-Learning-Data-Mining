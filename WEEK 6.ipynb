{
  "cells": [
    {
      "cell_type": "code",
      "execution_count": 1,
      "metadata": {
        "id": "eAR73_3awORJ"
      },
      "outputs": [],
      "source": [
        "import numpy as np\n",
        "import pandas as pd\n",
        "import matplotlib.pyplot as plt\n",
        "import tensorflow as tf\n",
        "import seaborn as sns\n",
        "from sklearn.preprocessing import StandardScaler\n",
        "from sklearn.model_selection import train_test_split"
      ]
    },
    {
      "cell_type": "code",
      "execution_count": 2,
      "metadata": {
        "id": "rJZIkblswvd9"
      },
      "outputs": [],
      "source": [
        "cardio_data = pd.read_csv(\"Cardiotocographic.csv\")"
      ]
    },
    {
      "cell_type": "code",
      "execution_count": 3,
      "metadata": {
        "colab": {
          "base_uri": "https://localhost:8080/",
          "height": 226
        },
        "id": "whp4WUy6w3EU",
        "outputId": "ab295ce0-55b0-4d4e-c336-6fcfcb9b03de"
      },
      "outputs": [
        {
          "data": {
            "text/html": [
              "<div>\n",
              "<style scoped>\n",
              "    .dataframe tbody tr th:only-of-type {\n",
              "        vertical-align: middle;\n",
              "    }\n",
              "\n",
              "    .dataframe tbody tr th {\n",
              "        vertical-align: top;\n",
              "    }\n",
              "\n",
              "    .dataframe thead th {\n",
              "        text-align: right;\n",
              "    }\n",
              "</style>\n",
              "<table border=\"1\" class=\"dataframe\">\n",
              "  <thead>\n",
              "    <tr style=\"text-align: right;\">\n",
              "      <th></th>\n",
              "      <th>BPM</th>\n",
              "      <th>APC</th>\n",
              "      <th>FMPS</th>\n",
              "      <th>UCPS</th>\n",
              "      <th>DLPS</th>\n",
              "      <th>SDPS</th>\n",
              "      <th>PDPS</th>\n",
              "      <th>ASTV</th>\n",
              "      <th>MSTV</th>\n",
              "      <th>ALTV</th>\n",
              "      <th>MLTV</th>\n",
              "      <th>Width</th>\n",
              "      <th>Min</th>\n",
              "      <th>Max</th>\n",
              "      <th>NSP</th>\n",
              "    </tr>\n",
              "  </thead>\n",
              "  <tbody>\n",
              "    <tr>\n",
              "      <th>0</th>\n",
              "      <td>120</td>\n",
              "      <td>0.000000</td>\n",
              "      <td>0.0</td>\n",
              "      <td>0.000000</td>\n",
              "      <td>0.000000</td>\n",
              "      <td>0.0</td>\n",
              "      <td>0.0</td>\n",
              "      <td>73</td>\n",
              "      <td>0.5</td>\n",
              "      <td>43</td>\n",
              "      <td>2.4</td>\n",
              "      <td>64</td>\n",
              "      <td>62</td>\n",
              "      <td>126</td>\n",
              "      <td>2</td>\n",
              "    </tr>\n",
              "    <tr>\n",
              "      <th>1</th>\n",
              "      <td>132</td>\n",
              "      <td>0.006380</td>\n",
              "      <td>0.0</td>\n",
              "      <td>0.006380</td>\n",
              "      <td>0.003190</td>\n",
              "      <td>0.0</td>\n",
              "      <td>0.0</td>\n",
              "      <td>17</td>\n",
              "      <td>2.1</td>\n",
              "      <td>0</td>\n",
              "      <td>10.4</td>\n",
              "      <td>130</td>\n",
              "      <td>68</td>\n",
              "      <td>198</td>\n",
              "      <td>1</td>\n",
              "    </tr>\n",
              "    <tr>\n",
              "      <th>2</th>\n",
              "      <td>133</td>\n",
              "      <td>0.003322</td>\n",
              "      <td>0.0</td>\n",
              "      <td>0.008306</td>\n",
              "      <td>0.003322</td>\n",
              "      <td>0.0</td>\n",
              "      <td>0.0</td>\n",
              "      <td>16</td>\n",
              "      <td>2.1</td>\n",
              "      <td>0</td>\n",
              "      <td>13.4</td>\n",
              "      <td>130</td>\n",
              "      <td>68</td>\n",
              "      <td>198</td>\n",
              "      <td>1</td>\n",
              "    </tr>\n",
              "    <tr>\n",
              "      <th>3</th>\n",
              "      <td>134</td>\n",
              "      <td>0.002561</td>\n",
              "      <td>0.0</td>\n",
              "      <td>0.007682</td>\n",
              "      <td>0.002561</td>\n",
              "      <td>0.0</td>\n",
              "      <td>0.0</td>\n",
              "      <td>16</td>\n",
              "      <td>2.4</td>\n",
              "      <td>0</td>\n",
              "      <td>23.0</td>\n",
              "      <td>117</td>\n",
              "      <td>53</td>\n",
              "      <td>170</td>\n",
              "      <td>1</td>\n",
              "    </tr>\n",
              "    <tr>\n",
              "      <th>4</th>\n",
              "      <td>132</td>\n",
              "      <td>0.006515</td>\n",
              "      <td>0.0</td>\n",
              "      <td>0.008143</td>\n",
              "      <td>0.000000</td>\n",
              "      <td>0.0</td>\n",
              "      <td>0.0</td>\n",
              "      <td>16</td>\n",
              "      <td>2.4</td>\n",
              "      <td>0</td>\n",
              "      <td>19.9</td>\n",
              "      <td>117</td>\n",
              "      <td>53</td>\n",
              "      <td>170</td>\n",
              "      <td>1</td>\n",
              "    </tr>\n",
              "  </tbody>\n",
              "</table>\n",
              "</div>"
            ],
            "text/plain": [
              "   BPM       APC  FMPS      UCPS      DLPS  SDPS  PDPS  ASTV  MSTV  ALTV  \\\n",
              "0  120  0.000000   0.0  0.000000  0.000000   0.0   0.0    73   0.5    43   \n",
              "1  132  0.006380   0.0  0.006380  0.003190   0.0   0.0    17   2.1     0   \n",
              "2  133  0.003322   0.0  0.008306  0.003322   0.0   0.0    16   2.1     0   \n",
              "3  134  0.002561   0.0  0.007682  0.002561   0.0   0.0    16   2.4     0   \n",
              "4  132  0.006515   0.0  0.008143  0.000000   0.0   0.0    16   2.4     0   \n",
              "\n",
              "   MLTV  Width  Min  Max  NSP  \n",
              "0   2.4     64   62  126    2  \n",
              "1  10.4    130   68  198    1  \n",
              "2  13.4    130   68  198    1  \n",
              "3  23.0    117   53  170    1  \n",
              "4  19.9    117   53  170    1  "
            ]
          },
          "execution_count": 3,
          "metadata": {},
          "output_type": "execute_result"
        }
      ],
      "source": [
        "cardio_data.head()"
      ]
    },
    {
      "cell_type": "code",
      "execution_count": 4,
      "metadata": {
        "colab": {
          "base_uri": "https://localhost:8080/",
          "height": 226
        },
        "id": "KkUKqMZDw6UB",
        "outputId": "36046fe0-845a-481d-aefd-e3cae33bdc99"
      },
      "outputs": [
        {
          "data": {
            "text/html": [
              "<div>\n",
              "<style scoped>\n",
              "    .dataframe tbody tr th:only-of-type {\n",
              "        vertical-align: middle;\n",
              "    }\n",
              "\n",
              "    .dataframe tbody tr th {\n",
              "        vertical-align: top;\n",
              "    }\n",
              "\n",
              "    .dataframe thead th {\n",
              "        text-align: right;\n",
              "    }\n",
              "</style>\n",
              "<table border=\"1\" class=\"dataframe\">\n",
              "  <thead>\n",
              "    <tr style=\"text-align: right;\">\n",
              "      <th></th>\n",
              "      <th>BPM</th>\n",
              "      <th>APC</th>\n",
              "      <th>FMPS</th>\n",
              "      <th>UCPS</th>\n",
              "      <th>DLPS</th>\n",
              "      <th>SDPS</th>\n",
              "      <th>PDPS</th>\n",
              "      <th>ASTV</th>\n",
              "      <th>MSTV</th>\n",
              "      <th>ALTV</th>\n",
              "      <th>MLTV</th>\n",
              "      <th>Width</th>\n",
              "      <th>Min</th>\n",
              "      <th>Max</th>\n",
              "      <th>NSP</th>\n",
              "    </tr>\n",
              "  </thead>\n",
              "  <tbody>\n",
              "    <tr>\n",
              "      <th>2121</th>\n",
              "      <td>140</td>\n",
              "      <td>0.000000</td>\n",
              "      <td>0.000000</td>\n",
              "      <td>0.007426</td>\n",
              "      <td>0.0</td>\n",
              "      <td>0.0</td>\n",
              "      <td>0.0</td>\n",
              "      <td>79</td>\n",
              "      <td>0.2</td>\n",
              "      <td>25</td>\n",
              "      <td>7.2</td>\n",
              "      <td>40</td>\n",
              "      <td>137</td>\n",
              "      <td>177</td>\n",
              "      <td>2</td>\n",
              "    </tr>\n",
              "    <tr>\n",
              "      <th>2122</th>\n",
              "      <td>140</td>\n",
              "      <td>0.000775</td>\n",
              "      <td>0.000000</td>\n",
              "      <td>0.006971</td>\n",
              "      <td>0.0</td>\n",
              "      <td>0.0</td>\n",
              "      <td>0.0</td>\n",
              "      <td>78</td>\n",
              "      <td>0.4</td>\n",
              "      <td>22</td>\n",
              "      <td>7.1</td>\n",
              "      <td>66</td>\n",
              "      <td>103</td>\n",
              "      <td>169</td>\n",
              "      <td>2</td>\n",
              "    </tr>\n",
              "    <tr>\n",
              "      <th>2123</th>\n",
              "      <td>140</td>\n",
              "      <td>0.000980</td>\n",
              "      <td>0.000000</td>\n",
              "      <td>0.006863</td>\n",
              "      <td>0.0</td>\n",
              "      <td>0.0</td>\n",
              "      <td>0.0</td>\n",
              "      <td>79</td>\n",
              "      <td>0.4</td>\n",
              "      <td>20</td>\n",
              "      <td>6.1</td>\n",
              "      <td>67</td>\n",
              "      <td>103</td>\n",
              "      <td>170</td>\n",
              "      <td>2</td>\n",
              "    </tr>\n",
              "    <tr>\n",
              "      <th>2124</th>\n",
              "      <td>140</td>\n",
              "      <td>0.000679</td>\n",
              "      <td>0.000000</td>\n",
              "      <td>0.006110</td>\n",
              "      <td>0.0</td>\n",
              "      <td>0.0</td>\n",
              "      <td>0.0</td>\n",
              "      <td>78</td>\n",
              "      <td>0.4</td>\n",
              "      <td>27</td>\n",
              "      <td>7.0</td>\n",
              "      <td>66</td>\n",
              "      <td>103</td>\n",
              "      <td>169</td>\n",
              "      <td>2</td>\n",
              "    </tr>\n",
              "    <tr>\n",
              "      <th>2125</th>\n",
              "      <td>142</td>\n",
              "      <td>0.001616</td>\n",
              "      <td>0.001616</td>\n",
              "      <td>0.008078</td>\n",
              "      <td>0.0</td>\n",
              "      <td>0.0</td>\n",
              "      <td>0.0</td>\n",
              "      <td>74</td>\n",
              "      <td>0.4</td>\n",
              "      <td>36</td>\n",
              "      <td>5.0</td>\n",
              "      <td>42</td>\n",
              "      <td>117</td>\n",
              "      <td>159</td>\n",
              "      <td>1</td>\n",
              "    </tr>\n",
              "  </tbody>\n",
              "</table>\n",
              "</div>"
            ],
            "text/plain": [
              "      BPM       APC      FMPS      UCPS  DLPS  SDPS  PDPS  ASTV  MSTV  ALTV  \\\n",
              "2121  140  0.000000  0.000000  0.007426   0.0   0.0   0.0    79   0.2    25   \n",
              "2122  140  0.000775  0.000000  0.006971   0.0   0.0   0.0    78   0.4    22   \n",
              "2123  140  0.000980  0.000000  0.006863   0.0   0.0   0.0    79   0.4    20   \n",
              "2124  140  0.000679  0.000000  0.006110   0.0   0.0   0.0    78   0.4    27   \n",
              "2125  142  0.001616  0.001616  0.008078   0.0   0.0   0.0    74   0.4    36   \n",
              "\n",
              "      MLTV  Width  Min  Max  NSP  \n",
              "2121   7.2     40  137  177    2  \n",
              "2122   7.1     66  103  169    2  \n",
              "2123   6.1     67  103  170    2  \n",
              "2124   7.0     66  103  169    2  \n",
              "2125   5.0     42  117  159    1  "
            ]
          },
          "execution_count": 4,
          "metadata": {},
          "output_type": "execute_result"
        }
      ],
      "source": [
        "cardio_data.tail()"
      ]
    },
    {
      "cell_type": "code",
      "execution_count": 5,
      "metadata": {
        "colab": {
          "base_uri": "https://localhost:8080/"
        },
        "id": "v-ZbygayxCNW",
        "outputId": "a9f54ab5-83b7-4ab7-fc6b-683fee04c703"
      },
      "outputs": [
        {
          "name": "stdout",
          "output_type": "stream",
          "text": [
            "<class 'pandas.core.frame.DataFrame'>\n",
            "RangeIndex: 2126 entries, 0 to 2125\n",
            "Data columns (total 15 columns):\n",
            " #   Column  Non-Null Count  Dtype  \n",
            "---  ------  --------------  -----  \n",
            " 0   BPM     2126 non-null   int64  \n",
            " 1   APC     2126 non-null   float64\n",
            " 2   FMPS    2126 non-null   float64\n",
            " 3   UCPS    2126 non-null   float64\n",
            " 4   DLPS    2126 non-null   float64\n",
            " 5   SDPS    2126 non-null   float64\n",
            " 6   PDPS    2126 non-null   float64\n",
            " 7   ASTV    2126 non-null   int64  \n",
            " 8   MSTV    2126 non-null   float64\n",
            " 9   ALTV    2126 non-null   int64  \n",
            " 10  MLTV    2126 non-null   float64\n",
            " 11  Width   2126 non-null   int64  \n",
            " 12  Min     2126 non-null   int64  \n",
            " 13  Max     2126 non-null   int64  \n",
            " 14  NSP     2126 non-null   int64  \n",
            "dtypes: float64(8), int64(7)\n",
            "memory usage: 249.3 KB\n"
          ]
        }
      ],
      "source": [
        "cardio_data.info()"
      ]
    },
    {
      "cell_type": "code",
      "execution_count": 6,
      "metadata": {
        "colab": {
          "base_uri": "https://localhost:8080/"
        },
        "id": "MsK8wbAZxGT6",
        "outputId": "81904058-ed09-41e1-d5e7-0e37da799c3a"
      },
      "outputs": [
        {
          "data": {
            "text/plain": [
              "(2126, 15)"
            ]
          },
          "execution_count": 6,
          "metadata": {},
          "output_type": "execute_result"
        }
      ],
      "source": [
        "cardio_data.shape"
      ]
    },
    {
      "cell_type": "code",
      "execution_count": 7,
      "metadata": {
        "colab": {
          "base_uri": "https://localhost:8080/",
          "height": 210
        },
        "id": "q5YRvcMvxJhe",
        "outputId": "d95e1ca8-570f-4d71-c786-389c4b7e7367"
      },
      "outputs": [
        {
          "data": {
            "text/plain": [
              "NSP\n",
              "1    1655\n",
              "2     295\n",
              "3     176\n",
              "Name: count, dtype: int64"
            ]
          },
          "execution_count": 7,
          "metadata": {},
          "output_type": "execute_result"
        }
      ],
      "source": [
        "cardio_data['NSP'].value_counts()"
      ]
    },
    {
      "cell_type": "code",
      "execution_count": 8,
      "metadata": {
        "colab": {
          "base_uri": "https://localhost:8080/",
          "height": 467
        },
        "id": "xML5a3gPxSMC",
        "outputId": "180745e4-773a-4d33-ab31-fd2e4452e7fe"
      },
      "outputs": [
        {
          "data": {
            "text/plain": [
              "<Axes: xlabel='NSP', ylabel='count'>"
            ]
          },
          "execution_count": 8,
          "metadata": {},
          "output_type": "execute_result"
        },
        {
          "data": {
            "image/png": "[encoded data removed]",
            "text/plain": [
              "<Figure size 640x480 with 1 Axes>"
            ]
          },
          "metadata": {},
          "output_type": "display_data"
        }
      ],
      "source": [
        "sns.countplot(cardio_data, x=\"NSP\")"
      ]
    },
    {
      "cell_type": "code",
      "execution_count": 9,
      "metadata": {
        "id": "S8YbMRp7xarP"
      },
      "outputs": [],
      "source": [
        "x = cardio_data.drop(\"NSP\", axis=1)\n",
        "y = cardio_data['NSP'] - 1\n",
        "\n",
        "x_train, x_test, y_train, y_test = train_test_split(x,y,test_size=0.2, stratify=y, random_state=0)\n",
        "\n",
        "x_train = x_train.to_numpy()\n",
        "x_test = x_test.to_numpy()\n",
        "y_train = y_train.to_numpy()\n",
        "y_test = y_test.to_numpy()\n",
        "\n",
        "scaler = StandardScaler()\n",
        "x_train = scaler.fit_transform(x_train)\n",
        "x_test = scaler.transform(x_test)"
      ]
    },
    {
      "cell_type": "code",
      "execution_count": 10,
      "metadata": {
        "id": "mqYkaDfsyG9d"
      },
      "outputs": [],
      "source": [
        "model = tf.keras.models.Sequential()"
      ]
    },
    {
      "cell_type": "markdown",
      "metadata": {
        "id": "fZPn4mXYyMJe"
      },
      "source": []
    },
    {
      "cell_type": "code",
      "execution_count": 11,
      "metadata": {
        "colab": {
          "base_uri": "https://localhost:8080/"
        },
        "id": "sGIANBc7yQ7M",
        "outputId": "4871e254-5996-48ea-e1b6-b95be42b7c23"
      },
      "outputs": [
        {
          "name": "stderr",
          "output_type": "stream",
          "text": [
            "/Users/oluwadarasimioloyede/mldm/mldmenv2/lib/python3.12/site-packages/keras/src/layers/core/dense.py:87: UserWarning: Do not pass an `input_shape`/`input_dim` argument to a layer. When using Sequential models, prefer using an `Input(shape)` object as the first layer in the model instead.\n",
            "  super().__init__(activity_regularizer=activity_regularizer, **kwargs)\n"
          ]
        }
      ],
      "source": [
        "model.add(tf.keras.layers.Dense(9, activation='relu', input_shape=(14,)))\n",
        "model.add(tf.keras.layers.Dense(3, activation=\"softmax\"))"
      ]
    },
    {
      "cell_type": "code",
      "execution_count": 12,
      "metadata": {
        "id": "h9NVb996yhZg"
      },
      "outputs": [],
      "source": [
        "model.compile(optimizer ='adam',loss='sparse_categorical_crossentropy', metrics=['accuracy'])"
      ]
    },
    {
      "cell_type": "code",
      "execution_count": 13,
      "metadata": {
        "colab": {
          "base_uri": "https://localhost:8080/",
          "height": 199
        },
        "id": "KfnYSDY2y7jk",
        "outputId": "77ee0585-deed-4705-c7d3-b518b1c1f386"
      },
      "outputs": [
        {
          "data": {
            "text/html": [
              "<pre style=\"white-space:pre;overflow-x:auto;line-height:normal;font-family:Menlo,'DejaVu Sans Mono',consolas,'Courier New',monospace\"><span style=\"font-weight: bold\">Model: \"sequential\"</span>\n",
              "</pre>\n"
            ],
            "text/plain": [
              "\u001b[1mModel: \"sequential\"\u001b[0m\n"
            ]
          },
          "metadata": {},
          "output_type": "display_data"
        },
        {
          "data": {
            "text/html": [
              "<pre style=\"white-space:pre;overflow-x:auto;line-height:normal;font-family:Menlo,'DejaVu Sans Mono',consolas,'Courier New',monospace\">┏━━━━━━━━━━━━━━━━━━━━━━━━━━━━━━━━━┳━━━━━━━━━━━━━━━━━━━━━━━━┳━━━━━━━━━━━━━━━┓\n",
              "┃<span style=\"font-weight: bold\"> Layer (type)                    </span>┃<span style=\"font-weight: bold\"> Output Shape           </span>┃<span style=\"font-weight: bold\">       Param # </span>┃\n",
              "┡━━━━━━━━━━━━━━━━━━━━━━━━━━━━━━━━━╇━━━━━━━━━━━━━━━━━━━━━━━━╇━━━━━━━━━━━━━━━┩\n",
              "│ dense (<span style=\"color: #0087ff; text-decoration-color: #0087ff\">Dense</span>)                   │ (<span style=\"color: #00d7ff; text-decoration-color: #00d7ff\">None</span>, <span style=\"color: #00af00; text-decoration-color: #00af00\">9</span>)              │           <span style=\"color: #00af00; text-decoration-color: #00af00\">135</span> │\n",
              "├─────────────────────────────────┼────────────────────────┼───────────────┤\n",
              "│ dense_1 (<span style=\"color: #0087ff; text-decoration-color: #0087ff\">Dense</span>)                 │ (<span style=\"color: #00d7ff; text-decoration-color: #00d7ff\">None</span>, <span style=\"color: #00af00; text-decoration-color: #00af00\">3</span>)              │            <span style=\"color: #00af00; text-decoration-color: #00af00\">30</span> │\n",
              "└─────────────────────────────────┴────────────────────────┴───────────────┘\n",
              "</pre>\n"
            ],
            "text/plain": [
              "┏━━━━━━━━━━━━━━━━━━━━━━━━━━━━━━━━━┳━━━━━━━━━━━━━━━━━━━━━━━━┳━━━━━━━━━━━━━━━┓\n",
              "┃\u001b[1m \u001b[0m\u001b[1mLayer (type)                   \u001b[0m\u001b[1m \u001b[0m┃\u001b[1m \u001b[0m\u001b[1mOutput Shape          \u001b[0m\u001b[1m \u001b[0m┃\u001b[1m \u001b[0m\u001b[1m      Param #\u001b[0m\u001b[1m \u001b[0m┃\n",
              "┡━━━━━━━━━━━━━━━━━━━━━━━━━━━━━━━━━╇━━━━━━━━━━━━━━━━━━━━━━━━╇━━━━━━━━━━━━━━━┩\n",
              "│ dense (\u001b[38;5;33mDense\u001b[0m)                   │ (\u001b[38;5;45mNone\u001b[0m, \u001b[38;5;34m9\u001b[0m)              │           \u001b[38;5;34m135\u001b[0m │\n",
              "├─────────────────────────────────┼────────────────────────┼───────────────┤\n",
              "│ dense_1 (\u001b[38;5;33mDense\u001b[0m)                 │ (\u001b[38;5;45mNone\u001b[0m, \u001b[38;5;34m3\u001b[0m)              │            \u001b[38;5;34m30\u001b[0m │\n",
              "└─────────────────────────────────┴────────────────────────┴───────────────┘\n"
            ]
          },
          "metadata": {},
          "output_type": "display_data"
        },
        {
          "data": {
            "text/html": [
              "<pre style=\"white-space:pre;overflow-x:auto;line-height:normal;font-family:Menlo,'DejaVu Sans Mono',consolas,'Courier New',monospace\"><span style=\"font-weight: bold\"> Total params: </span><span style=\"color: #00af00; text-decoration-color: #00af00\">165</span> (660.00 B)\n",
              "</pre>\n"
            ],
            "text/plain": [
              "\u001b[1m Total params: \u001b[0m\u001b[38;5;34m165\u001b[0m (660.00 B)\n"
            ]
          },
          "metadata": {},
          "output_type": "display_data"
        },
        {
          "data": {
            "text/html": [
              "<pre style=\"white-space:pre;overflow-x:auto;line-height:normal;font-family:Menlo,'DejaVu Sans Mono',consolas,'Courier New',monospace\"><span style=\"font-weight: bold\"> Trainable params: </span><span style=\"color: #00af00; text-decoration-color: #00af00\">165</span> (660.00 B)\n",
              "</pre>\n"
            ],
            "text/plain": [
              "\u001b[1m Trainable params: \u001b[0m\u001b[38;5;34m165\u001b[0m (660.00 B)\n"
            ]
          },
          "metadata": {},
          "output_type": "display_data"
        },
        {
          "data": {
            "text/html": [
              "<pre style=\"white-space:pre;overflow-x:auto;line-height:normal;font-family:Menlo,'DejaVu Sans Mono',consolas,'Courier New',monospace\"><span style=\"font-weight: bold\"> Non-trainable params: </span><span style=\"color: #00af00; text-decoration-color: #00af00\">0</span> (0.00 B)\n",
              "</pre>\n"
            ],
            "text/plain": [
              "\u001b[1m Non-trainable params: \u001b[0m\u001b[38;5;34m0\u001b[0m (0.00 B)\n"
            ]
          },
          "metadata": {},
          "output_type": "display_data"
        }
      ],
      "source": [
        "model.summary()"
      ]
    },
    {
      "cell_type": "code",
      "execution_count": 14,
      "metadata": {
        "id": "ienrRDHezJtL"
      },
      "outputs": [],
      "source": [
        "class_weights = {0:1, 1:6.5, 2:9.4}"
      ]
    },
    {
      "cell_type": "code",
      "execution_count": 15,
      "metadata": {
        "colab": {
          "base_uri": "https://localhost:8080/"
        },
        "id": "P6dTCecjz1ue",
        "outputId": "7b79b341-6018-4bcf-bb17-74185e80dde3"
      },
      "outputs": [
        {
          "name": "stdout",
          "output_type": "stream",
          "text": [
            "Epoch 1/100\n",
            "43/43 - 0s - 9ms/step - accuracy: 0.3125 - loss: 2.5135 - val_accuracy: 0.4118 - val_loss: 1.0744\n",
            "Epoch 2/100\n",
            "43/43 - 0s - 994us/step - accuracy: 0.4824 - loss: 2.2379 - val_accuracy: 0.5471 - val_loss: 0.9497\n",
            "Epoch 3/100\n",
            "43/43 - 0s - 909us/step - accuracy: 0.6441 - loss: 2.0331 - val_accuracy: 0.6588 - val_loss: 0.8544\n",
            "Epoch 4/100\n",
            "43/43 - 0s - 887us/step - accuracy: 0.7272 - loss: 1.8542 - val_accuracy: 0.7206 - val_loss: 0.7700\n",
            "Epoch 5/100\n",
            "43/43 - 0s - 913us/step - accuracy: 0.7610 - loss: 1.6957 - val_accuracy: 0.7559 - val_loss: 0.6960\n",
            "Epoch 6/100\n",
            "43/43 - 0s - 896us/step - accuracy: 0.7860 - loss: 1.5677 - val_accuracy: 0.7765 - val_loss: 0.6316\n",
            "Epoch 7/100\n",
            "43/43 - 0s - 903us/step - accuracy: 0.7890 - loss: 1.4614 - val_accuracy: 0.7853 - val_loss: 0.5891\n",
            "Epoch 8/100\n",
            "43/43 - 0s - 883us/step - accuracy: 0.8044 - loss: 1.3698 - val_accuracy: 0.7971 - val_loss: 0.5482\n",
            "Epoch 9/100\n",
            "43/43 - 0s - 878us/step - accuracy: 0.8059 - loss: 1.3016 - val_accuracy: 0.8088 - val_loss: 0.5230\n",
            "Epoch 10/100\n",
            "43/43 - 0s - 894us/step - accuracy: 0.8140 - loss: 1.2481 - val_accuracy: 0.8000 - val_loss: 0.5001\n",
            "Epoch 11/100\n",
            "43/43 - 0s - 911us/step - accuracy: 0.8147 - loss: 1.2078 - val_accuracy: 0.8088 - val_loss: 0.4810\n",
            "Epoch 12/100\n",
            "43/43 - 0s - 865us/step - accuracy: 0.8265 - loss: 1.1710 - val_accuracy: 0.8118 - val_loss: 0.4671\n",
            "Epoch 13/100\n",
            "43/43 - 0s - 894us/step - accuracy: 0.8294 - loss: 1.1414 - val_accuracy: 0.8118 - val_loss: 0.4541\n",
            "Epoch 14/100\n",
            "43/43 - 0s - 928us/step - accuracy: 0.8257 - loss: 1.1144 - val_accuracy: 0.8118 - val_loss: 0.4467\n",
            "Epoch 15/100\n",
            "43/43 - 0s - 908us/step - accuracy: 0.8301 - loss: 1.0935 - val_accuracy: 0.8147 - val_loss: 0.4391\n",
            "Epoch 16/100\n",
            "43/43 - 0s - 897us/step - accuracy: 0.8346 - loss: 1.0748 - val_accuracy: 0.8147 - val_loss: 0.4298\n",
            "Epoch 17/100\n",
            "43/43 - 0s - 1ms/step - accuracy: 0.8287 - loss: 1.0572 - val_accuracy: 0.8118 - val_loss: 0.4256\n",
            "Epoch 18/100\n",
            "43/43 - 0s - 899us/step - accuracy: 0.8338 - loss: 1.0444 - val_accuracy: 0.8118 - val_loss: 0.4237\n",
            "Epoch 19/100\n",
            "43/43 - 0s - 891us/step - accuracy: 0.8360 - loss: 1.0306 - val_accuracy: 0.8088 - val_loss: 0.4141\n",
            "Epoch 20/100\n",
            "43/43 - 0s - 904us/step - accuracy: 0.8390 - loss: 1.0166 - val_accuracy: 0.8118 - val_loss: 0.4153\n",
            "Epoch 21/100\n",
            "43/43 - 0s - 913us/step - accuracy: 0.8390 - loss: 1.0069 - val_accuracy: 0.8147 - val_loss: 0.4075\n",
            "Epoch 22/100\n",
            "43/43 - 0s - 888us/step - accuracy: 0.8375 - loss: 0.9972 - val_accuracy: 0.8147 - val_loss: 0.4077\n",
            "Epoch 23/100\n",
            "43/43 - 0s - 882us/step - accuracy: 0.8412 - loss: 0.9872 - val_accuracy: 0.8206 - val_loss: 0.3995\n",
            "Epoch 24/100\n",
            "43/43 - 0s - 878us/step - accuracy: 0.8419 - loss: 0.9762 - val_accuracy: 0.8206 - val_loss: 0.4013\n",
            "Epoch 25/100\n",
            "43/43 - 0s - 896us/step - accuracy: 0.8397 - loss: 0.9681 - val_accuracy: 0.8206 - val_loss: 0.3982\n",
            "Epoch 26/100\n",
            "43/43 - 0s - 889us/step - accuracy: 0.8434 - loss: 0.9614 - val_accuracy: 0.8206 - val_loss: 0.3935\n",
            "Epoch 27/100\n",
            "43/43 - 0s - 903us/step - accuracy: 0.8419 - loss: 0.9556 - val_accuracy: 0.8176 - val_loss: 0.3954\n",
            "Epoch 28/100\n",
            "43/43 - 0s - 886us/step - accuracy: 0.8434 - loss: 0.9494 - val_accuracy: 0.8147 - val_loss: 0.3901\n",
            "Epoch 29/100\n",
            "43/43 - 0s - 866us/step - accuracy: 0.8449 - loss: 0.9406 - val_accuracy: 0.8294 - val_loss: 0.3901\n",
            "Epoch 30/100\n",
            "43/43 - 0s - 891us/step - accuracy: 0.8434 - loss: 0.9330 - val_accuracy: 0.8353 - val_loss: 0.3867\n",
            "Epoch 31/100\n",
            "43/43 - 0s - 880us/step - accuracy: 0.8456 - loss: 0.9285 - val_accuracy: 0.8353 - val_loss: 0.3844\n",
            "Epoch 32/100\n",
            "43/43 - 0s - 904us/step - accuracy: 0.8463 - loss: 0.9245 - val_accuracy: 0.8382 - val_loss: 0.3829\n",
            "Epoch 33/100\n",
            "43/43 - 0s - 915us/step - accuracy: 0.8493 - loss: 0.9259 - val_accuracy: 0.8382 - val_loss: 0.3813\n",
            "Epoch 34/100\n",
            "43/43 - 0s - 887us/step - accuracy: 0.8493 - loss: 0.9130 - val_accuracy: 0.8353 - val_loss: 0.3807\n",
            "Epoch 35/100\n",
            "43/43 - 0s - 893us/step - accuracy: 0.8456 - loss: 0.9099 - val_accuracy: 0.8353 - val_loss: 0.3787\n",
            "Epoch 36/100\n",
            "43/43 - 0s - 897us/step - accuracy: 0.8493 - loss: 0.9043 - val_accuracy: 0.8382 - val_loss: 0.3772\n",
            "Epoch 37/100\n",
            "43/43 - 0s - 897us/step - accuracy: 0.8515 - loss: 0.9024 - val_accuracy: 0.8382 - val_loss: 0.3759\n",
            "Epoch 38/100\n",
            "43/43 - 0s - 889us/step - accuracy: 0.8493 - loss: 0.8990 - val_accuracy: 0.8382 - val_loss: 0.3751\n",
            "Epoch 39/100\n",
            "43/43 - 0s - 888us/step - accuracy: 0.8500 - loss: 0.8954 - val_accuracy: 0.8353 - val_loss: 0.3761\n",
            "Epoch 40/100\n",
            "43/43 - 0s - 889us/step - accuracy: 0.8493 - loss: 0.8908 - val_accuracy: 0.8382 - val_loss: 0.3767\n",
            "Epoch 41/100\n",
            "43/43 - 0s - 901us/step - accuracy: 0.8515 - loss: 0.8849 - val_accuracy: 0.8412 - val_loss: 0.3749\n",
            "Epoch 42/100\n",
            "43/43 - 0s - 885us/step - accuracy: 0.8537 - loss: 0.8818 - val_accuracy: 0.8412 - val_loss: 0.3733\n",
            "Epoch 43/100\n",
            "43/43 - 0s - 876us/step - accuracy: 0.8500 - loss: 0.8794 - val_accuracy: 0.8382 - val_loss: 0.3764\n",
            "Epoch 44/100\n",
            "43/43 - 0s - 888us/step - accuracy: 0.8529 - loss: 0.8769 - val_accuracy: 0.8471 - val_loss: 0.3716\n",
            "Epoch 45/100\n",
            "43/43 - 0s - 882us/step - accuracy: 0.8544 - loss: 0.8725 - val_accuracy: 0.8441 - val_loss: 0.3718\n",
            "Epoch 46/100\n",
            "43/43 - 0s - 880us/step - accuracy: 0.8529 - loss: 0.8673 - val_accuracy: 0.8441 - val_loss: 0.3744\n",
            "Epoch 47/100\n",
            "43/43 - 0s - 869us/step - accuracy: 0.8544 - loss: 0.8633 - val_accuracy: 0.8500 - val_loss: 0.3722\n",
            "Epoch 48/100\n",
            "43/43 - 0s - 873us/step - accuracy: 0.8566 - loss: 0.8620 - val_accuracy: 0.8471 - val_loss: 0.3709\n",
            "Epoch 49/100\n",
            "43/43 - 0s - 898us/step - accuracy: 0.8551 - loss: 0.8611 - val_accuracy: 0.8441 - val_loss: 0.3712\n",
            "Epoch 50/100\n",
            "43/43 - 0s - 885us/step - accuracy: 0.8551 - loss: 0.8549 - val_accuracy: 0.8441 - val_loss: 0.3688\n",
            "Epoch 51/100\n",
            "43/43 - 0s - 881us/step - accuracy: 0.8581 - loss: 0.8537 - val_accuracy: 0.8441 - val_loss: 0.3709\n",
            "Epoch 52/100\n",
            "43/43 - 0s - 886us/step - accuracy: 0.8559 - loss: 0.8503 - val_accuracy: 0.8471 - val_loss: 0.3691\n",
            "Epoch 53/100\n",
            "43/43 - 0s - 882us/step - accuracy: 0.8559 - loss: 0.8508 - val_accuracy: 0.8412 - val_loss: 0.3722\n",
            "Epoch 54/100\n",
            "43/43 - 0s - 883us/step - accuracy: 0.8581 - loss: 0.8435 - val_accuracy: 0.8441 - val_loss: 0.3713\n",
            "Epoch 55/100\n",
            "43/43 - 0s - 871us/step - accuracy: 0.8566 - loss: 0.8419 - val_accuracy: 0.8500 - val_loss: 0.3716\n",
            "Epoch 56/100\n",
            "43/43 - 0s - 879us/step - accuracy: 0.8559 - loss: 0.8387 - val_accuracy: 0.8412 - val_loss: 0.3754\n",
            "Epoch 57/100\n",
            "43/43 - 0s - 882us/step - accuracy: 0.8551 - loss: 0.8351 - val_accuracy: 0.8441 - val_loss: 0.3749\n",
            "Epoch 58/100\n",
            "43/43 - 0s - 921us/step - accuracy: 0.8574 - loss: 0.8335 - val_accuracy: 0.8441 - val_loss: 0.3756\n",
            "Epoch 59/100\n",
            "43/43 - 0s - 1ms/step - accuracy: 0.8588 - loss: 0.8329 - val_accuracy: 0.8471 - val_loss: 0.3724\n",
            "Epoch 60/100\n",
            "43/43 - 0s - 886us/step - accuracy: 0.8566 - loss: 0.8273 - val_accuracy: 0.8471 - val_loss: 0.3768\n",
            "Epoch 61/100\n",
            "43/43 - 0s - 879us/step - accuracy: 0.8551 - loss: 0.8264 - val_accuracy: 0.8471 - val_loss: 0.3725\n",
            "Epoch 62/100\n",
            "43/43 - 0s - 888us/step - accuracy: 0.8581 - loss: 0.8249 - val_accuracy: 0.8500 - val_loss: 0.3744\n",
            "Epoch 63/100\n",
            "43/43 - 0s - 886us/step - accuracy: 0.8581 - loss: 0.8256 - val_accuracy: 0.8471 - val_loss: 0.3755\n",
            "Epoch 64/100\n",
            "43/43 - 0s - 875us/step - accuracy: 0.8574 - loss: 0.8213 - val_accuracy: 0.8500 - val_loss: 0.3759\n",
            "Epoch 65/100\n",
            "43/43 - 0s - 888us/step - accuracy: 0.8559 - loss: 0.8207 - val_accuracy: 0.8441 - val_loss: 0.3760\n",
            "Epoch 66/100\n",
            "43/43 - 0s - 891us/step - accuracy: 0.8566 - loss: 0.8159 - val_accuracy: 0.8471 - val_loss: 0.3773\n",
            "Epoch 67/100\n",
            "43/43 - 0s - 898us/step - accuracy: 0.8581 - loss: 0.8160 - val_accuracy: 0.8471 - val_loss: 0.3744\n",
            "Epoch 68/100\n",
            "43/43 - 0s - 866us/step - accuracy: 0.8588 - loss: 0.8131 - val_accuracy: 0.8441 - val_loss: 0.3765\n",
            "Epoch 69/100\n",
            "43/43 - 0s - 880us/step - accuracy: 0.8603 - loss: 0.8131 - val_accuracy: 0.8471 - val_loss: 0.3746\n",
            "Epoch 70/100\n",
            "43/43 - 0s - 889us/step - accuracy: 0.8581 - loss: 0.8125 - val_accuracy: 0.8471 - val_loss: 0.3778\n",
            "Epoch 71/100\n",
            "43/43 - 0s - 872us/step - accuracy: 0.8603 - loss: 0.8076 - val_accuracy: 0.8500 - val_loss: 0.3812\n",
            "Epoch 72/100\n",
            "43/43 - 0s - 886us/step - accuracy: 0.8588 - loss: 0.8044 - val_accuracy: 0.8500 - val_loss: 0.3799\n",
            "Epoch 73/100\n",
            "43/43 - 0s - 880us/step - accuracy: 0.8596 - loss: 0.8039 - val_accuracy: 0.8471 - val_loss: 0.3799\n",
            "Epoch 74/100\n",
            "43/43 - 0s - 891us/step - accuracy: 0.8618 - loss: 0.8056 - val_accuracy: 0.8471 - val_loss: 0.3769\n",
            "Epoch 75/100\n",
            "43/43 - 0s - 901us/step - accuracy: 0.8596 - loss: 0.8001 - val_accuracy: 0.8471 - val_loss: 0.3805\n",
            "Epoch 76/100\n",
            "43/43 - 0s - 862us/step - accuracy: 0.8603 - loss: 0.8002 - val_accuracy: 0.8500 - val_loss: 0.3833\n",
            "Epoch 77/100\n",
            "43/43 - 0s - 895us/step - accuracy: 0.8632 - loss: 0.7960 - val_accuracy: 0.8471 - val_loss: 0.3821\n",
            "Epoch 78/100\n",
            "43/43 - 0s - 869us/step - accuracy: 0.8603 - loss: 0.7974 - val_accuracy: 0.8500 - val_loss: 0.3834\n",
            "Epoch 79/100\n",
            "43/43 - 0s - 906us/step - accuracy: 0.8603 - loss: 0.7947 - val_accuracy: 0.8471 - val_loss: 0.3830\n",
            "Epoch 80/100\n",
            "43/43 - 0s - 884us/step - accuracy: 0.8662 - loss: 0.7971 - val_accuracy: 0.8500 - val_loss: 0.3829\n",
            "Epoch 81/100\n",
            "43/43 - 0s - 896us/step - accuracy: 0.8625 - loss: 0.7922 - val_accuracy: 0.8471 - val_loss: 0.3811\n",
            "Epoch 82/100\n",
            "43/43 - 0s - 899us/step - accuracy: 0.8647 - loss: 0.7897 - val_accuracy: 0.8500 - val_loss: 0.3843\n",
            "Epoch 83/100\n",
            "43/43 - 0s - 895us/step - accuracy: 0.8632 - loss: 0.7895 - val_accuracy: 0.8471 - val_loss: 0.3860\n",
            "Epoch 84/100\n",
            "43/43 - 0s - 889us/step - accuracy: 0.8669 - loss: 0.7869 - val_accuracy: 0.8471 - val_loss: 0.3828\n",
            "Epoch 85/100\n",
            "43/43 - 0s - 883us/step - accuracy: 0.8669 - loss: 0.7880 - val_accuracy: 0.8471 - val_loss: 0.3831\n",
            "Epoch 86/100\n",
            "43/43 - 0s - 898us/step - accuracy: 0.8676 - loss: 0.7859 - val_accuracy: 0.8471 - val_loss: 0.3855\n",
            "Epoch 87/100\n",
            "43/43 - 0s - 886us/step - accuracy: 0.8699 - loss: 0.7823 - val_accuracy: 0.8500 - val_loss: 0.3870\n",
            "Epoch 88/100\n",
            "43/43 - 0s - 883us/step - accuracy: 0.8647 - loss: 0.7841 - val_accuracy: 0.8500 - val_loss: 0.3883\n",
            "Epoch 89/100\n",
            "43/43 - 0s - 881us/step - accuracy: 0.8662 - loss: 0.7812 - val_accuracy: 0.8500 - val_loss: 0.3876\n",
            "Epoch 90/100\n",
            "43/43 - 0s - 898us/step - accuracy: 0.8676 - loss: 0.7785 - val_accuracy: 0.8471 - val_loss: 0.3862\n",
            "Epoch 91/100\n",
            "43/43 - 0s - 864us/step - accuracy: 0.8684 - loss: 0.7764 - val_accuracy: 0.8529 - val_loss: 0.3868\n",
            "Epoch 92/100\n",
            "43/43 - 0s - 883us/step - accuracy: 0.8684 - loss: 0.7761 - val_accuracy: 0.8471 - val_loss: 0.3884\n",
            "Epoch 93/100\n",
            "43/43 - 0s - 879us/step - accuracy: 0.8662 - loss: 0.7755 - val_accuracy: 0.8500 - val_loss: 0.3866\n",
            "Epoch 94/100\n",
            "43/43 - 0s - 917us/step - accuracy: 0.8699 - loss: 0.7759 - val_accuracy: 0.8500 - val_loss: 0.3895\n",
            "Epoch 95/100\n",
            "43/43 - 0s - 873us/step - accuracy: 0.8691 - loss: 0.7718 - val_accuracy: 0.8471 - val_loss: 0.3887\n",
            "Epoch 96/100\n",
            "43/43 - 0s - 895us/step - accuracy: 0.8699 - loss: 0.7699 - val_accuracy: 0.8471 - val_loss: 0.3897\n",
            "Epoch 97/100\n",
            "43/43 - 0s - 900us/step - accuracy: 0.8676 - loss: 0.7705 - val_accuracy: 0.8471 - val_loss: 0.3891\n",
            "Epoch 98/100\n",
            "43/43 - 0s - 885us/step - accuracy: 0.8713 - loss: 0.7696 - val_accuracy: 0.8500 - val_loss: 0.3883\n",
            "Epoch 99/100\n",
            "43/43 - 0s - 870us/step - accuracy: 0.8706 - loss: 0.7692 - val_accuracy: 0.8500 - val_loss: 0.3931\n",
            "Epoch 100/100\n",
            "43/43 - 0s - 1ms/step - accuracy: 0.8676 - loss: 0.7663 - val_accuracy: 0.8500 - val_loss: 0.3925\n"
          ]
        }
      ],
      "source": [
        "history = model.fit(x_train, np.asarray(y_train), batch_size = 32, epochs= 100, verbose=2, class_weight=class_weights, validation_split=0.2)"
      ]
    },
    {
      "cell_type": "code",
      "execution_count": 16,
      "metadata": {
        "colab": {
          "base_uri": "https://localhost:8080/",
          "height": 470
        },
        "id": "MYDOjgIR0CG4",
        "outputId": "2ddab8ec-24d6-4170-d8a3-cb5a2a5928aa"
      },
      "outputs": [
        {
          "data": {
            "text/plain": [
              "<matplotlib.legend.Legend at 0x30b441280>"
            ]
          },
          "execution_count": 16,
          "metadata": {},
          "output_type": "execute_result"
        },
        {
          "data": {
            "image/png": "[encoded data removed]",
            "text/plain": [
              "<Figure size 640x480 with 1 Axes>"
            ]
          },
          "metadata": {},
          "output_type": "display_data"
        }
      ],
      "source": [
        "accuracy = history.history['accuracy']\n",
        "validation_accuracy = history.history['val_accuracy']\n",
        "plt.plot(accuracy, label='Training Accuracy')\n",
        "plt.plot(validation_accuracy, label='Validation Set Accuracy')\n",
        "#plt.xlabel('Epochs')\n",
        "plt.ylabel('Accuracy')\n",
        "plt.ylim([min(plt.ylim()),1])\n",
        "plt.title(\"Training and Validation Accuracy Across Epochs\")\n",
        "plt.legend()"
      ]
    },
    {
      "cell_type": "code",
      "execution_count": 17,
      "metadata": {
        "colab": {
          "base_uri": "https://localhost:8080/",
          "height": 470
        },
        "id": "eppEHTS1-aUC",
        "outputId": "063f0ed4-29bd-427a-e30c-3b0066b8a135"
      },
      "outputs": [
        {
          "data": {
            "text/plain": [
              "<matplotlib.legend.Legend at 0x30c2d2510>"
            ]
          },
          "execution_count": 17,
          "metadata": {},
          "output_type": "execute_result"
        },
        {
          "data": {
            "image/png": "[encoded data removed]",
            "text/plain": [
              "<Figure size 640x480 with 1 Axes>"
            ]
          },
          "metadata": {},
          "output_type": "display_data"
        }
      ],
      "source": [
        "loss = history.history['loss']\n",
        "validation_loss = history.history['val_loss']\n",
        "\n",
        "plt.plot(loss, label='Training Set Loss')\n",
        "plt.plot(validation_loss, label='Validation Set Loss')\n",
        "plt.ylabel('Loss')\n",
        "plt.title(\"Training and Validation Loss Across Epochs\")\n",
        "plt.legend()"
      ]
    },
    {
      "cell_type": "code",
      "execution_count": 18,
      "metadata": {
        "id": "fp7Ix-t3_B-6"
      },
      "outputs": [],
      "source": [
        "from sklearn.metrics import confusion_matrix, classification_report"
      ]
    },
    {
      "cell_type": "code",
      "execution_count": 19,
      "metadata": {
        "colab": {
          "base_uri": "https://localhost:8080/"
        },
        "id": "35IKowLt_H1s",
        "outputId": "dac0b19c-25f2-4a53-d013-3654ccadf858"
      },
      "outputs": [
        {
          "name": "stdout",
          "output_type": "stream",
          "text": [
            "\u001b[1m14/14\u001b[0m \u001b[32m━━━━━━━━━━━━━━━━━━━━\u001b[0m\u001b[37m\u001b[0m \u001b[1m0s\u001b[0m 1ms/step \n"
          ]
        }
      ],
      "source": [
        "y_pred = model.predict(x_test)\n",
        "y_pred = np.argmax(y_pred, axis=1)"
      ]
    },
    {
      "cell_type": "code",
      "execution_count": 20,
      "metadata": {
        "colab": {
          "base_uri": "https://localhost:8080/",
          "height": 476
        },
        "id": "e5lOXA3q_KUQ",
        "outputId": "ab4782a8-181b-4dcf-8d7e-88d49c01a589"
      },
      "outputs": [
        {
          "data": {
            "image/png": "[encoded data removed]",
            "text/plain": [
              "<Figure size 640x480 with 2 Axes>"
            ]
          },
          "metadata": {},
          "output_type": "display_data"
        }
      ],
      "source": [
        "cm = confusion_matrix(y_test, y_pred)\n",
        "\n",
        "ax = sns.heatmap(cm, cmap='flare', annot=True, fmt='d')\n",
        "\n",
        "plt.xlabel(\"Predicted Class\", fontsize = 12)\n",
        "plt.ylabel(\"Actual Class\", fontsize = 12)\n",
        "plt.title(\"Confusion Matrix\", fontsize = 12)\n",
        "plt.show()"
      ]
    },
    {
      "cell_type": "code",
      "execution_count": 21,
      "metadata": {
        "colab": {
          "base_uri": "https://localhost:8080/"
        },
        "id": "UwdVZd70_Vth",
        "outputId": "02b04d92-7eed-4025-dfc7-cbd556b24ed6"
      },
      "outputs": [
        {
          "name": "stdout",
          "output_type": "stream",
          "text": [
            "              precision    recall  f1-score   support\n",
            "\n",
            "           0       0.98      0.85      0.91       332\n",
            "           1       0.49      0.83      0.61        59\n",
            "           2       0.69      0.77      0.73        35\n",
            "\n",
            "    accuracy                           0.84       426\n",
            "   macro avg       0.72      0.82      0.75       426\n",
            "weighted avg       0.89      0.84      0.85       426\n",
            "\n"
          ]
        }
      ],
      "source": [
        "print(classification_report(y_test,y_pred))"
      ]
    },
    {
      "cell_type": "code",
      "execution_count": null,
      "metadata": {
        "id": "IspT22gaBZYy"
      },
      "outputs": [],
      "source": []
    }
  ],
  "metadata": {
    "accelerator": "GPU",
    "colab": {
      "gpuType": "T4",
      "provenance": []
    },
    "kernelspec": {
      "display_name": "mldmenv2",
      "language": "python",
      "name": "python3"
    },
    "language_info": {
      "codemirror_mode": {
        "name": "ipython",
        "version": 3
      },
      "file_extension": ".py",
      "mimetype": "text/x-python",
      "name": "python",
      "nbconvert_exporter": "python",
      "pygments_lexer": "ipython3",
      "version": "3.12.4"
    }
  },
  "nbformat": 4,
  "nbformat_minor": 0
}
