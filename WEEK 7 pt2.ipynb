{
 "cells": [
  {
   "cell_type": "markdown",
   "metadata": {},
   "source": []
  },
  {
   "cell_type": "code",
   "execution_count": 1,
   "metadata": {},
   "outputs": [],
   "source": [
    "import numpy as np\n",
    "import pandas as pd\n",
    "import imblearn\n",
    "import matplotlib.pyplot as plt\n",
    "import seaborn as sns\n",
    "%matplotlib inline\n"
   ]
  },
  {
   "cell_type": "code",
   "execution_count": 2,
   "metadata": {},
   "outputs": [
    {
     "data": {
      "text/html": [
       "<div>\n",
       "<style scoped>\n",
       "    .dataframe tbody tr th:only-of-type {\n",
       "        vertical-align: middle;\n",
       "    }\n",
       "\n",
       "    .dataframe tbody tr th {\n",
       "        vertical-align: top;\n",
       "    }\n",
       "\n",
       "    .dataframe thead th {\n",
       "        text-align: right;\n",
       "    }\n",
       "</style>\n",
       "<table border=\"1\" class=\"dataframe\">\n",
       "  <thead>\n",
       "    <tr style=\"text-align: right;\">\n",
       "      <th></th>\n",
       "      <th>BPM</th>\n",
       "      <th>APC</th>\n",
       "      <th>FMPS</th>\n",
       "      <th>UCPS</th>\n",
       "      <th>DLPS</th>\n",
       "      <th>SDPS</th>\n",
       "      <th>PDPS</th>\n",
       "      <th>ASTV</th>\n",
       "      <th>MSTV</th>\n",
       "      <th>ALTV</th>\n",
       "      <th>MLTV</th>\n",
       "      <th>Width</th>\n",
       "      <th>Min</th>\n",
       "      <th>Max</th>\n",
       "      <th>NSP</th>\n",
       "    </tr>\n",
       "  </thead>\n",
       "  <tbody>\n",
       "    <tr>\n",
       "      <th>0</th>\n",
       "      <td>120</td>\n",
       "      <td>0.000000</td>\n",
       "      <td>0.0</td>\n",
       "      <td>0.000000</td>\n",
       "      <td>0.000000</td>\n",
       "      <td>0.0</td>\n",
       "      <td>0.0</td>\n",
       "      <td>73</td>\n",
       "      <td>0.5</td>\n",
       "      <td>43</td>\n",
       "      <td>2.4</td>\n",
       "      <td>64</td>\n",
       "      <td>62</td>\n",
       "      <td>126</td>\n",
       "      <td>2</td>\n",
       "    </tr>\n",
       "    <tr>\n",
       "      <th>1</th>\n",
       "      <td>132</td>\n",
       "      <td>0.006380</td>\n",
       "      <td>0.0</td>\n",
       "      <td>0.006380</td>\n",
       "      <td>0.003190</td>\n",
       "      <td>0.0</td>\n",
       "      <td>0.0</td>\n",
       "      <td>17</td>\n",
       "      <td>2.1</td>\n",
       "      <td>0</td>\n",
       "      <td>10.4</td>\n",
       "      <td>130</td>\n",
       "      <td>68</td>\n",
       "      <td>198</td>\n",
       "      <td>1</td>\n",
       "    </tr>\n",
       "    <tr>\n",
       "      <th>2</th>\n",
       "      <td>133</td>\n",
       "      <td>0.003322</td>\n",
       "      <td>0.0</td>\n",
       "      <td>0.008306</td>\n",
       "      <td>0.003322</td>\n",
       "      <td>0.0</td>\n",
       "      <td>0.0</td>\n",
       "      <td>16</td>\n",
       "      <td>2.1</td>\n",
       "      <td>0</td>\n",
       "      <td>13.4</td>\n",
       "      <td>130</td>\n",
       "      <td>68</td>\n",
       "      <td>198</td>\n",
       "      <td>1</td>\n",
       "    </tr>\n",
       "    <tr>\n",
       "      <th>3</th>\n",
       "      <td>134</td>\n",
       "      <td>0.002561</td>\n",
       "      <td>0.0</td>\n",
       "      <td>0.007682</td>\n",
       "      <td>0.002561</td>\n",
       "      <td>0.0</td>\n",
       "      <td>0.0</td>\n",
       "      <td>16</td>\n",
       "      <td>2.4</td>\n",
       "      <td>0</td>\n",
       "      <td>23.0</td>\n",
       "      <td>117</td>\n",
       "      <td>53</td>\n",
       "      <td>170</td>\n",
       "      <td>1</td>\n",
       "    </tr>\n",
       "    <tr>\n",
       "      <th>4</th>\n",
       "      <td>132</td>\n",
       "      <td>0.006515</td>\n",
       "      <td>0.0</td>\n",
       "      <td>0.008143</td>\n",
       "      <td>0.000000</td>\n",
       "      <td>0.0</td>\n",
       "      <td>0.0</td>\n",
       "      <td>16</td>\n",
       "      <td>2.4</td>\n",
       "      <td>0</td>\n",
       "      <td>19.9</td>\n",
       "      <td>117</td>\n",
       "      <td>53</td>\n",
       "      <td>170</td>\n",
       "      <td>1</td>\n",
       "    </tr>\n",
       "  </tbody>\n",
       "</table>\n",
       "</div>"
      ],
      "text/plain": [
       "   BPM       APC  FMPS      UCPS      DLPS  SDPS  PDPS  ASTV  MSTV  ALTV  \\\n",
       "0  120  0.000000   0.0  0.000000  0.000000   0.0   0.0    73   0.5    43   \n",
       "1  132  0.006380   0.0  0.006380  0.003190   0.0   0.0    17   2.1     0   \n",
       "2  133  0.003322   0.0  0.008306  0.003322   0.0   0.0    16   2.1     0   \n",
       "3  134  0.002561   0.0  0.007682  0.002561   0.0   0.0    16   2.4     0   \n",
       "4  132  0.006515   0.0  0.008143  0.000000   0.0   0.0    16   2.4     0   \n",
       "\n",
       "   MLTV  Width  Min  Max  NSP  \n",
       "0   2.4     64   62  126    2  \n",
       "1  10.4    130   68  198    1  \n",
       "2  13.4    130   68  198    1  \n",
       "3  23.0    117   53  170    1  \n",
       "4  19.9    117   53  170    1  "
      ]
     },
     "execution_count": 2,
     "metadata": {},
     "output_type": "execute_result"
    }
   ],
   "source": [
    "cardio_data = pd.read_csv(\"Cardiotocographic.csv\")\n",
    "cardio_data.head()\n"
   ]
  },
  {
   "cell_type": "code",
   "execution_count": 3,
   "metadata": {},
   "outputs": [
    {
     "data": {
      "text/html": [
       "<div>\n",
       "<style scoped>\n",
       "    .dataframe tbody tr th:only-of-type {\n",
       "        vertical-align: middle;\n",
       "    }\n",
       "\n",
       "    .dataframe tbody tr th {\n",
       "        vertical-align: top;\n",
       "    }\n",
       "\n",
       "    .dataframe thead th {\n",
       "        text-align: right;\n",
       "    }\n",
       "</style>\n",
       "<table border=\"1\" class=\"dataframe\">\n",
       "  <thead>\n",
       "    <tr style=\"text-align: right;\">\n",
       "      <th></th>\n",
       "      <th>BPM</th>\n",
       "      <th>APC</th>\n",
       "      <th>FMPS</th>\n",
       "      <th>UCPS</th>\n",
       "      <th>DLPS</th>\n",
       "      <th>SDPS</th>\n",
       "      <th>PDPS</th>\n",
       "      <th>ASTV</th>\n",
       "      <th>MSTV</th>\n",
       "      <th>ALTV</th>\n",
       "      <th>MLTV</th>\n",
       "      <th>Width</th>\n",
       "      <th>Min</th>\n",
       "      <th>Max</th>\n",
       "      <th>NSP</th>\n",
       "    </tr>\n",
       "  </thead>\n",
       "  <tbody>\n",
       "    <tr>\n",
       "      <th>2121</th>\n",
       "      <td>140</td>\n",
       "      <td>0.000000</td>\n",
       "      <td>0.000000</td>\n",
       "      <td>0.007426</td>\n",
       "      <td>0.0</td>\n",
       "      <td>0.0</td>\n",
       "      <td>0.0</td>\n",
       "      <td>79</td>\n",
       "      <td>0.2</td>\n",
       "      <td>25</td>\n",
       "      <td>7.2</td>\n",
       "      <td>40</td>\n",
       "      <td>137</td>\n",
       "      <td>177</td>\n",
       "      <td>2</td>\n",
       "    </tr>\n",
       "    <tr>\n",
       "      <th>2122</th>\n",
       "      <td>140</td>\n",
       "      <td>0.000775</td>\n",
       "      <td>0.000000</td>\n",
       "      <td>0.006971</td>\n",
       "      <td>0.0</td>\n",
       "      <td>0.0</td>\n",
       "      <td>0.0</td>\n",
       "      <td>78</td>\n",
       "      <td>0.4</td>\n",
       "      <td>22</td>\n",
       "      <td>7.1</td>\n",
       "      <td>66</td>\n",
       "      <td>103</td>\n",
       "      <td>169</td>\n",
       "      <td>2</td>\n",
       "    </tr>\n",
       "    <tr>\n",
       "      <th>2123</th>\n",
       "      <td>140</td>\n",
       "      <td>0.000980</td>\n",
       "      <td>0.000000</td>\n",
       "      <td>0.006863</td>\n",
       "      <td>0.0</td>\n",
       "      <td>0.0</td>\n",
       "      <td>0.0</td>\n",
       "      <td>79</td>\n",
       "      <td>0.4</td>\n",
       "      <td>20</td>\n",
       "      <td>6.1</td>\n",
       "      <td>67</td>\n",
       "      <td>103</td>\n",
       "      <td>170</td>\n",
       "      <td>2</td>\n",
       "    </tr>\n",
       "    <tr>\n",
       "      <th>2124</th>\n",
       "      <td>140</td>\n",
       "      <td>0.000679</td>\n",
       "      <td>0.000000</td>\n",
       "      <td>0.006110</td>\n",
       "      <td>0.0</td>\n",
       "      <td>0.0</td>\n",
       "      <td>0.0</td>\n",
       "      <td>78</td>\n",
       "      <td>0.4</td>\n",
       "      <td>27</td>\n",
       "      <td>7.0</td>\n",
       "      <td>66</td>\n",
       "      <td>103</td>\n",
       "      <td>169</td>\n",
       "      <td>2</td>\n",
       "    </tr>\n",
       "    <tr>\n",
       "      <th>2125</th>\n",
       "      <td>142</td>\n",
       "      <td>0.001616</td>\n",
       "      <td>0.001616</td>\n",
       "      <td>0.008078</td>\n",
       "      <td>0.0</td>\n",
       "      <td>0.0</td>\n",
       "      <td>0.0</td>\n",
       "      <td>74</td>\n",
       "      <td>0.4</td>\n",
       "      <td>36</td>\n",
       "      <td>5.0</td>\n",
       "      <td>42</td>\n",
       "      <td>117</td>\n",
       "      <td>159</td>\n",
       "      <td>1</td>\n",
       "    </tr>\n",
       "  </tbody>\n",
       "</table>\n",
       "</div>"
      ],
      "text/plain": [
       "      BPM       APC      FMPS      UCPS  DLPS  SDPS  PDPS  ASTV  MSTV  ALTV  \\\n",
       "2121  140  0.000000  0.000000  0.007426   0.0   0.0   0.0    79   0.2    25   \n",
       "2122  140  0.000775  0.000000  0.006971   0.0   0.0   0.0    78   0.4    22   \n",
       "2123  140  0.000980  0.000000  0.006863   0.0   0.0   0.0    79   0.4    20   \n",
       "2124  140  0.000679  0.000000  0.006110   0.0   0.0   0.0    78   0.4    27   \n",
       "2125  142  0.001616  0.001616  0.008078   0.0   0.0   0.0    74   0.4    36   \n",
       "\n",
       "      MLTV  Width  Min  Max  NSP  \n",
       "2121   7.2     40  137  177    2  \n",
       "2122   7.1     66  103  169    2  \n",
       "2123   6.1     67  103  170    2  \n",
       "2124   7.0     66  103  169    2  \n",
       "2125   5.0     42  117  159    1  "
      ]
     },
     "execution_count": 3,
     "metadata": {},
     "output_type": "execute_result"
    }
   ],
   "source": [
    "cardio_data.tail()"
   ]
  },
  {
   "cell_type": "code",
   "execution_count": 4,
   "metadata": {},
   "outputs": [
    {
     "data": {
      "text/html": [
       "<div>\n",
       "<style scoped>\n",
       "    .dataframe tbody tr th:only-of-type {\n",
       "        vertical-align: middle;\n",
       "    }\n",
       "\n",
       "    .dataframe tbody tr th {\n",
       "        vertical-align: top;\n",
       "    }\n",
       "\n",
       "    .dataframe thead th {\n",
       "        text-align: right;\n",
       "    }\n",
       "</style>\n",
       "<table border=\"1\" class=\"dataframe\">\n",
       "  <thead>\n",
       "    <tr style=\"text-align: right;\">\n",
       "      <th></th>\n",
       "      <th>BPM</th>\n",
       "      <th>APC</th>\n",
       "      <th>FMPS</th>\n",
       "      <th>UCPS</th>\n",
       "      <th>DLPS</th>\n",
       "      <th>SDPS</th>\n",
       "      <th>PDPS</th>\n",
       "      <th>ASTV</th>\n",
       "      <th>MSTV</th>\n",
       "      <th>ALTV</th>\n",
       "      <th>MLTV</th>\n",
       "      <th>Width</th>\n",
       "      <th>Min</th>\n",
       "      <th>Max</th>\n",
       "      <th>NSP</th>\n",
       "    </tr>\n",
       "  </thead>\n",
       "  <tbody>\n",
       "    <tr>\n",
       "      <th>count</th>\n",
       "      <td>2126.000000</td>\n",
       "      <td>2126.000000</td>\n",
       "      <td>2126.000000</td>\n",
       "      <td>2126.000000</td>\n",
       "      <td>2126.000000</td>\n",
       "      <td>2126.000000</td>\n",
       "      <td>2126.000000</td>\n",
       "      <td>2126.000000</td>\n",
       "      <td>2126.000000</td>\n",
       "      <td>2126.00000</td>\n",
       "      <td>2126.000000</td>\n",
       "      <td>2126.000000</td>\n",
       "      <td>2126.000000</td>\n",
       "      <td>2126.000000</td>\n",
       "      <td>2126.000000</td>\n",
       "    </tr>\n",
       "    <tr>\n",
       "      <th>mean</th>\n",
       "      <td>133.303857</td>\n",
       "      <td>0.003170</td>\n",
       "      <td>0.009474</td>\n",
       "      <td>0.004357</td>\n",
       "      <td>0.001885</td>\n",
       "      <td>0.000004</td>\n",
       "      <td>0.000157</td>\n",
       "      <td>46.990122</td>\n",
       "      <td>1.332785</td>\n",
       "      <td>9.84666</td>\n",
       "      <td>8.187629</td>\n",
       "      <td>70.445908</td>\n",
       "      <td>93.579492</td>\n",
       "      <td>164.025400</td>\n",
       "      <td>1.304327</td>\n",
       "    </tr>\n",
       "    <tr>\n",
       "      <th>std</th>\n",
       "      <td>9.840844</td>\n",
       "      <td>0.003860</td>\n",
       "      <td>0.046670</td>\n",
       "      <td>0.002940</td>\n",
       "      <td>0.002962</td>\n",
       "      <td>0.000063</td>\n",
       "      <td>0.000580</td>\n",
       "      <td>17.192814</td>\n",
       "      <td>0.883241</td>\n",
       "      <td>18.39688</td>\n",
       "      <td>5.628247</td>\n",
       "      <td>38.955693</td>\n",
       "      <td>29.560212</td>\n",
       "      <td>17.944183</td>\n",
       "      <td>0.614377</td>\n",
       "    </tr>\n",
       "    <tr>\n",
       "      <th>min</th>\n",
       "      <td>106.000000</td>\n",
       "      <td>0.000000</td>\n",
       "      <td>0.000000</td>\n",
       "      <td>0.000000</td>\n",
       "      <td>0.000000</td>\n",
       "      <td>0.000000</td>\n",
       "      <td>0.000000</td>\n",
       "      <td>12.000000</td>\n",
       "      <td>0.200000</td>\n",
       "      <td>0.00000</td>\n",
       "      <td>0.000000</td>\n",
       "      <td>3.000000</td>\n",
       "      <td>50.000000</td>\n",
       "      <td>122.000000</td>\n",
       "      <td>1.000000</td>\n",
       "    </tr>\n",
       "    <tr>\n",
       "      <th>25%</th>\n",
       "      <td>126.000000</td>\n",
       "      <td>0.000000</td>\n",
       "      <td>0.000000</td>\n",
       "      <td>0.001876</td>\n",
       "      <td>0.000000</td>\n",
       "      <td>0.000000</td>\n",
       "      <td>0.000000</td>\n",
       "      <td>32.000000</td>\n",
       "      <td>0.700000</td>\n",
       "      <td>0.00000</td>\n",
       "      <td>4.600000</td>\n",
       "      <td>37.000000</td>\n",
       "      <td>67.000000</td>\n",
       "      <td>152.000000</td>\n",
       "      <td>1.000000</td>\n",
       "    </tr>\n",
       "    <tr>\n",
       "      <th>50%</th>\n",
       "      <td>133.000000</td>\n",
       "      <td>0.001630</td>\n",
       "      <td>0.000000</td>\n",
       "      <td>0.004482</td>\n",
       "      <td>0.000000</td>\n",
       "      <td>0.000000</td>\n",
       "      <td>0.000000</td>\n",
       "      <td>49.000000</td>\n",
       "      <td>1.200000</td>\n",
       "      <td>0.00000</td>\n",
       "      <td>7.400000</td>\n",
       "      <td>67.500000</td>\n",
       "      <td>93.000000</td>\n",
       "      <td>162.000000</td>\n",
       "      <td>1.000000</td>\n",
       "    </tr>\n",
       "    <tr>\n",
       "      <th>75%</th>\n",
       "      <td>140.000000</td>\n",
       "      <td>0.005631</td>\n",
       "      <td>0.002512</td>\n",
       "      <td>0.006525</td>\n",
       "      <td>0.003264</td>\n",
       "      <td>0.000000</td>\n",
       "      <td>0.000000</td>\n",
       "      <td>61.000000</td>\n",
       "      <td>1.700000</td>\n",
       "      <td>11.00000</td>\n",
       "      <td>10.800000</td>\n",
       "      <td>100.000000</td>\n",
       "      <td>120.000000</td>\n",
       "      <td>174.000000</td>\n",
       "      <td>1.000000</td>\n",
       "    </tr>\n",
       "    <tr>\n",
       "      <th>max</th>\n",
       "      <td>160.000000</td>\n",
       "      <td>0.019284</td>\n",
       "      <td>0.480634</td>\n",
       "      <td>0.014925</td>\n",
       "      <td>0.015385</td>\n",
       "      <td>0.001353</td>\n",
       "      <td>0.005348</td>\n",
       "      <td>87.000000</td>\n",
       "      <td>7.000000</td>\n",
       "      <td>91.00000</td>\n",
       "      <td>50.700000</td>\n",
       "      <td>180.000000</td>\n",
       "      <td>159.000000</td>\n",
       "      <td>238.000000</td>\n",
       "      <td>3.000000</td>\n",
       "    </tr>\n",
       "  </tbody>\n",
       "</table>\n",
       "</div>"
      ],
      "text/plain": [
       "               BPM          APC         FMPS         UCPS         DLPS  \\\n",
       "count  2126.000000  2126.000000  2126.000000  2126.000000  2126.000000   \n",
       "mean    133.303857     0.003170     0.009474     0.004357     0.001885   \n",
       "std       9.840844     0.003860     0.046670     0.002940     0.002962   \n",
       "min     106.000000     0.000000     0.000000     0.000000     0.000000   \n",
       "25%     126.000000     0.000000     0.000000     0.001876     0.000000   \n",
       "50%     133.000000     0.001630     0.000000     0.004482     0.000000   \n",
       "75%     140.000000     0.005631     0.002512     0.006525     0.003264   \n",
       "max     160.000000     0.019284     0.480634     0.014925     0.015385   \n",
       "\n",
       "              SDPS         PDPS         ASTV         MSTV        ALTV  \\\n",
       "count  2126.000000  2126.000000  2126.000000  2126.000000  2126.00000   \n",
       "mean      0.000004     0.000157    46.990122     1.332785     9.84666   \n",
       "std       0.000063     0.000580    17.192814     0.883241    18.39688   \n",
       "min       0.000000     0.000000    12.000000     0.200000     0.00000   \n",
       "25%       0.000000     0.000000    32.000000     0.700000     0.00000   \n",
       "50%       0.000000     0.000000    49.000000     1.200000     0.00000   \n",
       "75%       0.000000     0.000000    61.000000     1.700000    11.00000   \n",
       "max       0.001353     0.005348    87.000000     7.000000    91.00000   \n",
       "\n",
       "              MLTV        Width          Min          Max          NSP  \n",
       "count  2126.000000  2126.000000  2126.000000  2126.000000  2126.000000  \n",
       "mean      8.187629    70.445908    93.579492   164.025400     1.304327  \n",
       "std       5.628247    38.955693    29.560212    17.944183     0.614377  \n",
       "min       0.000000     3.000000    50.000000   122.000000     1.000000  \n",
       "25%       4.600000    37.000000    67.000000   152.000000     1.000000  \n",
       "50%       7.400000    67.500000    93.000000   162.000000     1.000000  \n",
       "75%      10.800000   100.000000   120.000000   174.000000     1.000000  \n",
       "max      50.700000   180.000000   159.000000   238.000000     3.000000  "
      ]
     },
     "execution_count": 4,
     "metadata": {},
     "output_type": "execute_result"
    }
   ],
   "source": [
    "cardio_data.describe()"
   ]
  },
  {
   "cell_type": "code",
   "execution_count": 5,
   "metadata": {},
   "outputs": [
    {
     "data": {
      "text/plain": [
       "NSP\n",
       "1    1655\n",
       "2     295\n",
       "3     176\n",
       "Name: count, dtype: int64"
      ]
     },
     "execution_count": 5,
     "metadata": {},
     "output_type": "execute_result"
    }
   ],
   "source": [
    "cardio_data['NSP'].value_counts()"
   ]
  },
  {
   "cell_type": "code",
   "execution_count": 6,
   "metadata": {},
   "outputs": [
    {
     "data": {
      "image/png": "[encoded data removed]",
      "text/plain": [
       "<Figure size 640x480 with 1 Axes>"
      ]
     },
     "metadata": {},
     "output_type": "display_data"
    }
   ],
   "source": [
    "sns.countplot(cardio_data, x='NSP')\n",
    "plt.show()"
   ]
  },
  {
   "cell_type": "code",
   "execution_count": 7,
   "metadata": {},
   "outputs": [],
   "source": [
    "from sklearn.model_selection import train_test_split\n",
    "x = cardio_data.drop('NSP', axis=1)\n",
    "y = cardio_data['NSP'] -1\n",
    "\n",
    "x_train, x_test, y_train, y_test = train_test_split(x, y, test_size=0.2, random_state=22)"
   ]
  },
  {
   "cell_type": "code",
   "execution_count": 8,
   "metadata": {},
   "outputs": [
    {
     "data": {
      "image/png": "[encoded data removed]",
      "text/plain": [
       "<Figure size 640x480 with 1 Axes>"
      ]
     },
     "metadata": {},
     "output_type": "display_data"
    }
   ],
   "source": [
    "from imblearn.over_sampling import RandomOverSampler\n",
    "resampler=RandomOverSampler(random_state=0)\n",
    "X_train_oversampled,y_train_oversampled=resampler.fit_resample(x_train,y_train)\n",
    "sns.countplot(x=y_train_oversampled)\n",
    "plt.show()"
   ]
  },
  {
   "cell_type": "code",
   "execution_count": 9,
   "metadata": {},
   "outputs": [
    {
     "data": {
      "image/png": "[encoded data removed]",
      "text/plain": [
       "<Figure size 640x480 with 1 Axes>"
      ]
     },
     "metadata": {},
     "output_type": "display_data"
    }
   ],
   "source": [
    "from imblearn.under_sampling import RandomUnderSampler\n",
    "resampler=RandomUnderSampler(random_state=0)\n",
    "x_train_undersampled, y_train_undersampled=resampler.fit_resample(x_train,y_train)\n",
    "sns.countplot(x = y_train_undersampled)\n",
    "plt.show()"
   ]
  },
  {
   "cell_type": "code",
   "execution_count": 10,
   "metadata": {},
   "outputs": [
    {
     "data": {
      "text/plain": [
       "<Axes: xlabel='NSP', ylabel='count'>"
      ]
     },
     "execution_count": 10,
     "metadata": {},
     "output_type": "execute_result"
    },
    {
     "data": {
      "image/png": "[encoded data removed]",
      "text/plain": [
       "<Figure size 640x480 with 1 Axes>"
      ]
     },
     "metadata": {},
     "output_type": "display_data"
    }
   ],
   "source": [
    "from imblearn.over_sampling import SMOTE\n",
    "resampler = SMOTE(random_state=0)\n",
    "x_train_smote, y_train_smote = resampler.fit_resample(x_train, y_train)\n",
    "\n",
    "sns.countplot(x=y_train_smote)"
   ]
  },
  {
   "cell_type": "code",
   "execution_count": 11,
   "metadata": {},
   "outputs": [],
   "source": [
    "import tensorflow as tf\n",
    "model = tf.keras.models.Sequential()"
   ]
  },
  {
   "cell_type": "code",
   "execution_count": 12,
   "metadata": {},
   "outputs": [
    {
     "name": "stderr",
     "output_type": "stream",
     "text": [
      "/Users/oluwadarasimioloyede/mldm/mldmenv2/lib/python3.12/site-packages/keras/src/layers/core/dense.py:87: UserWarning: Do not pass an `input_shape`/`input_dim` argument to a layer. When using Sequential models, prefer using an `Input(shape)` object as the first layer in the model instead.\n",
      "  super().__init__(activity_regularizer=activity_regularizer, **kwargs)\n"
     ]
    }
   ],
   "source": [
    "model.add(tf.keras.layers.Dense(9, activation='relu', input_shape=(14,)))\n",
    "model.add(tf.keras.layers.Dense(3, activation=\"softmax\"))"
   ]
  },
  {
   "cell_type": "code",
   "execution_count": 13,
   "metadata": {},
   "outputs": [],
   "source": [
    "model.compile(optimizer ='adam',loss='sparse_categorical_crossentropy', metrics=['accuracy'])"
   ]
  },
  {
   "cell_type": "code",
   "execution_count": 14,
   "metadata": {},
   "outputs": [
    {
     "data": {
      "text/html": [
       "<pre style=\"white-space:pre;overflow-x:auto;line-height:normal;font-family:Menlo,'DejaVu Sans Mono',consolas,'Courier New',monospace\"><span style=\"font-weight: bold\">Model: \"sequential\"</span>\n",
       "</pre>\n"
      ],
      "text/plain": [
       "\u001b[1mModel: \"sequential\"\u001b[0m\n"
      ]
     },
     "metadata": {},
     "output_type": "display_data"
    },
    {
     "data": {
      "text/html": [
       "<pre style=\"white-space:pre;overflow-x:auto;line-height:normal;font-family:Menlo,'DejaVu Sans Mono',consolas,'Courier New',monospace\">┏━━━━━━━━━━━━━━━━━━━━━━━━━━━━━━━━━┳━━━━━━━━━━━━━━━━━━━━━━━━┳━━━━━━━━━━━━━━━┓\n",
       "┃<span style=\"font-weight: bold\"> Layer (type)                    </span>┃<span style=\"font-weight: bold\"> Output Shape           </span>┃<span style=\"font-weight: bold\">       Param # </span>┃\n",
       "┡━━━━━━━━━━━━━━━━━━━━━━━━━━━━━━━━━╇━━━━━━━━━━━━━━━━━━━━━━━━╇━━━━━━━━━━━━━━━┩\n",
       "│ dense (<span style=\"color: #0087ff; text-decoration-color: #0087ff\">Dense</span>)                   │ (<span style=\"color: #00d7ff; text-decoration-color: #00d7ff\">None</span>, <span style=\"color: #00af00; text-decoration-color: #00af00\">9</span>)              │           <span style=\"color: #00af00; text-decoration-color: #00af00\">135</span> │\n",
       "├─────────────────────────────────┼────────────────────────┼───────────────┤\n",
       "│ dense_1 (<span style=\"color: #0087ff; text-decoration-color: #0087ff\">Dense</span>)                 │ (<span style=\"color: #00d7ff; text-decoration-color: #00d7ff\">None</span>, <span style=\"color: #00af00; text-decoration-color: #00af00\">3</span>)              │            <span style=\"color: #00af00; text-decoration-color: #00af00\">30</span> │\n",
       "└─────────────────────────────────┴────────────────────────┴───────────────┘\n",
       "</pre>\n"
      ],
      "text/plain": [
       "┏━━━━━━━━━━━━━━━━━━━━━━━━━━━━━━━━━┳━━━━━━━━━━━━━━━━━━━━━━━━┳━━━━━━━━━━━━━━━┓\n",
       "┃\u001b[1m \u001b[0m\u001b[1mLayer (type)                   \u001b[0m\u001b[1m \u001b[0m┃\u001b[1m \u001b[0m\u001b[1mOutput Shape          \u001b[0m\u001b[1m \u001b[0m┃\u001b[1m \u001b[0m\u001b[1m      Param #\u001b[0m\u001b[1m \u001b[0m┃\n",
       "┡━━━━━━━━━━━━━━━━━━━━━━━━━━━━━━━━━╇━━━━━━━━━━━━━━━━━━━━━━━━╇━━━━━━━━━━━━━━━┩\n",
       "│ dense (\u001b[38;5;33mDense\u001b[0m)                   │ (\u001b[38;5;45mNone\u001b[0m, \u001b[38;5;34m9\u001b[0m)              │           \u001b[38;5;34m135\u001b[0m │\n",
       "├─────────────────────────────────┼────────────────────────┼───────────────┤\n",
       "│ dense_1 (\u001b[38;5;33mDense\u001b[0m)                 │ (\u001b[38;5;45mNone\u001b[0m, \u001b[38;5;34m3\u001b[0m)              │            \u001b[38;5;34m30\u001b[0m │\n",
       "└─────────────────────────────────┴────────────────────────┴───────────────┘\n"
      ]
     },
     "metadata": {},
     "output_type": "display_data"
    },
    {
     "data": {
      "text/html": [
       "<pre style=\"white-space:pre;overflow-x:auto;line-height:normal;font-family:Menlo,'DejaVu Sans Mono',consolas,'Courier New',monospace\"><span style=\"font-weight: bold\"> Total params: </span><span style=\"color: #00af00; text-decoration-color: #00af00\">165</span> (660.00 B)\n",
       "</pre>\n"
      ],
      "text/plain": [
       "\u001b[1m Total params: \u001b[0m\u001b[38;5;34m165\u001b[0m (660.00 B)\n"
      ]
     },
     "metadata": {},
     "output_type": "display_data"
    },
    {
     "data": {
      "text/html": [
       "<pre style=\"white-space:pre;overflow-x:auto;line-height:normal;font-family:Menlo,'DejaVu Sans Mono',consolas,'Courier New',monospace\"><span style=\"font-weight: bold\"> Trainable params: </span><span style=\"color: #00af00; text-decoration-color: #00af00\">165</span> (660.00 B)\n",
       "</pre>\n"
      ],
      "text/plain": [
       "\u001b[1m Trainable params: \u001b[0m\u001b[38;5;34m165\u001b[0m (660.00 B)\n"
      ]
     },
     "metadata": {},
     "output_type": "display_data"
    },
    {
     "data": {
      "text/html": [
       "<pre style=\"white-space:pre;overflow-x:auto;line-height:normal;font-family:Menlo,'DejaVu Sans Mono',consolas,'Courier New',monospace\"><span style=\"font-weight: bold\"> Non-trainable params: </span><span style=\"color: #00af00; text-decoration-color: #00af00\">0</span> (0.00 B)\n",
       "</pre>\n"
      ],
      "text/plain": [
       "\u001b[1m Non-trainable params: \u001b[0m\u001b[38;5;34m0\u001b[0m (0.00 B)\n"
      ]
     },
     "metadata": {},
     "output_type": "display_data"
    }
   ],
   "source": [
    "model.summary()"
   ]
  },
  {
   "cell_type": "code",
   "execution_count": 15,
   "metadata": {},
   "outputs": [
    {
     "name": "stdout",
     "output_type": "stream",
     "text": [
      "Epoch 1/100\n",
      "43/43 - 0s - 11ms/step - accuracy: 0.3037 - loss: 9.5325 - val_accuracy: 0.5441 - val_loss: 4.9303\n",
      "Epoch 2/100\n",
      "43/43 - 0s - 994us/step - accuracy: 0.6588 - loss: 3.9984 - val_accuracy: 0.7265 - val_loss: 2.6788\n",
      "Epoch 3/100\n",
      "43/43 - 0s - 942us/step - accuracy: 0.6956 - loss: 2.6430 - val_accuracy: 0.7088 - val_loss: 2.2026\n",
      "Epoch 4/100\n",
      "43/43 - 0s - 917us/step - accuracy: 0.7096 - loss: 2.1632 - val_accuracy: 0.7088 - val_loss: 1.8757\n",
      "Epoch 5/100\n",
      "43/43 - 0s - 923us/step - accuracy: 0.7176 - loss: 1.7641 - val_accuracy: 0.6971 - val_loss: 1.5873\n",
      "Epoch 6/100\n",
      "43/43 - 0s - 932us/step - accuracy: 0.7235 - loss: 1.4564 - val_accuracy: 0.7559 - val_loss: 1.2823\n",
      "Epoch 7/100\n",
      "43/43 - 0s - 1ms/step - accuracy: 0.7493 - loss: 1.2372 - val_accuracy: 0.7471 - val_loss: 1.1278\n",
      "Epoch 8/100\n",
      "43/43 - 0s - 933us/step - accuracy: 0.7632 - loss: 1.1107 - val_accuracy: 0.7765 - val_loss: 1.0111\n",
      "Epoch 9/100\n",
      "43/43 - 0s - 915us/step - accuracy: 0.7735 - loss: 1.0084 - val_accuracy: 0.7706 - val_loss: 0.8974\n",
      "Epoch 10/100\n",
      "43/43 - 0s - 935us/step - accuracy: 0.7787 - loss: 0.9175 - val_accuracy: 0.7676 - val_loss: 0.8213\n",
      "Epoch 11/100\n",
      "43/43 - 0s - 898us/step - accuracy: 0.7890 - loss: 0.8464 - val_accuracy: 0.8118 - val_loss: 0.7438\n",
      "Epoch 12/100\n",
      "43/43 - 0s - 927us/step - accuracy: 0.7816 - loss: 0.8130 - val_accuracy: 0.7912 - val_loss: 0.7035\n",
      "Epoch 13/100\n",
      "43/43 - 0s - 917us/step - accuracy: 0.7941 - loss: 0.7468 - val_accuracy: 0.7971 - val_loss: 0.6918\n",
      "Epoch 14/100\n",
      "43/43 - 0s - 933us/step - accuracy: 0.7904 - loss: 0.7132 - val_accuracy: 0.8206 - val_loss: 0.6255\n",
      "Epoch 15/100\n",
      "43/43 - 0s - 937us/step - accuracy: 0.8066 - loss: 0.6784 - val_accuracy: 0.8176 - val_loss: 0.5914\n",
      "Epoch 16/100\n",
      "43/43 - 0s - 927us/step - accuracy: 0.8015 - loss: 0.6495 - val_accuracy: 0.8235 - val_loss: 0.5939\n",
      "Epoch 17/100\n",
      "43/43 - 0s - 902us/step - accuracy: 0.8088 - loss: 0.6249 - val_accuracy: 0.8324 - val_loss: 0.5654\n",
      "Epoch 18/100\n",
      "43/43 - 0s - 892us/step - accuracy: 0.7882 - loss: 0.6290 - val_accuracy: 0.8059 - val_loss: 0.5703\n",
      "Epoch 19/100\n",
      "43/43 - 0s - 902us/step - accuracy: 0.7926 - loss: 0.6117 - val_accuracy: 0.8147 - val_loss: 0.5496\n",
      "Epoch 20/100\n",
      "43/43 - 0s - 886us/step - accuracy: 0.7897 - loss: 0.5889 - val_accuracy: 0.8206 - val_loss: 0.5414\n",
      "Epoch 21/100\n",
      "43/43 - 0s - 880us/step - accuracy: 0.7868 - loss: 0.5707 - val_accuracy: 0.8265 - val_loss: 0.5336\n",
      "Epoch 22/100\n",
      "43/43 - 0s - 874us/step - accuracy: 0.7993 - loss: 0.5746 - val_accuracy: 0.8265 - val_loss: 0.5402\n",
      "Epoch 23/100\n",
      "43/43 - 0s - 904us/step - accuracy: 0.7919 - loss: 0.5517 - val_accuracy: 0.8265 - val_loss: 0.5411\n",
      "Epoch 24/100\n",
      "43/43 - 0s - 913us/step - accuracy: 0.7912 - loss: 0.5646 - val_accuracy: 0.8059 - val_loss: 0.5574\n",
      "Epoch 25/100\n",
      "43/43 - 0s - 920us/step - accuracy: 0.7978 - loss: 0.5461 - val_accuracy: 0.8147 - val_loss: 0.5230\n",
      "Epoch 26/100\n",
      "43/43 - 0s - 881us/step - accuracy: 0.7934 - loss: 0.5370 - val_accuracy: 0.8235 - val_loss: 0.5023\n",
      "Epoch 27/100\n",
      "43/43 - 0s - 1ms/step - accuracy: 0.8000 - loss: 0.5366 - val_accuracy: 0.8265 - val_loss: 0.5068\n",
      "Epoch 28/100\n",
      "43/43 - 0s - 1ms/step - accuracy: 0.7993 - loss: 0.5314 - val_accuracy: 0.8382 - val_loss: 0.5001\n",
      "Epoch 29/100\n",
      "43/43 - 0s - 938us/step - accuracy: 0.7985 - loss: 0.5253 - val_accuracy: 0.8324 - val_loss: 0.5143\n",
      "Epoch 30/100\n",
      "43/43 - 0s - 922us/step - accuracy: 0.7926 - loss: 0.5203 - val_accuracy: 0.8471 - val_loss: 0.5054\n",
      "Epoch 31/100\n",
      "43/43 - 0s - 882us/step - accuracy: 0.7993 - loss: 0.5206 - val_accuracy: 0.8265 - val_loss: 0.5047\n",
      "Epoch 32/100\n",
      "43/43 - 0s - 896us/step - accuracy: 0.7993 - loss: 0.5149 - val_accuracy: 0.8324 - val_loss: 0.4902\n",
      "Epoch 33/100\n",
      "43/43 - 0s - 879us/step - accuracy: 0.7978 - loss: 0.5220 - val_accuracy: 0.8235 - val_loss: 0.4981\n",
      "Epoch 34/100\n",
      "43/43 - 0s - 2ms/step - accuracy: 0.8000 - loss: 0.5151 - val_accuracy: 0.8176 - val_loss: 0.5004\n",
      "Epoch 35/100\n",
      "43/43 - 0s - 947us/step - accuracy: 0.7971 - loss: 0.5079 - val_accuracy: 0.8265 - val_loss: 0.4892\n",
      "Epoch 36/100\n",
      "43/43 - 0s - 900us/step - accuracy: 0.8007 - loss: 0.5101 - val_accuracy: 0.8206 - val_loss: 0.4891\n",
      "Epoch 37/100\n",
      "43/43 - 0s - 899us/step - accuracy: 0.8000 - loss: 0.5034 - val_accuracy: 0.8382 - val_loss: 0.5086\n",
      "Epoch 38/100\n",
      "43/43 - 0s - 903us/step - accuracy: 0.8059 - loss: 0.5051 - val_accuracy: 0.8324 - val_loss: 0.4775\n",
      "Epoch 39/100\n",
      "43/43 - 0s - 970us/step - accuracy: 0.8051 - loss: 0.5030 - val_accuracy: 0.8353 - val_loss: 0.4835\n",
      "Epoch 40/100\n",
      "43/43 - 0s - 983us/step - accuracy: 0.8074 - loss: 0.5037 - val_accuracy: 0.8324 - val_loss: 0.4735\n",
      "Epoch 41/100\n",
      "43/43 - 0s - 975us/step - accuracy: 0.8015 - loss: 0.4974 - val_accuracy: 0.8265 - val_loss: 0.4908\n",
      "Epoch 42/100\n",
      "43/43 - 0s - 1ms/step - accuracy: 0.8029 - loss: 0.4984 - val_accuracy: 0.8265 - val_loss: 0.4861\n",
      "Epoch 43/100\n",
      "43/43 - 0s - 923us/step - accuracy: 0.8051 - loss: 0.4989 - val_accuracy: 0.8353 - val_loss: 0.5027\n",
      "Epoch 44/100\n",
      "43/43 - 0s - 940us/step - accuracy: 0.8066 - loss: 0.4972 - val_accuracy: 0.8294 - val_loss: 0.4742\n",
      "Epoch 45/100\n",
      "43/43 - 0s - 962us/step - accuracy: 0.7985 - loss: 0.4931 - val_accuracy: 0.8265 - val_loss: 0.4708\n",
      "Epoch 46/100\n",
      "43/43 - 0s - 954us/step - accuracy: 0.8029 - loss: 0.4951 - val_accuracy: 0.8324 - val_loss: 0.4722\n",
      "Epoch 47/100\n",
      "43/43 - 0s - 899us/step - accuracy: 0.8074 - loss: 0.4926 - val_accuracy: 0.8235 - val_loss: 0.5011\n",
      "Epoch 48/100\n",
      "43/43 - 0s - 918us/step - accuracy: 0.8125 - loss: 0.5014 - val_accuracy: 0.8294 - val_loss: 0.4866\n",
      "Epoch 49/100\n",
      "43/43 - 0s - 936us/step - accuracy: 0.8029 - loss: 0.4832 - val_accuracy: 0.8441 - val_loss: 0.4678\n",
      "Epoch 50/100\n",
      "43/43 - 0s - 853us/step - accuracy: 0.8140 - loss: 0.4827 - val_accuracy: 0.8265 - val_loss: 0.4682\n",
      "Epoch 51/100\n",
      "43/43 - 0s - 887us/step - accuracy: 0.8147 - loss: 0.4764 - val_accuracy: 0.8206 - val_loss: 0.4805\n",
      "Epoch 52/100\n",
      "43/43 - 0s - 883us/step - accuracy: 0.8096 - loss: 0.4788 - val_accuracy: 0.8412 - val_loss: 0.4711\n",
      "Epoch 53/100\n",
      "43/43 - 0s - 887us/step - accuracy: 0.8088 - loss: 0.4758 - val_accuracy: 0.8294 - val_loss: 0.4515\n",
      "Epoch 54/100\n",
      "43/43 - 0s - 880us/step - accuracy: 0.8169 - loss: 0.4753 - val_accuracy: 0.8471 - val_loss: 0.4540\n",
      "Epoch 55/100\n",
      "43/43 - 0s - 920us/step - accuracy: 0.8162 - loss: 0.4709 - val_accuracy: 0.8441 - val_loss: 0.4686\n",
      "Epoch 56/100\n",
      "43/43 - 0s - 963us/step - accuracy: 0.8110 - loss: 0.4711 - val_accuracy: 0.8265 - val_loss: 0.4512\n",
      "Epoch 57/100\n",
      "43/43 - 0s - 929us/step - accuracy: 0.8191 - loss: 0.4613 - val_accuracy: 0.8500 - val_loss: 0.4454\n",
      "Epoch 58/100\n",
      "43/43 - 0s - 955us/step - accuracy: 0.8162 - loss: 0.4635 - val_accuracy: 0.8382 - val_loss: 0.4584\n",
      "Epoch 59/100\n",
      "43/43 - 0s - 999us/step - accuracy: 0.8125 - loss: 0.4619 - val_accuracy: 0.8412 - val_loss: 0.4447\n",
      "Epoch 60/100\n",
      "43/43 - 0s - 894us/step - accuracy: 0.8125 - loss: 0.4585 - val_accuracy: 0.8382 - val_loss: 0.4341\n",
      "Epoch 61/100\n",
      "43/43 - 0s - 902us/step - accuracy: 0.8169 - loss: 0.4644 - val_accuracy: 0.8441 - val_loss: 0.4444\n",
      "Epoch 62/100\n",
      "43/43 - 0s - 897us/step - accuracy: 0.8169 - loss: 0.4622 - val_accuracy: 0.8412 - val_loss: 0.4470\n",
      "Epoch 63/100\n",
      "43/43 - 0s - 889us/step - accuracy: 0.8162 - loss: 0.4785 - val_accuracy: 0.8559 - val_loss: 0.4375\n",
      "Epoch 64/100\n",
      "43/43 - 0s - 873us/step - accuracy: 0.8191 - loss: 0.4567 - val_accuracy: 0.8588 - val_loss: 0.4270\n",
      "Epoch 65/100\n",
      "43/43 - 0s - 892us/step - accuracy: 0.8257 - loss: 0.4518 - val_accuracy: 0.8176 - val_loss: 0.4688\n",
      "Epoch 66/100\n",
      "43/43 - 0s - 900us/step - accuracy: 0.8162 - loss: 0.4684 - val_accuracy: 0.8324 - val_loss: 0.4319\n",
      "Epoch 67/100\n",
      "43/43 - 0s - 898us/step - accuracy: 0.8257 - loss: 0.4550 - val_accuracy: 0.8382 - val_loss: 0.4408\n",
      "Epoch 68/100\n",
      "43/43 - 0s - 883us/step - accuracy: 0.8272 - loss: 0.4496 - val_accuracy: 0.8559 - val_loss: 0.4283\n",
      "Epoch 69/100\n",
      "43/43 - 0s - 889us/step - accuracy: 0.8287 - loss: 0.4447 - val_accuracy: 0.8471 - val_loss: 0.4309\n",
      "Epoch 70/100\n",
      "43/43 - 0s - 894us/step - accuracy: 0.8221 - loss: 0.4475 - val_accuracy: 0.8618 - val_loss: 0.4234\n",
      "Epoch 71/100\n",
      "43/43 - 0s - 905us/step - accuracy: 0.8368 - loss: 0.4414 - val_accuracy: 0.8412 - val_loss: 0.4329\n",
      "Epoch 72/100\n",
      "43/43 - 0s - 898us/step - accuracy: 0.8368 - loss: 0.4432 - val_accuracy: 0.8529 - val_loss: 0.4383\n",
      "Epoch 73/100\n",
      "43/43 - 0s - 881us/step - accuracy: 0.8250 - loss: 0.4530 - val_accuracy: 0.8529 - val_loss: 0.4275\n",
      "Epoch 74/100\n",
      "43/43 - 0s - 1ms/step - accuracy: 0.8272 - loss: 0.4486 - val_accuracy: 0.8382 - val_loss: 0.4310\n",
      "Epoch 75/100\n",
      "43/43 - 0s - 887us/step - accuracy: 0.8353 - loss: 0.4363 - val_accuracy: 0.8676 - val_loss: 0.4251\n",
      "Epoch 76/100\n",
      "43/43 - 0s - 883us/step - accuracy: 0.8199 - loss: 0.4486 - val_accuracy: 0.8412 - val_loss: 0.4266\n",
      "Epoch 77/100\n",
      "43/43 - 0s - 892us/step - accuracy: 0.8338 - loss: 0.4362 - val_accuracy: 0.8676 - val_loss: 0.4266\n",
      "Epoch 78/100\n",
      "43/43 - 0s - 860us/step - accuracy: 0.8331 - loss: 0.4311 - val_accuracy: 0.8500 - val_loss: 0.4470\n",
      "Epoch 79/100\n",
      "43/43 - 0s - 904us/step - accuracy: 0.8375 - loss: 0.4371 - val_accuracy: 0.8588 - val_loss: 0.4202\n",
      "Epoch 80/100\n",
      "43/43 - 0s - 882us/step - accuracy: 0.8309 - loss: 0.4324 - val_accuracy: 0.8294 - val_loss: 0.4424\n",
      "Epoch 81/100\n",
      "43/43 - 0s - 905us/step - accuracy: 0.8412 - loss: 0.4326 - val_accuracy: 0.8529 - val_loss: 0.4249\n",
      "Epoch 82/100\n",
      "43/43 - 0s - 887us/step - accuracy: 0.8353 - loss: 0.4405 - val_accuracy: 0.8588 - val_loss: 0.4254\n",
      "Epoch 83/100\n",
      "43/43 - 0s - 902us/step - accuracy: 0.8390 - loss: 0.4309 - val_accuracy: 0.8500 - val_loss: 0.4406\n",
      "Epoch 84/100\n",
      "43/43 - 0s - 882us/step - accuracy: 0.8294 - loss: 0.4458 - val_accuracy: 0.8618 - val_loss: 0.4181\n",
      "Epoch 85/100\n",
      "43/43 - 0s - 880us/step - accuracy: 0.8331 - loss: 0.4304 - val_accuracy: 0.8618 - val_loss: 0.4224\n",
      "Epoch 86/100\n",
      "43/43 - 0s - 2ms/step - accuracy: 0.8404 - loss: 0.4292 - val_accuracy: 0.8588 - val_loss: 0.4195\n",
      "Epoch 87/100\n",
      "43/43 - 0s - 910us/step - accuracy: 0.8324 - loss: 0.4390 - val_accuracy: 0.8618 - val_loss: 0.4214\n",
      "Epoch 88/100\n",
      "43/43 - 0s - 902us/step - accuracy: 0.8397 - loss: 0.4306 - val_accuracy: 0.8529 - val_loss: 0.4202\n",
      "Epoch 89/100\n",
      "43/43 - 0s - 883us/step - accuracy: 0.8338 - loss: 0.4248 - val_accuracy: 0.8500 - val_loss: 0.4178\n",
      "Epoch 90/100\n",
      "43/43 - 0s - 883us/step - accuracy: 0.8419 - loss: 0.4219 - val_accuracy: 0.8441 - val_loss: 0.4413\n",
      "Epoch 91/100\n",
      "43/43 - 0s - 896us/step - accuracy: 0.8287 - loss: 0.4393 - val_accuracy: 0.8441 - val_loss: 0.4215\n",
      "Epoch 92/100\n",
      "43/43 - 0s - 883us/step - accuracy: 0.8316 - loss: 0.4416 - val_accuracy: 0.8412 - val_loss: 0.4539\n",
      "Epoch 93/100\n",
      "43/43 - 0s - 877us/step - accuracy: 0.8316 - loss: 0.4335 - val_accuracy: 0.8676 - val_loss: 0.4166\n",
      "Epoch 94/100\n",
      "43/43 - 0s - 883us/step - accuracy: 0.8272 - loss: 0.4386 - val_accuracy: 0.8265 - val_loss: 0.4467\n",
      "Epoch 95/100\n",
      "43/43 - 0s - 888us/step - accuracy: 0.8375 - loss: 0.4276 - val_accuracy: 0.8588 - val_loss: 0.4111\n",
      "Epoch 96/100\n",
      "43/43 - 0s - 876us/step - accuracy: 0.8338 - loss: 0.4266 - val_accuracy: 0.8500 - val_loss: 0.4165\n",
      "Epoch 97/100\n",
      "43/43 - 0s - 881us/step - accuracy: 0.8279 - loss: 0.4501 - val_accuracy: 0.8000 - val_loss: 0.5213\n",
      "Epoch 98/100\n",
      "43/43 - 0s - 927us/step - accuracy: 0.8353 - loss: 0.4320 - val_accuracy: 0.8353 - val_loss: 0.4281\n",
      "Epoch 99/100\n",
      "43/43 - 0s - 888us/step - accuracy: 0.8426 - loss: 0.4259 - val_accuracy: 0.8529 - val_loss: 0.4245\n",
      "Epoch 100/100\n",
      "43/43 - 0s - 891us/step - accuracy: 0.8390 - loss: 0.4255 - val_accuracy: 0.8294 - val_loss: 0.4312\n"
     ]
    }
   ],
   "source": [
    "history = model.fit(x_train, np.asarray( y_train), batch_size = 32, epochs= 100, verbose=2, validation_split=0.2)"
   ]
  },
  {
   "cell_type": "code",
   "execution_count": 16,
   "metadata": {},
   "outputs": [
    {
     "data": {
      "text/plain": [
       "<matplotlib.legend.Legend at 0x31ddb5010>"
      ]
     },
     "execution_count": 16,
     "metadata": {},
     "output_type": "execute_result"
    },
    {
     "data": {
      "image/png": "[encoded data removed]",
      "text/plain": [
       "<Figure size 640x480 with 1 Axes>"
      ]
     },
     "metadata": {},
     "output_type": "display_data"
    }
   ],
   "source": [
    "accuracy = history.history['accuracy']\n",
    "validation_accuracy = history.history['val_accuracy']\n",
    "plt.plot(accuracy, label='Training Accuracy')\n",
    "plt.plot(validation_accuracy, label='Validation Set Accuracy')\n",
    "#plt.xlabel('Epochs')\n",
    "plt.ylabel('Accuracy')\n",
    "plt.ylim([min(plt.ylim()),1])\n",
    "plt.title(\"Training and Validation Accuracy Across Epochs\")\n",
    "plt.legend()"
   ]
  },
  {
   "cell_type": "code",
   "execution_count": 17,
   "metadata": {},
   "outputs": [
    {
     "data": {
      "text/plain": [
       "<matplotlib.legend.Legend at 0x31ddb7aa0>"
      ]
     },
     "execution_count": 17,
     "metadata": {},
     "output_type": "execute_result"
    },
    {
     "data": {
      "image/png": "[encoded data removed]",
      "text/plain": [
       "<Figure size 640x480 with 1 Axes>"
      ]
     },
     "metadata": {},
     "output_type": "display_data"
    }
   ],
   "source": [
    "loss = history.history['loss']\n",
    "validation_loss = history.history['val_loss']\n",
    "\n",
    "plt.plot(loss, label='Training Set Loss')\n",
    "plt.plot(validation_loss, label='Validation Set Loss')\n",
    "plt.ylabel('Loss')\n",
    "plt.title(\"Training and Validation Loss Across Epochs\")\n",
    "plt.legend()"
   ]
  },
  {
   "cell_type": "code",
   "execution_count": 18,
   "metadata": {},
   "outputs": [],
   "source": [
    "from sklearn.metrics import confusion_matrix, classification_report"
   ]
  },
  {
   "cell_type": "code",
   "execution_count": 19,
   "metadata": {},
   "outputs": [
    {
     "name": "stdout",
     "output_type": "stream",
     "text": [
      "\u001b[1m14/14\u001b[0m \u001b[32m━━━━━━━━━━━━━━━━━━━━\u001b[0m\u001b[37m\u001b[0m \u001b[1m0s\u001b[0m 1ms/step\n"
     ]
    }
   ],
   "source": [
    "y_pred = model.predict(x_test)\n",
    "y_pred = np.argmax(y_pred, axis=1)"
   ]
  },
  {
   "cell_type": "code",
   "execution_count": 20,
   "metadata": {},
   "outputs": [
    {
     "data": {
      "image/png": "[encoded data removed]",
      "text/plain": [
       "<Figure size 640x480 with 2 Axes>"
      ]
     },
     "metadata": {},
     "output_type": "display_data"
    }
   ],
   "source": [
    "cm = confusion_matrix(y_test, y_pred)\n",
    "\n",
    "ax = sns.heatmap(cm, cmap='flare', annot=True, fmt='d')\n",
    "\n",
    "plt.xlabel(\"Predicted Class\", fontsize = 12)\n",
    "plt.ylabel(\"Actual Class\", fontsize = 12)\n",
    "plt.title(\"Confusion Matrix\", fontsize = 12)\n",
    "plt.show()"
   ]
  },
  {
   "cell_type": "code",
   "execution_count": 21,
   "metadata": {},
   "outputs": [
    {
     "name": "stdout",
     "output_type": "stream",
     "text": [
      "              precision    recall  f1-score   support\n",
      "\n",
      "           0       0.87      0.92      0.90       337\n",
      "           1       0.64      0.32      0.43        56\n",
      "           2       0.53      0.70      0.61        33\n",
      "\n",
      "    accuracy                           0.82       426\n",
      "   macro avg       0.68      0.65      0.64       426\n",
      "weighted avg       0.82      0.82      0.81       426\n",
      "\n"
     ]
    }
   ],
   "source": [
    "print(classification_report(y_test,y_pred))"
   ]
  },
  {
   "cell_type": "code",
   "execution_count": null,
   "metadata": {},
   "outputs": [],
   "source": []
  }
 ],
 "metadata": {
  "kernelspec": {
   "display_name": "mldmenv2",
   "language": "python",
   "name": "python3"
  },
  "language_info": {
   "codemirror_mode": {
    "name": "ipython",
    "version": 3
   },
   "file_extension": ".py",
   "mimetype": "text/x-python",
   "name": "python",
   "nbconvert_exporter": "python",
   "pygments_lexer": "ipython3",
   "version": "3.12.4"
  }
 },
 "nbformat": 4,
 "nbformat_minor": 2
}
