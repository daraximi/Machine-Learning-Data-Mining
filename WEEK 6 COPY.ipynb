{
  "cells": [
    {
      "cell_type": "code",
      "execution_count": 1,
      "metadata": {
        "id": "eAR73_3awORJ"
      },
      "outputs": [],
      "source": [
        "import numpy as np\n",
        "import pandas as pd\n",
        "import matplotlib.pyplot as plt\n",
        "import tensorflow as tf\n",
        "import seaborn as sns\n",
        "from sklearn.preprocessing import StandardScaler\n",
        "from sklearn.model_selection import train_test_split"
      ]
    },
    {
      "cell_type": "code",
      "execution_count": 2,
      "metadata": {
        "id": "rJZIkblswvd9"
      },
      "outputs": [],
      "source": [
        "cardio_data = pd.read_csv(\"Cardiotocographic.csv\")"
      ]
    },
    {
      "cell_type": "code",
      "execution_count": 3,
      "metadata": {
        "colab": {
          "base_uri": "https://localhost:8080/",
          "height": 226
        },
        "id": "whp4WUy6w3EU",
        "outputId": "ab295ce0-55b0-4d4e-c336-6fcfcb9b03de"
      },
      "outputs": [
        {
          "data": {
            "text/html": [
              "<div>\n",
              "<style scoped>\n",
              "    .dataframe tbody tr th:only-of-type {\n",
              "        vertical-align: middle;\n",
              "    }\n",
              "\n",
              "    .dataframe tbody tr th {\n",
              "        vertical-align: top;\n",
              "    }\n",
              "\n",
              "    .dataframe thead th {\n",
              "        text-align: right;\n",
              "    }\n",
              "</style>\n",
              "<table border=\"1\" class=\"dataframe\">\n",
              "  <thead>\n",
              "    <tr style=\"text-align: right;\">\n",
              "      <th></th>\n",
              "      <th>BPM</th>\n",
              "      <th>APC</th>\n",
              "      <th>FMPS</th>\n",
              "      <th>UCPS</th>\n",
              "      <th>DLPS</th>\n",
              "      <th>SDPS</th>\n",
              "      <th>PDPS</th>\n",
              "      <th>ASTV</th>\n",
              "      <th>MSTV</th>\n",
              "      <th>ALTV</th>\n",
              "      <th>MLTV</th>\n",
              "      <th>Width</th>\n",
              "      <th>Min</th>\n",
              "      <th>Max</th>\n",
              "      <th>NSP</th>\n",
              "    </tr>\n",
              "  </thead>\n",
              "  <tbody>\n",
              "    <tr>\n",
              "      <th>0</th>\n",
              "      <td>120</td>\n",
              "      <td>0.000000</td>\n",
              "      <td>0.0</td>\n",
              "      <td>0.000000</td>\n",
              "      <td>0.000000</td>\n",
              "      <td>0.0</td>\n",
              "      <td>0.0</td>\n",
              "      <td>73</td>\n",
              "      <td>0.5</td>\n",
              "      <td>43</td>\n",
              "      <td>2.4</td>\n",
              "      <td>64</td>\n",
              "      <td>62</td>\n",
              "      <td>126</td>\n",
              "      <td>2</td>\n",
              "    </tr>\n",
              "    <tr>\n",
              "      <th>1</th>\n",
              "      <td>132</td>\n",
              "      <td>0.006380</td>\n",
              "      <td>0.0</td>\n",
              "      <td>0.006380</td>\n",
              "      <td>0.003190</td>\n",
              "      <td>0.0</td>\n",
              "      <td>0.0</td>\n",
              "      <td>17</td>\n",
              "      <td>2.1</td>\n",
              "      <td>0</td>\n",
              "      <td>10.4</td>\n",
              "      <td>130</td>\n",
              "      <td>68</td>\n",
              "      <td>198</td>\n",
              "      <td>1</td>\n",
              "    </tr>\n",
              "    <tr>\n",
              "      <th>2</th>\n",
              "      <td>133</td>\n",
              "      <td>0.003322</td>\n",
              "      <td>0.0</td>\n",
              "      <td>0.008306</td>\n",
              "      <td>0.003322</td>\n",
              "      <td>0.0</td>\n",
              "      <td>0.0</td>\n",
              "      <td>16</td>\n",
              "      <td>2.1</td>\n",
              "      <td>0</td>\n",
              "      <td>13.4</td>\n",
              "      <td>130</td>\n",
              "      <td>68</td>\n",
              "      <td>198</td>\n",
              "      <td>1</td>\n",
              "    </tr>\n",
              "    <tr>\n",
              "      <th>3</th>\n",
              "      <td>134</td>\n",
              "      <td>0.002561</td>\n",
              "      <td>0.0</td>\n",
              "      <td>0.007682</td>\n",
              "      <td>0.002561</td>\n",
              "      <td>0.0</td>\n",
              "      <td>0.0</td>\n",
              "      <td>16</td>\n",
              "      <td>2.4</td>\n",
              "      <td>0</td>\n",
              "      <td>23.0</td>\n",
              "      <td>117</td>\n",
              "      <td>53</td>\n",
              "      <td>170</td>\n",
              "      <td>1</td>\n",
              "    </tr>\n",
              "    <tr>\n",
              "      <th>4</th>\n",
              "      <td>132</td>\n",
              "      <td>0.006515</td>\n",
              "      <td>0.0</td>\n",
              "      <td>0.008143</td>\n",
              "      <td>0.000000</td>\n",
              "      <td>0.0</td>\n",
              "      <td>0.0</td>\n",
              "      <td>16</td>\n",
              "      <td>2.4</td>\n",
              "      <td>0</td>\n",
              "      <td>19.9</td>\n",
              "      <td>117</td>\n",
              "      <td>53</td>\n",
              "      <td>170</td>\n",
              "      <td>1</td>\n",
              "    </tr>\n",
              "  </tbody>\n",
              "</table>\n",
              "</div>"
            ],
            "text/plain": [
              "   BPM       APC  FMPS      UCPS      DLPS  SDPS  PDPS  ASTV  MSTV  ALTV  \\\n",
              "0  120  0.000000   0.0  0.000000  0.000000   0.0   0.0    73   0.5    43   \n",
              "1  132  0.006380   0.0  0.006380  0.003190   0.0   0.0    17   2.1     0   \n",
              "2  133  0.003322   0.0  0.008306  0.003322   0.0   0.0    16   2.1     0   \n",
              "3  134  0.002561   0.0  0.007682  0.002561   0.0   0.0    16   2.4     0   \n",
              "4  132  0.006515   0.0  0.008143  0.000000   0.0   0.0    16   2.4     0   \n",
              "\n",
              "   MLTV  Width  Min  Max  NSP  \n",
              "0   2.4     64   62  126    2  \n",
              "1  10.4    130   68  198    1  \n",
              "2  13.4    130   68  198    1  \n",
              "3  23.0    117   53  170    1  \n",
              "4  19.9    117   53  170    1  "
            ]
          },
          "execution_count": 3,
          "metadata": {},
          "output_type": "execute_result"
        }
      ],
      "source": [
        "cardio_data.head()"
      ]
    },
    {
      "cell_type": "code",
      "execution_count": 4,
      "metadata": {
        "colab": {
          "base_uri": "https://localhost:8080/",
          "height": 226
        },
        "id": "KkUKqMZDw6UB",
        "outputId": "36046fe0-845a-481d-aefd-e3cae33bdc99"
      },
      "outputs": [
        {
          "data": {
            "text/html": [
              "<div>\n",
              "<style scoped>\n",
              "    .dataframe tbody tr th:only-of-type {\n",
              "        vertical-align: middle;\n",
              "    }\n",
              "\n",
              "    .dataframe tbody tr th {\n",
              "        vertical-align: top;\n",
              "    }\n",
              "\n",
              "    .dataframe thead th {\n",
              "        text-align: right;\n",
              "    }\n",
              "</style>\n",
              "<table border=\"1\" class=\"dataframe\">\n",
              "  <thead>\n",
              "    <tr style=\"text-align: right;\">\n",
              "      <th></th>\n",
              "      <th>BPM</th>\n",
              "      <th>APC</th>\n",
              "      <th>FMPS</th>\n",
              "      <th>UCPS</th>\n",
              "      <th>DLPS</th>\n",
              "      <th>SDPS</th>\n",
              "      <th>PDPS</th>\n",
              "      <th>ASTV</th>\n",
              "      <th>MSTV</th>\n",
              "      <th>ALTV</th>\n",
              "      <th>MLTV</th>\n",
              "      <th>Width</th>\n",
              "      <th>Min</th>\n",
              "      <th>Max</th>\n",
              "      <th>NSP</th>\n",
              "    </tr>\n",
              "  </thead>\n",
              "  <tbody>\n",
              "    <tr>\n",
              "      <th>2121</th>\n",
              "      <td>140</td>\n",
              "      <td>0.000000</td>\n",
              "      <td>0.000000</td>\n",
              "      <td>0.007426</td>\n",
              "      <td>0.0</td>\n",
              "      <td>0.0</td>\n",
              "      <td>0.0</td>\n",
              "      <td>79</td>\n",
              "      <td>0.2</td>\n",
              "      <td>25</td>\n",
              "      <td>7.2</td>\n",
              "      <td>40</td>\n",
              "      <td>137</td>\n",
              "      <td>177</td>\n",
              "      <td>2</td>\n",
              "    </tr>\n",
              "    <tr>\n",
              "      <th>2122</th>\n",
              "      <td>140</td>\n",
              "      <td>0.000775</td>\n",
              "      <td>0.000000</td>\n",
              "      <td>0.006971</td>\n",
              "      <td>0.0</td>\n",
              "      <td>0.0</td>\n",
              "      <td>0.0</td>\n",
              "      <td>78</td>\n",
              "      <td>0.4</td>\n",
              "      <td>22</td>\n",
              "      <td>7.1</td>\n",
              "      <td>66</td>\n",
              "      <td>103</td>\n",
              "      <td>169</td>\n",
              "      <td>2</td>\n",
              "    </tr>\n",
              "    <tr>\n",
              "      <th>2123</th>\n",
              "      <td>140</td>\n",
              "      <td>0.000980</td>\n",
              "      <td>0.000000</td>\n",
              "      <td>0.006863</td>\n",
              "      <td>0.0</td>\n",
              "      <td>0.0</td>\n",
              "      <td>0.0</td>\n",
              "      <td>79</td>\n",
              "      <td>0.4</td>\n",
              "      <td>20</td>\n",
              "      <td>6.1</td>\n",
              "      <td>67</td>\n",
              "      <td>103</td>\n",
              "      <td>170</td>\n",
              "      <td>2</td>\n",
              "    </tr>\n",
              "    <tr>\n",
              "      <th>2124</th>\n",
              "      <td>140</td>\n",
              "      <td>0.000679</td>\n",
              "      <td>0.000000</td>\n",
              "      <td>0.006110</td>\n",
              "      <td>0.0</td>\n",
              "      <td>0.0</td>\n",
              "      <td>0.0</td>\n",
              "      <td>78</td>\n",
              "      <td>0.4</td>\n",
              "      <td>27</td>\n",
              "      <td>7.0</td>\n",
              "      <td>66</td>\n",
              "      <td>103</td>\n",
              "      <td>169</td>\n",
              "      <td>2</td>\n",
              "    </tr>\n",
              "    <tr>\n",
              "      <th>2125</th>\n",
              "      <td>142</td>\n",
              "      <td>0.001616</td>\n",
              "      <td>0.001616</td>\n",
              "      <td>0.008078</td>\n",
              "      <td>0.0</td>\n",
              "      <td>0.0</td>\n",
              "      <td>0.0</td>\n",
              "      <td>74</td>\n",
              "      <td>0.4</td>\n",
              "      <td>36</td>\n",
              "      <td>5.0</td>\n",
              "      <td>42</td>\n",
              "      <td>117</td>\n",
              "      <td>159</td>\n",
              "      <td>1</td>\n",
              "    </tr>\n",
              "  </tbody>\n",
              "</table>\n",
              "</div>"
            ],
            "text/plain": [
              "      BPM       APC      FMPS      UCPS  DLPS  SDPS  PDPS  ASTV  MSTV  ALTV  \\\n",
              "2121  140  0.000000  0.000000  0.007426   0.0   0.0   0.0    79   0.2    25   \n",
              "2122  140  0.000775  0.000000  0.006971   0.0   0.0   0.0    78   0.4    22   \n",
              "2123  140  0.000980  0.000000  0.006863   0.0   0.0   0.0    79   0.4    20   \n",
              "2124  140  0.000679  0.000000  0.006110   0.0   0.0   0.0    78   0.4    27   \n",
              "2125  142  0.001616  0.001616  0.008078   0.0   0.0   0.0    74   0.4    36   \n",
              "\n",
              "      MLTV  Width  Min  Max  NSP  \n",
              "2121   7.2     40  137  177    2  \n",
              "2122   7.1     66  103  169    2  \n",
              "2123   6.1     67  103  170    2  \n",
              "2124   7.0     66  103  169    2  \n",
              "2125   5.0     42  117  159    1  "
            ]
          },
          "execution_count": 4,
          "metadata": {},
          "output_type": "execute_result"
        }
      ],
      "source": [
        "cardio_data.tail()"
      ]
    },
    {
      "cell_type": "code",
      "execution_count": 5,
      "metadata": {
        "colab": {
          "base_uri": "https://localhost:8080/"
        },
        "id": "v-ZbygayxCNW",
        "outputId": "a9f54ab5-83b7-4ab7-fc6b-683fee04c703"
      },
      "outputs": [
        {
          "name": "stdout",
          "output_type": "stream",
          "text": [
            "<class 'pandas.core.frame.DataFrame'>\n",
            "RangeIndex: 2126 entries, 0 to 2125\n",
            "Data columns (total 15 columns):\n",
            " #   Column  Non-Null Count  Dtype  \n",
            "---  ------  --------------  -----  \n",
            " 0   BPM     2126 non-null   int64  \n",
            " 1   APC     2126 non-null   float64\n",
            " 2   FMPS    2126 non-null   float64\n",
            " 3   UCPS    2126 non-null   float64\n",
            " 4   DLPS    2126 non-null   float64\n",
            " 5   SDPS    2126 non-null   float64\n",
            " 6   PDPS    2126 non-null   float64\n",
            " 7   ASTV    2126 non-null   int64  \n",
            " 8   MSTV    2126 non-null   float64\n",
            " 9   ALTV    2126 non-null   int64  \n",
            " 10  MLTV    2126 non-null   float64\n",
            " 11  Width   2126 non-null   int64  \n",
            " 12  Min     2126 non-null   int64  \n",
            " 13  Max     2126 non-null   int64  \n",
            " 14  NSP     2126 non-null   int64  \n",
            "dtypes: float64(8), int64(7)\n",
            "memory usage: 249.3 KB\n"
          ]
        }
      ],
      "source": [
        "cardio_data.info()"
      ]
    },
    {
      "cell_type": "code",
      "execution_count": 6,
      "metadata": {
        "colab": {
          "base_uri": "https://localhost:8080/"
        },
        "id": "MsK8wbAZxGT6",
        "outputId": "81904058-ed09-41e1-d5e7-0e37da799c3a"
      },
      "outputs": [
        {
          "data": {
            "text/plain": [
              "(2126, 15)"
            ]
          },
          "execution_count": 6,
          "metadata": {},
          "output_type": "execute_result"
        }
      ],
      "source": [
        "cardio_data.shape"
      ]
    },
    {
      "cell_type": "code",
      "execution_count": 7,
      "metadata": {
        "colab": {
          "base_uri": "https://localhost:8080/",
          "height": 210
        },
        "id": "q5YRvcMvxJhe",
        "outputId": "d95e1ca8-570f-4d71-c786-389c4b7e7367"
      },
      "outputs": [
        {
          "data": {
            "text/plain": [
              "NSP\n",
              "1    1655\n",
              "2     295\n",
              "3     176\n",
              "Name: count, dtype: int64"
            ]
          },
          "execution_count": 7,
          "metadata": {},
          "output_type": "execute_result"
        }
      ],
      "source": [
        "cardio_data['NSP'].value_counts()"
      ]
    },
    {
      "cell_type": "code",
      "execution_count": 8,
      "metadata": {
        "colab": {
          "base_uri": "https://localhost:8080/",
          "height": 467
        },
        "id": "xML5a3gPxSMC",
        "outputId": "180745e4-773a-4d33-ab31-fd2e4452e7fe"
      },
      "outputs": [
        {
          "data": {
            "text/plain": [
              "<Axes: xlabel='NSP', ylabel='count'>"
            ]
          },
          "execution_count": 8,
          "metadata": {},
          "output_type": "execute_result"
        },
        {
          "data": {
            "image/png": "[encoded data removed]",
            "text/plain": [
              "<Figure size 640x480 with 1 Axes>"
            ]
          },
          "metadata": {},
          "output_type": "display_data"
        }
      ],
      "source": [
        "sns.countplot(cardio_data, x=\"NSP\")"
      ]
    },
    {
      "cell_type": "code",
      "execution_count": 9,
      "metadata": {
        "id": "S8YbMRp7xarP"
      },
      "outputs": [],
      "source": [
        "x = cardio_data.drop(\"NSP\", axis=1)\n",
        "y = cardio_data['NSP'] - 1\n",
        "\n",
        "x_train, x_test, y_train, y_test = train_test_split(x,y,test_size=0.2, stratify=y, random_state=0)\n",
        "\n",
        "# x_train = x_train.to_numpy()\n",
        "# x_test = x_test.to_numpy()\n",
        "# y_train = y_train.to_numpy()\n",
        "# y_test = y_test.to_numpy()\n",
        "\n",
        "scaler = StandardScaler()\n",
        "x_train = scaler.fit_transform(x_train)\n",
        "x_test = scaler.transform(x_test)"
      ]
    },
    {
      "cell_type": "code",
      "execution_count": 10,
      "metadata": {
        "id": "mqYkaDfsyG9d"
      },
      "outputs": [],
      "source": [
        "model = tf.keras.models.Sequential()"
      ]
    },
    {
      "cell_type": "markdown",
      "metadata": {
        "id": "fZPn4mXYyMJe"
      },
      "source": []
    },
    {
      "cell_type": "code",
      "execution_count": 11,
      "metadata": {
        "colab": {
          "base_uri": "https://localhost:8080/"
        },
        "id": "sGIANBc7yQ7M",
        "outputId": "4871e254-5996-48ea-e1b6-b95be42b7c23"
      },
      "outputs": [
        {
          "name": "stderr",
          "output_type": "stream",
          "text": [
            "/Users/oluwadarasimioloyede/mldm/mldmenv2/lib/python3.12/site-packages/keras/src/layers/core/dense.py:87: UserWarning: Do not pass an `input_shape`/`input_dim` argument to a layer. When using Sequential models, prefer using an `Input(shape)` object as the first layer in the model instead.\n",
            "  super().__init__(activity_regularizer=activity_regularizer, **kwargs)\n"
          ]
        }
      ],
      "source": [
        "model.add(tf.keras.layers.Dense(9, activation='relu', input_shape=(14,)))\n",
        "model.add(tf.keras.layers.Dense(3, activation=\"softmax\"))"
      ]
    },
    {
      "cell_type": "code",
      "execution_count": 12,
      "metadata": {
        "id": "h9NVb996yhZg"
      },
      "outputs": [],
      "source": [
        "model.compile(optimizer ='adam',loss='sparse_categorical_crossentropy', metrics=['accuracy'])"
      ]
    },
    {
      "cell_type": "code",
      "execution_count": 13,
      "metadata": {
        "colab": {
          "base_uri": "https://localhost:8080/",
          "height": 199
        },
        "id": "KfnYSDY2y7jk",
        "outputId": "77ee0585-deed-4705-c7d3-b518b1c1f386"
      },
      "outputs": [
        {
          "data": {
            "text/html": [
              "<pre style=\"white-space:pre;overflow-x:auto;line-height:normal;font-family:Menlo,'DejaVu Sans Mono',consolas,'Courier New',monospace\"><span style=\"font-weight: bold\">Model: \"sequential\"</span>\n",
              "</pre>\n"
            ],
            "text/plain": [
              "\u001b[1mModel: \"sequential\"\u001b[0m\n"
            ]
          },
          "metadata": {},
          "output_type": "display_data"
        },
        {
          "data": {
            "text/html": [
              "<pre style=\"white-space:pre;overflow-x:auto;line-height:normal;font-family:Menlo,'DejaVu Sans Mono',consolas,'Courier New',monospace\">┏━━━━━━━━━━━━━━━━━━━━━━━━━━━━━━━━━┳━━━━━━━━━━━━━━━━━━━━━━━━┳━━━━━━━━━━━━━━━┓\n",
              "┃<span style=\"font-weight: bold\"> Layer (type)                    </span>┃<span style=\"font-weight: bold\"> Output Shape           </span>┃<span style=\"font-weight: bold\">       Param # </span>┃\n",
              "┡━━━━━━━━━━━━━━━━━━━━━━━━━━━━━━━━━╇━━━━━━━━━━━━━━━━━━━━━━━━╇━━━━━━━━━━━━━━━┩\n",
              "│ dense (<span style=\"color: #0087ff; text-decoration-color: #0087ff\">Dense</span>)                   │ (<span style=\"color: #00d7ff; text-decoration-color: #00d7ff\">None</span>, <span style=\"color: #00af00; text-decoration-color: #00af00\">9</span>)              │           <span style=\"color: #00af00; text-decoration-color: #00af00\">135</span> │\n",
              "├─────────────────────────────────┼────────────────────────┼───────────────┤\n",
              "│ dense_1 (<span style=\"color: #0087ff; text-decoration-color: #0087ff\">Dense</span>)                 │ (<span style=\"color: #00d7ff; text-decoration-color: #00d7ff\">None</span>, <span style=\"color: #00af00; text-decoration-color: #00af00\">3</span>)              │            <span style=\"color: #00af00; text-decoration-color: #00af00\">30</span> │\n",
              "└─────────────────────────────────┴────────────────────────┴───────────────┘\n",
              "</pre>\n"
            ],
            "text/plain": [
              "┏━━━━━━━━━━━━━━━━━━━━━━━━━━━━━━━━━┳━━━━━━━━━━━━━━━━━━━━━━━━┳━━━━━━━━━━━━━━━┓\n",
              "┃\u001b[1m \u001b[0m\u001b[1mLayer (type)                   \u001b[0m\u001b[1m \u001b[0m┃\u001b[1m \u001b[0m\u001b[1mOutput Shape          \u001b[0m\u001b[1m \u001b[0m┃\u001b[1m \u001b[0m\u001b[1m      Param #\u001b[0m\u001b[1m \u001b[0m┃\n",
              "┡━━━━━━━━━━━━━━━━━━━━━━━━━━━━━━━━━╇━━━━━━━━━━━━━━━━━━━━━━━━╇━━━━━━━━━━━━━━━┩\n",
              "│ dense (\u001b[38;5;33mDense\u001b[0m)                   │ (\u001b[38;5;45mNone\u001b[0m, \u001b[38;5;34m9\u001b[0m)              │           \u001b[38;5;34m135\u001b[0m │\n",
              "├─────────────────────────────────┼────────────────────────┼───────────────┤\n",
              "│ dense_1 (\u001b[38;5;33mDense\u001b[0m)                 │ (\u001b[38;5;45mNone\u001b[0m, \u001b[38;5;34m3\u001b[0m)              │            \u001b[38;5;34m30\u001b[0m │\n",
              "└─────────────────────────────────┴────────────────────────┴───────────────┘\n"
            ]
          },
          "metadata": {},
          "output_type": "display_data"
        },
        {
          "data": {
            "text/html": [
              "<pre style=\"white-space:pre;overflow-x:auto;line-height:normal;font-family:Menlo,'DejaVu Sans Mono',consolas,'Courier New',monospace\"><span style=\"font-weight: bold\"> Total params: </span><span style=\"color: #00af00; text-decoration-color: #00af00\">165</span> (660.00 B)\n",
              "</pre>\n"
            ],
            "text/plain": [
              "\u001b[1m Total params: \u001b[0m\u001b[38;5;34m165\u001b[0m (660.00 B)\n"
            ]
          },
          "metadata": {},
          "output_type": "display_data"
        },
        {
          "data": {
            "text/html": [
              "<pre style=\"white-space:pre;overflow-x:auto;line-height:normal;font-family:Menlo,'DejaVu Sans Mono',consolas,'Courier New',monospace\"><span style=\"font-weight: bold\"> Trainable params: </span><span style=\"color: #00af00; text-decoration-color: #00af00\">165</span> (660.00 B)\n",
              "</pre>\n"
            ],
            "text/plain": [
              "\u001b[1m Trainable params: \u001b[0m\u001b[38;5;34m165\u001b[0m (660.00 B)\n"
            ]
          },
          "metadata": {},
          "output_type": "display_data"
        },
        {
          "data": {
            "text/html": [
              "<pre style=\"white-space:pre;overflow-x:auto;line-height:normal;font-family:Menlo,'DejaVu Sans Mono',consolas,'Courier New',monospace\"><span style=\"font-weight: bold\"> Non-trainable params: </span><span style=\"color: #00af00; text-decoration-color: #00af00\">0</span> (0.00 B)\n",
              "</pre>\n"
            ],
            "text/plain": [
              "\u001b[1m Non-trainable params: \u001b[0m\u001b[38;5;34m0\u001b[0m (0.00 B)\n"
            ]
          },
          "metadata": {},
          "output_type": "display_data"
        }
      ],
      "source": [
        "model.summary()"
      ]
    },
    {
      "cell_type": "code",
      "execution_count": 14,
      "metadata": {
        "id": "ienrRDHezJtL"
      },
      "outputs": [],
      "source": [
        "class_weights = {0:1, 1:6.5, 2:9.4}"
      ]
    },
    {
      "cell_type": "code",
      "execution_count": 15,
      "metadata": {
        "colab": {
          "base_uri": "https://localhost:8080/"
        },
        "id": "P6dTCecjz1ue",
        "outputId": "7b79b341-6018-4bcf-bb17-74185e80dde3"
      },
      "outputs": [
        {
          "name": "stdout",
          "output_type": "stream",
          "text": [
            "Epoch 1/200\n",
            "43/43 - 0s - 9ms/step - accuracy: 0.2118 - loss: 4.2344 - val_accuracy: 0.2235 - val_loss: 1.2629\n",
            "Epoch 2/200\n",
            "43/43 - 0s - 984us/step - accuracy: 0.2228 - loss: 3.1617 - val_accuracy: 0.2559 - val_loss: 1.1631\n",
            "Epoch 3/200\n",
            "43/43 - 0s - 955us/step - accuracy: 0.2588 - loss: 2.5485 - val_accuracy: 0.3147 - val_loss: 1.0943\n",
            "Epoch 4/200\n",
            "43/43 - 0s - 945us/step - accuracy: 0.3368 - loss: 2.2152 - val_accuracy: 0.3882 - val_loss: 1.0282\n",
            "Epoch 5/200\n",
            "43/43 - 0s - 934us/step - accuracy: 0.4103 - loss: 2.0263 - val_accuracy: 0.4618 - val_loss: 0.9726\n",
            "Epoch 6/200\n",
            "43/43 - 0s - 936us/step - accuracy: 0.5015 - loss: 1.8989 - val_accuracy: 0.5588 - val_loss: 0.9162\n",
            "Epoch 7/200\n",
            "43/43 - 0s - 955us/step - accuracy: 0.5772 - loss: 1.7983 - val_accuracy: 0.6412 - val_loss: 0.8648\n",
            "Epoch 8/200\n",
            "43/43 - 0s - 923us/step - accuracy: 0.6235 - loss: 1.7150 - val_accuracy: 0.6824 - val_loss: 0.8206\n",
            "Epoch 9/200\n",
            "43/43 - 0s - 919us/step - accuracy: 0.6544 - loss: 1.6429 - val_accuracy: 0.7235 - val_loss: 0.7773\n",
            "Epoch 10/200\n",
            "43/43 - 0s - 878us/step - accuracy: 0.6868 - loss: 1.5808 - val_accuracy: 0.7412 - val_loss: 0.7413\n",
            "Epoch 11/200\n",
            "43/43 - 0s - 921us/step - accuracy: 0.7096 - loss: 1.5265 - val_accuracy: 0.7618 - val_loss: 0.7064\n",
            "Epoch 12/200\n",
            "43/43 - 0s - 927us/step - accuracy: 0.7250 - loss: 1.4722 - val_accuracy: 0.7735 - val_loss: 0.6749\n",
            "Epoch 13/200\n",
            "43/43 - 0s - 901us/step - accuracy: 0.7412 - loss: 1.4279 - val_accuracy: 0.7794 - val_loss: 0.6509\n",
            "Epoch 14/200\n",
            "43/43 - 0s - 930us/step - accuracy: 0.7618 - loss: 1.3876 - val_accuracy: 0.7941 - val_loss: 0.6245\n",
            "Epoch 15/200\n",
            "43/43 - 0s - 988us/step - accuracy: 0.7750 - loss: 1.3487 - val_accuracy: 0.8029 - val_loss: 0.6012\n",
            "Epoch 16/200\n",
            "43/43 - 0s - 2ms/step - accuracy: 0.7860 - loss: 1.3181 - val_accuracy: 0.8088 - val_loss: 0.5808\n",
            "Epoch 17/200\n",
            "43/43 - 0s - 978us/step - accuracy: 0.7956 - loss: 1.2849 - val_accuracy: 0.8147 - val_loss: 0.5597\n",
            "Epoch 18/200\n",
            "43/43 - 0s - 1ms/step - accuracy: 0.8066 - loss: 1.2555 - val_accuracy: 0.8118 - val_loss: 0.5420\n",
            "Epoch 19/200\n",
            "43/43 - 0s - 1ms/step - accuracy: 0.8162 - loss: 1.2293 - val_accuracy: 0.8118 - val_loss: 0.5295\n",
            "Epoch 20/200\n",
            "43/43 - 0s - 2ms/step - accuracy: 0.8257 - loss: 1.2068 - val_accuracy: 0.8176 - val_loss: 0.5134\n",
            "Epoch 21/200\n",
            "43/43 - 0s - 1ms/step - accuracy: 0.8287 - loss: 1.1868 - val_accuracy: 0.8206 - val_loss: 0.4988\n",
            "Epoch 22/200\n",
            "43/43 - 0s - 971us/step - accuracy: 0.8331 - loss: 1.1670 - val_accuracy: 0.8265 - val_loss: 0.4874\n",
            "Epoch 23/200\n",
            "43/43 - 0s - 931us/step - accuracy: 0.8360 - loss: 1.1452 - val_accuracy: 0.8324 - val_loss: 0.4763\n",
            "Epoch 24/200\n",
            "43/43 - 0s - 921us/step - accuracy: 0.8375 - loss: 1.1299 - val_accuracy: 0.8294 - val_loss: 0.4648\n",
            "Epoch 25/200\n",
            "43/43 - 0s - 884us/step - accuracy: 0.8397 - loss: 1.1139 - val_accuracy: 0.8324 - val_loss: 0.4548\n",
            "Epoch 26/200\n",
            "43/43 - 0s - 945us/step - accuracy: 0.8368 - loss: 1.0965 - val_accuracy: 0.8324 - val_loss: 0.4480\n",
            "Epoch 27/200\n",
            "43/43 - 0s - 1ms/step - accuracy: 0.8397 - loss: 1.0824 - val_accuracy: 0.8382 - val_loss: 0.4394\n",
            "Epoch 28/200\n",
            "43/43 - 0s - 2ms/step - accuracy: 0.8412 - loss: 1.0693 - val_accuracy: 0.8294 - val_loss: 0.4311\n",
            "Epoch 29/200\n",
            "43/43 - 0s - 1ms/step - accuracy: 0.8404 - loss: 1.0542 - val_accuracy: 0.8324 - val_loss: 0.4234\n",
            "Epoch 30/200\n",
            "43/43 - 0s - 1ms/step - accuracy: 0.8404 - loss: 1.0440 - val_accuracy: 0.8412 - val_loss: 0.4146\n",
            "Epoch 31/200\n",
            "43/43 - 0s - 1ms/step - accuracy: 0.8397 - loss: 1.0354 - val_accuracy: 0.8412 - val_loss: 0.4095\n",
            "Epoch 32/200\n",
            "43/43 - 0s - 1ms/step - accuracy: 0.8449 - loss: 1.0216 - val_accuracy: 0.8412 - val_loss: 0.4041\n",
            "Epoch 33/200\n",
            "43/43 - 0s - 957us/step - accuracy: 0.8412 - loss: 1.0075 - val_accuracy: 0.8382 - val_loss: 0.4026\n",
            "Epoch 34/200\n",
            "43/43 - 0s - 921us/step - accuracy: 0.8441 - loss: 1.0019 - val_accuracy: 0.8441 - val_loss: 0.3982\n",
            "Epoch 35/200\n",
            "43/43 - 0s - 907us/step - accuracy: 0.8434 - loss: 0.9895 - val_accuracy: 0.8441 - val_loss: 0.3906\n",
            "Epoch 36/200\n",
            "43/43 - 0s - 932us/step - accuracy: 0.8449 - loss: 0.9808 - val_accuracy: 0.8441 - val_loss: 0.3863\n",
            "Epoch 37/200\n",
            "43/43 - 0s - 887us/step - accuracy: 0.8456 - loss: 0.9711 - val_accuracy: 0.8441 - val_loss: 0.3852\n",
            "Epoch 38/200\n",
            "43/43 - 0s - 879us/step - accuracy: 0.8449 - loss: 0.9630 - val_accuracy: 0.8412 - val_loss: 0.3806\n",
            "Epoch 39/200\n",
            "43/43 - 0s - 899us/step - accuracy: 0.8471 - loss: 0.9561 - val_accuracy: 0.8412 - val_loss: 0.3818\n",
            "Epoch 40/200\n",
            "43/43 - 0s - 900us/step - accuracy: 0.8441 - loss: 0.9438 - val_accuracy: 0.8471 - val_loss: 0.3768\n",
            "Epoch 41/200\n",
            "43/43 - 0s - 904us/step - accuracy: 0.8463 - loss: 0.9389 - val_accuracy: 0.8500 - val_loss: 0.3747\n",
            "Epoch 42/200\n",
            "43/43 - 0s - 887us/step - accuracy: 0.8537 - loss: 0.9320 - val_accuracy: 0.8500 - val_loss: 0.3685\n",
            "Epoch 43/200\n",
            "43/43 - 0s - 882us/step - accuracy: 0.8537 - loss: 0.9271 - val_accuracy: 0.8500 - val_loss: 0.3719\n",
            "Epoch 44/200\n",
            "43/43 - 0s - 886us/step - accuracy: 0.8559 - loss: 0.9198 - val_accuracy: 0.8500 - val_loss: 0.3663\n",
            "Epoch 45/200\n",
            "43/43 - 0s - 897us/step - accuracy: 0.8574 - loss: 0.9129 - val_accuracy: 0.8500 - val_loss: 0.3657\n",
            "Epoch 46/200\n",
            "43/43 - 0s - 879us/step - accuracy: 0.8544 - loss: 0.9113 - val_accuracy: 0.8500 - val_loss: 0.3651\n",
            "Epoch 47/200\n",
            "43/43 - 0s - 893us/step - accuracy: 0.8574 - loss: 0.9037 - val_accuracy: 0.8500 - val_loss: 0.3676\n",
            "Epoch 48/200\n",
            "43/43 - 0s - 902us/step - accuracy: 0.8588 - loss: 0.8984 - val_accuracy: 0.8529 - val_loss: 0.3653\n",
            "Epoch 49/200\n",
            "43/43 - 0s - 903us/step - accuracy: 0.8574 - loss: 0.8928 - val_accuracy: 0.8529 - val_loss: 0.3619\n",
            "Epoch 50/200\n",
            "43/43 - 0s - 863us/step - accuracy: 0.8596 - loss: 0.8874 - val_accuracy: 0.8529 - val_loss: 0.3585\n",
            "Epoch 51/200\n",
            "43/43 - 0s - 905us/step - accuracy: 0.8581 - loss: 0.8831 - val_accuracy: 0.8500 - val_loss: 0.3583\n",
            "Epoch 52/200\n",
            "43/43 - 0s - 889us/step - accuracy: 0.8632 - loss: 0.8785 - val_accuracy: 0.8529 - val_loss: 0.3562\n",
            "Epoch 53/200\n",
            "43/43 - 0s - 900us/step - accuracy: 0.8618 - loss: 0.8722 - val_accuracy: 0.8500 - val_loss: 0.3567\n",
            "Epoch 54/200\n",
            "43/43 - 0s - 874us/step - accuracy: 0.8610 - loss: 0.8707 - val_accuracy: 0.8529 - val_loss: 0.3586\n",
            "Epoch 55/200\n",
            "43/43 - 0s - 887us/step - accuracy: 0.8603 - loss: 0.8650 - val_accuracy: 0.8500 - val_loss: 0.3573\n",
            "Epoch 56/200\n",
            "43/43 - 0s - 911us/step - accuracy: 0.8618 - loss: 0.8595 - val_accuracy: 0.8559 - val_loss: 0.3574\n",
            "Epoch 57/200\n",
            "43/43 - 0s - 907us/step - accuracy: 0.8662 - loss: 0.8615 - val_accuracy: 0.8559 - val_loss: 0.3517\n",
            "Epoch 58/200\n",
            "43/43 - 0s - 904us/step - accuracy: 0.8625 - loss: 0.8543 - val_accuracy: 0.8559 - val_loss: 0.3553\n",
            "Epoch 59/200\n",
            "43/43 - 0s - 919us/step - accuracy: 0.8640 - loss: 0.8503 - val_accuracy: 0.8559 - val_loss: 0.3540\n",
            "Epoch 60/200\n",
            "43/43 - 0s - 919us/step - accuracy: 0.8654 - loss: 0.8442 - val_accuracy: 0.8559 - val_loss: 0.3555\n",
            "Epoch 61/200\n",
            "43/43 - 0s - 2ms/step - accuracy: 0.8640 - loss: 0.8418 - val_accuracy: 0.8559 - val_loss: 0.3545\n",
            "Epoch 62/200\n",
            "43/43 - 0s - 945us/step - accuracy: 0.8632 - loss: 0.8397 - val_accuracy: 0.8559 - val_loss: 0.3546\n",
            "Epoch 63/200\n",
            "43/43 - 0s - 909us/step - accuracy: 0.8647 - loss: 0.8344 - val_accuracy: 0.8559 - val_loss: 0.3547\n",
            "Epoch 64/200\n",
            "43/43 - 0s - 928us/step - accuracy: 0.8676 - loss: 0.8286 - val_accuracy: 0.8559 - val_loss: 0.3530\n",
            "Epoch 65/200\n",
            "43/43 - 0s - 932us/step - accuracy: 0.8647 - loss: 0.8265 - val_accuracy: 0.8559 - val_loss: 0.3548\n",
            "Epoch 66/200\n",
            "43/43 - 0s - 923us/step - accuracy: 0.8618 - loss: 0.8229 - val_accuracy: 0.8559 - val_loss: 0.3561\n",
            "Epoch 67/200\n",
            "43/43 - 0s - 946us/step - accuracy: 0.8662 - loss: 0.8203 - val_accuracy: 0.8529 - val_loss: 0.3516\n",
            "Epoch 68/200\n",
            "43/43 - 0s - 924us/step - accuracy: 0.8669 - loss: 0.8173 - val_accuracy: 0.8529 - val_loss: 0.3539\n",
            "Epoch 69/200\n",
            "43/43 - 0s - 949us/step - accuracy: 0.8662 - loss: 0.8140 - val_accuracy: 0.8529 - val_loss: 0.3550\n",
            "Epoch 70/200\n",
            "43/43 - 0s - 925us/step - accuracy: 0.8699 - loss: 0.8124 - val_accuracy: 0.8529 - val_loss: 0.3544\n",
            "Epoch 71/200\n",
            "43/43 - 0s - 913us/step - accuracy: 0.8713 - loss: 0.8082 - val_accuracy: 0.8529 - val_loss: 0.3549\n",
            "Epoch 72/200\n",
            "43/43 - 0s - 975us/step - accuracy: 0.8706 - loss: 0.8059 - val_accuracy: 0.8529 - val_loss: 0.3539\n",
            "Epoch 73/200\n",
            "43/43 - 0s - 943us/step - accuracy: 0.8721 - loss: 0.8028 - val_accuracy: 0.8529 - val_loss: 0.3543\n",
            "Epoch 74/200\n",
            "43/43 - 0s - 909us/step - accuracy: 0.8691 - loss: 0.8011 - val_accuracy: 0.8529 - val_loss: 0.3559\n",
            "Epoch 75/200\n",
            "43/43 - 0s - 912us/step - accuracy: 0.8699 - loss: 0.8013 - val_accuracy: 0.8500 - val_loss: 0.3524\n",
            "Epoch 76/200\n",
            "43/43 - 0s - 897us/step - accuracy: 0.8713 - loss: 0.7956 - val_accuracy: 0.8500 - val_loss: 0.3540\n",
            "Epoch 77/200\n",
            "43/43 - 0s - 894us/step - accuracy: 0.8691 - loss: 0.7955 - val_accuracy: 0.8500 - val_loss: 0.3558\n",
            "Epoch 78/200\n",
            "43/43 - 0s - 909us/step - accuracy: 0.8706 - loss: 0.7921 - val_accuracy: 0.8529 - val_loss: 0.3524\n",
            "Epoch 79/200\n",
            "43/43 - 0s - 1ms/step - accuracy: 0.8699 - loss: 0.7921 - val_accuracy: 0.8529 - val_loss: 0.3531\n",
            "Epoch 80/200\n",
            "43/43 - 0s - 1ms/step - accuracy: 0.8699 - loss: 0.7909 - val_accuracy: 0.8529 - val_loss: 0.3543\n",
            "Epoch 81/200\n",
            "43/43 - 0s - 1ms/step - accuracy: 0.8706 - loss: 0.7857 - val_accuracy: 0.8529 - val_loss: 0.3543\n",
            "Epoch 82/200\n",
            "43/43 - 0s - 1ms/step - accuracy: 0.8721 - loss: 0.7861 - val_accuracy: 0.8529 - val_loss: 0.3542\n",
            "Epoch 83/200\n",
            "43/43 - 0s - 1ms/step - accuracy: 0.8721 - loss: 0.7815 - val_accuracy: 0.8500 - val_loss: 0.3555\n",
            "Epoch 84/200\n",
            "43/43 - 0s - 1ms/step - accuracy: 0.8721 - loss: 0.7778 - val_accuracy: 0.8529 - val_loss: 0.3549\n",
            "Epoch 85/200\n",
            "43/43 - 0s - 1ms/step - accuracy: 0.8757 - loss: 0.7793 - val_accuracy: 0.8529 - val_loss: 0.3524\n",
            "Epoch 86/200\n",
            "43/43 - 0s - 1ms/step - accuracy: 0.8750 - loss: 0.7749 - val_accuracy: 0.8529 - val_loss: 0.3532\n",
            "Epoch 87/200\n",
            "43/43 - 0s - 1ms/step - accuracy: 0.8728 - loss: 0.7782 - val_accuracy: 0.8529 - val_loss: 0.3553\n",
            "Epoch 88/200\n",
            "43/43 - 0s - 1ms/step - accuracy: 0.8765 - loss: 0.7741 - val_accuracy: 0.8529 - val_loss: 0.3530\n",
            "Epoch 89/200\n",
            "43/43 - 0s - 973us/step - accuracy: 0.8743 - loss: 0.7687 - val_accuracy: 0.8529 - val_loss: 0.3567\n",
            "Epoch 90/200\n",
            "43/43 - 0s - 977us/step - accuracy: 0.8735 - loss: 0.7684 - val_accuracy: 0.8529 - val_loss: 0.3554\n",
            "Epoch 91/200\n",
            "43/43 - 0s - 2ms/step - accuracy: 0.8721 - loss: 0.7670 - val_accuracy: 0.8529 - val_loss: 0.3558\n",
            "Epoch 92/200\n",
            "43/43 - 0s - 980us/step - accuracy: 0.8750 - loss: 0.7650 - val_accuracy: 0.8529 - val_loss: 0.3562\n",
            "Epoch 93/200\n",
            "43/43 - 0s - 940us/step - accuracy: 0.8743 - loss: 0.7646 - val_accuracy: 0.8529 - val_loss: 0.3539\n",
            "Epoch 94/200\n",
            "43/43 - 0s - 908us/step - accuracy: 0.8787 - loss: 0.7604 - val_accuracy: 0.8529 - val_loss: 0.3532\n",
            "Epoch 95/200\n",
            "43/43 - 0s - 947us/step - accuracy: 0.8750 - loss: 0.7596 - val_accuracy: 0.8529 - val_loss: 0.3560\n",
            "Epoch 96/200\n",
            "43/43 - 0s - 929us/step - accuracy: 0.8765 - loss: 0.7567 - val_accuracy: 0.8529 - val_loss: 0.3584\n",
            "Epoch 97/200\n",
            "43/43 - 0s - 943us/step - accuracy: 0.8765 - loss: 0.7558 - val_accuracy: 0.8529 - val_loss: 0.3551\n",
            "Epoch 98/200\n",
            "43/43 - 0s - 918us/step - accuracy: 0.8765 - loss: 0.7557 - val_accuracy: 0.8529 - val_loss: 0.3553\n",
            "Epoch 99/200\n",
            "43/43 - 0s - 945us/step - accuracy: 0.8779 - loss: 0.7566 - val_accuracy: 0.8529 - val_loss: 0.3564\n",
            "Epoch 100/200\n",
            "43/43 - 0s - 902us/step - accuracy: 0.8765 - loss: 0.7531 - val_accuracy: 0.8529 - val_loss: 0.3570\n",
            "Epoch 101/200\n",
            "43/43 - 0s - 1ms/step - accuracy: 0.8772 - loss: 0.7503 - val_accuracy: 0.8529 - val_loss: 0.3610\n",
            "Epoch 102/200\n",
            "43/43 - 0s - 885us/step - accuracy: 0.8765 - loss: 0.7484 - val_accuracy: 0.8529 - val_loss: 0.3579\n",
            "Epoch 103/200\n",
            "43/43 - 0s - 909us/step - accuracy: 0.8787 - loss: 0.7487 - val_accuracy: 0.8529 - val_loss: 0.3577\n",
            "Epoch 104/200\n",
            "43/43 - 0s - 909us/step - accuracy: 0.8787 - loss: 0.7473 - val_accuracy: 0.8529 - val_loss: 0.3593\n",
            "Epoch 105/200\n",
            "43/43 - 0s - 908us/step - accuracy: 0.8765 - loss: 0.7454 - val_accuracy: 0.8529 - val_loss: 0.3584\n",
            "Epoch 106/200\n",
            "43/43 - 0s - 906us/step - accuracy: 0.8824 - loss: 0.7441 - val_accuracy: 0.8529 - val_loss: 0.3561\n",
            "Epoch 107/200\n",
            "43/43 - 0s - 904us/step - accuracy: 0.8765 - loss: 0.7410 - val_accuracy: 0.8529 - val_loss: 0.3598\n",
            "Epoch 108/200\n",
            "43/43 - 0s - 878us/step - accuracy: 0.8750 - loss: 0.7410 - val_accuracy: 0.8529 - val_loss: 0.3607\n",
            "Epoch 109/200\n",
            "43/43 - 0s - 899us/step - accuracy: 0.8765 - loss: 0.7363 - val_accuracy: 0.8529 - val_loss: 0.3601\n",
            "Epoch 110/200\n",
            "43/43 - 0s - 905us/step - accuracy: 0.8779 - loss: 0.7391 - val_accuracy: 0.8529 - val_loss: 0.3589\n",
            "Epoch 111/200\n",
            "43/43 - 0s - 906us/step - accuracy: 0.8801 - loss: 0.7346 - val_accuracy: 0.8529 - val_loss: 0.3597\n",
            "Epoch 112/200\n",
            "43/43 - 0s - 880us/step - accuracy: 0.8801 - loss: 0.7382 - val_accuracy: 0.8529 - val_loss: 0.3581\n",
            "Epoch 113/200\n",
            "43/43 - 0s - 896us/step - accuracy: 0.8765 - loss: 0.7330 - val_accuracy: 0.8529 - val_loss: 0.3641\n",
            "Epoch 114/200\n",
            "43/43 - 0s - 906us/step - accuracy: 0.8728 - loss: 0.7411 - val_accuracy: 0.8529 - val_loss: 0.3633\n",
            "Epoch 115/200\n",
            "43/43 - 0s - 931us/step - accuracy: 0.8824 - loss: 0.7331 - val_accuracy: 0.8529 - val_loss: 0.3623\n",
            "Epoch 116/200\n",
            "43/43 - 0s - 909us/step - accuracy: 0.8765 - loss: 0.7312 - val_accuracy: 0.8500 - val_loss: 0.3653\n",
            "Epoch 117/200\n",
            "43/43 - 0s - 905us/step - accuracy: 0.8801 - loss: 0.7272 - val_accuracy: 0.8529 - val_loss: 0.3619\n",
            "Epoch 118/200\n",
            "43/43 - 0s - 881us/step - accuracy: 0.8779 - loss: 0.7245 - val_accuracy: 0.8500 - val_loss: 0.3635\n",
            "Epoch 119/200\n",
            "43/43 - 0s - 897us/step - accuracy: 0.8772 - loss: 0.7300 - val_accuracy: 0.8529 - val_loss: 0.3691\n",
            "Epoch 120/200\n",
            "43/43 - 0s - 907us/step - accuracy: 0.8801 - loss: 0.7221 - val_accuracy: 0.8500 - val_loss: 0.3663\n",
            "Epoch 121/200\n",
            "43/43 - 0s - 897us/step - accuracy: 0.8779 - loss: 0.7206 - val_accuracy: 0.8500 - val_loss: 0.3626\n",
            "Epoch 122/200\n",
            "43/43 - 0s - 914us/step - accuracy: 0.8772 - loss: 0.7195 - val_accuracy: 0.8500 - val_loss: 0.3640\n",
            "Epoch 123/200\n",
            "43/43 - 0s - 932us/step - accuracy: 0.8801 - loss: 0.7218 - val_accuracy: 0.8500 - val_loss: 0.3641\n",
            "Epoch 124/200\n",
            "43/43 - 0s - 1ms/step - accuracy: 0.8809 - loss: 0.7171 - val_accuracy: 0.8500 - val_loss: 0.3641\n",
            "Epoch 125/200\n",
            "43/43 - 0s - 1ms/step - accuracy: 0.8779 - loss: 0.7163 - val_accuracy: 0.8500 - val_loss: 0.3669\n",
            "Epoch 126/200\n",
            "43/43 - 0s - 995us/step - accuracy: 0.8787 - loss: 0.7211 - val_accuracy: 0.8500 - val_loss: 0.3689\n",
            "Epoch 127/200\n",
            "43/43 - 0s - 913us/step - accuracy: 0.8779 - loss: 0.7137 - val_accuracy: 0.8500 - val_loss: 0.3657\n",
            "Epoch 128/200\n",
            "43/43 - 0s - 894us/step - accuracy: 0.8794 - loss: 0.7139 - val_accuracy: 0.8500 - val_loss: 0.3663\n",
            "Epoch 129/200\n",
            "43/43 - 0s - 917us/step - accuracy: 0.8765 - loss: 0.7105 - val_accuracy: 0.8500 - val_loss: 0.3699\n",
            "Epoch 130/200\n",
            "43/43 - 0s - 1ms/step - accuracy: 0.8816 - loss: 0.7116 - val_accuracy: 0.8500 - val_loss: 0.3654\n",
            "Epoch 131/200\n",
            "43/43 - 0s - 904us/step - accuracy: 0.8816 - loss: 0.7127 - val_accuracy: 0.8500 - val_loss: 0.3674\n",
            "Epoch 132/200\n",
            "43/43 - 0s - 910us/step - accuracy: 0.8779 - loss: 0.7103 - val_accuracy: 0.8500 - val_loss: 0.3713\n",
            "Epoch 133/200\n",
            "43/43 - 0s - 908us/step - accuracy: 0.8794 - loss: 0.7084 - val_accuracy: 0.8500 - val_loss: 0.3727\n",
            "Epoch 134/200\n",
            "43/43 - 0s - 904us/step - accuracy: 0.8772 - loss: 0.7075 - val_accuracy: 0.8500 - val_loss: 0.3729\n",
            "Epoch 135/200\n",
            "43/43 - 0s - 915us/step - accuracy: 0.8801 - loss: 0.7063 - val_accuracy: 0.8500 - val_loss: 0.3695\n",
            "Epoch 136/200\n",
            "43/43 - 0s - 941us/step - accuracy: 0.8765 - loss: 0.7038 - val_accuracy: 0.8500 - val_loss: 0.3707\n",
            "Epoch 137/200\n",
            "43/43 - 0s - 930us/step - accuracy: 0.8787 - loss: 0.7032 - val_accuracy: 0.8500 - val_loss: 0.3676\n",
            "Epoch 138/200\n",
            "43/43 - 0s - 901us/step - accuracy: 0.8779 - loss: 0.7021 - val_accuracy: 0.8500 - val_loss: 0.3698\n",
            "Epoch 139/200\n",
            "43/43 - 0s - 938us/step - accuracy: 0.8794 - loss: 0.7009 - val_accuracy: 0.8500 - val_loss: 0.3665\n",
            "Epoch 140/200\n",
            "43/43 - 0s - 896us/step - accuracy: 0.8809 - loss: 0.6993 - val_accuracy: 0.8500 - val_loss: 0.3665\n",
            "Epoch 141/200\n",
            "43/43 - 0s - 911us/step - accuracy: 0.8809 - loss: 0.6974 - val_accuracy: 0.8500 - val_loss: 0.3679\n",
            "Epoch 142/200\n",
            "43/43 - 0s - 888us/step - accuracy: 0.8772 - loss: 0.6969 - val_accuracy: 0.8500 - val_loss: 0.3688\n",
            "Epoch 143/200\n",
            "43/43 - 0s - 898us/step - accuracy: 0.8765 - loss: 0.6929 - val_accuracy: 0.8500 - val_loss: 0.3694\n",
            "Epoch 144/200\n",
            "43/43 - 0s - 926us/step - accuracy: 0.8816 - loss: 0.6924 - val_accuracy: 0.8500 - val_loss: 0.3700\n",
            "Epoch 145/200\n",
            "43/43 - 0s - 897us/step - accuracy: 0.8787 - loss: 0.6927 - val_accuracy: 0.8500 - val_loss: 0.3692\n",
            "Epoch 146/200\n",
            "43/43 - 0s - 905us/step - accuracy: 0.8772 - loss: 0.6940 - val_accuracy: 0.8500 - val_loss: 0.3707\n",
            "Epoch 147/200\n",
            "43/43 - 0s - 901us/step - accuracy: 0.8809 - loss: 0.6921 - val_accuracy: 0.8500 - val_loss: 0.3691\n",
            "Epoch 148/200\n",
            "43/43 - 0s - 892us/step - accuracy: 0.8816 - loss: 0.6903 - val_accuracy: 0.8500 - val_loss: 0.3715\n",
            "Epoch 149/200\n",
            "43/43 - 0s - 907us/step - accuracy: 0.8787 - loss: 0.6890 - val_accuracy: 0.8500 - val_loss: 0.3738\n",
            "Epoch 150/200\n",
            "43/43 - 0s - 900us/step - accuracy: 0.8779 - loss: 0.6881 - val_accuracy: 0.8500 - val_loss: 0.3708\n",
            "Epoch 151/200\n",
            "43/43 - 0s - 903us/step - accuracy: 0.8801 - loss: 0.6849 - val_accuracy: 0.8500 - val_loss: 0.3718\n",
            "Epoch 152/200\n",
            "43/43 - 0s - 897us/step - accuracy: 0.8809 - loss: 0.6844 - val_accuracy: 0.8500 - val_loss: 0.3771\n",
            "Epoch 153/200\n",
            "43/43 - 0s - 896us/step - accuracy: 0.8801 - loss: 0.6834 - val_accuracy: 0.8500 - val_loss: 0.3724\n",
            "Epoch 154/200\n",
            "43/43 - 0s - 907us/step - accuracy: 0.8794 - loss: 0.6843 - val_accuracy: 0.8500 - val_loss: 0.3727\n",
            "Epoch 155/200\n",
            "43/43 - 0s - 901us/step - accuracy: 0.8816 - loss: 0.6805 - val_accuracy: 0.8500 - val_loss: 0.3718\n",
            "Epoch 156/200\n",
            "43/43 - 0s - 890us/step - accuracy: 0.8801 - loss: 0.6791 - val_accuracy: 0.8500 - val_loss: 0.3723\n",
            "Epoch 157/200\n",
            "43/43 - 0s - 882us/step - accuracy: 0.8801 - loss: 0.6771 - val_accuracy: 0.8500 - val_loss: 0.3737\n",
            "Epoch 158/200\n",
            "43/43 - 0s - 907us/step - accuracy: 0.8801 - loss: 0.6768 - val_accuracy: 0.8500 - val_loss: 0.3722\n",
            "Epoch 159/200\n",
            "43/43 - 0s - 902us/step - accuracy: 0.8794 - loss: 0.6778 - val_accuracy: 0.8500 - val_loss: 0.3717\n",
            "Epoch 160/200\n",
            "43/43 - 0s - 916us/step - accuracy: 0.8801 - loss: 0.6738 - val_accuracy: 0.8500 - val_loss: 0.3709\n",
            "Epoch 161/200\n",
            "43/43 - 0s - 909us/step - accuracy: 0.8794 - loss: 0.6730 - val_accuracy: 0.8500 - val_loss: 0.3735\n",
            "Epoch 162/200\n",
            "43/43 - 0s - 905us/step - accuracy: 0.8824 - loss: 0.6705 - val_accuracy: 0.8529 - val_loss: 0.3727\n",
            "Epoch 163/200\n",
            "43/43 - 0s - 901us/step - accuracy: 0.8831 - loss: 0.6696 - val_accuracy: 0.8500 - val_loss: 0.3723\n",
            "Epoch 164/200\n",
            "43/43 - 0s - 913us/step - accuracy: 0.8794 - loss: 0.6688 - val_accuracy: 0.8500 - val_loss: 0.3731\n",
            "Epoch 165/200\n",
            "43/43 - 0s - 926us/step - accuracy: 0.8779 - loss: 0.6656 - val_accuracy: 0.8529 - val_loss: 0.3755\n",
            "Epoch 166/200\n",
            "43/43 - 0s - 912us/step - accuracy: 0.8816 - loss: 0.6639 - val_accuracy: 0.8529 - val_loss: 0.3741\n",
            "Epoch 167/200\n",
            "43/43 - 0s - 1ms/step - accuracy: 0.8816 - loss: 0.6636 - val_accuracy: 0.8529 - val_loss: 0.3749\n",
            "Epoch 168/200\n",
            "43/43 - 0s - 1ms/step - accuracy: 0.8801 - loss: 0.6625 - val_accuracy: 0.8529 - val_loss: 0.3750\n",
            "Epoch 169/200\n",
            "43/43 - 0s - 912us/step - accuracy: 0.8831 - loss: 0.6630 - val_accuracy: 0.8529 - val_loss: 0.3765\n",
            "Epoch 170/200\n",
            "43/43 - 0s - 913us/step - accuracy: 0.8831 - loss: 0.6616 - val_accuracy: 0.8529 - val_loss: 0.3757\n",
            "Epoch 171/200\n",
            "43/43 - 0s - 935us/step - accuracy: 0.8824 - loss: 0.6600 - val_accuracy: 0.8529 - val_loss: 0.3747\n",
            "Epoch 172/200\n",
            "43/43 - 0s - 905us/step - accuracy: 0.8824 - loss: 0.6565 - val_accuracy: 0.8500 - val_loss: 0.3791\n",
            "Epoch 173/200\n",
            "43/43 - 0s - 899us/step - accuracy: 0.8824 - loss: 0.6547 - val_accuracy: 0.8529 - val_loss: 0.3765\n",
            "Epoch 174/200\n",
            "43/43 - 0s - 937us/step - accuracy: 0.8824 - loss: 0.6531 - val_accuracy: 0.8529 - val_loss: 0.3764\n",
            "Epoch 175/200\n",
            "43/43 - 0s - 1ms/step - accuracy: 0.8831 - loss: 0.6498 - val_accuracy: 0.8529 - val_loss: 0.3737\n",
            "Epoch 176/200\n",
            "43/43 - 0s - 996us/step - accuracy: 0.8846 - loss: 0.6509 - val_accuracy: 0.8529 - val_loss: 0.3723\n",
            "Epoch 177/200\n",
            "43/43 - 0s - 985us/step - accuracy: 0.8831 - loss: 0.6505 - val_accuracy: 0.8529 - val_loss: 0.3782\n",
            "Epoch 178/200\n",
            "43/43 - 0s - 1ms/step - accuracy: 0.8831 - loss: 0.6471 - val_accuracy: 0.8529 - val_loss: 0.3772\n",
            "Epoch 179/200\n",
            "43/43 - 0s - 1ms/step - accuracy: 0.8868 - loss: 0.6453 - val_accuracy: 0.8529 - val_loss: 0.3764\n",
            "Epoch 180/200\n",
            "43/43 - 0s - 1ms/step - accuracy: 0.8853 - loss: 0.6419 - val_accuracy: 0.8529 - val_loss: 0.3756\n",
            "Epoch 181/200\n",
            "43/43 - 0s - 966us/step - accuracy: 0.8860 - loss: 0.6409 - val_accuracy: 0.8529 - val_loss: 0.3763\n",
            "Epoch 182/200\n",
            "43/43 - 0s - 1ms/step - accuracy: 0.8838 - loss: 0.6417 - val_accuracy: 0.8529 - val_loss: 0.3789\n",
            "Epoch 183/200\n",
            "43/43 - 0s - 977us/step - accuracy: 0.8853 - loss: 0.6397 - val_accuracy: 0.8559 - val_loss: 0.3796\n",
            "Epoch 184/200\n",
            "43/43 - 0s - 984us/step - accuracy: 0.8860 - loss: 0.6402 - val_accuracy: 0.8559 - val_loss: 0.3798\n",
            "Epoch 185/200\n",
            "43/43 - 0s - 997us/step - accuracy: 0.8860 - loss: 0.6365 - val_accuracy: 0.8559 - val_loss: 0.3798\n",
            "Epoch 186/200\n",
            "43/43 - 0s - 962us/step - accuracy: 0.8846 - loss: 0.6354 - val_accuracy: 0.8529 - val_loss: 0.3795\n",
            "Epoch 187/200\n",
            "43/43 - 0s - 965us/step - accuracy: 0.8853 - loss: 0.6331 - val_accuracy: 0.8529 - val_loss: 0.3791\n",
            "Epoch 188/200\n",
            "43/43 - 0s - 2ms/step - accuracy: 0.8860 - loss: 0.6308 - val_accuracy: 0.8559 - val_loss: 0.3833\n",
            "Epoch 189/200\n",
            "43/43 - 0s - 966us/step - accuracy: 0.8838 - loss: 0.6333 - val_accuracy: 0.8559 - val_loss: 0.3801\n",
            "Epoch 190/200\n",
            "43/43 - 0s - 951us/step - accuracy: 0.8868 - loss: 0.6336 - val_accuracy: 0.8559 - val_loss: 0.3816\n",
            "Epoch 191/200\n",
            "43/43 - 0s - 942us/step - accuracy: 0.8831 - loss: 0.6288 - val_accuracy: 0.8559 - val_loss: 0.3785\n",
            "Epoch 192/200\n",
            "43/43 - 0s - 916us/step - accuracy: 0.8860 - loss: 0.6270 - val_accuracy: 0.8559 - val_loss: 0.3832\n",
            "Epoch 193/200\n",
            "43/43 - 0s - 929us/step - accuracy: 0.8853 - loss: 0.6296 - val_accuracy: 0.8529 - val_loss: 0.3805\n",
            "Epoch 194/200\n",
            "43/43 - 0s - 908us/step - accuracy: 0.8868 - loss: 0.6229 - val_accuracy: 0.8559 - val_loss: 0.3819\n",
            "Epoch 195/200\n",
            "43/43 - 0s - 871us/step - accuracy: 0.8853 - loss: 0.6241 - val_accuracy: 0.8559 - val_loss: 0.3839\n",
            "Epoch 196/200\n",
            "43/43 - 0s - 916us/step - accuracy: 0.8853 - loss: 0.6266 - val_accuracy: 0.8559 - val_loss: 0.3827\n",
            "Epoch 197/200\n",
            "43/43 - 0s - 892us/step - accuracy: 0.8846 - loss: 0.6201 - val_accuracy: 0.8559 - val_loss: 0.3847\n",
            "Epoch 198/200\n",
            "43/43 - 0s - 898us/step - accuracy: 0.8875 - loss: 0.6190 - val_accuracy: 0.8559 - val_loss: 0.3833\n",
            "Epoch 199/200\n",
            "43/43 - 0s - 910us/step - accuracy: 0.8860 - loss: 0.6228 - val_accuracy: 0.8618 - val_loss: 0.3832\n",
            "Epoch 200/200\n",
            "43/43 - 0s - 882us/step - accuracy: 0.8860 - loss: 0.6204 - val_accuracy: 0.8588 - val_loss: 0.3867\n"
          ]
        }
      ],
      "source": [
        "history = model.fit(x_train, np.asarray( y_train), batch_size = 32, epochs= 200, verbose=2, class_weight=class_weights, validation_split=0.2)"
      ]
    },
    {
      "cell_type": "code",
      "execution_count": 16,
      "metadata": {
        "colab": {
          "base_uri": "https://localhost:8080/",
          "height": 470
        },
        "id": "MYDOjgIR0CG4",
        "outputId": "2ddab8ec-24d6-4170-d8a3-cb5a2a5928aa"
      },
      "outputs": [
        {
          "data": {
            "text/plain": [
              "<matplotlib.legend.Legend at 0x316694dd0>"
            ]
          },
          "execution_count": 16,
          "metadata": {},
          "output_type": "execute_result"
        },
        {
          "data": {
            "image/png": "[encoded data removed]",
            "text/plain": [
              "<Figure size 640x480 with 1 Axes>"
            ]
          },
          "metadata": {},
          "output_type": "display_data"
        }
      ],
      "source": [
        "accuracy = history.history['accuracy']\n",
        "validation_accuracy = history.history['val_accuracy']\n",
        "plt.plot(accuracy, label='Training Accuracy')\n",
        "plt.plot(validation_accuracy, label='Validation Set Accuracy')\n",
        "#plt.xlabel('Epochs')\n",
        "plt.ylabel('Accuracy')\n",
        "plt.ylim([min(plt.ylim()),1])\n",
        "plt.title(\"Training and Validation Accuracy Across Epochs\")\n",
        "plt.legend()"
      ]
    },
    {
      "cell_type": "code",
      "execution_count": 17,
      "metadata": {
        "colab": {
          "base_uri": "https://localhost:8080/",
          "height": 470
        },
        "id": "eppEHTS1-aUC",
        "outputId": "063f0ed4-29bd-427a-e30c-3b0066b8a135"
      },
      "outputs": [
        {
          "data": {
            "text/plain": [
              "<matplotlib.legend.Legend at 0x31a811fa0>"
            ]
          },
          "execution_count": 17,
          "metadata": {},
          "output_type": "execute_result"
        },
        {
          "data": {
            "image/png": "[encoded data removed]",
            "text/plain": [
              "<Figure size 640x480 with 1 Axes>"
            ]
          },
          "metadata": {},
          "output_type": "display_data"
        }
      ],
      "source": [
        "loss = history.history['loss']\n",
        "validation_loss = history.history['val_loss']\n",
        "\n",
        "plt.plot(loss, label='Training Set Loss')\n",
        "plt.plot(validation_loss, label='Validation Set Loss')\n",
        "plt.ylabel('Loss')\n",
        "plt.title(\"Training and Validation Loss Across Epochs\")\n",
        "plt.legend()"
      ]
    },
    {
      "cell_type": "code",
      "execution_count": 18,
      "metadata": {
        "id": "fp7Ix-t3_B-6"
      },
      "outputs": [],
      "source": [
        "from sklearn.metrics import confusion_matrix, classification_report"
      ]
    },
    {
      "cell_type": "code",
      "execution_count": 19,
      "metadata": {
        "colab": {
          "base_uri": "https://localhost:8080/"
        },
        "id": "35IKowLt_H1s",
        "outputId": "dac0b19c-25f2-4a53-d013-3654ccadf858"
      },
      "outputs": [
        {
          "name": "stdout",
          "output_type": "stream",
          "text": [
            "\u001b[1m14/14\u001b[0m \u001b[32m━━━━━━━━━━━━━━━━━━━━\u001b[0m\u001b[37m\u001b[0m \u001b[1m0s\u001b[0m 1ms/step  \n"
          ]
        }
      ],
      "source": [
        "y_pred = model.predict(x_test)\n",
        "y_pred = np.argmax(y_pred, axis=1)"
      ]
    },
    {
      "cell_type": "code",
      "execution_count": 20,
      "metadata": {
        "colab": {
          "base_uri": "https://localhost:8080/",
          "height": 476
        },
        "id": "e5lOXA3q_KUQ",
        "outputId": "ab4782a8-181b-4dcf-8d7e-88d49c01a589"
      },
      "outputs": [
        {
          "data": {
            "image/png": "[encoded data removed]",
            "text/plain": [
              "<Figure size 640x480 with 2 Axes>"
            ]
          },
          "metadata": {},
          "output_type": "display_data"
        }
      ],
      "source": [
        "cm = confusion_matrix(y_test, y_pred)\n",
        "\n",
        "ax = sns.heatmap(cm, cmap='flare', annot=True, fmt='d')\n",
        "\n",
        "plt.xlabel(\"Predicted Class\", fontsize = 12)\n",
        "plt.ylabel(\"Actual Class\", fontsize = 12)\n",
        "plt.title(\"Confusion Matrix\", fontsize = 12)\n",
        "plt.show()"
      ]
    },
    {
      "cell_type": "code",
      "execution_count": 21,
      "metadata": {
        "colab": {
          "base_uri": "https://localhost:8080/"
        },
        "id": "UwdVZd70_Vth",
        "outputId": "02b04d92-7eed-4025-dfc7-cbd556b24ed6"
      },
      "outputs": [
        {
          "name": "stdout",
          "output_type": "stream",
          "text": [
            "              precision    recall  f1-score   support\n",
            "\n",
            "           0       0.97      0.86      0.91       332\n",
            "           1       0.49      0.76      0.60        59\n",
            "           2       0.68      0.80      0.74        35\n",
            "\n",
            "    accuracy                           0.84       426\n",
            "   macro avg       0.71      0.81      0.75       426\n",
            "weighted avg       0.88      0.84      0.85       426\n",
            "\n"
          ]
        }
      ],
      "source": [
        "print(classification_report(y_test,y_pred))"
      ]
    },
    {
      "cell_type": "code",
      "execution_count": null,
      "metadata": {
        "id": "IspT22gaBZYy"
      },
      "outputs": [],
      "source": []
    }
  ],
  "metadata": {
    "accelerator": "GPU",
    "colab": {
      "gpuType": "T4",
      "provenance": []
    },
    "kernelspec": {
      "display_name": "mldmenv2",
      "language": "python",
      "name": "python3"
    },
    "language_info": {
      "codemirror_mode": {
        "name": "ipython",
        "version": 3
      },
      "file_extension": ".py",
      "mimetype": "text/x-python",
      "name": "python",
      "nbconvert_exporter": "python",
      "pygments_lexer": "ipython3",
      "version": "3.12.4"
    }
  },
  "nbformat": 4,
  "nbformat_minor": 0
}
