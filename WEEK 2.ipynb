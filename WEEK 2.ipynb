{
 "cells": [
  {
   "cell_type": "code",
   "execution_count": 1,
   "id": "9cef7a44-18fc-4254-b471-33c928418bf1",
   "metadata": {},
   "outputs": [],
   "source": [
    "import pandas as pd"
   ]
  },
  {
   "cell_type": "code",
   "execution_count": 2,
   "id": "16848624-a89f-4664-88eb-65388886ca1e",
   "metadata": {},
   "outputs": [],
   "source": [
    "df = pd.read_csv(\"Car_Insurance.csv\")"
   ]
  },
  {
   "cell_type": "code",
   "execution_count": 3,
   "id": "26de174d-1e4f-4cf3-ab7b-2e87b445aa4c",
   "metadata": {},
   "outputs": [
    {
     "data": {
      "text/html": [
       "<div>\n",
       "<style scoped>\n",
       "    .dataframe tbody tr th:only-of-type {\n",
       "        vertical-align: middle;\n",
       "    }\n",
       "\n",
       "    .dataframe tbody tr th {\n",
       "        vertical-align: top;\n",
       "    }\n",
       "\n",
       "    .dataframe thead th {\n",
       "        text-align: right;\n",
       "    }\n",
       "</style>\n",
       "<table border=\"1\" class=\"dataframe\">\n",
       "  <thead>\n",
       "    <tr style=\"text-align: right;\">\n",
       "      <th></th>\n",
       "      <th>Make</th>\n",
       "      <th>Age</th>\n",
       "      <th>Mileage</th>\n",
       "      <th>Fuel</th>\n",
       "      <th>Gearbox</th>\n",
       "      <th>Colour</th>\n",
       "      <th>Claimed</th>\n",
       "    </tr>\n",
       "  </thead>\n",
       "  <tbody>\n",
       "    <tr>\n",
       "      <th>0</th>\n",
       "      <td>Toyota</td>\n",
       "      <td>2.0</td>\n",
       "      <td>27000.0</td>\n",
       "      <td>P</td>\n",
       "      <td>A</td>\n",
       "      <td>Red</td>\n",
       "      <td>Yes</td>\n",
       "    </tr>\n",
       "    <tr>\n",
       "      <th>1</th>\n",
       "      <td>Ford</td>\n",
       "      <td>4.0</td>\n",
       "      <td>30500.0</td>\n",
       "      <td>P</td>\n",
       "      <td>M</td>\n",
       "      <td>Black</td>\n",
       "      <td>Yes</td>\n",
       "    </tr>\n",
       "    <tr>\n",
       "      <th>2</th>\n",
       "      <td>Toyota</td>\n",
       "      <td>15.0</td>\n",
       "      <td>120000.0</td>\n",
       "      <td>D</td>\n",
       "      <td>A</td>\n",
       "      <td>White</td>\n",
       "      <td>No</td>\n",
       "    </tr>\n",
       "    <tr>\n",
       "      <th>3</th>\n",
       "      <td>Nissan</td>\n",
       "      <td>13.0</td>\n",
       "      <td>53000.0</td>\n",
       "      <td>D</td>\n",
       "      <td>M</td>\n",
       "      <td>White</td>\n",
       "      <td>No</td>\n",
       "    </tr>\n",
       "    <tr>\n",
       "      <th>4</th>\n",
       "      <td>Nissan</td>\n",
       "      <td>2.0</td>\n",
       "      <td>NaN</td>\n",
       "      <td>D</td>\n",
       "      <td>M</td>\n",
       "      <td>Black</td>\n",
       "      <td>No</td>\n",
       "    </tr>\n",
       "    <tr>\n",
       "      <th>5</th>\n",
       "      <td>Ford</td>\n",
       "      <td>8.0</td>\n",
       "      <td>73000.0</td>\n",
       "      <td>NaN</td>\n",
       "      <td>M</td>\n",
       "      <td>Green</td>\n",
       "      <td>No</td>\n",
       "    </tr>\n",
       "    <tr>\n",
       "      <th>6</th>\n",
       "      <td>Toyota</td>\n",
       "      <td>NaN</td>\n",
       "      <td>138000.0</td>\n",
       "      <td>P</td>\n",
       "      <td>M</td>\n",
       "      <td>NaN</td>\n",
       "      <td>Yes</td>\n",
       "    </tr>\n",
       "    <tr>\n",
       "      <th>7</th>\n",
       "      <td>Nissan</td>\n",
       "      <td>20.0</td>\n",
       "      <td>38000.0</td>\n",
       "      <td>D</td>\n",
       "      <td>NaN</td>\n",
       "      <td>Green</td>\n",
       "      <td>Yes</td>\n",
       "    </tr>\n",
       "    <tr>\n",
       "      <th>8</th>\n",
       "      <td>Toyota</td>\n",
       "      <td>13.0</td>\n",
       "      <td>67000.0</td>\n",
       "      <td>D</td>\n",
       "      <td>A</td>\n",
       "      <td>Blue</td>\n",
       "      <td>No</td>\n",
       "    </tr>\n",
       "    <tr>\n",
       "      <th>9</th>\n",
       "      <td>Nissan</td>\n",
       "      <td>7.0</td>\n",
       "      <td>36000.0</td>\n",
       "      <td>P</td>\n",
       "      <td>M</td>\n",
       "      <td>Black</td>\n",
       "      <td>Yes</td>\n",
       "    </tr>\n",
       "  </tbody>\n",
       "</table>\n",
       "</div>"
      ],
      "text/plain": [
       "     Make   Age   Mileage Fuel Gearbox Colour Claimed\n",
       "0  Toyota   2.0   27000.0    P       A    Red     Yes\n",
       "1    Ford   4.0   30500.0    P       M  Black     Yes\n",
       "2  Toyota  15.0  120000.0    D       A  White      No\n",
       "3  Nissan  13.0   53000.0    D       M  White      No\n",
       "4  Nissan   2.0       NaN    D       M  Black      No\n",
       "5    Ford   8.0   73000.0  NaN       M  Green      No\n",
       "6  Toyota   NaN  138000.0    P       M    NaN     Yes\n",
       "7  Nissan  20.0   38000.0    D     NaN  Green     Yes\n",
       "8  Toyota  13.0   67000.0    D       A   Blue      No\n",
       "9  Nissan   7.0   36000.0    P       M  Black     Yes"
      ]
     },
     "execution_count": 3,
     "metadata": {},
     "output_type": "execute_result"
    }
   ],
   "source": [
    "df"
   ]
  },
  {
   "cell_type": "code",
   "execution_count": 4,
   "id": "05e7ef87-1162-4389-9c5d-fdc82908bb28",
   "metadata": {},
   "outputs": [
    {
     "data": {
      "text/html": [
       "<div>\n",
       "<style scoped>\n",
       "    .dataframe tbody tr th:only-of-type {\n",
       "        vertical-align: middle;\n",
       "    }\n",
       "\n",
       "    .dataframe tbody tr th {\n",
       "        vertical-align: top;\n",
       "    }\n",
       "\n",
       "    .dataframe thead th {\n",
       "        text-align: right;\n",
       "    }\n",
       "</style>\n",
       "<table border=\"1\" class=\"dataframe\">\n",
       "  <thead>\n",
       "    <tr style=\"text-align: right;\">\n",
       "      <th></th>\n",
       "      <th>Make</th>\n",
       "      <th>Age</th>\n",
       "      <th>Mileage</th>\n",
       "      <th>Fuel</th>\n",
       "      <th>Gearbox</th>\n",
       "      <th>Colour</th>\n",
       "      <th>Claimed</th>\n",
       "    </tr>\n",
       "  </thead>\n",
       "  <tbody>\n",
       "    <tr>\n",
       "      <th>0</th>\n",
       "      <td>Toyota</td>\n",
       "      <td>2.0</td>\n",
       "      <td>27000.0</td>\n",
       "      <td>P</td>\n",
       "      <td>A</td>\n",
       "      <td>Red</td>\n",
       "      <td>Yes</td>\n",
       "    </tr>\n",
       "    <tr>\n",
       "      <th>1</th>\n",
       "      <td>Ford</td>\n",
       "      <td>4.0</td>\n",
       "      <td>30500.0</td>\n",
       "      <td>P</td>\n",
       "      <td>M</td>\n",
       "      <td>Black</td>\n",
       "      <td>Yes</td>\n",
       "    </tr>\n",
       "    <tr>\n",
       "      <th>2</th>\n",
       "      <td>Toyota</td>\n",
       "      <td>15.0</td>\n",
       "      <td>120000.0</td>\n",
       "      <td>D</td>\n",
       "      <td>A</td>\n",
       "      <td>White</td>\n",
       "      <td>No</td>\n",
       "    </tr>\n",
       "    <tr>\n",
       "      <th>3</th>\n",
       "      <td>Nissan</td>\n",
       "      <td>13.0</td>\n",
       "      <td>53000.0</td>\n",
       "      <td>D</td>\n",
       "      <td>M</td>\n",
       "      <td>White</td>\n",
       "      <td>No</td>\n",
       "    </tr>\n",
       "    <tr>\n",
       "      <th>4</th>\n",
       "      <td>Nissan</td>\n",
       "      <td>2.0</td>\n",
       "      <td>NaN</td>\n",
       "      <td>D</td>\n",
       "      <td>M</td>\n",
       "      <td>Black</td>\n",
       "      <td>No</td>\n",
       "    </tr>\n",
       "    <tr>\n",
       "      <th>5</th>\n",
       "      <td>Ford</td>\n",
       "      <td>8.0</td>\n",
       "      <td>73000.0</td>\n",
       "      <td>NaN</td>\n",
       "      <td>M</td>\n",
       "      <td>Green</td>\n",
       "      <td>No</td>\n",
       "    </tr>\n",
       "    <tr>\n",
       "      <th>6</th>\n",
       "      <td>Toyota</td>\n",
       "      <td>NaN</td>\n",
       "      <td>138000.0</td>\n",
       "      <td>P</td>\n",
       "      <td>M</td>\n",
       "      <td>NaN</td>\n",
       "      <td>Yes</td>\n",
       "    </tr>\n",
       "    <tr>\n",
       "      <th>7</th>\n",
       "      <td>Nissan</td>\n",
       "      <td>20.0</td>\n",
       "      <td>38000.0</td>\n",
       "      <td>D</td>\n",
       "      <td>NaN</td>\n",
       "      <td>Green</td>\n",
       "      <td>Yes</td>\n",
       "    </tr>\n",
       "    <tr>\n",
       "      <th>8</th>\n",
       "      <td>Toyota</td>\n",
       "      <td>13.0</td>\n",
       "      <td>67000.0</td>\n",
       "      <td>D</td>\n",
       "      <td>A</td>\n",
       "      <td>Blue</td>\n",
       "      <td>No</td>\n",
       "    </tr>\n",
       "    <tr>\n",
       "      <th>9</th>\n",
       "      <td>Nissan</td>\n",
       "      <td>7.0</td>\n",
       "      <td>36000.0</td>\n",
       "      <td>P</td>\n",
       "      <td>M</td>\n",
       "      <td>Black</td>\n",
       "      <td>Yes</td>\n",
       "    </tr>\n",
       "  </tbody>\n",
       "</table>\n",
       "</div>"
      ],
      "text/plain": [
       "     Make   Age   Mileage Fuel Gearbox Colour Claimed\n",
       "0  Toyota   2.0   27000.0    P       A    Red     Yes\n",
       "1    Ford   4.0   30500.0    P       M  Black     Yes\n",
       "2  Toyota  15.0  120000.0    D       A  White      No\n",
       "3  Nissan  13.0   53000.0    D       M  White      No\n",
       "4  Nissan   2.0       NaN    D       M  Black      No\n",
       "5    Ford   8.0   73000.0  NaN       M  Green      No\n",
       "6  Toyota   NaN  138000.0    P       M    NaN     Yes\n",
       "7  Nissan  20.0   38000.0    D     NaN  Green     Yes\n",
       "8  Toyota  13.0   67000.0    D       A   Blue      No\n",
       "9  Nissan   7.0   36000.0    P       M  Black     Yes"
      ]
     },
     "execution_count": 4,
     "metadata": {},
     "output_type": "execute_result"
    }
   ],
   "source": [
    "df.iloc[:,:]"
   ]
  },
  {
   "cell_type": "code",
   "execution_count": 5,
   "id": "35fcd044-9c1e-4189-8521-b0029f888624",
   "metadata": {},
   "outputs": [
    {
     "data": {
      "text/plain": [
       "0    Toyota\n",
       "1      Ford\n",
       "2    Toyota\n",
       "3    Nissan\n",
       "4    Nissan\n",
       "5      Ford\n",
       "6    Toyota\n",
       "7    Nissan\n",
       "8    Toyota\n",
       "9    Nissan\n",
       "Name: Make, dtype: object"
      ]
     },
     "execution_count": 5,
     "metadata": {},
     "output_type": "execute_result"
    }
   ],
   "source": [
    "df.iloc[:,0]"
   ]
  },
  {
   "cell_type": "code",
   "execution_count": 6,
   "id": "0f8ad16e-79dd-4e7b-9e6b-58508dc5088b",
   "metadata": {},
   "outputs": [
    {
     "data": {
      "text/plain": [
       "Make          Ford\n",
       "Age            4.0\n",
       "Mileage    30500.0\n",
       "Fuel             P\n",
       "Gearbox          M\n",
       "Colour       Black\n",
       "Claimed        Yes\n",
       "Name: 1, dtype: object"
      ]
     },
     "execution_count": 6,
     "metadata": {},
     "output_type": "execute_result"
    }
   ],
   "source": [
    "df.iloc[1]"
   ]
  },
  {
   "cell_type": "code",
   "execution_count": 7,
   "id": "a5806b6e-49f9-4c40-8d4e-e5b1740ec9ac",
   "metadata": {},
   "outputs": [
    {
     "data": {
      "text/plain": [
       "'Toyota'"
      ]
     },
     "execution_count": 7,
     "metadata": {},
     "output_type": "execute_result"
    }
   ],
   "source": [
    "df.iloc[2,0]"
   ]
  },
  {
   "cell_type": "code",
   "execution_count": 8,
   "id": "eb8f114c-03df-4d93-817a-0bae0a92569c",
   "metadata": {},
   "outputs": [
    {
     "data": {
      "text/plain": [
       "0     2.0\n",
       "1     4.0\n",
       "2    15.0\n",
       "3    13.0\n",
       "4     2.0\n",
       "5     8.0\n",
       "6     NaN\n",
       "7    20.0\n",
       "8    13.0\n",
       "9     7.0\n",
       "Name: Age, dtype: float64"
      ]
     },
     "execution_count": 8,
     "metadata": {},
     "output_type": "execute_result"
    }
   ],
   "source": [
    "df['Age']"
   ]
  },
  {
   "cell_type": "code",
   "execution_count": 9,
   "id": "167f71d4-1513-40ba-b9be-a54d019eda8b",
   "metadata": {},
   "outputs": [
    {
     "data": {
      "text/plain": [
       "0     2.0\n",
       "1     4.0\n",
       "2    15.0\n",
       "3    13.0\n",
       "4     2.0\n",
       "5     8.0\n",
       "6     NaN\n",
       "7    20.0\n",
       "8    13.0\n",
       "9     7.0\n",
       "Name: Age, dtype: float64"
      ]
     },
     "execution_count": 9,
     "metadata": {},
     "output_type": "execute_result"
    }
   ],
   "source": [
    "df.Age"
   ]
  },
  {
   "cell_type": "code",
   "execution_count": 10,
   "id": "f328d8ff-58be-4b13-ba1d-9d20f044f777",
   "metadata": {},
   "outputs": [
    {
     "data": {
      "text/plain": [
       "Make\n",
       "Toyota    4\n",
       "Nissan    4\n",
       "Ford      2\n",
       "Name: count, dtype: int64"
      ]
     },
     "execution_count": 10,
     "metadata": {},
     "output_type": "execute_result"
    }
   ],
   "source": [
    "df.iloc[:,0].value_counts()"
   ]
  },
  {
   "cell_type": "code",
   "execution_count": 11,
   "id": "3c71567f-7ef1-46ea-ad95-e8cac896f4dd",
   "metadata": {},
   "outputs": [
    {
     "data": {
      "text/plain": [
       "0    False\n",
       "1    False\n",
       "2    False\n",
       "3     True\n",
       "4     True\n",
       "5    False\n",
       "6    False\n",
       "7     True\n",
       "8    False\n",
       "9     True\n",
       "Name: Make, dtype: bool"
      ]
     },
     "execution_count": 11,
     "metadata": {},
     "output_type": "execute_result"
    }
   ],
   "source": [
    "df.iloc[:,0].isin(['Nissan'])"
   ]
  },
  {
   "cell_type": "code",
   "execution_count": 12,
   "id": "a4b80d69-7686-4ea4-ad82-0adac121578f",
   "metadata": {},
   "outputs": [
    {
     "data": {
      "text/plain": [
       "0     2.0\n",
       "4     2.0\n",
       "1     4.0\n",
       "9     7.0\n",
       "5     8.0\n",
       "3    13.0\n",
       "8    13.0\n",
       "2    15.0\n",
       "7    20.0\n",
       "6     NaN\n",
       "Name: Age, dtype: float64"
      ]
     },
     "execution_count": 12,
     "metadata": {},
     "output_type": "execute_result"
    }
   ],
   "source": [
    "df.iloc[:,1].sort_values()"
   ]
  },
  {
   "cell_type": "code",
   "execution_count": 13,
   "id": "abaceaab-3d1b-4c25-824d-94254c0244dd",
   "metadata": {},
   "outputs": [
    {
     "data": {
      "text/plain": [
       "7    20.0\n",
       "2    15.0\n",
       "3    13.0\n",
       "8    13.0\n",
       "5     8.0\n",
       "9     7.0\n",
       "1     4.0\n",
       "0     2.0\n",
       "4     2.0\n",
       "6     NaN\n",
       "Name: Age, dtype: float64"
      ]
     },
     "execution_count": 13,
     "metadata": {},
     "output_type": "execute_result"
    }
   ],
   "source": [
    "df.iloc[:,1].sort_values(ascending=False)"
   ]
  },
  {
   "cell_type": "code",
   "execution_count": 14,
   "id": "6d1a92fe-3dd3-43c9-88b7-277ef767c8e3",
   "metadata": {},
   "outputs": [
    {
     "data": {
      "text/plain": [
       "np.float64(2.0)"
      ]
     },
     "execution_count": 14,
     "metadata": {},
     "output_type": "execute_result"
    }
   ],
   "source": [
    "df['Age'].min()"
   ]
  },
  {
   "cell_type": "code",
   "execution_count": 15,
   "id": "3b3fdd11-ceb4-4c03-8623-01b791f16ad3",
   "metadata": {},
   "outputs": [
    {
     "data": {
      "text/plain": [
       "np.float64(20.0)"
      ]
     },
     "execution_count": 15,
     "metadata": {},
     "output_type": "execute_result"
    }
   ],
   "source": [
    "df['Age'].max()"
   ]
  },
  {
   "cell_type": "code",
   "execution_count": 16,
   "id": "aea61d23-8101-48e3-825c-7016d9a40f95",
   "metadata": {},
   "outputs": [
    {
     "data": {
      "text/plain": [
       "np.float64(9.333333333333334)"
      ]
     },
     "execution_count": 16,
     "metadata": {},
     "output_type": "execute_result"
    }
   ],
   "source": [
    "df['Age'].mean()"
   ]
  },
  {
   "cell_type": "code",
   "execution_count": 17,
   "id": "535c0b7c-49a2-4bdf-85d1-fe5ae01017b4",
   "metadata": {},
   "outputs": [
    {
     "data": {
      "text/plain": [
       "0    False\n",
       "1    False\n",
       "2    False\n",
       "3    False\n",
       "4    False\n",
       "5    False\n",
       "6     True\n",
       "7    False\n",
       "8    False\n",
       "9    False\n",
       "Name: Age, dtype: bool"
      ]
     },
     "execution_count": 17,
     "metadata": {},
     "output_type": "execute_result"
    }
   ],
   "source": [
    "df.iloc[:,1].isnull()"
   ]
  },
  {
   "cell_type": "code",
   "execution_count": 18,
   "id": "8c8121bc-a5b0-460b-a439-8b661e5aaa51",
   "metadata": {},
   "outputs": [
    {
     "data": {
      "text/plain": [
       "np.True_"
      ]
     },
     "execution_count": 18,
     "metadata": {},
     "output_type": "execute_result"
    }
   ],
   "source": [
    "df.iloc[:,1].isnull().values.any()"
   ]
  },
  {
   "cell_type": "code",
   "execution_count": 19,
   "id": "9eacd667-17e7-4368-bc1c-0332ff28e7a1",
   "metadata": {},
   "outputs": [
    {
     "data": {
      "text/plain": [
       "Make       0\n",
       "Age        1\n",
       "Mileage    1\n",
       "Fuel       1\n",
       "Gearbox    1\n",
       "Colour     1\n",
       "Claimed    0\n",
       "dtype: int64"
      ]
     },
     "execution_count": 19,
     "metadata": {},
     "output_type": "execute_result"
    }
   ],
   "source": [
    "df.isnull().sum()"
   ]
  },
  {
   "cell_type": "code",
   "execution_count": 20,
   "id": "5898cb2f-4cf2-4947-91bb-f837dc470139",
   "metadata": {},
   "outputs": [],
   "source": [
    "from sklearn.impute import SimpleImputer\n",
    "import numpy as np"
   ]
  },
  {
   "cell_type": "code",
   "execution_count": 21,
   "id": "b61e211a-a569-4a50-b930-b34a5cff7f33",
   "metadata": {},
   "outputs": [
    {
     "data": {
      "text/plain": [
       "array([[2.00000000e+00, 2.70000000e+04],\n",
       "       [4.00000000e+00, 3.05000000e+04],\n",
       "       [1.50000000e+01, 1.20000000e+05],\n",
       "       [1.30000000e+01, 5.30000000e+04],\n",
       "       [2.00000000e+00, 6.47222222e+04],\n",
       "       [8.00000000e+00, 7.30000000e+04],\n",
       "       [9.33333333e+00, 1.38000000e+05],\n",
       "       [2.00000000e+01, 3.80000000e+04],\n",
       "       [1.30000000e+01, 6.70000000e+04],\n",
       "       [7.00000000e+00, 3.60000000e+04]])"
      ]
     },
     "execution_count": 21,
     "metadata": {},
     "output_type": "execute_result"
    }
   ],
   "source": [
    "numImputer = SimpleImputer(missing_values = np.nan, strategy=\"mean\")\n",
    "numImputer = numImputer.fit(df[['Age','Mileage']])\n",
    "new_serr = numImputer.transform(df[['Age','Mileage']])\n",
    "new_serr"
   ]
  },
  {
   "cell_type": "code",
   "execution_count": 22,
   "id": "054074a6-5b6d-4c07-854d-acdce155d1d1",
   "metadata": {},
   "outputs": [
    {
     "data": {
      "text/plain": [
       "array([[2.00e+00, 2.70e+04],\n",
       "       [4.00e+00, 3.05e+04],\n",
       "       [1.50e+01, 1.20e+05],\n",
       "       [1.30e+01, 5.30e+04],\n",
       "       [2.00e+00, 5.30e+04],\n",
       "       [8.00e+00, 7.30e+04],\n",
       "       [8.00e+00, 1.38e+05],\n",
       "       [2.00e+01, 3.80e+04],\n",
       "       [1.30e+01, 6.70e+04],\n",
       "       [7.00e+00, 3.60e+04]])"
      ]
     },
     "execution_count": 22,
     "metadata": {},
     "output_type": "execute_result"
    }
   ],
   "source": [
    "numImputer = SimpleImputer(missing_values = np.nan, strategy=\"median\")\n",
    "numImputer = numImputer.fit(df[['Age','Mileage']])\n",
    "new_serr = numImputer.transform(df[['Age','Mileage']])\n",
    "new_serr"
   ]
  },
  {
   "cell_type": "code",
   "execution_count": 23,
   "id": "19895b24-76a6-4006-9671-0b2176b43fc4",
   "metadata": {},
   "outputs": [
    {
     "data": {
      "text/plain": [
       "array([[2.00e+00, 2.70e+04],\n",
       "       [4.00e+00, 3.05e+04],\n",
       "       [1.50e+01, 1.20e+05],\n",
       "       [1.30e+01, 5.30e+04],\n",
       "       [2.00e+00, 2.70e+04],\n",
       "       [8.00e+00, 7.30e+04],\n",
       "       [2.00e+00, 1.38e+05],\n",
       "       [2.00e+01, 3.80e+04],\n",
       "       [1.30e+01, 6.70e+04],\n",
       "       [7.00e+00, 3.60e+04]])"
      ]
     },
     "execution_count": 23,
     "metadata": {},
     "output_type": "execute_result"
    }
   ],
   "source": [
    "numImputer = SimpleImputer(missing_values = np.nan, strategy=\"most_frequent\")\n",
    "numImputer = numImputer.fit(df[['Age','Mileage']])\n",
    "new_serr = numImputer.transform(df[['Age','Mileage']])\n",
    "new_serr"
   ]
  },
  {
   "cell_type": "code",
   "execution_count": 24,
   "id": "d85eee80-19e3-4c10-8a91-b3c660b87dd5",
   "metadata": {},
   "outputs": [
    {
     "data": {
      "text/plain": [
       "array([[ 2.00e+00,  2.70e+04],\n",
       "       [ 4.00e+00,  3.05e+04],\n",
       "       [ 1.50e+01,  1.20e+05],\n",
       "       [ 1.30e+01,  5.30e+04],\n",
       "       [ 2.00e+00, -1.00e+00],\n",
       "       [ 8.00e+00,  7.30e+04],\n",
       "       [-1.00e+00,  1.38e+05],\n",
       "       [ 2.00e+01,  3.80e+04],\n",
       "       [ 1.30e+01,  6.70e+04],\n",
       "       [ 7.00e+00,  3.60e+04]])"
      ]
     },
     "execution_count": 24,
     "metadata": {},
     "output_type": "execute_result"
    }
   ],
   "source": [
    "numImputer = SimpleImputer(missing_values = np.nan, strategy=\"constant\", fill_value=-1)\n",
    "numImputer = numImputer.fit(df[['Age','Mileage']])\n",
    "new_serr = numImputer.transform(df[['Age','Mileage']])\n",
    "new_serr"
   ]
  },
  {
   "cell_type": "code",
   "execution_count": 25,
   "id": "02f177d3-c36c-48aa-9cd8-bbdb24006a1c",
   "metadata": {},
   "outputs": [
    {
     "data": {
      "text/plain": [
       "array([['P', 'A', 'Red'],\n",
       "       ['P', 'M', 'Black'],\n",
       "       ['D', 'A', 'White'],\n",
       "       ['D', 'M', 'White'],\n",
       "       ['D', 'M', 'Black'],\n",
       "       ['D', 'M', 'Green'],\n",
       "       ['P', 'M', 'Black'],\n",
       "       ['D', 'M', 'Green'],\n",
       "       ['D', 'A', 'Blue'],\n",
       "       ['P', 'M', 'Black']], dtype=object)"
      ]
     },
     "execution_count": 25,
     "metadata": {},
     "output_type": "execute_result"
    }
   ],
   "source": [
    "catImputer = SimpleImputer(missing_values = np.nan, strategy=\"most_frequent\")\n",
    "catImputer = catImputer.fit(df[['Fuel','Gearbox','Colour']])\n",
    "new_serr = catImputer.transform(df[['Fuel','Gearbox','Colour']])\n",
    "new_serr"
   ]
  },
  {
   "cell_type": "code",
   "execution_count": 26,
   "id": "97500fca-c229-44f9-8750-594d5f24f2c4",
   "metadata": {},
   "outputs": [
    {
     "data": {
      "text/plain": [
       "array([['P', 'A', 'Red'],\n",
       "       ['P', 'M', 'Black'],\n",
       "       ['D', 'A', 'White'],\n",
       "       ['D', 'M', 'White'],\n",
       "       ['D', 'M', 'Black'],\n",
       "       ['Red', 'M', 'Green'],\n",
       "       ['P', 'M', 'Red'],\n",
       "       ['D', 'Red', 'Green'],\n",
       "       ['D', 'A', 'Blue'],\n",
       "       ['P', 'M', 'Black']], dtype=object)"
      ]
     },
     "execution_count": 26,
     "metadata": {},
     "output_type": "execute_result"
    }
   ],
   "source": [
    "catImputer = SimpleImputer(missing_values = np.nan, strategy=\"constant\", fill_value='Red')\n",
    "catImputer = catImputer.fit(df[['Fuel','Gearbox','Colour']])\n",
    "new_serr = catImputer.transform(df[['Fuel','Gearbox','Colour']])\n",
    "new_serr"
   ]
  },
  {
   "cell_type": "code",
   "execution_count": 27,
   "id": "4b206135-c496-48ed-856e-cd7b4dc25c7c",
   "metadata": {},
   "outputs": [
    {
     "data": {
      "text/html": [
       "<div>\n",
       "<style scoped>\n",
       "    .dataframe tbody tr th:only-of-type {\n",
       "        vertical-align: middle;\n",
       "    }\n",
       "\n",
       "    .dataframe tbody tr th {\n",
       "        vertical-align: top;\n",
       "    }\n",
       "\n",
       "    .dataframe thead th {\n",
       "        text-align: right;\n",
       "    }\n",
       "</style>\n",
       "<table border=\"1\" class=\"dataframe\">\n",
       "  <thead>\n",
       "    <tr style=\"text-align: right;\">\n",
       "      <th></th>\n",
       "      <th>Make</th>\n",
       "      <th>Age</th>\n",
       "      <th>Mileage</th>\n",
       "      <th>Fuel</th>\n",
       "      <th>Gearbox</th>\n",
       "      <th>Colour</th>\n",
       "      <th>Claimed</th>\n",
       "    </tr>\n",
       "  </thead>\n",
       "  <tbody>\n",
       "    <tr>\n",
       "      <th>0</th>\n",
       "      <td>Toyota</td>\n",
       "      <td>2.000000</td>\n",
       "      <td>27000.000000</td>\n",
       "      <td>P</td>\n",
       "      <td>A</td>\n",
       "      <td>Red</td>\n",
       "      <td>Yes</td>\n",
       "    </tr>\n",
       "    <tr>\n",
       "      <th>1</th>\n",
       "      <td>Ford</td>\n",
       "      <td>4.000000</td>\n",
       "      <td>30500.000000</td>\n",
       "      <td>P</td>\n",
       "      <td>M</td>\n",
       "      <td>Black</td>\n",
       "      <td>Yes</td>\n",
       "    </tr>\n",
       "    <tr>\n",
       "      <th>2</th>\n",
       "      <td>Toyota</td>\n",
       "      <td>15.000000</td>\n",
       "      <td>120000.000000</td>\n",
       "      <td>D</td>\n",
       "      <td>A</td>\n",
       "      <td>White</td>\n",
       "      <td>No</td>\n",
       "    </tr>\n",
       "    <tr>\n",
       "      <th>3</th>\n",
       "      <td>Nissan</td>\n",
       "      <td>13.000000</td>\n",
       "      <td>53000.000000</td>\n",
       "      <td>D</td>\n",
       "      <td>M</td>\n",
       "      <td>White</td>\n",
       "      <td>No</td>\n",
       "    </tr>\n",
       "    <tr>\n",
       "      <th>4</th>\n",
       "      <td>Nissan</td>\n",
       "      <td>2.000000</td>\n",
       "      <td>64722.222222</td>\n",
       "      <td>D</td>\n",
       "      <td>M</td>\n",
       "      <td>Black</td>\n",
       "      <td>No</td>\n",
       "    </tr>\n",
       "    <tr>\n",
       "      <th>5</th>\n",
       "      <td>Ford</td>\n",
       "      <td>8.000000</td>\n",
       "      <td>73000.000000</td>\n",
       "      <td>D</td>\n",
       "      <td>M</td>\n",
       "      <td>Green</td>\n",
       "      <td>No</td>\n",
       "    </tr>\n",
       "    <tr>\n",
       "      <th>6</th>\n",
       "      <td>Toyota</td>\n",
       "      <td>9.333333</td>\n",
       "      <td>138000.000000</td>\n",
       "      <td>P</td>\n",
       "      <td>M</td>\n",
       "      <td>Black</td>\n",
       "      <td>Yes</td>\n",
       "    </tr>\n",
       "    <tr>\n",
       "      <th>7</th>\n",
       "      <td>Nissan</td>\n",
       "      <td>20.000000</td>\n",
       "      <td>38000.000000</td>\n",
       "      <td>D</td>\n",
       "      <td>M</td>\n",
       "      <td>Green</td>\n",
       "      <td>Yes</td>\n",
       "    </tr>\n",
       "    <tr>\n",
       "      <th>8</th>\n",
       "      <td>Toyota</td>\n",
       "      <td>13.000000</td>\n",
       "      <td>67000.000000</td>\n",
       "      <td>D</td>\n",
       "      <td>A</td>\n",
       "      <td>Blue</td>\n",
       "      <td>No</td>\n",
       "    </tr>\n",
       "    <tr>\n",
       "      <th>9</th>\n",
       "      <td>Nissan</td>\n",
       "      <td>7.000000</td>\n",
       "      <td>36000.000000</td>\n",
       "      <td>P</td>\n",
       "      <td>M</td>\n",
       "      <td>Black</td>\n",
       "      <td>Yes</td>\n",
       "    </tr>\n",
       "  </tbody>\n",
       "</table>\n",
       "</div>"
      ],
      "text/plain": [
       "     Make        Age        Mileage Fuel Gearbox Colour Claimed\n",
       "0  Toyota   2.000000   27000.000000    P       A    Red     Yes\n",
       "1    Ford   4.000000   30500.000000    P       M  Black     Yes\n",
       "2  Toyota  15.000000  120000.000000    D       A  White      No\n",
       "3  Nissan  13.000000   53000.000000    D       M  White      No\n",
       "4  Nissan   2.000000   64722.222222    D       M  Black      No\n",
       "5    Ford   8.000000   73000.000000    D       M  Green      No\n",
       "6  Toyota   9.333333  138000.000000    P       M  Black     Yes\n",
       "7  Nissan  20.000000   38000.000000    D       M  Green     Yes\n",
       "8  Toyota  13.000000   67000.000000    D       A   Blue      No\n",
       "9  Nissan   7.000000   36000.000000    P       M  Black     Yes"
      ]
     },
     "execution_count": 27,
     "metadata": {},
     "output_type": "execute_result"
    }
   ],
   "source": [
    "numImputer = SimpleImputer(missing_values=np.nan,strategy=\"mean\")\n",
    "numImputer= numImputer.fit(df[['Age','Mileage']])\n",
    "df[['Age','Mileage']] = numImputer.transform(df[['Age','Mileage']])\n",
    "\n",
    "catImputer = SimpleImputer(missing_values = np.nan, strategy ='most_frequent')\n",
    "catImputer = catImputer.fit(df[['Fuel','Gearbox','Colour']])\n",
    "df[['Fuel','Gearbox', 'Colour']] = catImputer.transform(df[['Fuel','Gearbox','Colour']])\n",
    "df"
   ]
  },
  {
   "cell_type": "code",
   "execution_count": 28,
   "id": "40a135db-a841-4593-b37c-9a777c1c0af0",
   "metadata": {},
   "outputs": [
    {
     "data": {
      "text/plain": [
       "array([[2., 1., 0., 3., 1.],\n",
       "       [0., 1., 1., 0., 1.],\n",
       "       [2., 0., 0., 4., 0.],\n",
       "       [1., 0., 1., 4., 0.],\n",
       "       [1., 0., 1., 0., 0.],\n",
       "       [0., 0., 1., 2., 0.],\n",
       "       [2., 1., 1., 0., 1.],\n",
       "       [1., 0., 1., 2., 1.],\n",
       "       [2., 0., 0., 1., 0.],\n",
       "       [1., 1., 1., 0., 1.]])"
      ]
     },
     "execution_count": 28,
     "metadata": {},
     "output_type": "execute_result"
    }
   ],
   "source": [
    "from sklearn import preprocessing\n",
    "enc = preprocessing.OrdinalEncoder()\n",
    "enc.fit_transform(df[['Make','Fuel','Gearbox','Colour','Claimed']])"
   ]
  },
  {
   "cell_type": "code",
   "execution_count": 29,
   "id": "0f70c4f1-cad8-4740-a0f5-bf82920d827e",
   "metadata": {},
   "outputs": [
    {
     "data": {
      "text/plain": [
       "array([[0., 1., 1., 0., 0., 0., 1., 0., 1.],\n",
       "       [0., 0., 1., 1., 0., 0., 0., 0., 1.],\n",
       "       [0., 1., 0., 0., 0., 0., 0., 1., 0.],\n",
       "       [1., 0., 0., 1., 0., 0., 0., 1., 0.],\n",
       "       [1., 0., 0., 1., 0., 0., 0., 0., 0.],\n",
       "       [0., 0., 0., 1., 0., 1., 0., 0., 0.],\n",
       "       [0., 1., 1., 1., 0., 0., 0., 0., 1.],\n",
       "       [1., 0., 0., 1., 0., 1., 0., 0., 1.],\n",
       "       [0., 1., 0., 0., 1., 0., 0., 0., 0.],\n",
       "       [1., 0., 1., 1., 0., 0., 0., 0., 1.]])"
      ]
     },
     "execution_count": 29,
     "metadata": {},
     "output_type": "execute_result"
    }
   ],
   "source": [
    "enc = preprocessing.OneHotEncoder(drop='first')\n",
    "enc.fit_transform(df[['Make','Fuel','Gearbox','Colour','Claimed']]).toarray()"
   ]
  },
  {
   "cell_type": "code",
   "execution_count": 30,
   "id": "7e340655-1c73-4d3c-be12-60b1dfc2ffbc",
   "metadata": {},
   "outputs": [
    {
     "data": {
      "text/plain": [
       "[array(['Ford', 'Nissan', 'Toyota'], dtype=object),\n",
       " array(['D', 'P'], dtype=object),\n",
       " array(['A', 'M'], dtype=object),\n",
       " array(['Black', 'Blue', 'Green', 'Red', 'White'], dtype=object),\n",
       " array(['No', 'Yes'], dtype=object)]"
      ]
     },
     "execution_count": 30,
     "metadata": {},
     "output_type": "execute_result"
    }
   ],
   "source": [
    "enc.categories_"
   ]
  },
  {
   "cell_type": "code",
   "execution_count": 31,
   "id": "1ba196d5-e8de-4635-88ad-db54f62cb4b5",
   "metadata": {},
   "outputs": [
    {
     "data": {
      "text/html": [
       "<div>\n",
       "<style scoped>\n",
       "    .dataframe tbody tr th:only-of-type {\n",
       "        vertical-align: middle;\n",
       "    }\n",
       "\n",
       "    .dataframe tbody tr th {\n",
       "        vertical-align: top;\n",
       "    }\n",
       "\n",
       "    .dataframe thead th {\n",
       "        text-align: right;\n",
       "    }\n",
       "</style>\n",
       "<table border=\"1\" class=\"dataframe\">\n",
       "  <thead>\n",
       "    <tr style=\"text-align: right;\">\n",
       "      <th></th>\n",
       "      <th>Age</th>\n",
       "      <th>Mileage</th>\n",
       "      <th>Claimed</th>\n",
       "      <th>Nissan</th>\n",
       "      <th>Toyota</th>\n",
       "      <th>P</th>\n",
       "      <th>M</th>\n",
       "      <th>Blue</th>\n",
       "      <th>Green</th>\n",
       "      <th>Red</th>\n",
       "      <th>White</th>\n",
       "    </tr>\n",
       "  </thead>\n",
       "  <tbody>\n",
       "    <tr>\n",
       "      <th>0</th>\n",
       "      <td>2.000000</td>\n",
       "      <td>27000.000000</td>\n",
       "      <td>1.0</td>\n",
       "      <td>0.0</td>\n",
       "      <td>1.0</td>\n",
       "      <td>1.0</td>\n",
       "      <td>0.0</td>\n",
       "      <td>0.0</td>\n",
       "      <td>0.0</td>\n",
       "      <td>1.0</td>\n",
       "      <td>0.0</td>\n",
       "    </tr>\n",
       "    <tr>\n",
       "      <th>1</th>\n",
       "      <td>4.000000</td>\n",
       "      <td>30500.000000</td>\n",
       "      <td>1.0</td>\n",
       "      <td>0.0</td>\n",
       "      <td>0.0</td>\n",
       "      <td>1.0</td>\n",
       "      <td>1.0</td>\n",
       "      <td>0.0</td>\n",
       "      <td>0.0</td>\n",
       "      <td>0.0</td>\n",
       "      <td>0.0</td>\n",
       "    </tr>\n",
       "    <tr>\n",
       "      <th>2</th>\n",
       "      <td>15.000000</td>\n",
       "      <td>120000.000000</td>\n",
       "      <td>0.0</td>\n",
       "      <td>0.0</td>\n",
       "      <td>1.0</td>\n",
       "      <td>0.0</td>\n",
       "      <td>0.0</td>\n",
       "      <td>0.0</td>\n",
       "      <td>0.0</td>\n",
       "      <td>0.0</td>\n",
       "      <td>1.0</td>\n",
       "    </tr>\n",
       "    <tr>\n",
       "      <th>3</th>\n",
       "      <td>13.000000</td>\n",
       "      <td>53000.000000</td>\n",
       "      <td>0.0</td>\n",
       "      <td>1.0</td>\n",
       "      <td>0.0</td>\n",
       "      <td>0.0</td>\n",
       "      <td>1.0</td>\n",
       "      <td>0.0</td>\n",
       "      <td>0.0</td>\n",
       "      <td>0.0</td>\n",
       "      <td>1.0</td>\n",
       "    </tr>\n",
       "    <tr>\n",
       "      <th>4</th>\n",
       "      <td>2.000000</td>\n",
       "      <td>64722.222222</td>\n",
       "      <td>0.0</td>\n",
       "      <td>1.0</td>\n",
       "      <td>0.0</td>\n",
       "      <td>0.0</td>\n",
       "      <td>1.0</td>\n",
       "      <td>0.0</td>\n",
       "      <td>0.0</td>\n",
       "      <td>0.0</td>\n",
       "      <td>0.0</td>\n",
       "    </tr>\n",
       "    <tr>\n",
       "      <th>5</th>\n",
       "      <td>8.000000</td>\n",
       "      <td>73000.000000</td>\n",
       "      <td>0.0</td>\n",
       "      <td>0.0</td>\n",
       "      <td>0.0</td>\n",
       "      <td>0.0</td>\n",
       "      <td>1.0</td>\n",
       "      <td>0.0</td>\n",
       "      <td>1.0</td>\n",
       "      <td>0.0</td>\n",
       "      <td>0.0</td>\n",
       "    </tr>\n",
       "    <tr>\n",
       "      <th>6</th>\n",
       "      <td>9.333333</td>\n",
       "      <td>138000.000000</td>\n",
       "      <td>1.0</td>\n",
       "      <td>0.0</td>\n",
       "      <td>1.0</td>\n",
       "      <td>1.0</td>\n",
       "      <td>1.0</td>\n",
       "      <td>0.0</td>\n",
       "      <td>0.0</td>\n",
       "      <td>0.0</td>\n",
       "      <td>0.0</td>\n",
       "    </tr>\n",
       "    <tr>\n",
       "      <th>7</th>\n",
       "      <td>20.000000</td>\n",
       "      <td>38000.000000</td>\n",
       "      <td>1.0</td>\n",
       "      <td>1.0</td>\n",
       "      <td>0.0</td>\n",
       "      <td>0.0</td>\n",
       "      <td>1.0</td>\n",
       "      <td>0.0</td>\n",
       "      <td>1.0</td>\n",
       "      <td>0.0</td>\n",
       "      <td>0.0</td>\n",
       "    </tr>\n",
       "    <tr>\n",
       "      <th>8</th>\n",
       "      <td>13.000000</td>\n",
       "      <td>67000.000000</td>\n",
       "      <td>0.0</td>\n",
       "      <td>0.0</td>\n",
       "      <td>1.0</td>\n",
       "      <td>0.0</td>\n",
       "      <td>0.0</td>\n",
       "      <td>1.0</td>\n",
       "      <td>0.0</td>\n",
       "      <td>0.0</td>\n",
       "      <td>0.0</td>\n",
       "    </tr>\n",
       "    <tr>\n",
       "      <th>9</th>\n",
       "      <td>7.000000</td>\n",
       "      <td>36000.000000</td>\n",
       "      <td>1.0</td>\n",
       "      <td>1.0</td>\n",
       "      <td>0.0</td>\n",
       "      <td>1.0</td>\n",
       "      <td>1.0</td>\n",
       "      <td>0.0</td>\n",
       "      <td>0.0</td>\n",
       "      <td>0.0</td>\n",
       "      <td>0.0</td>\n",
       "    </tr>\n",
       "  </tbody>\n",
       "</table>\n",
       "</div>"
      ],
      "text/plain": [
       "         Age        Mileage  Claimed  Nissan  Toyota    P    M  Blue  Green  \\\n",
       "0   2.000000   27000.000000      1.0     0.0     1.0  1.0  0.0   0.0    0.0   \n",
       "1   4.000000   30500.000000      1.0     0.0     0.0  1.0  1.0   0.0    0.0   \n",
       "2  15.000000  120000.000000      0.0     0.0     1.0  0.0  0.0   0.0    0.0   \n",
       "3  13.000000   53000.000000      0.0     1.0     0.0  0.0  1.0   0.0    0.0   \n",
       "4   2.000000   64722.222222      0.0     1.0     0.0  0.0  1.0   0.0    0.0   \n",
       "5   8.000000   73000.000000      0.0     0.0     0.0  0.0  1.0   0.0    1.0   \n",
       "6   9.333333  138000.000000      1.0     0.0     1.0  1.0  1.0   0.0    0.0   \n",
       "7  20.000000   38000.000000      1.0     1.0     0.0  0.0  1.0   0.0    1.0   \n",
       "8  13.000000   67000.000000      0.0     0.0     1.0  0.0  0.0   1.0    0.0   \n",
       "9   7.000000   36000.000000      1.0     1.0     0.0  1.0  1.0   0.0    0.0   \n",
       "\n",
       "   Red  White  \n",
       "0  1.0    0.0  \n",
       "1  0.0    0.0  \n",
       "2  0.0    1.0  \n",
       "3  0.0    1.0  \n",
       "4  0.0    0.0  \n",
       "5  0.0    0.0  \n",
       "6  0.0    0.0  \n",
       "7  0.0    0.0  \n",
       "8  0.0    0.0  \n",
       "9  0.0    0.0  "
      ]
     },
     "execution_count": 31,
     "metadata": {},
     "output_type": "execute_result"
    }
   ],
   "source": [
    "#target variable, it just uses the ordinal encoder\n",
    "enc = preprocessing.OrdinalEncoder()\n",
    "df['Claimed'] = enc.fit_transform(df['Claimed'].values.reshape(-1,1))\n",
    "#input variables one hot encoding\n",
    "enc = preprocessing.OneHotEncoder(drop='first')\n",
    "onehots = enc.fit_transform(df[['Make','Fuel','Gearbox','Colour']]).toarray()\n",
    "\n",
    "#Creating the new df\n",
    "cols = []\n",
    "for i in enc.categories_:\n",
    "    i = np.delete(i,0)\n",
    "    cols.extend(i)\n",
    "df = df.join(pd.DataFrame(onehots,columns=cols))\n",
    "\n",
    "df = df.drop(['Make','Fuel','Gearbox','Colour'], axis = 1)\n",
    "df"
   ]
  },
  {
   "cell_type": "code",
   "execution_count": 32,
   "id": "ea9c1bec-bede-4a92-8732-9a93b3fa96ee",
   "metadata": {},
   "outputs": [],
   "source": [
    "from sklearn import preprocessing\n",
    "\n",
    "X = df.iloc[:,:-1].values\n",
    "Y = df.iloc[:,-1].values"
   ]
  },
  {
   "cell_type": "code",
   "execution_count": 33,
   "id": "2fc16689-6105-4043-87a0-4bf6c4033fd0",
   "metadata": {},
   "outputs": [],
   "source": [
    "scaler = preprocessing.StandardScaler().fit(X)"
   ]
  },
  {
   "cell_type": "code",
   "execution_count": 34,
   "id": "595b30a1-aa6f-433c-aefc-58b52a6b4a0f",
   "metadata": {},
   "outputs": [
    {
     "data": {
      "text/plain": [
       "array([9.33333333e+00, 6.47222222e+04, 5.00000000e-01, 4.00000000e-01,\n",
       "       4.00000000e-01, 4.00000000e-01, 7.00000000e-01, 1.00000000e-01,\n",
       "       2.00000000e-01, 1.00000000e-01])"
      ]
     },
     "execution_count": 34,
     "metadata": {},
     "output_type": "execute_result"
    }
   ],
   "source": [
    "scaler.mean_"
   ]
  },
  {
   "cell_type": "code",
   "execution_count": 35,
   "id": "667eab78-ad62-486b-8e50-962b5e065917",
   "metadata": {},
   "outputs": [
    {
     "data": {
      "text/plain": [
       "array([5.62138773e+00, 3.57345149e+04, 5.00000000e-01, 4.89897949e-01,\n",
       "       4.89897949e-01, 4.89897949e-01, 4.58257569e-01, 3.00000000e-01,\n",
       "       4.00000000e-01, 3.00000000e-01])"
      ]
     },
     "execution_count": 35,
     "metadata": {},
     "output_type": "execute_result"
    }
   ],
   "source": [
    "scaler.scale_"
   ]
  },
  {
   "cell_type": "code",
   "execution_count": 36,
   "id": "896dddcc-e41a-4912-8fd2-b86d9e2b8119",
   "metadata": {},
   "outputs": [],
   "source": [
    "X_scaled = scaler.transform(X)"
   ]
  },
  {
   "cell_type": "code",
   "execution_count": 37,
   "id": "bbb5424a-d86f-4be5-be40-a054ea47693e",
   "metadata": {},
   "outputs": [
    {
     "data": {
      "text/plain": [
       "array([[-1.30454146e+00, -1.05562430e+00,  1.00000000e+00,\n",
       "        -8.16496581e-01,  1.22474487e+00,  1.22474487e+00,\n",
       "        -1.52752523e+00, -3.33333333e-01, -5.00000000e-01,\n",
       "         3.00000000e+00],\n",
       "       [-9.48757423e-01, -9.57679776e-01,  1.00000000e+00,\n",
       "        -8.16496581e-01, -8.16496581e-01,  1.22474487e+00,\n",
       "         6.54653671e-01, -3.33333333e-01, -5.00000000e-01,\n",
       "        -3.33333333e-01],\n",
       "       [ 1.00805476e+00,  1.54690159e+00, -1.00000000e+00,\n",
       "        -8.16496581e-01,  1.22474487e+00, -8.16496581e-01,\n",
       "        -1.52752523e+00, -3.33333333e-01, -5.00000000e-01,\n",
       "        -3.33333333e-01],\n",
       "       [ 6.52270728e-01, -3.28036417e-01, -1.00000000e+00,\n",
       "         1.22474487e+00, -8.16496581e-01, -8.16496581e-01,\n",
       "         6.54653671e-01, -3.33333333e-01, -5.00000000e-01,\n",
       "        -3.33333333e-01],\n",
       "       [-1.30454146e+00, -2.03611484e-16, -1.00000000e+00,\n",
       "         1.22474487e+00, -8.16496581e-01, -8.16496581e-01,\n",
       "         6.54653671e-01, -3.33333333e-01, -5.00000000e-01,\n",
       "        -3.33333333e-01],\n",
       "       [-2.37189356e-01,  2.31646569e-01, -1.00000000e+00,\n",
       "        -8.16496581e-01, -8.16496581e-01, -8.16496581e-01,\n",
       "         6.54653671e-01, -3.33333333e-01,  2.00000000e+00,\n",
       "        -3.33333333e-01],\n",
       "       [ 0.00000000e+00,  2.05061627e+00,  1.00000000e+00,\n",
       "        -8.16496581e-01,  1.22474487e+00,  1.22474487e+00,\n",
       "         6.54653671e-01, -3.33333333e-01, -5.00000000e-01,\n",
       "        -3.33333333e-01],\n",
       "       [ 1.89751485e+00, -7.47798656e-01,  1.00000000e+00,\n",
       "         1.22474487e+00, -8.16496581e-01, -8.16496581e-01,\n",
       "         6.54653671e-01, -3.33333333e-01,  2.00000000e+00,\n",
       "        -3.33333333e-01],\n",
       "       [ 6.52270728e-01,  6.37416734e-02, -1.00000000e+00,\n",
       "        -8.16496581e-01,  1.22474487e+00, -8.16496581e-01,\n",
       "        -1.52752523e+00,  3.00000000e+00, -5.00000000e-01,\n",
       "        -3.33333333e-01],\n",
       "       [-4.15081372e-01, -8.03766955e-01,  1.00000000e+00,\n",
       "         1.22474487e+00, -8.16496581e-01,  1.22474487e+00,\n",
       "         6.54653671e-01, -3.33333333e-01, -5.00000000e-01,\n",
       "        -3.33333333e-01]])"
      ]
     },
     "execution_count": 37,
     "metadata": {},
     "output_type": "execute_result"
    }
   ],
   "source": [
    "X_scaled"
   ]
  },
  {
   "cell_type": "code",
   "execution_count": 38,
   "id": "18efc64f-e9b2-499f-9f1a-4946951272c8",
   "metadata": {},
   "outputs": [
    {
     "data": {
      "text/plain": [
       "array([[0.        , 0.        , 1.        , 0.        , 1.        ,\n",
       "        1.        , 0.        , 0.        , 0.        , 1.        ],\n",
       "       [0.11111111, 0.03153153, 1.        , 0.        , 0.        ,\n",
       "        1.        , 1.        , 0.        , 0.        , 0.        ],\n",
       "       [0.72222222, 0.83783784, 0.        , 0.        , 1.        ,\n",
       "        0.        , 0.        , 0.        , 0.        , 0.        ],\n",
       "       [0.61111111, 0.23423423, 0.        , 1.        , 0.        ,\n",
       "        0.        , 1.        , 0.        , 0.        , 0.        ],\n",
       "       [0.        , 0.33983984, 0.        , 1.        , 0.        ,\n",
       "        0.        , 1.        , 0.        , 0.        , 0.        ],\n",
       "       [0.33333333, 0.41441441, 0.        , 0.        , 0.        ,\n",
       "        0.        , 1.        , 0.        , 1.        , 0.        ],\n",
       "       [0.40740741, 1.        , 1.        , 0.        , 1.        ,\n",
       "        1.        , 1.        , 0.        , 0.        , 0.        ],\n",
       "       [1.        , 0.0990991 , 1.        , 1.        , 0.        ,\n",
       "        0.        , 1.        , 0.        , 1.        , 0.        ],\n",
       "       [0.61111111, 0.36036036, 0.        , 0.        , 1.        ,\n",
       "        0.        , 0.        , 1.        , 0.        , 0.        ],\n",
       "       [0.27777778, 0.08108108, 1.        , 1.        , 0.        ,\n",
       "        1.        , 1.        , 0.        , 0.        , 0.        ]])"
      ]
     },
     "execution_count": 38,
     "metadata": {},
     "output_type": "execute_result"
    }
   ],
   "source": [
    "min_max_scaler = preprocessing.MinMaxScaler()\n",
    "X_minmax = min_max_scaler.fit_transform(X)\n",
    "X_minmax"
   ]
  },
  {
   "cell_type": "code",
   "execution_count": null,
   "id": "8fcbed6f-11bb-429a-8b50-cb6a31ba3dcb",
   "metadata": {},
   "outputs": [],
   "source": []
  }
 ],
 "metadata": {
  "kernelspec": {
   "display_name": "mldmenv",
   "language": "python",
   "name": "mldmenv"
  },
  "language_info": {
   "codemirror_mode": {
    "name": "ipython",
    "version": 3
   },
   "file_extension": ".py",
   "mimetype": "text/x-python",
   "name": "python",
   "nbconvert_exporter": "python",
   "pygments_lexer": "ipython3",
   "version": "3.13.0"
  }
 },
 "nbformat": 4,
 "nbformat_minor": 5
}
