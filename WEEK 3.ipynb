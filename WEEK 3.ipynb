{
 "cells": [
  {
   "cell_type": "code",
   "execution_count": 62,
   "id": "d1e9a7bf-65ec-4019-a06b-8e51383322ed",
   "metadata": {},
   "outputs": [],
   "source": [
    "import matplotlib.pyplot as plt\n",
    "import pandas as pd\n",
    "from apyori import apriori\n",
    "import ARutils\n",
    "%matplotlib inline"
   ]
  },
  {
   "cell_type": "code",
   "execution_count": 63,
   "id": "91994f2c-798d-4027-b093-2a1039c313b7",
   "metadata": {},
   "outputs": [],
   "source": [
    "store_data = pd.read_csv('marketbasket.csv')"
   ]
  },
  {
   "cell_type": "code",
   "execution_count": 64,
   "id": "16849c6c-b186-4e5d-83b4-f98a055ffef9",
   "metadata": {},
   "outputs": [
    {
     "data": {
      "text/html": [
       "<div>\n",
       "<style scoped>\n",
       "    .dataframe tbody tr th:only-of-type {\n",
       "        vertical-align: middle;\n",
       "    }\n",
       "\n",
       "    .dataframe tbody tr th {\n",
       "        vertical-align: top;\n",
       "    }\n",
       "\n",
       "    .dataframe thead th {\n",
       "        text-align: right;\n",
       "    }\n",
       "</style>\n",
       "<table border=\"1\" class=\"dataframe\">\n",
       "  <thead>\n",
       "    <tr style=\"text-align: right;\">\n",
       "      <th></th>\n",
       "      <th>apples</th>\n",
       "      <th>banana</th>\n",
       "      <th>coke</th>\n",
       "      <th>turkey</th>\n",
       "      <th>bourbon</th>\n",
       "      <th>ice_cream</th>\n",
       "      <th>baguette</th>\n",
       "      <th>soda</th>\n",
       "      <th>choclate</th>\n",
       "      <th>cracker</th>\n",
       "      <th>cosmetics</th>\n",
       "      <th>avocado</th>\n",
       "      <th>artichoke</th>\n",
       "      <th>sardines</th>\n",
       "    </tr>\n",
       "  </thead>\n",
       "  <tbody>\n",
       "    <tr>\n",
       "      <th>0</th>\n",
       "      <td>No</td>\n",
       "      <td>Yes</td>\n",
       "      <td>Yes</td>\n",
       "      <td>Yes</td>\n",
       "      <td>Yes</td>\n",
       "      <td>No</td>\n",
       "      <td>Yes</td>\n",
       "      <td>Yes</td>\n",
       "      <td>Yes</td>\n",
       "      <td>No</td>\n",
       "      <td>No</td>\n",
       "      <td>No</td>\n",
       "      <td>No</td>\n",
       "      <td>Yes</td>\n",
       "    </tr>\n",
       "    <tr>\n",
       "      <th>1</th>\n",
       "      <td>No</td>\n",
       "      <td>No</td>\n",
       "      <td>Yes</td>\n",
       "      <td>No</td>\n",
       "      <td>Yes</td>\n",
       "      <td>No</td>\n",
       "      <td>Yes</td>\n",
       "      <td>Yes</td>\n",
       "      <td>No</td>\n",
       "      <td>No</td>\n",
       "      <td>Yes</td>\n",
       "      <td>Yes</td>\n",
       "      <td>No</td>\n",
       "      <td>No</td>\n",
       "    </tr>\n",
       "    <tr>\n",
       "      <th>2</th>\n",
       "      <td>No</td>\n",
       "      <td>Yes</td>\n",
       "      <td>No</td>\n",
       "      <td>No</td>\n",
       "      <td>Yes</td>\n",
       "      <td>Yes</td>\n",
       "      <td>Yes</td>\n",
       "      <td>Yes</td>\n",
       "      <td>Yes</td>\n",
       "      <td>Yes</td>\n",
       "      <td>Yes</td>\n",
       "      <td>Yes</td>\n",
       "      <td>Yes</td>\n",
       "      <td>No</td>\n",
       "    </tr>\n",
       "    <tr>\n",
       "      <th>3</th>\n",
       "      <td>No</td>\n",
       "      <td>No</td>\n",
       "      <td>Yes</td>\n",
       "      <td>Yes</td>\n",
       "      <td>Yes</td>\n",
       "      <td>No</td>\n",
       "      <td>Yes</td>\n",
       "      <td>No</td>\n",
       "      <td>No</td>\n",
       "      <td>No</td>\n",
       "      <td>Yes</td>\n",
       "      <td>No</td>\n",
       "      <td>No</td>\n",
       "      <td>Yes</td>\n",
       "    </tr>\n",
       "    <tr>\n",
       "      <th>4</th>\n",
       "      <td>No</td>\n",
       "      <td>Yes</td>\n",
       "      <td>No</td>\n",
       "      <td>No</td>\n",
       "      <td>Yes</td>\n",
       "      <td>No</td>\n",
       "      <td>Yes</td>\n",
       "      <td>Yes</td>\n",
       "      <td>Yes</td>\n",
       "      <td>Yes</td>\n",
       "      <td>No</td>\n",
       "      <td>Yes</td>\n",
       "      <td>Yes</td>\n",
       "      <td>No</td>\n",
       "    </tr>\n",
       "  </tbody>\n",
       "</table>\n",
       "</div>"
      ],
      "text/plain": [
       "  apples banana coke turkey bourbon ice_cream baguette soda choclate cracker  \\\n",
       "0     No    Yes  Yes    Yes     Yes        No      Yes  Yes      Yes      No   \n",
       "1     No     No  Yes     No     Yes        No      Yes  Yes       No      No   \n",
       "2     No    Yes   No     No     Yes       Yes      Yes  Yes      Yes     Yes   \n",
       "3     No     No  Yes    Yes     Yes        No      Yes   No       No      No   \n",
       "4     No    Yes   No     No     Yes        No      Yes  Yes      Yes     Yes   \n",
       "\n",
       "  cosmetics avocado artichoke sardines  \n",
       "0        No      No        No      Yes  \n",
       "1       Yes     Yes        No       No  \n",
       "2       Yes     Yes       Yes       No  \n",
       "3       Yes      No        No      Yes  \n",
       "4        No     Yes       Yes       No  "
      ]
     },
     "execution_count": 64,
     "metadata": {},
     "output_type": "execute_result"
    }
   ],
   "source": [
    "store_data.head()"
   ]
  },
  {
   "cell_type": "code",
   "execution_count": 65,
   "id": "a8b2b57b-3a9c-4725-9452-35240db30c13",
   "metadata": {},
   "outputs": [
    {
     "data": {
      "text/html": [
       "<div>\n",
       "<style scoped>\n",
       "    .dataframe tbody tr th:only-of-type {\n",
       "        vertical-align: middle;\n",
       "    }\n",
       "\n",
       "    .dataframe tbody tr th {\n",
       "        vertical-align: top;\n",
       "    }\n",
       "\n",
       "    .dataframe thead th {\n",
       "        text-align: right;\n",
       "    }\n",
       "</style>\n",
       "<table border=\"1\" class=\"dataframe\">\n",
       "  <thead>\n",
       "    <tr style=\"text-align: right;\">\n",
       "      <th></th>\n",
       "      <th>apples</th>\n",
       "      <th>banana</th>\n",
       "      <th>coke</th>\n",
       "      <th>turkey</th>\n",
       "      <th>bourbon</th>\n",
       "      <th>ice_cream</th>\n",
       "      <th>baguette</th>\n",
       "      <th>soda</th>\n",
       "      <th>choclate</th>\n",
       "      <th>cracker</th>\n",
       "      <th>cosmetics</th>\n",
       "      <th>avocado</th>\n",
       "      <th>artichoke</th>\n",
       "      <th>sardines</th>\n",
       "    </tr>\n",
       "  </thead>\n",
       "  <tbody>\n",
       "    <tr>\n",
       "      <th>count</th>\n",
       "      <td>1000</td>\n",
       "      <td>1000</td>\n",
       "      <td>1000</td>\n",
       "      <td>1000</td>\n",
       "      <td>1000</td>\n",
       "      <td>1000</td>\n",
       "      <td>1000</td>\n",
       "      <td>1000</td>\n",
       "      <td>1000</td>\n",
       "      <td>1000</td>\n",
       "      <td>1000</td>\n",
       "      <td>1000</td>\n",
       "      <td>1000</td>\n",
       "      <td>1000</td>\n",
       "    </tr>\n",
       "    <tr>\n",
       "      <th>unique</th>\n",
       "      <td>2</td>\n",
       "      <td>2</td>\n",
       "      <td>2</td>\n",
       "      <td>2</td>\n",
       "      <td>2</td>\n",
       "      <td>2</td>\n",
       "      <td>2</td>\n",
       "      <td>2</td>\n",
       "      <td>2</td>\n",
       "      <td>2</td>\n",
       "      <td>2</td>\n",
       "      <td>2</td>\n",
       "      <td>2</td>\n",
       "      <td>2</td>\n",
       "    </tr>\n",
       "    <tr>\n",
       "      <th>top</th>\n",
       "      <td>No</td>\n",
       "      <td>No</td>\n",
       "      <td>No</td>\n",
       "      <td>No</td>\n",
       "      <td>No</td>\n",
       "      <td>No</td>\n",
       "      <td>No</td>\n",
       "      <td>No</td>\n",
       "      <td>No</td>\n",
       "      <td>No</td>\n",
       "      <td>Yes</td>\n",
       "      <td>No</td>\n",
       "      <td>No</td>\n",
       "      <td>No</td>\n",
       "    </tr>\n",
       "    <tr>\n",
       "      <th>freq</th>\n",
       "      <td>946</td>\n",
       "      <td>637</td>\n",
       "      <td>720</td>\n",
       "      <td>851</td>\n",
       "      <td>558</td>\n",
       "      <td>958</td>\n",
       "      <td>721</td>\n",
       "      <td>766</td>\n",
       "      <td>643</td>\n",
       "      <td>619</td>\n",
       "      <td>536</td>\n",
       "      <td>510</td>\n",
       "      <td>678</td>\n",
       "      <td>543</td>\n",
       "    </tr>\n",
       "  </tbody>\n",
       "</table>\n",
       "</div>"
      ],
      "text/plain": [
       "       apples banana  coke turkey bourbon ice_cream baguette  soda choclate  \\\n",
       "count    1000   1000  1000   1000    1000      1000     1000  1000     1000   \n",
       "unique      2      2     2      2       2         2        2     2        2   \n",
       "top        No     No    No     No      No        No       No    No       No   \n",
       "freq      946    637   720    851     558       958      721   766      643   \n",
       "\n",
       "       cracker cosmetics avocado artichoke sardines  \n",
       "count     1000      1000    1000      1000     1000  \n",
       "unique       2         2       2         2        2  \n",
       "top         No       Yes      No        No       No  \n",
       "freq       619       536     510       678      543  "
      ]
     },
     "execution_count": 65,
     "metadata": {},
     "output_type": "execute_result"
    }
   ],
   "source": [
    "store_data.describe()"
   ]
  },
  {
   "cell_type": "code",
   "execution_count": 66,
   "id": "189ff9df-2503-4c90-a2a7-11d2ca27c152",
   "metadata": {},
   "outputs": [
    {
     "data": {
      "image/png": "[encoded data removed]",
      "text/plain": [
       "<Figure size 640x480 with 1 Axes>"
      ]
     },
     "metadata": {},
     "output_type": "display_data"
    }
   ],
   "source": [
    "#plot and explore the dataset\n",
    "\n",
    "yes = (store_data=='Yes').sum()\n",
    "no = (store_data=='No').sum()\n",
    "purchased = pd.concat([yes,no], axis=1, keys=['yes','no'])\n",
    "ax = purchased.plot.bar(stacked=True)\n",
    "plt.show()"
   ]
  },
  {
   "cell_type": "code",
   "execution_count": 67,
   "id": "e4bcd23f-b0ae-4ee9-9744-e8c4363f16d3",
   "metadata": {},
   "outputs": [
    {
     "data": {
      "text/plain": [
       "[['Milk', 'Bread', 'Saffron'],\n",
       " ['Milk', 'Saffron'],\n",
       " ['Bread', 'Saffron', 'Wafer'],\n",
       " ['Bread', 'Wafer']]"
      ]
     },
     "execution_count": 67,
     "metadata": {},
     "output_type": "execute_result"
    }
   ],
   "source": [
    "\"\"\"\n",
    "A small sample for Apiori Algorithm in Python\n",
    "\"\"\"\n",
    "# Creating Sample Transactions\n",
    "transactions = [\n",
    "    ['Milk','Bread','Saffron'],\n",
    "    ['Milk', 'Saffron'],\n",
    "    ['Bread','Saffron','Wafer'],\n",
    "    ['Bread', 'Wafer']\n",
    "]\n",
    "transactions"
   ]
  },
  {
   "cell_type": "code",
   "execution_count": 68,
   "id": "486c0322-bb88-4c30-a936-8161f06c963b",
   "metadata": {},
   "outputs": [],
   "source": [
    "# Generating association rules\n",
    "Rules = list(apriori(transactions, min_spport=0.2, min_confidence=0.5))"
   ]
  },
  {
   "cell_type": "code",
   "execution_count": 69,
   "id": "5f78f690-6553-4cdf-9f65-f36108757934",
   "metadata": {},
   "outputs": [
    {
     "data": {
      "text/html": [
       "<div>\n",
       "<style scoped>\n",
       "    .dataframe tbody tr th:only-of-type {\n",
       "        vertical-align: middle;\n",
       "    }\n",
       "\n",
       "    .dataframe tbody tr th {\n",
       "        vertical-align: top;\n",
       "    }\n",
       "\n",
       "    .dataframe thead th {\n",
       "        text-align: right;\n",
       "    }\n",
       "</style>\n",
       "<table border=\"1\" class=\"dataframe\">\n",
       "  <thead>\n",
       "    <tr style=\"text-align: right;\">\n",
       "      <th></th>\n",
       "      <th>LHS</th>\n",
       "      <th>RHS</th>\n",
       "      <th>Support</th>\n",
       "      <th>Confidence</th>\n",
       "      <th>Lift</th>\n",
       "    </tr>\n",
       "  </thead>\n",
       "  <tbody>\n",
       "    <tr>\n",
       "      <th>0</th>\n",
       "      <td>[]</td>\n",
       "      <td>[Bread]</td>\n",
       "      <td>0.75</td>\n",
       "      <td>0.750000</td>\n",
       "      <td>1.000000</td>\n",
       "    </tr>\n",
       "    <tr>\n",
       "      <th>1</th>\n",
       "      <td>[]</td>\n",
       "      <td>[Milk]</td>\n",
       "      <td>0.50</td>\n",
       "      <td>0.500000</td>\n",
       "      <td>1.000000</td>\n",
       "    </tr>\n",
       "    <tr>\n",
       "      <th>2</th>\n",
       "      <td>[]</td>\n",
       "      <td>[Saffron]</td>\n",
       "      <td>0.75</td>\n",
       "      <td>0.750000</td>\n",
       "      <td>1.000000</td>\n",
       "    </tr>\n",
       "    <tr>\n",
       "      <th>3</th>\n",
       "      <td>[]</td>\n",
       "      <td>[Wafer]</td>\n",
       "      <td>0.50</td>\n",
       "      <td>0.500000</td>\n",
       "      <td>1.000000</td>\n",
       "    </tr>\n",
       "    <tr>\n",
       "      <th>4</th>\n",
       "      <td>[Milk]</td>\n",
       "      <td>[Bread]</td>\n",
       "      <td>0.25</td>\n",
       "      <td>0.500000</td>\n",
       "      <td>0.666667</td>\n",
       "    </tr>\n",
       "    <tr>\n",
       "      <th>5</th>\n",
       "      <td>[]</td>\n",
       "      <td>[Bread, Saffron]</td>\n",
       "      <td>0.50</td>\n",
       "      <td>0.500000</td>\n",
       "      <td>1.000000</td>\n",
       "    </tr>\n",
       "    <tr>\n",
       "      <th>6</th>\n",
       "      <td>[Bread]</td>\n",
       "      <td>[Saffron]</td>\n",
       "      <td>0.50</td>\n",
       "      <td>0.666667</td>\n",
       "      <td>0.888889</td>\n",
       "    </tr>\n",
       "    <tr>\n",
       "      <th>7</th>\n",
       "      <td>[Saffron]</td>\n",
       "      <td>[Bread]</td>\n",
       "      <td>0.50</td>\n",
       "      <td>0.666667</td>\n",
       "      <td>0.888889</td>\n",
       "    </tr>\n",
       "    <tr>\n",
       "      <th>8</th>\n",
       "      <td>[]</td>\n",
       "      <td>[Wafer, Bread]</td>\n",
       "      <td>0.50</td>\n",
       "      <td>0.500000</td>\n",
       "      <td>1.000000</td>\n",
       "    </tr>\n",
       "    <tr>\n",
       "      <th>9</th>\n",
       "      <td>[Bread]</td>\n",
       "      <td>[Wafer]</td>\n",
       "      <td>0.50</td>\n",
       "      <td>0.666667</td>\n",
       "      <td>1.333333</td>\n",
       "    </tr>\n",
       "    <tr>\n",
       "      <th>10</th>\n",
       "      <td>[Wafer]</td>\n",
       "      <td>[Bread]</td>\n",
       "      <td>0.50</td>\n",
       "      <td>1.000000</td>\n",
       "      <td>1.333333</td>\n",
       "    </tr>\n",
       "    <tr>\n",
       "      <th>11</th>\n",
       "      <td>[]</td>\n",
       "      <td>[Milk, Saffron]</td>\n",
       "      <td>0.50</td>\n",
       "      <td>0.500000</td>\n",
       "      <td>1.000000</td>\n",
       "    </tr>\n",
       "    <tr>\n",
       "      <th>12</th>\n",
       "      <td>[Milk]</td>\n",
       "      <td>[Saffron]</td>\n",
       "      <td>0.50</td>\n",
       "      <td>1.000000</td>\n",
       "      <td>1.333333</td>\n",
       "    </tr>\n",
       "    <tr>\n",
       "      <th>13</th>\n",
       "      <td>[Saffron]</td>\n",
       "      <td>[Milk]</td>\n",
       "      <td>0.50</td>\n",
       "      <td>0.666667</td>\n",
       "      <td>1.333333</td>\n",
       "    </tr>\n",
       "    <tr>\n",
       "      <th>14</th>\n",
       "      <td>[Wafer]</td>\n",
       "      <td>[Saffron]</td>\n",
       "      <td>0.25</td>\n",
       "      <td>0.500000</td>\n",
       "      <td>0.666667</td>\n",
       "    </tr>\n",
       "    <tr>\n",
       "      <th>15</th>\n",
       "      <td>[Milk]</td>\n",
       "      <td>[Bread, Saffron]</td>\n",
       "      <td>0.25</td>\n",
       "      <td>0.500000</td>\n",
       "      <td>1.000000</td>\n",
       "    </tr>\n",
       "    <tr>\n",
       "      <th>16</th>\n",
       "      <td>[Bread, Milk]</td>\n",
       "      <td>[Saffron]</td>\n",
       "      <td>0.25</td>\n",
       "      <td>1.000000</td>\n",
       "      <td>1.333333</td>\n",
       "    </tr>\n",
       "    <tr>\n",
       "      <th>17</th>\n",
       "      <td>[Bread, Saffron]</td>\n",
       "      <td>[Milk]</td>\n",
       "      <td>0.25</td>\n",
       "      <td>0.500000</td>\n",
       "      <td>1.000000</td>\n",
       "    </tr>\n",
       "    <tr>\n",
       "      <th>18</th>\n",
       "      <td>[Saffron, Milk]</td>\n",
       "      <td>[Bread]</td>\n",
       "      <td>0.25</td>\n",
       "      <td>0.500000</td>\n",
       "      <td>0.666667</td>\n",
       "    </tr>\n",
       "    <tr>\n",
       "      <th>19</th>\n",
       "      <td>[Wafer]</td>\n",
       "      <td>[Bread, Saffron]</td>\n",
       "      <td>0.25</td>\n",
       "      <td>0.500000</td>\n",
       "      <td>1.000000</td>\n",
       "    </tr>\n",
       "    <tr>\n",
       "      <th>20</th>\n",
       "      <td>[Bread, Saffron]</td>\n",
       "      <td>[Wafer]</td>\n",
       "      <td>0.25</td>\n",
       "      <td>0.500000</td>\n",
       "      <td>1.000000</td>\n",
       "    </tr>\n",
       "    <tr>\n",
       "      <th>21</th>\n",
       "      <td>[Wafer, Bread]</td>\n",
       "      <td>[Saffron]</td>\n",
       "      <td>0.25</td>\n",
       "      <td>0.500000</td>\n",
       "      <td>0.666667</td>\n",
       "    </tr>\n",
       "    <tr>\n",
       "      <th>22</th>\n",
       "      <td>[Wafer, Saffron]</td>\n",
       "      <td>[Bread]</td>\n",
       "      <td>0.25</td>\n",
       "      <td>1.000000</td>\n",
       "      <td>1.333333</td>\n",
       "    </tr>\n",
       "  </tbody>\n",
       "</table>\n",
       "</div>"
      ],
      "text/plain": [
       "                 LHS               RHS  Support  Confidence      Lift\n",
       "0                 []           [Bread]     0.75    0.750000  1.000000\n",
       "1                 []            [Milk]     0.50    0.500000  1.000000\n",
       "2                 []         [Saffron]     0.75    0.750000  1.000000\n",
       "3                 []           [Wafer]     0.50    0.500000  1.000000\n",
       "4             [Milk]           [Bread]     0.25    0.500000  0.666667\n",
       "5                 []  [Bread, Saffron]     0.50    0.500000  1.000000\n",
       "6            [Bread]         [Saffron]     0.50    0.666667  0.888889\n",
       "7          [Saffron]           [Bread]     0.50    0.666667  0.888889\n",
       "8                 []    [Wafer, Bread]     0.50    0.500000  1.000000\n",
       "9            [Bread]           [Wafer]     0.50    0.666667  1.333333\n",
       "10           [Wafer]           [Bread]     0.50    1.000000  1.333333\n",
       "11                []   [Milk, Saffron]     0.50    0.500000  1.000000\n",
       "12            [Milk]         [Saffron]     0.50    1.000000  1.333333\n",
       "13         [Saffron]            [Milk]     0.50    0.666667  1.333333\n",
       "14           [Wafer]         [Saffron]     0.25    0.500000  0.666667\n",
       "15            [Milk]  [Bread, Saffron]     0.25    0.500000  1.000000\n",
       "16     [Bread, Milk]         [Saffron]     0.25    1.000000  1.333333\n",
       "17  [Bread, Saffron]            [Milk]     0.25    0.500000  1.000000\n",
       "18   [Saffron, Milk]           [Bread]     0.25    0.500000  0.666667\n",
       "19           [Wafer]  [Bread, Saffron]     0.25    0.500000  1.000000\n",
       "20  [Bread, Saffron]           [Wafer]     0.25    0.500000  1.000000\n",
       "21    [Wafer, Bread]         [Saffron]     0.25    0.500000  0.666667\n",
       "22  [Wafer, Saffron]           [Bread]     0.25    1.000000  1.333333"
      ]
     },
     "execution_count": 69,
     "metadata": {},
     "output_type": "execute_result"
    }
   ],
   "source": [
    "associationRules = ARutils.extract(Rules)\n",
    "rules_df = pd.DataFrame(associationRules, columns=['LHS','RHS','Support','Confidence','Lift'])\n",
    "rules_df"
   ]
  },
  {
   "cell_type": "code",
   "execution_count": 70,
   "id": "a4a8de49-7cb7-49d4-b7af-d476a5b77995",
   "metadata": {},
   "outputs": [
    {
     "name": "stdout",
     "output_type": "stream",
     "text": [
      "The number of associated rules: 23\n",
      "LHS: [] --> RHS:['Bread'], support: 0.75, confidence: 0.75, lift: 1.00\n",
      "--------------------------------------------------------------------------------\n",
      "LHS: [] --> RHS:['Milk'], support: 0.50, confidence: 0.50, lift: 1.00\n",
      "--------------------------------------------------------------------------------\n",
      "LHS: [] --> RHS:['Saffron'], support: 0.75, confidence: 0.75, lift: 1.00\n",
      "--------------------------------------------------------------------------------\n",
      "LHS: [] --> RHS:['Wafer'], support: 0.50, confidence: 0.50, lift: 1.00\n",
      "--------------------------------------------------------------------------------\n",
      "LHS: ['Milk'] --> RHS:['Bread'], support: 0.25, confidence: 0.50, lift: 0.67\n",
      "--------------------------------------------------------------------------------\n",
      "LHS: [] --> RHS:['Bread', 'Saffron'], support: 0.50, confidence: 0.50, lift: 1.00\n",
      "--------------------------------------------------------------------------------\n",
      "LHS: ['Bread'] --> RHS:['Saffron'], support: 0.50, confidence: 0.67, lift: 0.89\n",
      "--------------------------------------------------------------------------------\n",
      "LHS: ['Saffron'] --> RHS:['Bread'], support: 0.50, confidence: 0.67, lift: 0.89\n",
      "--------------------------------------------------------------------------------\n",
      "LHS: [] --> RHS:['Wafer', 'Bread'], support: 0.50, confidence: 0.50, lift: 1.00\n",
      "--------------------------------------------------------------------------------\n",
      "LHS: ['Bread'] --> RHS:['Wafer'], support: 0.50, confidence: 0.67, lift: 1.33\n",
      "--------------------------------------------------------------------------------\n",
      "LHS: ['Wafer'] --> RHS:['Bread'], support: 0.50, confidence: 1.00, lift: 1.33\n",
      "--------------------------------------------------------------------------------\n",
      "LHS: [] --> RHS:['Milk', 'Saffron'], support: 0.50, confidence: 0.50, lift: 1.00\n",
      "--------------------------------------------------------------------------------\n",
      "LHS: ['Milk'] --> RHS:['Saffron'], support: 0.50, confidence: 1.00, lift: 1.33\n",
      "--------------------------------------------------------------------------------\n",
      "LHS: ['Saffron'] --> RHS:['Milk'], support: 0.50, confidence: 0.67, lift: 1.33\n",
      "--------------------------------------------------------------------------------\n",
      "LHS: ['Wafer'] --> RHS:['Saffron'], support: 0.25, confidence: 0.50, lift: 0.67\n",
      "--------------------------------------------------------------------------------\n",
      "LHS: ['Milk'] --> RHS:['Bread', 'Saffron'], support: 0.25, confidence: 0.50, lift: 1.00\n",
      "--------------------------------------------------------------------------------\n",
      "LHS: ['Bread', 'Milk'] --> RHS:['Saffron'], support: 0.25, confidence: 1.00, lift: 1.33\n",
      "--------------------------------------------------------------------------------\n",
      "LHS: ['Bread', 'Saffron'] --> RHS:['Milk'], support: 0.25, confidence: 0.50, lift: 1.00\n",
      "--------------------------------------------------------------------------------\n",
      "LHS: ['Saffron', 'Milk'] --> RHS:['Bread'], support: 0.25, confidence: 0.50, lift: 0.67\n",
      "--------------------------------------------------------------------------------\n",
      "LHS: ['Wafer'] --> RHS:['Bread', 'Saffron'], support: 0.25, confidence: 0.50, lift: 1.00\n",
      "--------------------------------------------------------------------------------\n",
      "LHS: ['Bread', 'Saffron'] --> RHS:['Wafer'], support: 0.25, confidence: 0.50, lift: 1.00\n",
      "--------------------------------------------------------------------------------\n",
      "LHS: ['Wafer', 'Bread'] --> RHS:['Saffron'], support: 0.25, confidence: 0.50, lift: 0.67\n",
      "--------------------------------------------------------------------------------\n",
      "LHS: ['Wafer', 'Saffron'] --> RHS:['Bread'], support: 0.25, confidence: 1.00, lift: 1.33\n",
      "--------------------------------------------------------------------------------\n"
     ]
    }
   ],
   "source": [
    "ARutils.inspect(associationRules)"
   ]
  },
  {
   "cell_type": "code",
   "execution_count": 71,
   "id": "c3797121-e45b-482b-b27d-48dab5068163",
   "metadata": {},
   "outputs": [],
   "source": [
    "# Pre process the main dataset\n",
    "transactions = ARutils.data_prepare(store_data)"
   ]
  },
  {
   "cell_type": "code",
   "execution_count": 72,
   "id": "b2c8646e-9b2d-4d22-bc34-7b28b133ec8e",
   "metadata": {},
   "outputs": [
    {
     "data": {
      "text/plain": [
       "27348"
      ]
     },
     "execution_count": 72,
     "metadata": {},
     "output_type": "execute_result"
    }
   ],
   "source": [
    "Rules = list(apriori(transactions,min_support=0.02,  min_confidence=0.2))\n",
    "associationRules = ARutils.extract(Rules)\n",
    "rules_df = pd.DataFrame(associationRules, columns=['LHS', 'RHS','Support','Confidence','Lift'])\n",
    "len(rules_df)"
   ]
  },
  {
   "cell_type": "code",
   "execution_count": 73,
   "id": "9d6fde65-ffe0-45b6-833c-498ad56d6eb7",
   "metadata": {},
   "outputs": [
    {
     "data": {
      "text/html": [
       "<div>\n",
       "<style scoped>\n",
       "    .dataframe tbody tr th:only-of-type {\n",
       "        vertical-align: middle;\n",
       "    }\n",
       "\n",
       "    .dataframe tbody tr th {\n",
       "        vertical-align: top;\n",
       "    }\n",
       "\n",
       "    .dataframe thead th {\n",
       "        text-align: right;\n",
       "    }\n",
       "</style>\n",
       "<table border=\"1\" class=\"dataframe\">\n",
       "  <thead>\n",
       "    <tr style=\"text-align: right;\">\n",
       "      <th></th>\n",
       "      <th>LHS</th>\n",
       "      <th>RHS</th>\n",
       "      <th>Support</th>\n",
       "      <th>Confidence</th>\n",
       "      <th>Lift</th>\n",
       "    </tr>\n",
       "  </thead>\n",
       "  <tbody>\n",
       "    <tr>\n",
       "      <th>26986</th>\n",
       "      <td>[baguette, coke, choclate, bourbon]</td>\n",
       "      <td>[cracker, turkey, soda, banana]</td>\n",
       "      <td>0.022</td>\n",
       "      <td>0.400000</td>\n",
       "      <td>16.666667</td>\n",
       "    </tr>\n",
       "    <tr>\n",
       "      <th>27024</th>\n",
       "      <td>[cracker, turkey, soda, banana]</td>\n",
       "      <td>[baguette, coke, choclate, bourbon]</td>\n",
       "      <td>0.022</td>\n",
       "      <td>0.916667</td>\n",
       "      <td>16.666667</td>\n",
       "    </tr>\n",
       "    <tr>\n",
       "      <th>26990</th>\n",
       "      <td>[baguette, cracker, coke, bourbon]</td>\n",
       "      <td>[turkey, choclate, soda, banana]</td>\n",
       "      <td>0.022</td>\n",
       "      <td>0.423077</td>\n",
       "      <td>16.272189</td>\n",
       "    </tr>\n",
       "    <tr>\n",
       "      <th>27020</th>\n",
       "      <td>[turkey, choclate, soda, banana]</td>\n",
       "      <td>[baguette, cracker, coke, bourbon]</td>\n",
       "      <td>0.022</td>\n",
       "      <td>0.846154</td>\n",
       "      <td>16.272189</td>\n",
       "    </tr>\n",
       "    <tr>\n",
       "      <th>27212</th>\n",
       "      <td>[sardines, baguette, cracker, coke]</td>\n",
       "      <td>[turkey, choclate, bourbon, soda]</td>\n",
       "      <td>0.021</td>\n",
       "      <td>0.552632</td>\n",
       "      <td>16.253870</td>\n",
       "    </tr>\n",
       "    <tr>\n",
       "      <th>27230</th>\n",
       "      <td>[turkey, choclate, bourbon, soda]</td>\n",
       "      <td>[sardines, baguette, cracker, coke]</td>\n",
       "      <td>0.021</td>\n",
       "      <td>0.617647</td>\n",
       "      <td>16.253870</td>\n",
       "    </tr>\n",
       "    <tr>\n",
       "      <th>27013</th>\n",
       "      <td>[cracker, turkey, bourbon, banana]</td>\n",
       "      <td>[baguette, choclate, coke, soda]</td>\n",
       "      <td>0.022</td>\n",
       "      <td>0.647059</td>\n",
       "      <td>16.176471</td>\n",
       "    </tr>\n",
       "    <tr>\n",
       "      <th>26997</th>\n",
       "      <td>[baguette, choclate, coke, soda]</td>\n",
       "      <td>[cracker, turkey, bourbon, banana]</td>\n",
       "      <td>0.022</td>\n",
       "      <td>0.550000</td>\n",
       "      <td>16.176471</td>\n",
       "    </tr>\n",
       "    <tr>\n",
       "      <th>27176</th>\n",
       "      <td>[turkey, choclate, soda]</td>\n",
       "      <td>[bourbon, baguette, sardines, cracker, coke]</td>\n",
       "      <td>0.021</td>\n",
       "      <td>0.552632</td>\n",
       "      <td>15.789474</td>\n",
       "    </tr>\n",
       "    <tr>\n",
       "      <th>27266</th>\n",
       "      <td>[bourbon, baguette, sardines, cracker, coke]</td>\n",
       "      <td>[turkey, choclate, soda]</td>\n",
       "      <td>0.021</td>\n",
       "      <td>0.600000</td>\n",
       "      <td>15.789474</td>\n",
       "    </tr>\n",
       "  </tbody>\n",
       "</table>\n",
       "</div>"
      ],
      "text/plain": [
       "                                                LHS  \\\n",
       "26986           [baguette, coke, choclate, bourbon]   \n",
       "27024               [cracker, turkey, soda, banana]   \n",
       "26990            [baguette, cracker, coke, bourbon]   \n",
       "27020              [turkey, choclate, soda, banana]   \n",
       "27212           [sardines, baguette, cracker, coke]   \n",
       "27230             [turkey, choclate, bourbon, soda]   \n",
       "27013            [cracker, turkey, bourbon, banana]   \n",
       "26997              [baguette, choclate, coke, soda]   \n",
       "27176                      [turkey, choclate, soda]   \n",
       "27266  [bourbon, baguette, sardines, cracker, coke]   \n",
       "\n",
       "                                                RHS  Support  Confidence  \\\n",
       "26986               [cracker, turkey, soda, banana]    0.022    0.400000   \n",
       "27024           [baguette, coke, choclate, bourbon]    0.022    0.916667   \n",
       "26990              [turkey, choclate, soda, banana]    0.022    0.423077   \n",
       "27020            [baguette, cracker, coke, bourbon]    0.022    0.846154   \n",
       "27212             [turkey, choclate, bourbon, soda]    0.021    0.552632   \n",
       "27230           [sardines, baguette, cracker, coke]    0.021    0.617647   \n",
       "27013              [baguette, choclate, coke, soda]    0.022    0.647059   \n",
       "26997            [cracker, turkey, bourbon, banana]    0.022    0.550000   \n",
       "27176  [bourbon, baguette, sardines, cracker, coke]    0.021    0.552632   \n",
       "27266                      [turkey, choclate, soda]    0.021    0.600000   \n",
       "\n",
       "            Lift  \n",
       "26986  16.666667  \n",
       "27024  16.666667  \n",
       "26990  16.272189  \n",
       "27020  16.272189  \n",
       "27212  16.253870  \n",
       "27230  16.253870  \n",
       "27013  16.176471  \n",
       "26997  16.176471  \n",
       "27176  15.789474  \n",
       "27266  15.789474  "
      ]
     },
     "execution_count": 73,
     "metadata": {},
     "output_type": "execute_result"
    }
   ],
   "source": [
    "rules_df.nlargest(10,'Lift')"
   ]
  },
  {
   "cell_type": "code",
   "execution_count": 74,
   "id": "dcb192b0-97be-47dc-bac5-8f02593e3ed0",
   "metadata": {},
   "outputs": [
    {
     "data": {
      "text/html": [
       "<div>\n",
       "<style scoped>\n",
       "    .dataframe tbody tr th:only-of-type {\n",
       "        vertical-align: middle;\n",
       "    }\n",
       "\n",
       "    .dataframe tbody tr th {\n",
       "        vertical-align: top;\n",
       "    }\n",
       "\n",
       "    .dataframe thead th {\n",
       "        text-align: right;\n",
       "    }\n",
       "</style>\n",
       "<table border=\"1\" class=\"dataframe\">\n",
       "  <thead>\n",
       "    <tr style=\"text-align: right;\">\n",
       "      <th></th>\n",
       "      <th>LHS</th>\n",
       "      <th>RHS</th>\n",
       "      <th>Support</th>\n",
       "      <th>Confidence</th>\n",
       "      <th>Lift</th>\n",
       "    </tr>\n",
       "  </thead>\n",
       "  <tbody>\n",
       "    <tr>\n",
       "      <th>7</th>\n",
       "      <td>[]</td>\n",
       "      <td>[cosmetics]</td>\n",
       "      <td>0.536</td>\n",
       "      <td>0.536000</td>\n",
       "      <td>1.000000</td>\n",
       "    </tr>\n",
       "    <tr>\n",
       "      <th>1</th>\n",
       "      <td>[]</td>\n",
       "      <td>[avocado]</td>\n",
       "      <td>0.490</td>\n",
       "      <td>0.490000</td>\n",
       "      <td>1.000000</td>\n",
       "    </tr>\n",
       "    <tr>\n",
       "      <th>9</th>\n",
       "      <td>[]</td>\n",
       "      <td>[sardines]</td>\n",
       "      <td>0.457</td>\n",
       "      <td>0.457000</td>\n",
       "      <td>1.000000</td>\n",
       "    </tr>\n",
       "    <tr>\n",
       "      <th>4</th>\n",
       "      <td>[]</td>\n",
       "      <td>[bourbon]</td>\n",
       "      <td>0.442</td>\n",
       "      <td>0.442000</td>\n",
       "      <td>1.000000</td>\n",
       "    </tr>\n",
       "    <tr>\n",
       "      <th>8</th>\n",
       "      <td>[]</td>\n",
       "      <td>[cracker]</td>\n",
       "      <td>0.381</td>\n",
       "      <td>0.381000</td>\n",
       "      <td>1.000000</td>\n",
       "    </tr>\n",
       "    <tr>\n",
       "      <th>3</th>\n",
       "      <td>[]</td>\n",
       "      <td>[banana]</td>\n",
       "      <td>0.363</td>\n",
       "      <td>0.363000</td>\n",
       "      <td>1.000000</td>\n",
       "    </tr>\n",
       "    <tr>\n",
       "      <th>5</th>\n",
       "      <td>[]</td>\n",
       "      <td>[choclate]</td>\n",
       "      <td>0.357</td>\n",
       "      <td>0.357000</td>\n",
       "      <td>1.000000</td>\n",
       "    </tr>\n",
       "    <tr>\n",
       "      <th>55</th>\n",
       "      <td>[]</td>\n",
       "      <td>[cosmetics, avocado]</td>\n",
       "      <td>0.356</td>\n",
       "      <td>0.356000</td>\n",
       "      <td>1.000000</td>\n",
       "    </tr>\n",
       "    <tr>\n",
       "      <th>56</th>\n",
       "      <td>[avocado]</td>\n",
       "      <td>[cosmetics]</td>\n",
       "      <td>0.356</td>\n",
       "      <td>0.726531</td>\n",
       "      <td>1.355468</td>\n",
       "    </tr>\n",
       "    <tr>\n",
       "      <th>57</th>\n",
       "      <td>[cosmetics]</td>\n",
       "      <td>[avocado]</td>\n",
       "      <td>0.356</td>\n",
       "      <td>0.664179</td>\n",
       "      <td>1.355468</td>\n",
       "    </tr>\n",
       "  </tbody>\n",
       "</table>\n",
       "</div>"
      ],
      "text/plain": [
       "            LHS                   RHS  Support  Confidence      Lift\n",
       "7            []           [cosmetics]    0.536    0.536000  1.000000\n",
       "1            []             [avocado]    0.490    0.490000  1.000000\n",
       "9            []            [sardines]    0.457    0.457000  1.000000\n",
       "4            []             [bourbon]    0.442    0.442000  1.000000\n",
       "8            []             [cracker]    0.381    0.381000  1.000000\n",
       "3            []              [banana]    0.363    0.363000  1.000000\n",
       "5            []            [choclate]    0.357    0.357000  1.000000\n",
       "55           []  [cosmetics, avocado]    0.356    0.356000  1.000000\n",
       "56    [avocado]           [cosmetics]    0.356    0.726531  1.355468\n",
       "57  [cosmetics]             [avocado]    0.356    0.664179  1.355468"
      ]
     },
     "execution_count": 74,
     "metadata": {},
     "output_type": "execute_result"
    }
   ],
   "source": [
    "rules_df.nlargest(10,'Support')"
   ]
  },
  {
   "cell_type": "code",
   "execution_count": 75,
   "id": "e109c326-e8c2-4f65-b9b3-e177b3e3e822",
   "metadata": {},
   "outputs": [
    {
     "data": {
      "text/html": [
       "<div>\n",
       "<style scoped>\n",
       "    .dataframe tbody tr th:only-of-type {\n",
       "        vertical-align: middle;\n",
       "    }\n",
       "\n",
       "    .dataframe tbody tr th {\n",
       "        vertical-align: top;\n",
       "    }\n",
       "\n",
       "    .dataframe thead th {\n",
       "        text-align: right;\n",
       "    }\n",
       "</style>\n",
       "<table border=\"1\" class=\"dataframe\">\n",
       "  <thead>\n",
       "    <tr style=\"text-align: right;\">\n",
       "      <th></th>\n",
       "      <th>LHS</th>\n",
       "      <th>RHS</th>\n",
       "      <th>Support</th>\n",
       "      <th>Confidence</th>\n",
       "      <th>Lift</th>\n",
       "    </tr>\n",
       "  </thead>\n",
       "  <tbody>\n",
       "    <tr>\n",
       "      <th>144</th>\n",
       "      <td>[turkey]</td>\n",
       "      <td>[coke]</td>\n",
       "      <td>0.149</td>\n",
       "      <td>1.0</td>\n",
       "      <td>3.571429</td>\n",
       "    </tr>\n",
       "    <tr>\n",
       "      <th>209</th>\n",
       "      <td>[apples, turkey]</td>\n",
       "      <td>[coke]</td>\n",
       "      <td>0.020</td>\n",
       "      <td>1.0</td>\n",
       "      <td>3.571429</td>\n",
       "    </tr>\n",
       "    <tr>\n",
       "      <th>363</th>\n",
       "      <td>[artichoke, turkey]</td>\n",
       "      <td>[coke]</td>\n",
       "      <td>0.049</td>\n",
       "      <td>1.0</td>\n",
       "      <td>3.571429</td>\n",
       "    </tr>\n",
       "    <tr>\n",
       "      <th>551</th>\n",
       "      <td>[turkey, avocado]</td>\n",
       "      <td>[coke]</td>\n",
       "      <td>0.068</td>\n",
       "      <td>1.0</td>\n",
       "      <td>3.571429</td>\n",
       "    </tr>\n",
       "    <tr>\n",
       "      <th>726</th>\n",
       "      <td>[baguette, turkey]</td>\n",
       "      <td>[coke]</td>\n",
       "      <td>0.097</td>\n",
       "      <td>1.0</td>\n",
       "      <td>3.571429</td>\n",
       "    </tr>\n",
       "    <tr>\n",
       "      <th>860</th>\n",
       "      <td>[turkey, banana]</td>\n",
       "      <td>[coke]</td>\n",
       "      <td>0.070</td>\n",
       "      <td>1.0</td>\n",
       "      <td>3.571429</td>\n",
       "    </tr>\n",
       "    <tr>\n",
       "      <th>965</th>\n",
       "      <td>[turkey, bourbon]</td>\n",
       "      <td>[coke]</td>\n",
       "      <td>0.092</td>\n",
       "      <td>1.0</td>\n",
       "      <td>3.571429</td>\n",
       "    </tr>\n",
       "    <tr>\n",
       "      <th>1038</th>\n",
       "      <td>[turkey, choclate]</td>\n",
       "      <td>[coke]</td>\n",
       "      <td>0.083</td>\n",
       "      <td>1.0</td>\n",
       "      <td>3.571429</td>\n",
       "    </tr>\n",
       "    <tr>\n",
       "      <th>1058</th>\n",
       "      <td>[ice_cream, choclate]</td>\n",
       "      <td>[cracker]</td>\n",
       "      <td>0.023</td>\n",
       "      <td>1.0</td>\n",
       "      <td>2.624672</td>\n",
       "    </tr>\n",
       "    <tr>\n",
       "      <th>1104</th>\n",
       "      <td>[cosmetics, turkey]</td>\n",
       "      <td>[coke]</td>\n",
       "      <td>0.074</td>\n",
       "      <td>1.0</td>\n",
       "      <td>3.571429</td>\n",
       "    </tr>\n",
       "  </tbody>\n",
       "</table>\n",
       "</div>"
      ],
      "text/plain": [
       "                        LHS        RHS  Support  Confidence      Lift\n",
       "144                [turkey]     [coke]    0.149         1.0  3.571429\n",
       "209        [apples, turkey]     [coke]    0.020         1.0  3.571429\n",
       "363     [artichoke, turkey]     [coke]    0.049         1.0  3.571429\n",
       "551       [turkey, avocado]     [coke]    0.068         1.0  3.571429\n",
       "726      [baguette, turkey]     [coke]    0.097         1.0  3.571429\n",
       "860        [turkey, banana]     [coke]    0.070         1.0  3.571429\n",
       "965       [turkey, bourbon]     [coke]    0.092         1.0  3.571429\n",
       "1038     [turkey, choclate]     [coke]    0.083         1.0  3.571429\n",
       "1058  [ice_cream, choclate]  [cracker]    0.023         1.0  2.624672\n",
       "1104    [cosmetics, turkey]     [coke]    0.074         1.0  3.571429"
      ]
     },
     "execution_count": 75,
     "metadata": {},
     "output_type": "execute_result"
    }
   ],
   "source": [
    "rules_df.nlargest(10,'Confidence')"
   ]
  },
  {
   "cell_type": "code",
   "execution_count": 76,
   "id": "4b5e2b96-c9e7-4c54-b592-db0b15b950c1",
   "metadata": {},
   "outputs": [
    {
     "data": {
      "text/html": [
       "<div>\n",
       "<style scoped>\n",
       "    .dataframe tbody tr th:only-of-type {\n",
       "        vertical-align: middle;\n",
       "    }\n",
       "\n",
       "    .dataframe tbody tr th {\n",
       "        vertical-align: top;\n",
       "    }\n",
       "\n",
       "    .dataframe thead th {\n",
       "        text-align: right;\n",
       "    }\n",
       "</style>\n",
       "<table border=\"1\" class=\"dataframe\">\n",
       "  <thead>\n",
       "    <tr style=\"text-align: right;\">\n",
       "      <th></th>\n",
       "      <th>LHS</th>\n",
       "      <th>RHS</th>\n",
       "      <th>Support</th>\n",
       "      <th>Confidence</th>\n",
       "      <th>Lift</th>\n",
       "    </tr>\n",
       "  </thead>\n",
       "  <tbody>\n",
       "    <tr>\n",
       "      <th>56</th>\n",
       "      <td>[avocado]</td>\n",
       "      <td>[cosmetics]</td>\n",
       "      <td>0.356</td>\n",
       "      <td>0.726531</td>\n",
       "      <td>1.355468</td>\n",
       "    </tr>\n",
       "    <tr>\n",
       "      <th>57</th>\n",
       "      <td>[cosmetics]</td>\n",
       "      <td>[avocado]</td>\n",
       "      <td>0.356</td>\n",
       "      <td>0.664179</td>\n",
       "      <td>1.355468</td>\n",
       "    </tr>\n",
       "    <tr>\n",
       "      <th>126</th>\n",
       "      <td>[choclate]</td>\n",
       "      <td>[cracker]</td>\n",
       "      <td>0.321</td>\n",
       "      <td>0.899160</td>\n",
       "      <td>2.359999</td>\n",
       "    </tr>\n",
       "    <tr>\n",
       "      <th>127</th>\n",
       "      <td>[cracker]</td>\n",
       "      <td>[choclate]</td>\n",
       "      <td>0.321</td>\n",
       "      <td>0.842520</td>\n",
       "      <td>2.359999</td>\n",
       "    </tr>\n",
       "    <tr>\n",
       "      <th>115</th>\n",
       "      <td>[bourbon]</td>\n",
       "      <td>[sardines]</td>\n",
       "      <td>0.297</td>\n",
       "      <td>0.671946</td>\n",
       "      <td>1.470341</td>\n",
       "    </tr>\n",
       "    <tr>\n",
       "      <th>116</th>\n",
       "      <td>[sardines]</td>\n",
       "      <td>[bourbon]</td>\n",
       "      <td>0.297</td>\n",
       "      <td>0.649891</td>\n",
       "      <td>1.470341</td>\n",
       "    </tr>\n",
       "    <tr>\n",
       "      <th>149</th>\n",
       "      <td>[cosmetics]</td>\n",
       "      <td>[sardines]</td>\n",
       "      <td>0.238</td>\n",
       "      <td>0.444030</td>\n",
       "      <td>0.971619</td>\n",
       "    </tr>\n",
       "    <tr>\n",
       "      <th>150</th>\n",
       "      <td>[sardines]</td>\n",
       "      <td>[cosmetics]</td>\n",
       "      <td>0.238</td>\n",
       "      <td>0.520788</td>\n",
       "      <td>0.971619</td>\n",
       "    </tr>\n",
       "    <tr>\n",
       "      <th>108</th>\n",
       "      <td>[bourbon]</td>\n",
       "      <td>[cosmetics]</td>\n",
       "      <td>0.231</td>\n",
       "      <td>0.522624</td>\n",
       "      <td>0.975046</td>\n",
       "    </tr>\n",
       "    <tr>\n",
       "      <th>109</th>\n",
       "      <td>[cosmetics]</td>\n",
       "      <td>[bourbon]</td>\n",
       "      <td>0.231</td>\n",
       "      <td>0.430970</td>\n",
       "      <td>0.975046</td>\n",
       "    </tr>\n",
       "  </tbody>\n",
       "</table>\n",
       "</div>"
      ],
      "text/plain": [
       "             LHS          RHS  Support  Confidence      Lift\n",
       "56     [avocado]  [cosmetics]    0.356    0.726531  1.355468\n",
       "57   [cosmetics]    [avocado]    0.356    0.664179  1.355468\n",
       "126   [choclate]    [cracker]    0.321    0.899160  2.359999\n",
       "127    [cracker]   [choclate]    0.321    0.842520  2.359999\n",
       "115    [bourbon]   [sardines]    0.297    0.671946  1.470341\n",
       "116   [sardines]    [bourbon]    0.297    0.649891  1.470341\n",
       "149  [cosmetics]   [sardines]    0.238    0.444030  0.971619\n",
       "150   [sardines]  [cosmetics]    0.238    0.520788  0.971619\n",
       "108    [bourbon]  [cosmetics]    0.231    0.522624  0.975046\n",
       "109  [cosmetics]    [bourbon]    0.231    0.430970  0.975046"
      ]
     },
     "execution_count": 76,
     "metadata": {},
     "output_type": "execute_result"
    }
   ],
   "source": [
    "rules_df[rules_df['LHS'].apply(lambda x: len(x) > 0)].nlargest(10,'Support')"
   ]
  },
  {
   "cell_type": "code",
   "execution_count": 77,
   "id": "4651dae9-11a9-4bf9-8751-b5d74caddd1e",
   "metadata": {},
   "outputs": [
    {
     "data": {
      "text/plain": [
       "1168"
      ]
     },
     "execution_count": 77,
     "metadata": {},
     "output_type": "execute_result"
    }
   ],
   "source": [
    "Rules = list(apriori(transactions,min_support=0.02,  min_confidence=0.2, max_length=3))\n",
    "associationRules = ARutils.extract(Rules)\n",
    "rules_df = pd.DataFrame(associationRules, columns=['LHS', 'RHS','Support','Confidence','Lift'])\n",
    "len(rules_df)"
   ]
  },
  {
   "cell_type": "code",
   "execution_count": 78,
   "id": "5c1eb562-debf-42d5-9534-b19d62bb14dd",
   "metadata": {},
   "outputs": [
    {
     "data": {
      "text/html": [
       "<div>\n",
       "<style scoped>\n",
       "    .dataframe tbody tr th:only-of-type {\n",
       "        vertical-align: middle;\n",
       "    }\n",
       "\n",
       "    .dataframe tbody tr th {\n",
       "        vertical-align: top;\n",
       "    }\n",
       "\n",
       "    .dataframe thead th {\n",
       "        text-align: right;\n",
       "    }\n",
       "</style>\n",
       "<table border=\"1\" class=\"dataframe\">\n",
       "  <thead>\n",
       "    <tr style=\"text-align: right;\">\n",
       "      <th></th>\n",
       "      <th>LHS</th>\n",
       "      <th>RHS</th>\n",
       "      <th>Support</th>\n",
       "      <th>Confidence</th>\n",
       "      <th>Lift</th>\n",
       "    </tr>\n",
       "  </thead>\n",
       "  <tbody>\n",
       "    <tr>\n",
       "      <th>724</th>\n",
       "      <td>[turkey]</td>\n",
       "      <td>[baguette, coke]</td>\n",
       "      <td>0.097</td>\n",
       "      <td>0.651007</td>\n",
       "      <td>5.208054</td>\n",
       "    </tr>\n",
       "    <tr>\n",
       "      <th>725</th>\n",
       "      <td>[baguette, coke]</td>\n",
       "      <td>[turkey]</td>\n",
       "      <td>0.097</td>\n",
       "      <td>0.776000</td>\n",
       "      <td>5.208054</td>\n",
       "    </tr>\n",
       "    <tr>\n",
       "      <th>1130</th>\n",
       "      <td>[turkey]</td>\n",
       "      <td>[coke, soda]</td>\n",
       "      <td>0.068</td>\n",
       "      <td>0.456376</td>\n",
       "      <td>4.907267</td>\n",
       "    </tr>\n",
       "    <tr>\n",
       "      <th>1131</th>\n",
       "      <td>[coke, soda]</td>\n",
       "      <td>[turkey]</td>\n",
       "      <td>0.068</td>\n",
       "      <td>0.731183</td>\n",
       "      <td>4.907267</td>\n",
       "    </tr>\n",
       "    <tr>\n",
       "      <th>208</th>\n",
       "      <td>[apples, coke]</td>\n",
       "      <td>[turkey]</td>\n",
       "      <td>0.020</td>\n",
       "      <td>0.714286</td>\n",
       "      <td>4.793864</td>\n",
       "    </tr>\n",
       "    <tr>\n",
       "      <th>1036</th>\n",
       "      <td>[turkey]</td>\n",
       "      <td>[choclate, coke]</td>\n",
       "      <td>0.083</td>\n",
       "      <td>0.557047</td>\n",
       "      <td>4.157067</td>\n",
       "    </tr>\n",
       "    <tr>\n",
       "      <th>1037</th>\n",
       "      <td>[choclate, coke]</td>\n",
       "      <td>[turkey]</td>\n",
       "      <td>0.083</td>\n",
       "      <td>0.619403</td>\n",
       "      <td>4.157067</td>\n",
       "    </tr>\n",
       "    <tr>\n",
       "      <th>1116</th>\n",
       "      <td>[cracker, coke]</td>\n",
       "      <td>[turkey]</td>\n",
       "      <td>0.081</td>\n",
       "      <td>0.618321</td>\n",
       "      <td>4.149803</td>\n",
       "    </tr>\n",
       "    <tr>\n",
       "      <th>1115</th>\n",
       "      <td>[turkey]</td>\n",
       "      <td>[cracker, coke]</td>\n",
       "      <td>0.081</td>\n",
       "      <td>0.543624</td>\n",
       "      <td>4.149803</td>\n",
       "    </tr>\n",
       "    <tr>\n",
       "      <th>963</th>\n",
       "      <td>[turkey]</td>\n",
       "      <td>[bourbon, coke]</td>\n",
       "      <td>0.092</td>\n",
       "      <td>0.617450</td>\n",
       "      <td>4.143957</td>\n",
       "    </tr>\n",
       "  </tbody>\n",
       "</table>\n",
       "</div>"
      ],
      "text/plain": [
       "                   LHS               RHS  Support  Confidence      Lift\n",
       "724           [turkey]  [baguette, coke]    0.097    0.651007  5.208054\n",
       "725   [baguette, coke]          [turkey]    0.097    0.776000  5.208054\n",
       "1130          [turkey]      [coke, soda]    0.068    0.456376  4.907267\n",
       "1131      [coke, soda]          [turkey]    0.068    0.731183  4.907267\n",
       "208     [apples, coke]          [turkey]    0.020    0.714286  4.793864\n",
       "1036          [turkey]  [choclate, coke]    0.083    0.557047  4.157067\n",
       "1037  [choclate, coke]          [turkey]    0.083    0.619403  4.157067\n",
       "1116   [cracker, coke]          [turkey]    0.081    0.618321  4.149803\n",
       "1115          [turkey]   [cracker, coke]    0.081    0.543624  4.149803\n",
       "963           [turkey]   [bourbon, coke]    0.092    0.617450  4.143957"
      ]
     },
     "execution_count": 78,
     "metadata": {},
     "output_type": "execute_result"
    }
   ],
   "source": [
    "rules_df.nlargest(10,'Lift')"
   ]
  },
  {
   "cell_type": "code",
   "execution_count": 79,
   "id": "c864b8af-363a-4ec9-b37b-0c5ac770df18",
   "metadata": {},
   "outputs": [
    {
     "data": {
      "text/html": [
       "<div>\n",
       "<style scoped>\n",
       "    .dataframe tbody tr th:only-of-type {\n",
       "        vertical-align: middle;\n",
       "    }\n",
       "\n",
       "    .dataframe tbody tr th {\n",
       "        vertical-align: top;\n",
       "    }\n",
       "\n",
       "    .dataframe thead th {\n",
       "        text-align: right;\n",
       "    }\n",
       "</style>\n",
       "<table border=\"1\" class=\"dataframe\">\n",
       "  <thead>\n",
       "    <tr style=\"text-align: right;\">\n",
       "      <th></th>\n",
       "      <th>LHS</th>\n",
       "      <th>RHS</th>\n",
       "      <th>Support</th>\n",
       "      <th>Confidence</th>\n",
       "      <th>Lift</th>\n",
       "    </tr>\n",
       "  </thead>\n",
       "  <tbody>\n",
       "    <tr>\n",
       "      <th>7</th>\n",
       "      <td>[]</td>\n",
       "      <td>[cosmetics]</td>\n",
       "      <td>0.536</td>\n",
       "      <td>0.536000</td>\n",
       "      <td>1.000000</td>\n",
       "    </tr>\n",
       "    <tr>\n",
       "      <th>1</th>\n",
       "      <td>[]</td>\n",
       "      <td>[avocado]</td>\n",
       "      <td>0.490</td>\n",
       "      <td>0.490000</td>\n",
       "      <td>1.000000</td>\n",
       "    </tr>\n",
       "    <tr>\n",
       "      <th>9</th>\n",
       "      <td>[]</td>\n",
       "      <td>[sardines]</td>\n",
       "      <td>0.457</td>\n",
       "      <td>0.457000</td>\n",
       "      <td>1.000000</td>\n",
       "    </tr>\n",
       "    <tr>\n",
       "      <th>4</th>\n",
       "      <td>[]</td>\n",
       "      <td>[bourbon]</td>\n",
       "      <td>0.442</td>\n",
       "      <td>0.442000</td>\n",
       "      <td>1.000000</td>\n",
       "    </tr>\n",
       "    <tr>\n",
       "      <th>8</th>\n",
       "      <td>[]</td>\n",
       "      <td>[cracker]</td>\n",
       "      <td>0.381</td>\n",
       "      <td>0.381000</td>\n",
       "      <td>1.000000</td>\n",
       "    </tr>\n",
       "    <tr>\n",
       "      <th>3</th>\n",
       "      <td>[]</td>\n",
       "      <td>[banana]</td>\n",
       "      <td>0.363</td>\n",
       "      <td>0.363000</td>\n",
       "      <td>1.000000</td>\n",
       "    </tr>\n",
       "    <tr>\n",
       "      <th>5</th>\n",
       "      <td>[]</td>\n",
       "      <td>[choclate]</td>\n",
       "      <td>0.357</td>\n",
       "      <td>0.357000</td>\n",
       "      <td>1.000000</td>\n",
       "    </tr>\n",
       "    <tr>\n",
       "      <th>55</th>\n",
       "      <td>[]</td>\n",
       "      <td>[cosmetics, avocado]</td>\n",
       "      <td>0.356</td>\n",
       "      <td>0.356000</td>\n",
       "      <td>1.000000</td>\n",
       "    </tr>\n",
       "    <tr>\n",
       "      <th>56</th>\n",
       "      <td>[avocado]</td>\n",
       "      <td>[cosmetics]</td>\n",
       "      <td>0.356</td>\n",
       "      <td>0.726531</td>\n",
       "      <td>1.355468</td>\n",
       "    </tr>\n",
       "    <tr>\n",
       "      <th>57</th>\n",
       "      <td>[cosmetics]</td>\n",
       "      <td>[avocado]</td>\n",
       "      <td>0.356</td>\n",
       "      <td>0.664179</td>\n",
       "      <td>1.355468</td>\n",
       "    </tr>\n",
       "  </tbody>\n",
       "</table>\n",
       "</div>"
      ],
      "text/plain": [
       "            LHS                   RHS  Support  Confidence      Lift\n",
       "7            []           [cosmetics]    0.536    0.536000  1.000000\n",
       "1            []             [avocado]    0.490    0.490000  1.000000\n",
       "9            []            [sardines]    0.457    0.457000  1.000000\n",
       "4            []             [bourbon]    0.442    0.442000  1.000000\n",
       "8            []             [cracker]    0.381    0.381000  1.000000\n",
       "3            []              [banana]    0.363    0.363000  1.000000\n",
       "5            []            [choclate]    0.357    0.357000  1.000000\n",
       "55           []  [cosmetics, avocado]    0.356    0.356000  1.000000\n",
       "56    [avocado]           [cosmetics]    0.356    0.726531  1.355468\n",
       "57  [cosmetics]             [avocado]    0.356    0.664179  1.355468"
      ]
     },
     "execution_count": 79,
     "metadata": {},
     "output_type": "execute_result"
    }
   ],
   "source": [
    "rules_df.nlargest(10,'Support')"
   ]
  },
  {
   "cell_type": "code",
   "execution_count": 80,
   "id": "02f0e908-d480-4e4b-8ae1-c10a66007a37",
   "metadata": {},
   "outputs": [
    {
     "data": {
      "text/html": [
       "<div>\n",
       "<style scoped>\n",
       "    .dataframe tbody tr th:only-of-type {\n",
       "        vertical-align: middle;\n",
       "    }\n",
       "\n",
       "    .dataframe tbody tr th {\n",
       "        vertical-align: top;\n",
       "    }\n",
       "\n",
       "    .dataframe thead th {\n",
       "        text-align: right;\n",
       "    }\n",
       "</style>\n",
       "<table border=\"1\" class=\"dataframe\">\n",
       "  <thead>\n",
       "    <tr style=\"text-align: right;\">\n",
       "      <th></th>\n",
       "      <th>LHS</th>\n",
       "      <th>RHS</th>\n",
       "      <th>Support</th>\n",
       "      <th>Confidence</th>\n",
       "      <th>Lift</th>\n",
       "    </tr>\n",
       "  </thead>\n",
       "  <tbody>\n",
       "    <tr>\n",
       "      <th>144</th>\n",
       "      <td>[turkey]</td>\n",
       "      <td>[coke]</td>\n",
       "      <td>0.149</td>\n",
       "      <td>1.0</td>\n",
       "      <td>3.571429</td>\n",
       "    </tr>\n",
       "    <tr>\n",
       "      <th>209</th>\n",
       "      <td>[apples, turkey]</td>\n",
       "      <td>[coke]</td>\n",
       "      <td>0.020</td>\n",
       "      <td>1.0</td>\n",
       "      <td>3.571429</td>\n",
       "    </tr>\n",
       "    <tr>\n",
       "      <th>363</th>\n",
       "      <td>[artichoke, turkey]</td>\n",
       "      <td>[coke]</td>\n",
       "      <td>0.049</td>\n",
       "      <td>1.0</td>\n",
       "      <td>3.571429</td>\n",
       "    </tr>\n",
       "    <tr>\n",
       "      <th>551</th>\n",
       "      <td>[turkey, avocado]</td>\n",
       "      <td>[coke]</td>\n",
       "      <td>0.068</td>\n",
       "      <td>1.0</td>\n",
       "      <td>3.571429</td>\n",
       "    </tr>\n",
       "    <tr>\n",
       "      <th>726</th>\n",
       "      <td>[baguette, turkey]</td>\n",
       "      <td>[coke]</td>\n",
       "      <td>0.097</td>\n",
       "      <td>1.0</td>\n",
       "      <td>3.571429</td>\n",
       "    </tr>\n",
       "    <tr>\n",
       "      <th>860</th>\n",
       "      <td>[turkey, banana]</td>\n",
       "      <td>[coke]</td>\n",
       "      <td>0.070</td>\n",
       "      <td>1.0</td>\n",
       "      <td>3.571429</td>\n",
       "    </tr>\n",
       "    <tr>\n",
       "      <th>965</th>\n",
       "      <td>[turkey, bourbon]</td>\n",
       "      <td>[coke]</td>\n",
       "      <td>0.092</td>\n",
       "      <td>1.0</td>\n",
       "      <td>3.571429</td>\n",
       "    </tr>\n",
       "    <tr>\n",
       "      <th>1038</th>\n",
       "      <td>[turkey, choclate]</td>\n",
       "      <td>[coke]</td>\n",
       "      <td>0.083</td>\n",
       "      <td>1.0</td>\n",
       "      <td>3.571429</td>\n",
       "    </tr>\n",
       "    <tr>\n",
       "      <th>1058</th>\n",
       "      <td>[ice_cream, choclate]</td>\n",
       "      <td>[cracker]</td>\n",
       "      <td>0.023</td>\n",
       "      <td>1.0</td>\n",
       "      <td>2.624672</td>\n",
       "    </tr>\n",
       "    <tr>\n",
       "      <th>1104</th>\n",
       "      <td>[cosmetics, turkey]</td>\n",
       "      <td>[coke]</td>\n",
       "      <td>0.074</td>\n",
       "      <td>1.0</td>\n",
       "      <td>3.571429</td>\n",
       "    </tr>\n",
       "  </tbody>\n",
       "</table>\n",
       "</div>"
      ],
      "text/plain": [
       "                        LHS        RHS  Support  Confidence      Lift\n",
       "144                [turkey]     [coke]    0.149         1.0  3.571429\n",
       "209        [apples, turkey]     [coke]    0.020         1.0  3.571429\n",
       "363     [artichoke, turkey]     [coke]    0.049         1.0  3.571429\n",
       "551       [turkey, avocado]     [coke]    0.068         1.0  3.571429\n",
       "726      [baguette, turkey]     [coke]    0.097         1.0  3.571429\n",
       "860        [turkey, banana]     [coke]    0.070         1.0  3.571429\n",
       "965       [turkey, bourbon]     [coke]    0.092         1.0  3.571429\n",
       "1038     [turkey, choclate]     [coke]    0.083         1.0  3.571429\n",
       "1058  [ice_cream, choclate]  [cracker]    0.023         1.0  2.624672\n",
       "1104    [cosmetics, turkey]     [coke]    0.074         1.0  3.571429"
      ]
     },
     "execution_count": 80,
     "metadata": {},
     "output_type": "execute_result"
    }
   ],
   "source": [
    "rules_df.nlargest(10,'Confidence')"
   ]
  },
  {
   "cell_type": "code",
   "execution_count": 81,
   "id": "4580bba2-d0fd-4d45-b9c8-52e9374b3093",
   "metadata": {},
   "outputs": [
    {
     "data": {
      "image/png": "[encoded data removed]",
      "text/plain": [
       "<Figure size 640x480 with 1 Axes>"
      ]
     },
     "metadata": {},
     "output_type": "display_data"
    }
   ],
   "source": [
    "# Investigate the dataset in more depth\n",
    "ax = purchased.plot.bar()\n",
    "plt.show()"
   ]
  },
  {
   "cell_type": "code",
   "execution_count": 82,
   "id": "f24e7665-17c1-4da8-9c6a-654da3a21085",
   "metadata": {},
   "outputs": [
    {
     "name": "stdout",
     "output_type": "stream",
     "text": [
      "The number of associated rules: 0\n"
     ]
    }
   ],
   "source": [
    "Rules = list(apriori(transactions,min_support=0.1,  min_confidence=0.95))\n",
    "associationRules = ARutils.extract(Rules,'cosmetics',2)\n",
    "ARutils.inspect(associationRules)"
   ]
  },
  {
   "cell_type": "code",
   "execution_count": 83,
   "id": "ae9943e7-6779-4800-95db-68bb976ad9df",
   "metadata": {},
   "outputs": [
    {
     "name": "stdout",
     "output_type": "stream",
     "text": [
      "The number of associated rules: 24\n",
      "LHS: ['artichoke'] --> RHS:['cosmetics'], support: 0.17, confidence: 0.52, lift: 0.97\n",
      "--------------------------------------------------------------------------------\n",
      "LHS: ['avocado'] --> RHS:['cosmetics'], support: 0.36, confidence: 0.73, lift: 1.36\n",
      "--------------------------------------------------------------------------------\n",
      "LHS: ['banana'] --> RHS:['cosmetics'], support: 0.19, confidence: 0.53, lift: 0.99\n",
      "--------------------------------------------------------------------------------\n",
      "LHS: ['bourbon'] --> RHS:['cosmetics'], support: 0.23, confidence: 0.52, lift: 0.98\n",
      "--------------------------------------------------------------------------------\n",
      "LHS: ['choclate'] --> RHS:['cosmetics'], support: 0.19, confidence: 0.54, lift: 1.00\n",
      "--------------------------------------------------------------------------------\n",
      "LHS: ['coke'] --> RHS:['cosmetics'], support: 0.14, confidence: 0.51, lift: 0.95\n",
      "--------------------------------------------------------------------------------\n",
      "LHS: ['cracker'] --> RHS:['cosmetics'], support: 0.21, confidence: 0.55, lift: 1.03\n",
      "--------------------------------------------------------------------------------\n",
      "LHS: ['sardines'] --> RHS:['cosmetics'], support: 0.24, confidence: 0.52, lift: 0.97\n",
      "--------------------------------------------------------------------------------\n",
      "LHS: ['artichoke', 'avocado'] --> RHS:['cosmetics'], support: 0.12, confidence: 0.73, lift: 1.37\n",
      "--------------------------------------------------------------------------------\n",
      "LHS: ['avocado', 'banana'] --> RHS:['cosmetics'], support: 0.12, confidence: 0.67, lift: 1.25\n",
      "--------------------------------------------------------------------------------\n",
      "LHS: ['bourbon', 'avocado'] --> RHS:['cosmetics'], support: 0.14, confidence: 0.65, lift: 1.21\n",
      "--------------------------------------------------------------------------------\n",
      "LHS: ['choclate', 'avocado'] --> RHS:['cosmetics'], support: 0.13, confidence: 0.72, lift: 1.34\n",
      "--------------------------------------------------------------------------------\n",
      "LHS: ['cracker', 'avocado'] --> RHS:['cosmetics'], support: 0.15, confidence: 0.73, lift: 1.36\n",
      "--------------------------------------------------------------------------------\n",
      "LHS: ['sardines', 'avocado'] --> RHS:['cosmetics'], support: 0.16, confidence: 0.69, lift: 1.28\n",
      "--------------------------------------------------------------------------------\n",
      "LHS: ['bourbon', 'banana'] --> RHS:['cosmetics'], support: 0.12, confidence: 0.52, lift: 0.98\n",
      "--------------------------------------------------------------------------------\n",
      "LHS: ['choclate', 'banana'] --> RHS:['cosmetics'], support: 0.10, confidence: 0.55, lift: 1.02\n",
      "--------------------------------------------------------------------------------\n",
      "LHS: ['cracker', 'banana'] --> RHS:['cosmetics'], support: 0.10, confidence: 0.55, lift: 1.03\n",
      "--------------------------------------------------------------------------------\n",
      "LHS: ['choclate', 'bourbon'] --> RHS:['cosmetics'], support: 0.11, confidence: 0.52, lift: 0.98\n",
      "--------------------------------------------------------------------------------\n",
      "LHS: ['cracker', 'bourbon'] --> RHS:['cosmetics'], support: 0.10, confidence: 0.52, lift: 0.97\n",
      "--------------------------------------------------------------------------------\n",
      "LHS: ['sardines', 'bourbon'] --> RHS:['cosmetics'], support: 0.15, confidence: 0.51, lift: 0.95\n",
      "--------------------------------------------------------------------------------\n",
      "LHS: ['cracker', 'choclate'] --> RHS:['cosmetics'], support: 0.17, confidence: 0.52, lift: 0.96\n",
      "--------------------------------------------------------------------------------\n",
      "LHS: ['choclate', 'avocado'] --> RHS:['cracker', 'cosmetics'], support: 0.11, confidence: 0.61, lift: 2.91\n",
      "--------------------------------------------------------------------------------\n",
      "LHS: ['cracker', 'avocado'] --> RHS:['cosmetics', 'choclate'], support: 0.11, confidence: 0.55, lift: 2.88\n",
      "--------------------------------------------------------------------------------\n",
      "LHS: ['cracker', 'choclate', 'avocado'] --> RHS:['cosmetics'], support: 0.11, confidence: 0.70, lift: 1.31\n",
      "--------------------------------------------------------------------------------\n"
     ]
    }
   ],
   "source": [
    "Rules = list(apriori(transactions,min_support=0.1,  min_confidence=0.5))\n",
    "associationRules = ARutils.extract(Rules,'cosmetics',2)\n",
    "ARutils.inspect(associationRules)"
   ]
  },
  {
   "cell_type": "code",
   "execution_count": 84,
   "id": "66d7c89e-9653-42a7-ba3b-aa6e3ee3b50d",
   "metadata": {},
   "outputs": [],
   "source": [
    "import plotly.express as px"
   ]
  },
  {
   "cell_type": "code",
   "execution_count": 85,
   "id": "cada3646-1a0a-4f3b-a0fd-ff6ea5f4f8c6",
   "metadata": {},
   "outputs": [
    {
     "data": {
      "application/vnd.plotly.v1+json": {
       "config": {
        "plotlyServerURL": "https://plot.ly"
       },
       "data": [
        {
         "customdata": [
          [
           [
            "artichoke"
           ],
           [
            "cosmetics"
           ]
          ],
          [
           [
            "avocado"
           ],
           [
            "cosmetics"
           ]
          ],
          [
           [
            "banana"
           ],
           [
            "cosmetics"
           ]
          ],
          [
           [
            "bourbon"
           ],
           [
            "cosmetics"
           ]
          ],
          [
           [
            "choclate"
           ],
           [
            "cosmetics"
           ]
          ],
          [
           [
            "coke"
           ],
           [
            "cosmetics"
           ]
          ],
          [
           [
            "cracker"
           ],
           [
            "cosmetics"
           ]
          ],
          [
           [
            "sardines"
           ],
           [
            "cosmetics"
           ]
          ],
          [
           [
            "artichoke",
            "avocado"
           ],
           [
            "cosmetics"
           ]
          ],
          [
           [
            "avocado",
            "banana"
           ],
           [
            "cosmetics"
           ]
          ],
          [
           [
            "bourbon",
            "avocado"
           ],
           [
            "cosmetics"
           ]
          ],
          [
           [
            "choclate",
            "avocado"
           ],
           [
            "cosmetics"
           ]
          ],
          [
           [
            "cracker",
            "avocado"
           ],
           [
            "cosmetics"
           ]
          ],
          [
           [
            "sardines",
            "avocado"
           ],
           [
            "cosmetics"
           ]
          ],
          [
           [
            "bourbon",
            "banana"
           ],
           [
            "cosmetics"
           ]
          ],
          [
           [
            "choclate",
            "banana"
           ],
           [
            "cosmetics"
           ]
          ],
          [
           [
            "cracker",
            "banana"
           ],
           [
            "cosmetics"
           ]
          ],
          [
           [
            "choclate",
            "bourbon"
           ],
           [
            "cosmetics"
           ]
          ],
          [
           [
            "cracker",
            "bourbon"
           ],
           [
            "cosmetics"
           ]
          ],
          [
           [
            "sardines",
            "bourbon"
           ],
           [
            "cosmetics"
           ]
          ],
          [
           [
            "cracker",
            "choclate"
           ],
           [
            "cosmetics"
           ]
          ],
          [
           [
            "choclate",
            "avocado"
           ],
           [
            "cracker",
            "cosmetics"
           ]
          ],
          [
           [
            "cracker",
            "avocado"
           ],
           [
            "cosmetics",
            "choclate"
           ]
          ],
          [
           [
            "cracker",
            "choclate",
            "avocado"
           ],
           [
            "cosmetics"
           ]
          ]
         ],
         "hovertemplate": "Support=%{x}<br>Confidence=%{y}<br>LHS=%{customdata[0]}<br>RHS=%{customdata[1]}<br>Lift=%{marker.color}<extra></extra>",
         "legendgroup": "",
         "marker": {
          "color": [
           0.9675998887549828,
           1.3554675601583914,
           0.9868015295423708,
           0.9750455865469035,
           1.0033864291985453,
           0.9528251599147121,
           1.0332197281309985,
           0.9716189294229071,
           1.3697336104288682,
           1.2472748616468219,
           1.2066958784061341,
           1.3399851570874908,
           1.3551644761268282,
           1.2821355776185153,
           0.975237449118046,
           1.0240914990266061,
           1.0250943086763982,
           0.9785630670178519,
           0.9653226405286996,
           0.9548218503442384,
           0.9648021574371135,
           2.9064439265795605,
           2.876243781094527,
           1.3106933686000377
          ],
          "coloraxis": "coloraxis",
          "symbol": "circle"
         },
         "mode": "markers",
         "name": "",
         "orientation": "v",
         "showlegend": false,
         "type": "scatter",
         "x": [
          0.167,
          0.356,
          0.192,
          0.231,
          0.192,
          0.143,
          0.211,
          0.238,
          0.116,
          0.119,
          0.141,
          0.13,
          0.146,
          0.156,
          0.115,
          0.101,
          0.1,
          0.107,
          0.104,
          0.152,
          0.166,
          0.111,
          0.111,
          0.111
         ],
         "xaxis": "x",
         "y": [
          0.5186335403726708,
          0.7265306122448979,
          0.5289256198347108,
          0.5226244343891403,
          0.5378151260504203,
          0.5107142857142857,
          0.5538057742782152,
          0.5207877461706782,
          0.7341772151898734,
          0.6685393258426966,
          0.646788990825688,
          0.7182320441988951,
          0.72636815920398,
          0.6872246696035242,
          0.5227272727272727,
          0.5489130434782609,
          0.5494505494505495,
          0.5245098039215687,
          0.5174129353233831,
          0.5117845117845118,
          0.5171339563862929,
          0.6132596685082873,
          0.5522388059701492,
          0.7025316455696202
         ],
         "yaxis": "y"
        }
       ],
       "layout": {
        "autosize": true,
        "coloraxis": {
         "colorbar": {
          "title": {
           "text": "Lift"
          }
         },
         "colorscale": [
          [
           0,
           "rgb(75, 41, 145)"
          ],
          [
           0.16666666666666666,
           "rgb(135, 44, 162)"
          ],
          [
           0.3333333333333333,
           "rgb(192, 54, 157)"
          ],
          [
           0.5,
           "rgb(234, 79, 136)"
          ],
          [
           0.6666666666666666,
           "rgb(250, 120, 118)"
          ],
          [
           0.8333333333333334,
           "rgb(246, 169, 122)"
          ],
          [
           1,
           "rgb(237, 217, 163)"
          ]
         ]
        },
        "legend": {
         "tracegroupgap": 0
        },
        "margin": {
         "t": 60
        },
        "template": {
         "data": {
          "bar": [
           {
            "error_x": {
             "color": "#2a3f5f"
            },
            "error_y": {
             "color": "#2a3f5f"
            },
            "marker": {
             "line": {
              "color": "#E5ECF6",
              "width": 0.5
             },
             "pattern": {
              "fillmode": "overlay",
              "size": 10,
              "solidity": 0.2
             }
            },
            "type": "bar"
           }
          ],
          "barpolar": [
           {
            "marker": {
             "line": {
              "color": "#E5ECF6",
              "width": 0.5
             },
             "pattern": {
              "fillmode": "overlay",
              "size": 10,
              "solidity": 0.2
             }
            },
            "type": "barpolar"
           }
          ],
          "carpet": [
           {
            "aaxis": {
             "endlinecolor": "#2a3f5f",
             "gridcolor": "white",
             "linecolor": "white",
             "minorgridcolor": "white",
             "startlinecolor": "#2a3f5f"
            },
            "baxis": {
             "endlinecolor": "#2a3f5f",
             "gridcolor": "white",
             "linecolor": "white",
             "minorgridcolor": "white",
             "startlinecolor": "#2a3f5f"
            },
            "type": "carpet"
           }
          ],
          "choropleth": [
           {
            "colorbar": {
             "outlinewidth": 0,
             "ticks": ""
            },
            "type": "choropleth"
           }
          ],
          "contour": [
           {
            "colorbar": {
             "outlinewidth": 0,
             "ticks": ""
            },
            "colorscale": [
             [
              0,
              "#0d0887"
             ],
             [
              0.1111111111111111,
              "#46039f"
             ],
             [
              0.2222222222222222,
              "#7201a8"
             ],
             [
              0.3333333333333333,
              "#9c179e"
             ],
             [
              0.4444444444444444,
              "#bd3786"
             ],
             [
              0.5555555555555556,
              "#d8576b"
             ],
             [
              0.6666666666666666,
              "#ed7953"
             ],
             [
              0.7777777777777778,
              "#fb9f3a"
             ],
             [
              0.8888888888888888,
              "#fdca26"
             ],
             [
              1,
              "#f0f921"
             ]
            ],
            "type": "contour"
           }
          ],
          "contourcarpet": [
           {
            "colorbar": {
             "outlinewidth": 0,
             "ticks": ""
            },
            "type": "contourcarpet"
           }
          ],
          "heatmap": [
           {
            "colorbar": {
             "outlinewidth": 0,
             "ticks": ""
            },
            "colorscale": [
             [
              0,
              "#0d0887"
             ],
             [
              0.1111111111111111,
              "#46039f"
             ],
             [
              0.2222222222222222,
              "#7201a8"
             ],
             [
              0.3333333333333333,
              "#9c179e"
             ],
             [
              0.4444444444444444,
              "#bd3786"
             ],
             [
              0.5555555555555556,
              "#d8576b"
             ],
             [
              0.6666666666666666,
              "#ed7953"
             ],
             [
              0.7777777777777778,
              "#fb9f3a"
             ],
             [
              0.8888888888888888,
              "#fdca26"
             ],
             [
              1,
              "#f0f921"
             ]
            ],
            "type": "heatmap"
           }
          ],
          "heatmapgl": [
           {
            "colorbar": {
             "outlinewidth": 0,
             "ticks": ""
            },
            "colorscale": [
             [
              0,
              "#0d0887"
             ],
             [
              0.1111111111111111,
              "#46039f"
             ],
             [
              0.2222222222222222,
              "#7201a8"
             ],
             [
              0.3333333333333333,
              "#9c179e"
             ],
             [
              0.4444444444444444,
              "#bd3786"
             ],
             [
              0.5555555555555556,
              "#d8576b"
             ],
             [
              0.6666666666666666,
              "#ed7953"
             ],
             [
              0.7777777777777778,
              "#fb9f3a"
             ],
             [
              0.8888888888888888,
              "#fdca26"
             ],
             [
              1,
              "#f0f921"
             ]
            ],
            "type": "heatmapgl"
           }
          ],
          "histogram": [
           {
            "marker": {
             "pattern": {
              "fillmode": "overlay",
              "size": 10,
              "solidity": 0.2
             }
            },
            "type": "histogram"
           }
          ],
          "histogram2d": [
           {
            "colorbar": {
             "outlinewidth": 0,
             "ticks": ""
            },
            "colorscale": [
             [
              0,
              "#0d0887"
             ],
             [
              0.1111111111111111,
              "#46039f"
             ],
             [
              0.2222222222222222,
              "#7201a8"
             ],
             [
              0.3333333333333333,
              "#9c179e"
             ],
             [
              0.4444444444444444,
              "#bd3786"
             ],
             [
              0.5555555555555556,
              "#d8576b"
             ],
             [
              0.6666666666666666,
              "#ed7953"
             ],
             [
              0.7777777777777778,
              "#fb9f3a"
             ],
             [
              0.8888888888888888,
              "#fdca26"
             ],
             [
              1,
              "#f0f921"
             ]
            ],
            "type": "histogram2d"
           }
          ],
          "histogram2dcontour": [
           {
            "colorbar": {
             "outlinewidth": 0,
             "ticks": ""
            },
            "colorscale": [
             [
              0,
              "#0d0887"
             ],
             [
              0.1111111111111111,
              "#46039f"
             ],
             [
              0.2222222222222222,
              "#7201a8"
             ],
             [
              0.3333333333333333,
              "#9c179e"
             ],
             [
              0.4444444444444444,
              "#bd3786"
             ],
             [
              0.5555555555555556,
              "#d8576b"
             ],
             [
              0.6666666666666666,
              "#ed7953"
             ],
             [
              0.7777777777777778,
              "#fb9f3a"
             ],
             [
              0.8888888888888888,
              "#fdca26"
             ],
             [
              1,
              "#f0f921"
             ]
            ],
            "type": "histogram2dcontour"
           }
          ],
          "mesh3d": [
           {
            "colorbar": {
             "outlinewidth": 0,
             "ticks": ""
            },
            "type": "mesh3d"
           }
          ],
          "parcoords": [
           {
            "line": {
             "colorbar": {
              "outlinewidth": 0,
              "ticks": ""
             }
            },
            "type": "parcoords"
           }
          ],
          "pie": [
           {
            "automargin": true,
            "type": "pie"
           }
          ],
          "scatter": [
           {
            "fillpattern": {
             "fillmode": "overlay",
             "size": 10,
             "solidity": 0.2
            },
            "type": "scatter"
           }
          ],
          "scatter3d": [
           {
            "line": {
             "colorbar": {
              "outlinewidth": 0,
              "ticks": ""
             }
            },
            "marker": {
             "colorbar": {
              "outlinewidth": 0,
              "ticks": ""
             }
            },
            "type": "scatter3d"
           }
          ],
          "scattercarpet": [
           {
            "marker": {
             "colorbar": {
              "outlinewidth": 0,
              "ticks": ""
             }
            },
            "type": "scattercarpet"
           }
          ],
          "scattergeo": [
           {
            "marker": {
             "colorbar": {
              "outlinewidth": 0,
              "ticks": ""
             }
            },
            "type": "scattergeo"
           }
          ],
          "scattergl": [
           {
            "marker": {
             "colorbar": {
              "outlinewidth": 0,
              "ticks": ""
             }
            },
            "type": "scattergl"
           }
          ],
          "scattermapbox": [
           {
            "marker": {
             "colorbar": {
              "outlinewidth": 0,
              "ticks": ""
             }
            },
            "type": "scattermapbox"
           }
          ],
          "scatterpolar": [
           {
            "marker": {
             "colorbar": {
              "outlinewidth": 0,
              "ticks": ""
             }
            },
            "type": "scatterpolar"
           }
          ],
          "scatterpolargl": [
           {
            "marker": {
             "colorbar": {
              "outlinewidth": 0,
              "ticks": ""
             }
            },
            "type": "scatterpolargl"
           }
          ],
          "scatterternary": [
           {
            "marker": {
             "colorbar": {
              "outlinewidth": 0,
              "ticks": ""
             }
            },
            "type": "scatterternary"
           }
          ],
          "surface": [
           {
            "colorbar": {
             "outlinewidth": 0,
             "ticks": ""
            },
            "colorscale": [
             [
              0,
              "#0d0887"
             ],
             [
              0.1111111111111111,
              "#46039f"
             ],
             [
              0.2222222222222222,
              "#7201a8"
             ],
             [
              0.3333333333333333,
              "#9c179e"
             ],
             [
              0.4444444444444444,
              "#bd3786"
             ],
             [
              0.5555555555555556,
              "#d8576b"
             ],
             [
              0.6666666666666666,
              "#ed7953"
             ],
             [
              0.7777777777777778,
              "#fb9f3a"
             ],
             [
              0.8888888888888888,
              "#fdca26"
             ],
             [
              1,
              "#f0f921"
             ]
            ],
            "type": "surface"
           }
          ],
          "table": [
           {
            "cells": {
             "fill": {
              "color": "#EBF0F8"
             },
             "line": {
              "color": "white"
             }
            },
            "header": {
             "fill": {
              "color": "#C8D4E3"
             },
             "line": {
              "color": "white"
             }
            },
            "type": "table"
           }
          ]
         },
         "layout": {
          "annotationdefaults": {
           "arrowcolor": "#2a3f5f",
           "arrowhead": 0,
           "arrowwidth": 1
          },
          "autotypenumbers": "strict",
          "coloraxis": {
           "colorbar": {
            "outlinewidth": 0,
            "ticks": ""
           }
          },
          "colorscale": {
           "diverging": [
            [
             0,
             "#8e0152"
            ],
            [
             0.1,
             "#c51b7d"
            ],
            [
             0.2,
             "#de77ae"
            ],
            [
             0.3,
             "#f1b6da"
            ],
            [
             0.4,
             "#fde0ef"
            ],
            [
             0.5,
             "#f7f7f7"
            ],
            [
             0.6,
             "#e6f5d0"
            ],
            [
             0.7,
             "#b8e186"
            ],
            [
             0.8,
             "#7fbc41"
            ],
            [
             0.9,
             "#4d9221"
            ],
            [
             1,
             "#276419"
            ]
           ],
           "sequential": [
            [
             0,
             "#0d0887"
            ],
            [
             0.1111111111111111,
             "#46039f"
            ],
            [
             0.2222222222222222,
             "#7201a8"
            ],
            [
             0.3333333333333333,
             "#9c179e"
            ],
            [
             0.4444444444444444,
             "#bd3786"
            ],
            [
             0.5555555555555556,
             "#d8576b"
            ],
            [
             0.6666666666666666,
             "#ed7953"
            ],
            [
             0.7777777777777778,
             "#fb9f3a"
            ],
            [
             0.8888888888888888,
             "#fdca26"
            ],
            [
             1,
             "#f0f921"
            ]
           ],
           "sequentialminus": [
            [
             0,
             "#0d0887"
            ],
            [
             0.1111111111111111,
             "#46039f"
            ],
            [
             0.2222222222222222,
             "#7201a8"
            ],
            [
             0.3333333333333333,
             "#9c179e"
            ],
            [
             0.4444444444444444,
             "#bd3786"
            ],
            [
             0.5555555555555556,
             "#d8576b"
            ],
            [
             0.6666666666666666,
             "#ed7953"
            ],
            [
             0.7777777777777778,
             "#fb9f3a"
            ],
            [
             0.8888888888888888,
             "#fdca26"
            ],
            [
             1,
             "#f0f921"
            ]
           ]
          },
          "colorway": [
           "#636efa",
           "#EF553B",
           "#00cc96",
           "#ab63fa",
           "#FFA15A",
           "#19d3f3",
           "#FF6692",
           "#B6E880",
           "#FF97FF",
           "#FECB52"
          ],
          "font": {
           "color": "#2a3f5f"
          },
          "geo": {
           "bgcolor": "white",
           "lakecolor": "white",
           "landcolor": "#E5ECF6",
           "showlakes": true,
           "showland": true,
           "subunitcolor": "white"
          },
          "hoverlabel": {
           "align": "left"
          },
          "hovermode": "closest",
          "mapbox": {
           "style": "light"
          },
          "paper_bgcolor": "white",
          "plot_bgcolor": "#E5ECF6",
          "polar": {
           "angularaxis": {
            "gridcolor": "white",
            "linecolor": "white",
            "ticks": ""
           },
           "bgcolor": "#E5ECF6",
           "radialaxis": {
            "gridcolor": "white",
            "linecolor": "white",
            "ticks": ""
           }
          },
          "scene": {
           "xaxis": {
            "backgroundcolor": "#E5ECF6",
            "gridcolor": "white",
            "gridwidth": 2,
            "linecolor": "white",
            "showbackground": true,
            "ticks": "",
            "zerolinecolor": "white"
           },
           "yaxis": {
            "backgroundcolor": "#E5ECF6",
            "gridcolor": "white",
            "gridwidth": 2,
            "linecolor": "white",
            "showbackground": true,
            "ticks": "",
            "zerolinecolor": "white"
           },
           "zaxis": {
            "backgroundcolor": "#E5ECF6",
            "gridcolor": "white",
            "gridwidth": 2,
            "linecolor": "white",
            "showbackground": true,
            "ticks": "",
            "zerolinecolor": "white"
           }
          },
          "shapedefaults": {
           "line": {
            "color": "#2a3f5f"
           }
          },
          "ternary": {
           "aaxis": {
            "gridcolor": "white",
            "linecolor": "white",
            "ticks": ""
           },
           "baxis": {
            "gridcolor": "white",
            "linecolor": "white",
            "ticks": ""
           },
           "bgcolor": "#E5ECF6",
           "caxis": {
            "gridcolor": "white",
            "linecolor": "white",
            "ticks": ""
           }
          },
          "title": {
           "x": 0.05
          },
          "xaxis": {
           "automargin": true,
           "gridcolor": "white",
           "linecolor": "white",
           "ticks": "",
           "title": {
            "standoff": 15
           },
           "zerolinecolor": "white",
           "zerolinewidth": 2
          },
          "yaxis": {
           "automargin": true,
           "gridcolor": "white",
           "linecolor": "white",
           "ticks": "",
           "title": {
            "standoff": 15
           },
           "zerolinecolor": "white",
           "zerolinewidth": 2
          }
         }
        },
        "xaxis": {
         "anchor": "y",
         "autorange": true,
         "domain": [
          0,
          1
         ],
         "range": [
          0.08349711353431688,
          0.37250288646568314
         ],
         "title": {
          "text": "Support"
         },
         "type": "linear"
        },
        "yaxis": {
         "anchor": "x",
         "autorange": true,
         "domain": [
          0,
          1
         ],
         "range": [
          0.4934120378939974,
          0.7514794630101618
         ],
         "title": {
          "text": "Confidence"
         },
         "type": "linear"
        }
       }
      },
      "text/html": [
       "<div>                            <div id=\"460794d8-e703-4414-9500-47cd907fc4c7\" class=\"plotly-graph-div\" style=\"height:525px; width:100%;\"></div>            <script type=\"text/javascript\">                require([\"plotly\"], function(Plotly) {                    window.PLOTLYENV=window.PLOTLYENV || {};                                    if (document.getElementById(\"460794d8-e703-4414-9500-47cd907fc4c7\")) {                    Plotly.newPlot(                        \"460794d8-e703-4414-9500-47cd907fc4c7\",                        [{\"customdata\":[[[\"artichoke\"],[\"cosmetics\"]],[[\"avocado\"],[\"cosmetics\"]],[[\"banana\"],[\"cosmetics\"]],[[\"bourbon\"],[\"cosmetics\"]],[[\"choclate\"],[\"cosmetics\"]],[[\"coke\"],[\"cosmetics\"]],[[\"cracker\"],[\"cosmetics\"]],[[\"sardines\"],[\"cosmetics\"]],[[\"artichoke\",\"avocado\"],[\"cosmetics\"]],[[\"avocado\",\"banana\"],[\"cosmetics\"]],[[\"bourbon\",\"avocado\"],[\"cosmetics\"]],[[\"choclate\",\"avocado\"],[\"cosmetics\"]],[[\"cracker\",\"avocado\"],[\"cosmetics\"]],[[\"sardines\",\"avocado\"],[\"cosmetics\"]],[[\"bourbon\",\"banana\"],[\"cosmetics\"]],[[\"choclate\",\"banana\"],[\"cosmetics\"]],[[\"cracker\",\"banana\"],[\"cosmetics\"]],[[\"choclate\",\"bourbon\"],[\"cosmetics\"]],[[\"cracker\",\"bourbon\"],[\"cosmetics\"]],[[\"sardines\",\"bourbon\"],[\"cosmetics\"]],[[\"cracker\",\"choclate\"],[\"cosmetics\"]],[[\"choclate\",\"avocado\"],[\"cracker\",\"cosmetics\"]],[[\"cracker\",\"avocado\"],[\"cosmetics\",\"choclate\"]],[[\"cracker\",\"choclate\",\"avocado\"],[\"cosmetics\"]]],\"hovertemplate\":\"Support=%{x}\\u003cbr\\u003eConfidence=%{y}\\u003cbr\\u003eLHS=%{customdata[0]}\\u003cbr\\u003eRHS=%{customdata[1]}\\u003cbr\\u003eLift=%{marker.color}\\u003cextra\\u003e\\u003c\\u002fextra\\u003e\",\"legendgroup\":\"\",\"marker\":{\"color\":[0.9675998887549828,1.3554675601583914,0.9868015295423708,0.9750455865469035,1.0033864291985453,0.9528251599147121,1.0332197281309985,0.9716189294229071,1.3697336104288682,1.2472748616468219,1.2066958784061341,1.3399851570874908,1.3551644761268282,1.2821355776185153,0.975237449118046,1.0240914990266061,1.0250943086763982,0.9785630670178519,0.9653226405286996,0.9548218503442384,0.9648021574371135,2.9064439265795605,2.876243781094527,1.3106933686000377],\"coloraxis\":\"coloraxis\",\"symbol\":\"circle\"},\"mode\":\"markers\",\"name\":\"\",\"orientation\":\"v\",\"showlegend\":false,\"x\":[0.167,0.356,0.192,0.231,0.192,0.143,0.211,0.238,0.116,0.119,0.141,0.13,0.146,0.156,0.115,0.101,0.1,0.107,0.104,0.152,0.166,0.111,0.111,0.111],\"xaxis\":\"x\",\"y\":[0.5186335403726708,0.7265306122448979,0.5289256198347108,0.5226244343891403,0.5378151260504203,0.5107142857142857,0.5538057742782152,0.5207877461706782,0.7341772151898734,0.6685393258426966,0.646788990825688,0.7182320441988951,0.72636815920398,0.6872246696035242,0.5227272727272727,0.5489130434782609,0.5494505494505495,0.5245098039215687,0.5174129353233831,0.5117845117845118,0.5171339563862929,0.6132596685082873,0.5522388059701492,0.7025316455696202],\"yaxis\":\"y\",\"type\":\"scatter\"}],                        {\"template\":{\"data\":{\"histogram2dcontour\":[{\"type\":\"histogram2dcontour\",\"colorbar\":{\"outlinewidth\":0,\"ticks\":\"\"},\"colorscale\":[[0.0,\"#0d0887\"],[0.1111111111111111,\"#46039f\"],[0.2222222222222222,\"#7201a8\"],[0.3333333333333333,\"#9c179e\"],[0.4444444444444444,\"#bd3786\"],[0.5555555555555556,\"#d8576b\"],[0.6666666666666666,\"#ed7953\"],[0.7777777777777778,\"#fb9f3a\"],[0.8888888888888888,\"#fdca26\"],[1.0,\"#f0f921\"]]}],\"choropleth\":[{\"type\":\"choropleth\",\"colorbar\":{\"outlinewidth\":0,\"ticks\":\"\"}}],\"histogram2d\":[{\"type\":\"histogram2d\",\"colorbar\":{\"outlinewidth\":0,\"ticks\":\"\"},\"colorscale\":[[0.0,\"#0d0887\"],[0.1111111111111111,\"#46039f\"],[0.2222222222222222,\"#7201a8\"],[0.3333333333333333,\"#9c179e\"],[0.4444444444444444,\"#bd3786\"],[0.5555555555555556,\"#d8576b\"],[0.6666666666666666,\"#ed7953\"],[0.7777777777777778,\"#fb9f3a\"],[0.8888888888888888,\"#fdca26\"],[1.0,\"#f0f921\"]]}],\"heatmap\":[{\"type\":\"heatmap\",\"colorbar\":{\"outlinewidth\":0,\"ticks\":\"\"},\"colorscale\":[[0.0,\"#0d0887\"],[0.1111111111111111,\"#46039f\"],[0.2222222222222222,\"#7201a8\"],[0.3333333333333333,\"#9c179e\"],[0.4444444444444444,\"#bd3786\"],[0.5555555555555556,\"#d8576b\"],[0.6666666666666666,\"#ed7953\"],[0.7777777777777778,\"#fb9f3a\"],[0.8888888888888888,\"#fdca26\"],[1.0,\"#f0f921\"]]}],\"heatmapgl\":[{\"type\":\"heatmapgl\",\"colorbar\":{\"outlinewidth\":0,\"ticks\":\"\"},\"colorscale\":[[0.0,\"#0d0887\"],[0.1111111111111111,\"#46039f\"],[0.2222222222222222,\"#7201a8\"],[0.3333333333333333,\"#9c179e\"],[0.4444444444444444,\"#bd3786\"],[0.5555555555555556,\"#d8576b\"],[0.6666666666666666,\"#ed7953\"],[0.7777777777777778,\"#fb9f3a\"],[0.8888888888888888,\"#fdca26\"],[1.0,\"#f0f921\"]]}],\"contourcarpet\":[{\"type\":\"contourcarpet\",\"colorbar\":{\"outlinewidth\":0,\"ticks\":\"\"}}],\"contour\":[{\"type\":\"contour\",\"colorbar\":{\"outlinewidth\":0,\"ticks\":\"\"},\"colorscale\":[[0.0,\"#0d0887\"],[0.1111111111111111,\"#46039f\"],[0.2222222222222222,\"#7201a8\"],[0.3333333333333333,\"#9c179e\"],[0.4444444444444444,\"#bd3786\"],[0.5555555555555556,\"#d8576b\"],[0.6666666666666666,\"#ed7953\"],[0.7777777777777778,\"#fb9f3a\"],[0.8888888888888888,\"#fdca26\"],[1.0,\"#f0f921\"]]}],\"surface\":[{\"type\":\"surface\",\"colorbar\":{\"outlinewidth\":0,\"ticks\":\"\"},\"colorscale\":[[0.0,\"#0d0887\"],[0.1111111111111111,\"#46039f\"],[0.2222222222222222,\"#7201a8\"],[0.3333333333333333,\"#9c179e\"],[0.4444444444444444,\"#bd3786\"],[0.5555555555555556,\"#d8576b\"],[0.6666666666666666,\"#ed7953\"],[0.7777777777777778,\"#fb9f3a\"],[0.8888888888888888,\"#fdca26\"],[1.0,\"#f0f921\"]]}],\"mesh3d\":[{\"type\":\"mesh3d\",\"colorbar\":{\"outlinewidth\":0,\"ticks\":\"\"}}],\"scatter\":[{\"fillpattern\":{\"fillmode\":\"overlay\",\"size\":10,\"solidity\":0.2},\"type\":\"scatter\"}],\"parcoords\":[{\"type\":\"parcoords\",\"line\":{\"colorbar\":{\"outlinewidth\":0,\"ticks\":\"\"}}}],\"scatterpolargl\":[{\"type\":\"scatterpolargl\",\"marker\":{\"colorbar\":{\"outlinewidth\":0,\"ticks\":\"\"}}}],\"bar\":[{\"error_x\":{\"color\":\"#2a3f5f\"},\"error_y\":{\"color\":\"#2a3f5f\"},\"marker\":{\"line\":{\"color\":\"#E5ECF6\",\"width\":0.5},\"pattern\":{\"fillmode\":\"overlay\",\"size\":10,\"solidity\":0.2}},\"type\":\"bar\"}],\"scattergeo\":[{\"type\":\"scattergeo\",\"marker\":{\"colorbar\":{\"outlinewidth\":0,\"ticks\":\"\"}}}],\"scatterpolar\":[{\"type\":\"scatterpolar\",\"marker\":{\"colorbar\":{\"outlinewidth\":0,\"ticks\":\"\"}}}],\"histogram\":[{\"marker\":{\"pattern\":{\"fillmode\":\"overlay\",\"size\":10,\"solidity\":0.2}},\"type\":\"histogram\"}],\"scattergl\":[{\"type\":\"scattergl\",\"marker\":{\"colorbar\":{\"outlinewidth\":0,\"ticks\":\"\"}}}],\"scatter3d\":[{\"type\":\"scatter3d\",\"line\":{\"colorbar\":{\"outlinewidth\":0,\"ticks\":\"\"}},\"marker\":{\"colorbar\":{\"outlinewidth\":0,\"ticks\":\"\"}}}],\"scattermapbox\":[{\"type\":\"scattermapbox\",\"marker\":{\"colorbar\":{\"outlinewidth\":0,\"ticks\":\"\"}}}],\"scatterternary\":[{\"type\":\"scatterternary\",\"marker\":{\"colorbar\":{\"outlinewidth\":0,\"ticks\":\"\"}}}],\"scattercarpet\":[{\"type\":\"scattercarpet\",\"marker\":{\"colorbar\":{\"outlinewidth\":0,\"ticks\":\"\"}}}],\"carpet\":[{\"aaxis\":{\"endlinecolor\":\"#2a3f5f\",\"gridcolor\":\"white\",\"linecolor\":\"white\",\"minorgridcolor\":\"white\",\"startlinecolor\":\"#2a3f5f\"},\"baxis\":{\"endlinecolor\":\"#2a3f5f\",\"gridcolor\":\"white\",\"linecolor\":\"white\",\"minorgridcolor\":\"white\",\"startlinecolor\":\"#2a3f5f\"},\"type\":\"carpet\"}],\"table\":[{\"cells\":{\"fill\":{\"color\":\"#EBF0F8\"},\"line\":{\"color\":\"white\"}},\"header\":{\"fill\":{\"color\":\"#C8D4E3\"},\"line\":{\"color\":\"white\"}},\"type\":\"table\"}],\"barpolar\":[{\"marker\":{\"line\":{\"color\":\"#E5ECF6\",\"width\":0.5},\"pattern\":{\"fillmode\":\"overlay\",\"size\":10,\"solidity\":0.2}},\"type\":\"barpolar\"}],\"pie\":[{\"automargin\":true,\"type\":\"pie\"}]},\"layout\":{\"autotypenumbers\":\"strict\",\"colorway\":[\"#636efa\",\"#EF553B\",\"#00cc96\",\"#ab63fa\",\"#FFA15A\",\"#19d3f3\",\"#FF6692\",\"#B6E880\",\"#FF97FF\",\"#FECB52\"],\"font\":{\"color\":\"#2a3f5f\"},\"hovermode\":\"closest\",\"hoverlabel\":{\"align\":\"left\"},\"paper_bgcolor\":\"white\",\"plot_bgcolor\":\"#E5ECF6\",\"polar\":{\"bgcolor\":\"#E5ECF6\",\"angularaxis\":{\"gridcolor\":\"white\",\"linecolor\":\"white\",\"ticks\":\"\"},\"radialaxis\":{\"gridcolor\":\"white\",\"linecolor\":\"white\",\"ticks\":\"\"}},\"ternary\":{\"bgcolor\":\"#E5ECF6\",\"aaxis\":{\"gridcolor\":\"white\",\"linecolor\":\"white\",\"ticks\":\"\"},\"baxis\":{\"gridcolor\":\"white\",\"linecolor\":\"white\",\"ticks\":\"\"},\"caxis\":{\"gridcolor\":\"white\",\"linecolor\":\"white\",\"ticks\":\"\"}},\"coloraxis\":{\"colorbar\":{\"outlinewidth\":0,\"ticks\":\"\"}},\"colorscale\":{\"sequential\":[[0.0,\"#0d0887\"],[0.1111111111111111,\"#46039f\"],[0.2222222222222222,\"#7201a8\"],[0.3333333333333333,\"#9c179e\"],[0.4444444444444444,\"#bd3786\"],[0.5555555555555556,\"#d8576b\"],[0.6666666666666666,\"#ed7953\"],[0.7777777777777778,\"#fb9f3a\"],[0.8888888888888888,\"#fdca26\"],[1.0,\"#f0f921\"]],\"sequentialminus\":[[0.0,\"#0d0887\"],[0.1111111111111111,\"#46039f\"],[0.2222222222222222,\"#7201a8\"],[0.3333333333333333,\"#9c179e\"],[0.4444444444444444,\"#bd3786\"],[0.5555555555555556,\"#d8576b\"],[0.6666666666666666,\"#ed7953\"],[0.7777777777777778,\"#fb9f3a\"],[0.8888888888888888,\"#fdca26\"],[1.0,\"#f0f921\"]],\"diverging\":[[0,\"#8e0152\"],[0.1,\"#c51b7d\"],[0.2,\"#de77ae\"],[0.3,\"#f1b6da\"],[0.4,\"#fde0ef\"],[0.5,\"#f7f7f7\"],[0.6,\"#e6f5d0\"],[0.7,\"#b8e186\"],[0.8,\"#7fbc41\"],[0.9,\"#4d9221\"],[1,\"#276419\"]]},\"xaxis\":{\"gridcolor\":\"white\",\"linecolor\":\"white\",\"ticks\":\"\",\"title\":{\"standoff\":15},\"zerolinecolor\":\"white\",\"automargin\":true,\"zerolinewidth\":2},\"yaxis\":{\"gridcolor\":\"white\",\"linecolor\":\"white\",\"ticks\":\"\",\"title\":{\"standoff\":15},\"zerolinecolor\":\"white\",\"automargin\":true,\"zerolinewidth\":2},\"scene\":{\"xaxis\":{\"backgroundcolor\":\"#E5ECF6\",\"gridcolor\":\"white\",\"linecolor\":\"white\",\"showbackground\":true,\"ticks\":\"\",\"zerolinecolor\":\"white\",\"gridwidth\":2},\"yaxis\":{\"backgroundcolor\":\"#E5ECF6\",\"gridcolor\":\"white\",\"linecolor\":\"white\",\"showbackground\":true,\"ticks\":\"\",\"zerolinecolor\":\"white\",\"gridwidth\":2},\"zaxis\":{\"backgroundcolor\":\"#E5ECF6\",\"gridcolor\":\"white\",\"linecolor\":\"white\",\"showbackground\":true,\"ticks\":\"\",\"zerolinecolor\":\"white\",\"gridwidth\":2}},\"shapedefaults\":{\"line\":{\"color\":\"#2a3f5f\"}},\"annotationdefaults\":{\"arrowcolor\":\"#2a3f5f\",\"arrowhead\":0,\"arrowwidth\":1},\"geo\":{\"bgcolor\":\"white\",\"landcolor\":\"#E5ECF6\",\"subunitcolor\":\"white\",\"showland\":true,\"showlakes\":true,\"lakecolor\":\"white\"},\"title\":{\"x\":0.05},\"mapbox\":{\"style\":\"light\"}}},\"xaxis\":{\"anchor\":\"y\",\"domain\":[0.0,1.0],\"title\":{\"text\":\"Support\"}},\"yaxis\":{\"anchor\":\"x\",\"domain\":[0.0,1.0],\"title\":{\"text\":\"Confidence\"}},\"coloraxis\":{\"colorbar\":{\"title\":{\"text\":\"Lift\"}},\"colorscale\":[[0.0,\"rgb(75, 41, 145)\"],[0.16666666666666666,\"rgb(135, 44, 162)\"],[0.3333333333333333,\"rgb(192, 54, 157)\"],[0.5,\"rgb(234, 79, 136)\"],[0.6666666666666666,\"rgb(250, 120, 118)\"],[0.8333333333333334,\"rgb(246, 169, 122)\"],[1.0,\"rgb(237, 217, 163)\"]]},\"legend\":{\"tracegroupgap\":0},\"margin\":{\"t\":60}},                        {\"responsive\": true}                    ).then(function(){\n",
       "                            \n",
       "var gd = document.getElementById('460794d8-e703-4414-9500-47cd907fc4c7');\n",
       "var x = new MutationObserver(function (mutations, observer) {{\n",
       "        var display = window.getComputedStyle(gd).display;\n",
       "        if (!display || display === 'none') {{\n",
       "            console.log([gd, 'removed!']);\n",
       "            Plotly.purge(gd);\n",
       "            observer.disconnect();\n",
       "        }}\n",
       "}});\n",
       "\n",
       "// Listen for the removal of the full notebook cells\n",
       "var notebookContainer = gd.closest('#notebook-container');\n",
       "if (notebookContainer) {{\n",
       "    x.observe(notebookContainer, {childList: true});\n",
       "}}\n",
       "\n",
       "// Listen for the clearing of the current output cell\n",
       "var outputEl = gd.closest('.output');\n",
       "if (outputEl) {{\n",
       "    x.observe(outputEl, {childList: true});\n",
       "}}\n",
       "\n",
       "                        })                };                });            </script>        </div>"
      ]
     },
     "metadata": {},
     "output_type": "display_data"
    }
   ],
   "source": [
    "rules_df = pd.DataFrame(associationRules,columns=['LHS','RHS','Support','Confidence','Lift'])\n",
    "fig = px.scatter(rules_df, x = 'Support', y=\"Confidence\",color=\"Lift\", hover_data=['LHS','RHS'], color_continuous_scale=\"agsunset\")\n",
    "\n",
    "fig.show()"
   ]
  },
  {
   "cell_type": "code",
   "execution_count": 86,
   "id": "73c1c290-f6a2-462b-8e53-21ca58cd6e2c",
   "metadata": {},
   "outputs": [
    {
     "data": {
      "text/html": [
       "<div>\n",
       "<style scoped>\n",
       "    .dataframe tbody tr th:only-of-type {\n",
       "        vertical-align: middle;\n",
       "    }\n",
       "\n",
       "    .dataframe tbody tr th {\n",
       "        vertical-align: top;\n",
       "    }\n",
       "\n",
       "    .dataframe thead th {\n",
       "        text-align: right;\n",
       "    }\n",
       "</style>\n",
       "<table border=\"1\" class=\"dataframe\">\n",
       "  <thead>\n",
       "    <tr style=\"text-align: right;\">\n",
       "      <th></th>\n",
       "      <th>LHS</th>\n",
       "      <th>RHS</th>\n",
       "      <th>Support</th>\n",
       "      <th>Confidence</th>\n",
       "      <th>Lift</th>\n",
       "    </tr>\n",
       "  </thead>\n",
       "  <tbody>\n",
       "    <tr>\n",
       "      <th>1</th>\n",
       "      <td>[]</td>\n",
       "      <td>[avocado]</td>\n",
       "      <td>0.490</td>\n",
       "      <td>0.490000</td>\n",
       "      <td>1.000000</td>\n",
       "    </tr>\n",
       "    <tr>\n",
       "      <th>11</th>\n",
       "      <td>[apples]</td>\n",
       "      <td>[avocado]</td>\n",
       "      <td>0.030</td>\n",
       "      <td>0.555556</td>\n",
       "      <td>1.133787</td>\n",
       "    </tr>\n",
       "    <tr>\n",
       "      <th>22</th>\n",
       "      <td>[artichoke]</td>\n",
       "      <td>[avocado]</td>\n",
       "      <td>0.158</td>\n",
       "      <td>0.490683</td>\n",
       "      <td>1.001394</td>\n",
       "    </tr>\n",
       "    <tr>\n",
       "      <th>45</th>\n",
       "      <td>[baguette]</td>\n",
       "      <td>[avocado]</td>\n",
       "      <td>0.141</td>\n",
       "      <td>0.505376</td>\n",
       "      <td>1.031380</td>\n",
       "    </tr>\n",
       "    <tr>\n",
       "      <th>47</th>\n",
       "      <td>[banana]</td>\n",
       "      <td>[avocado]</td>\n",
       "      <td>0.178</td>\n",
       "      <td>0.490358</td>\n",
       "      <td>1.000731</td>\n",
       "    </tr>\n",
       "    <tr>\n",
       "      <th>...</th>\n",
       "      <td>...</td>\n",
       "      <td>...</td>\n",
       "      <td>...</td>\n",
       "      <td>...</td>\n",
       "      <td>...</td>\n",
       "    </tr>\n",
       "    <tr>\n",
       "      <th>584</th>\n",
       "      <td>[sardines, soda]</td>\n",
       "      <td>[avocado]</td>\n",
       "      <td>0.063</td>\n",
       "      <td>0.484615</td>\n",
       "      <td>0.989011</td>\n",
       "    </tr>\n",
       "    <tr>\n",
       "      <th>585</th>\n",
       "      <td>[turkey]</td>\n",
       "      <td>[sardines, avocado]</td>\n",
       "      <td>0.037</td>\n",
       "      <td>0.248322</td>\n",
       "      <td>1.093930</td>\n",
       "    </tr>\n",
       "    <tr>\n",
       "      <th>587</th>\n",
       "      <td>[sardines, turkey]</td>\n",
       "      <td>[avocado]</td>\n",
       "      <td>0.037</td>\n",
       "      <td>0.474359</td>\n",
       "      <td>0.968080</td>\n",
       "    </tr>\n",
       "    <tr>\n",
       "      <th>588</th>\n",
       "      <td>[turkey]</td>\n",
       "      <td>[avocado, soda]</td>\n",
       "      <td>0.030</td>\n",
       "      <td>0.201342</td>\n",
       "      <td>1.735709</td>\n",
       "    </tr>\n",
       "    <tr>\n",
       "      <th>591</th>\n",
       "      <td>[turkey, soda]</td>\n",
       "      <td>[avocado]</td>\n",
       "      <td>0.030</td>\n",
       "      <td>0.441176</td>\n",
       "      <td>0.900360</td>\n",
       "    </tr>\n",
       "  </tbody>\n",
       "</table>\n",
       "<p>144 rows × 5 columns</p>\n",
       "</div>"
      ],
      "text/plain": [
       "                    LHS                  RHS  Support  Confidence      Lift\n",
       "1                    []            [avocado]    0.490    0.490000  1.000000\n",
       "11             [apples]            [avocado]    0.030    0.555556  1.133787\n",
       "22          [artichoke]            [avocado]    0.158    0.490683  1.001394\n",
       "45           [baguette]            [avocado]    0.141    0.505376  1.031380\n",
       "47             [banana]            [avocado]    0.178    0.490358  1.000731\n",
       "..                  ...                  ...      ...         ...       ...\n",
       "584    [sardines, soda]            [avocado]    0.063    0.484615  0.989011\n",
       "585            [turkey]  [sardines, avocado]    0.037    0.248322  1.093930\n",
       "587  [sardines, turkey]            [avocado]    0.037    0.474359  0.968080\n",
       "588            [turkey]      [avocado, soda]    0.030    0.201342  1.735709\n",
       "591      [turkey, soda]            [avocado]    0.030    0.441176  0.900360\n",
       "\n",
       "[144 rows x 5 columns]"
      ]
     },
     "execution_count": 86,
     "metadata": {},
     "output_type": "execute_result"
    }
   ],
   "source": [
    "Rules = list(apriori(transactions, min_support = 0.02, min_confidence=0.2, max_length=3))\n",
    "associationRules = ARutils.extract(Rules)\n",
    "rules_df = pd.DataFrame(associationRules, columns=['LHS','RHS','Support','Confidence','Lift'])\n",
    "\n",
    "# Use lambda function for partial string match\n",
    "\n",
    "rules_df[rules_df['RHS'].apply(lambda x: 'avocado' in x)]"
   ]
  },
  {
   "cell_type": "code",
   "execution_count": 87,
   "id": "9d42ed18-5101-4498-a13d-5c14490cb56c",
   "metadata": {},
   "outputs": [
    {
     "data": {
      "text/html": [
       "<div>\n",
       "<style scoped>\n",
       "    .dataframe tbody tr th:only-of-type {\n",
       "        vertical-align: middle;\n",
       "    }\n",
       "\n",
       "    .dataframe tbody tr th {\n",
       "        vertical-align: top;\n",
       "    }\n",
       "\n",
       "    .dataframe thead th {\n",
       "        text-align: right;\n",
       "    }\n",
       "</style>\n",
       "<table border=\"1\" class=\"dataframe\">\n",
       "  <thead>\n",
       "    <tr style=\"text-align: right;\">\n",
       "      <th></th>\n",
       "      <th>LHS</th>\n",
       "      <th>RHS</th>\n",
       "      <th>Support</th>\n",
       "      <th>Confidence</th>\n",
       "      <th>Lift</th>\n",
       "    </tr>\n",
       "  </thead>\n",
       "  <tbody>\n",
       "    <tr>\n",
       "      <th>548</th>\n",
       "      <td>[coke]</td>\n",
       "      <td>[turkey, avocado]</td>\n",
       "      <td>0.068</td>\n",
       "      <td>0.242857</td>\n",
       "      <td>3.571429</td>\n",
       "    </tr>\n",
       "    <tr>\n",
       "      <th>549</th>\n",
       "      <td>[turkey]</td>\n",
       "      <td>[coke, avocado]</td>\n",
       "      <td>0.068</td>\n",
       "      <td>0.456376</td>\n",
       "      <td>3.405790</td>\n",
       "    </tr>\n",
       "    <tr>\n",
       "      <th>168</th>\n",
       "      <td>[apples]</td>\n",
       "      <td>[choclate, avocado]</td>\n",
       "      <td>0.023</td>\n",
       "      <td>0.425926</td>\n",
       "      <td>2.353182</td>\n",
       "    </tr>\n",
       "    <tr>\n",
       "      <th>517</th>\n",
       "      <td>[cracker]</td>\n",
       "      <td>[choclate, avocado]</td>\n",
       "      <td>0.158</td>\n",
       "      <td>0.414698</td>\n",
       "      <td>2.291150</td>\n",
       "    </tr>\n",
       "    <tr>\n",
       "      <th>516</th>\n",
       "      <td>[choclate]</td>\n",
       "      <td>[cracker, avocado]</td>\n",
       "      <td>0.158</td>\n",
       "      <td>0.442577</td>\n",
       "      <td>2.201876</td>\n",
       "    </tr>\n",
       "  </tbody>\n",
       "</table>\n",
       "</div>"
      ],
      "text/plain": [
       "            LHS                  RHS  Support  Confidence      Lift\n",
       "548      [coke]    [turkey, avocado]    0.068    0.242857  3.571429\n",
       "549    [turkey]      [coke, avocado]    0.068    0.456376  3.405790\n",
       "168    [apples]  [choclate, avocado]    0.023    0.425926  2.353182\n",
       "517   [cracker]  [choclate, avocado]    0.158    0.414698  2.291150\n",
       "516  [choclate]   [cracker, avocado]    0.158    0.442577  2.201876"
      ]
     },
     "execution_count": 87,
     "metadata": {},
     "output_type": "execute_result"
    }
   ],
   "source": [
    "avocado_rules = rules_df[rules_df['RHS'].apply(lambda x: 'avocado' in x)].sort_values(by=['Lift'], ascending=False)\n",
    "avocado_rules.head()"
   ]
  },
  {
   "cell_type": "code",
   "execution_count": 88,
   "id": "7880d96d-28c5-41cb-ab25-7692cebd933c",
   "metadata": {},
   "outputs": [
    {
     "data": {
      "application/vnd.plotly.v1+json": {
       "config": {
        "plotlyServerURL": "https://plot.ly"
       },
       "data": [
        {
         "customdata": [
          [
           [
            "coke"
           ],
           [
            "turkey",
            "avocado"
           ]
          ],
          [
           [
            "turkey"
           ],
           [
            "coke",
            "avocado"
           ]
          ],
          [
           [
            "apples"
           ],
           [
            "choclate",
            "avocado"
           ]
          ],
          [
           [
            "cracker"
           ],
           [
            "choclate",
            "avocado"
           ]
          ],
          [
           [
            "choclate"
           ],
           [
            "cracker",
            "avocado"
           ]
          ],
          [
           [
            "turkey"
           ],
           [
            "baguette",
            "avocado"
           ]
          ],
          [
           [
            "apples"
           ],
           [
            "bourbon",
            "avocado"
           ]
          ],
          [
           [
            "baguette"
           ],
           [
            "avocado",
            "soda"
           ]
          ],
          [
           [
            "soda"
           ],
           [
            "baguette",
            "avocado"
           ]
          ],
          [
           [
            "soda"
           ],
           [
            "bourbon",
            "avocado"
           ]
          ],
          [
           [
            "bourbon"
           ],
           [
            "avocado",
            "soda"
           ]
          ],
          [
           [
            "turkey"
           ],
           [
            "avocado",
            "soda"
           ]
          ],
          [
           [
            "baguette"
           ],
           [
            "coke",
            "avocado"
           ]
          ],
          [
           [
            "coke"
           ],
           [
            "baguette",
            "avocado"
           ]
          ],
          [
           [
            "soda"
           ],
           [
            "avocado",
            "banana"
           ]
          ],
          [
           [
            "baguette"
           ],
           [
            "bourbon",
            "avocado"
           ]
          ],
          [
           [
            "choclate"
           ],
           [
            "avocado",
            "banana"
           ]
          ],
          [
           [
            "sardines"
           ],
           [
            "bourbon",
            "avocado"
           ]
          ],
          [
           [
            "baguette"
           ],
           [
            "avocado",
            "banana"
           ]
          ],
          [
           [
            "turkey"
           ],
           [
            "choclate",
            "avocado"
           ]
          ],
          [
           [
            "bourbon"
           ],
           [
            "sardines",
            "avocado"
           ]
          ],
          [
           [
            "bourbon"
           ],
           [
            "baguette",
            "avocado"
           ]
          ],
          [
           [
            "banana"
           ],
           [
            "choclate",
            "avocado"
           ]
          ],
          [
           [
            "bourbon"
           ],
           [
            "avocado",
            "banana"
           ]
          ],
          [
           [
            "artichoke",
            "cosmetics"
           ],
           [
            "avocado"
           ]
          ],
          [
           [
            "banana"
           ],
           [
            "bourbon",
            "avocado"
           ]
          ],
          [
           [
            "cracker",
            "cosmetics"
           ],
           [
            "avocado"
           ]
          ],
          [
           [
            "baguette"
           ],
           [
            "choclate",
            "avocado"
           ]
          ],
          [
           [
            "cracker"
           ],
           [
            "avocado",
            "banana"
           ]
          ],
          [
           [
            "turkey"
           ],
           [
            "bourbon",
            "avocado"
           ]
          ],
          [
           [
            "apples",
            "cosmetics"
           ],
           [
            "avocado"
           ]
          ],
          [
           [
            "cosmetics",
            "choclate"
           ],
           [
            "avocado"
           ]
          ],
          [
           [
            "cosmetics"
           ],
           [
            "artichoke",
            "avocado"
           ]
          ],
          [
           [
            "cosmetics"
           ],
           [
            "avocado"
           ]
          ],
          [
           [
            "cosmetics"
           ],
           [
            "cracker",
            "avocado"
           ]
          ],
          [
           [
            "coke"
           ],
           [
            "choclate",
            "avocado"
           ]
          ],
          [
           [
            "apples",
            "bourbon"
           ],
           [
            "avocado"
           ]
          ],
          [
           [
            "cosmetics"
           ],
           [
            "choclate",
            "avocado"
           ]
          ],
          [
           [
            "sardines",
            "cosmetics"
           ],
           [
            "avocado"
           ]
          ],
          [
           [
            "choclate"
           ],
           [
            "bourbon",
            "avocado"
           ]
          ],
          [
           [
            "banana"
           ],
           [
            "cracker",
            "avocado"
           ]
          ],
          [
           [
            "cosmetics"
           ],
           [
            "sardines",
            "avocado"
           ]
          ],
          [
           [
            "turkey"
           ],
           [
            "avocado",
            "banana"
           ]
          ],
          [
           [
            "soda"
           ],
           [
            "choclate",
            "avocado"
           ]
          ],
          [
           [
            "cosmetics",
            "coke"
           ],
           [
            "avocado"
           ]
          ],
          [
           [
            "turkey"
           ],
           [
            "cracker",
            "avocado"
           ]
          ],
          [
           [
            "cosmetics",
            "banana"
           ],
           [
            "avocado"
           ]
          ],
          [
           [
            "coke"
           ],
           [
            "avocado",
            "banana"
           ]
          ],
          [
           [
            "bourbon"
           ],
           [
            "choclate",
            "avocado"
           ]
          ],
          [
           [
            "baguette"
           ],
           [
            "cracker",
            "avocado"
           ]
          ],
          [
           [
            "cosmetics"
           ],
           [
            "avocado",
            "banana"
           ]
          ],
          [
           [
            "cosmetics",
            "bourbon"
           ],
           [
            "avocado"
           ]
          ],
          [
           [
            "apples",
            "choclate"
           ],
           [
            "avocado"
           ]
          ],
          [
           [
            "soda"
           ],
           [
            "cracker",
            "avocado"
           ]
          ],
          [
           [
            "coke"
           ],
           [
            "bourbon",
            "avocado"
           ]
          ],
          [
           [
            "cracker"
           ],
           [
            "bourbon",
            "avocado"
           ]
          ],
          [
           [
            "cosmetics"
           ],
           [
            "bourbon",
            "avocado"
           ]
          ],
          [
           [
            "soda"
           ],
           [
            "sardines",
            "avocado"
           ]
          ],
          [
           [
            "cosmetics",
            "turkey"
           ],
           [
            "avocado"
           ]
          ],
          [
           [
            "coke"
           ],
           [
            "cracker",
            "avocado"
           ]
          ],
          [
           [
            "baguette"
           ],
           [
            "sardines",
            "avocado"
           ]
          ],
          [
           [
            "sardines"
           ],
           [
            "avocado",
            "banana"
           ]
          ],
          [
           [
            "banana"
           ],
           [
            "sardines",
            "avocado"
           ]
          ],
          [
           [
            "bourbon"
           ],
           [
            "cracker",
            "avocado"
           ]
          ],
          [
           [
            "apples"
           ],
           [
            "avocado"
           ]
          ],
          [
           [
            "baguette",
            "banana"
           ],
           [
            "avocado"
           ]
          ],
          [
           [
            "turkey"
           ],
           [
            "sardines",
            "avocado"
           ]
          ],
          [
           [
            "apples"
           ],
           [
            "cosmetics",
            "avocado"
           ]
          ],
          [
           [
            "cracker",
            "artichoke"
           ],
           [
            "avocado"
           ]
          ],
          [
           [
            "cosmetics",
            "soda"
           ],
           [
            "avocado"
           ]
          ],
          [
           [
            "cracker"
           ],
           [
            "avocado"
           ]
          ],
          [
           [
            "cracker"
           ],
           [
            "cosmetics",
            "avocado"
           ]
          ],
          [
           [
            "artichoke"
           ],
           [
            "cracker",
            "avocado"
           ]
          ],
          [
           [
            "baguette",
            "artichoke"
           ],
           [
            "avocado"
           ]
          ],
          [
           [
            "sardines",
            "banana"
           ],
           [
            "avocado"
           ]
          ],
          [
           [
            "cracker",
            "soda"
           ],
           [
            "avocado"
           ]
          ],
          [
           [
            "cracker",
            "banana"
           ],
           [
            "avocado"
           ]
          ],
          [
           [
            "baguette",
            "bourbon"
           ],
           [
            "avocado"
           ]
          ],
          [
           [
            "coke",
            "banana"
           ],
           [
            "avocado"
           ]
          ],
          [
           [
            "baguette",
            "choclate"
           ],
           [
            "avocado"
           ]
          ],
          [
           [
            "choclate",
            "banana"
           ],
           [
            "avocado"
           ]
          ],
          [
           [
            "cracker"
           ],
           [
            "sardines",
            "avocado"
           ]
          ],
          [
           [
            "bourbon",
            "banana"
           ],
           [
            "avocado"
           ]
          ],
          [
           [
            "coke"
           ],
           [
            "sardines",
            "avocado"
           ]
          ],
          [
           [
            "soda",
            "banana"
           ],
           [
            "avocado"
           ]
          ],
          [
           [
            "choclate",
            "coke"
           ],
           [
            "avocado"
           ]
          ],
          [
           [
            "choclate"
           ],
           [
            "avocado"
           ]
          ],
          [
           [
            "sardines",
            "baguette"
           ],
           [
            "avocado"
           ]
          ],
          [
           [
            "artichoke",
            "soda"
           ],
           [
            "avocado"
           ]
          ],
          [
           [
            "baguette"
           ],
           [
            "avocado"
           ]
          ],
          [
           [
            "choclate",
            "soda"
           ],
           [
            "avocado"
           ]
          ],
          [
           [
            "baguette",
            "coke"
           ],
           [
            "avocado"
           ]
          ],
          [
           [
            "cracker",
            "coke"
           ],
           [
            "avocado"
           ]
          ],
          [
           [
            "coke",
            "bourbon"
           ],
           [
            "avocado"
           ]
          ],
          [
           [
            "artichoke"
           ],
           [
            "sardines",
            "avocado"
           ]
          ],
          [
           [
            "cracker",
            "bourbon"
           ],
           [
            "avocado"
           ]
          ],
          [
           [
            "choclate"
           ],
           [
            "sardines",
            "avocado"
           ]
          ],
          [
           [
            "choclate"
           ],
           [
            "cosmetics",
            "avocado"
           ]
          ],
          [
           [
            "bourbon",
            "soda"
           ],
           [
            "avocado"
           ]
          ],
          [
           [
            "sardines"
           ],
           [
            "avocado"
           ]
          ],
          [
           [
            "baguette",
            "cracker"
           ],
           [
            "avocado"
           ]
          ],
          [
           [
            "artichoke",
            "choclate"
           ],
           [
            "avocado"
           ]
          ],
          [
           [
            "artichoke"
           ],
           [
            "cosmetics",
            "avocado"
           ]
          ],
          [
           [
            "soda"
           ],
           [
            "avocado"
           ]
          ],
          [
           [
            "choclate",
            "bourbon"
           ],
           [
            "avocado"
           ]
          ],
          [
           [
            "sardines",
            "cracker"
           ],
           [
            "avocado"
           ]
          ],
          [
           [
            "bourbon"
           ],
           [
            "avocado"
           ]
          ],
          [
           [
            "sardines",
            "coke"
           ],
           [
            "avocado"
           ]
          ],
          [
           [
            "cracker",
            "choclate"
           ],
           [
            "avocado"
           ]
          ],
          [
           [
            "artichoke"
           ],
           [
            "avocado"
           ]
          ],
          [
           [
            "banana"
           ],
           [
            "avocado"
           ]
          ],
          [
           [],
           [
            "avocado"
           ]
          ],
          [
           [],
           [
            "bourbon",
            "avocado"
           ]
          ],
          [
           [],
           [
            "cosmetics",
            "avocado"
           ]
          ],
          [
           [],
           [
            "cracker",
            "avocado"
           ]
          ],
          [
           [],
           [
            "sardines",
            "avocado"
           ]
          ],
          [
           [
            "turkey",
            "bourbon"
           ],
           [
            "avocado"
           ]
          ],
          [
           [
            "sardines",
            "bourbon"
           ],
           [
            "avocado"
           ]
          ],
          [
           [
            "turkey",
            "banana"
           ],
           [
            "avocado"
           ]
          ],
          [
           [
            "sardines",
            "soda"
           ],
           [
            "avocado"
           ]
          ],
          [
           [
            "baguette",
            "soda"
           ],
           [
            "avocado"
           ]
          ],
          [
           [
            "sardines",
            "artichoke"
           ],
           [
            "avocado"
           ]
          ],
          [
           [
            "artichoke",
            "banana"
           ],
           [
            "avocado"
           ]
          ],
          [
           [
            "artichoke",
            "bourbon"
           ],
           [
            "avocado"
           ]
          ],
          [
           [
            "coke"
           ],
           [
            "avocado"
           ]
          ],
          [
           [
            "artichoke"
           ],
           [
            "bourbon",
            "avocado"
           ]
          ],
          [
           [
            "sardines",
            "turkey"
           ],
           [
            "avocado"
           ]
          ],
          [
           [
            "sardines",
            "choclate"
           ],
           [
            "avocado"
           ]
          ],
          [
           [
            "turkey",
            "choclate"
           ],
           [
            "avocado"
           ]
          ],
          [
           [
            "sardines"
           ],
           [
            "cosmetics",
            "avocado"
           ]
          ],
          [
           [
            "cracker",
            "turkey"
           ],
           [
            "avocado"
           ]
          ],
          [
           [
            "coke",
            "soda"
           ],
           [
            "avocado"
           ]
          ],
          [
           [
            "baguette",
            "cosmetics"
           ],
           [
            "avocado"
           ]
          ],
          [
           [
            "turkey"
           ],
           [
            "avocado"
           ]
          ],
          [
           [
            "turkey",
            "coke"
           ],
           [
            "avocado"
           ]
          ],
          [
           [
            "banana"
           ],
           [
            "cosmetics",
            "avocado"
           ]
          ],
          [
           [
            "baguette",
            "turkey"
           ],
           [
            "avocado"
           ]
          ],
          [
           [
            "turkey",
            "soda"
           ],
           [
            "avocado"
           ]
          ],
          [
           [
            "bourbon"
           ],
           [
            "cosmetics",
            "avocado"
           ]
          ],
          [
           [
            "coke"
           ],
           [
            "cosmetics",
            "avocado"
           ]
          ],
          [
           [
            "artichoke",
            "turkey"
           ],
           [
            "avocado"
           ]
          ],
          [
           [
            "artichoke",
            "coke"
           ],
           [
            "avocado"
           ]
          ],
          [
           [
            "turkey"
           ],
           [
            "cosmetics",
            "avocado"
           ]
          ],
          [
           [
            "baguette"
           ],
           [
            "cosmetics",
            "avocado"
           ]
          ]
         ],
         "hovertemplate": "Support=%{x}<br>Confidence=%{y}<br>LHS=%{customdata[0]}<br>RHS=%{customdata[1]}<br>Lift=%{marker.color}<extra></extra>",
         "legendgroup": "",
         "marker": {
          "color": [
           3.571428571428571,
           3.405789842732646,
           2.353181911192961,
           2.2911500703296066,
           2.2018757751856963,
           2.04674187253082,
           1.9537886510363576,
           1.9157088122605361,
           1.879129538704007,
           1.744687524504038,
           1.7358402246840379,
           1.7357093265447814,
           1.6851227732306209,
           1.5957446808510638,
           1.512532411408816,
           1.4797277300976617,
           1.4792433827463571,
           1.4554433581595165,
           1.4498006524102933,
           1.446104786977641,
           1.4451731217732773,
           1.4441128333493791,
           1.4306804864313654,
           1.423559916620062,
           1.4175730172308445,
           1.4153208481815656,
           1.4121288325756842,
           1.3861660626943106,
           1.3860626972190275,
           1.385382673480697,
           1.382488479262673,
           1.3818027210884354,
           1.3697336104288682,
           1.3554675601583916,
           1.3551644761268282,
           1.3417521704814523,
           1.3411078717201164,
           1.3399851570874908,
           1.3376779283141829,
           1.2977668131472775,
           1.288324219124762,
           1.2821355776185153,
           1.2819546037252094,
           1.274968125796855,
           1.2701584130155559,
           1.2688236669003974,
           1.2648809523809523,
           1.2640449438202246,
           1.262468438289043,
           1.2482390912819414,
           1.2472748616468219,
           1.245693082427776,
           1.2352309344790549,
           1.2331504868818302,
           1.22870249017038,
           1.2160177225553228,
           1.2066958784061343,
           1.1860386309725517,
           1.1858797573083286,
           1.1727078891257994,
           1.1684272022484326,
           1.1555577410075482,
           1.140762854819723,
           1.136849688210531,
           1.1337868480725624,
           1.0965580261955525,
           1.0939301658634657,
           1.0923845193508115,
           1.0915994304698624,
           1.0790523105794043,
           1.0766511328941026,
           1.0764103925211594,
           1.0660980810234542,
           1.0657596371882088,
           1.0657596371882088,
           1.056851311953353,
           1.0540479928235031,
           1.0495626822157436,
           1.0452961672473868,
           1.0427528675703859,
           1.0425909494232477,
           1.0406188213257483,
           1.038961038961039,
           1.038388923851479,
           1.0368663594470047,
           1.0356381358513556,
           1.0346995941233637,
           1.034386357282639,
           1.034013605442177,
           1.031380294053105,
           1.0299446881556362,
           1.0285714285714287,
           1.0281975385574076,
           1.0272565401999727,
           1.0260760117109475,
           1.0254848207939893,
           1.024198225545725,
           1.0228810625373748,
           1.0147075590012542,
           1.0137096414057964,
           1.0131712259371837,
           1.011975037949064,
           1.011933840463396,
           1.0116867259724402,
           1.010404161664666,
           1.0091948867459073,
           1.0065564687413426,
           1.0051781906792567,
           1.0045139551147562,
           1.0013943465584991,
           1.000730870860741,
           1,
           1,
           1,
           1,
           1,
           0.9982253771073647,
           0.996358139215282,
           0.9912536443148688,
           0.989010989010989,
           0.9885204081632654,
           0.9874917709019091,
           0.9858180560359738,
           0.9772923253808568,
           0.9766763848396501,
           0.9687161661633142,
           0.9680795395081109,
           0.9679300291545191,
           0.9589377919842635,
           0.9588670616871143,
           0.9574200050390527,
           0.9436032477507131,
           0.9360135031456192,
           0.9313792631146419,
           0.9313792631146419,
           0.9208530658990312,
           0.904691773616663,
           0.9003601440576229,
           0.8960801260867355,
           0.8928571428571428,
           0.8746355685131196,
           0.8484292593441871,
           0.8106477641203529,
           0.6141516652571383
          ],
          "coloraxis": "coloraxis",
          "symbol": "circle"
         },
         "mode": "markers",
         "name": "",
         "orientation": "v",
         "showlegend": false,
         "type": "scatter",
         "x": [
          0.068,
          0.068,
          0.023,
          0.158,
          0.158,
          0.043,
          0.023,
          0.062,
          0.062,
          0.089,
          0.089,
          0.03,
          0.063,
          0.063,
          0.063,
          0.09,
          0.094,
          0.145,
          0.072,
          0.039,
          0.145,
          0.09,
          0.094,
          0.112,
          0.116,
          0.112,
          0.146,
          0.07,
          0.094,
          0.045,
          0.021,
          0.13,
          0.116,
          0.356,
          0.146,
          0.068,
          0.023,
          0.13,
          0.156,
          0.101,
          0.094,
          0.156,
          0.034,
          0.054,
          0.089,
          0.038,
          0.119,
          0.063,
          0.101,
          0.07,
          0.119,
          0.141,
          0.023,
          0.058,
          0.075,
          0.101,
          0.141,
          0.063,
          0.043,
          0.066,
          0.074,
          0.094,
          0.094,
          0.101,
          0.03,
          0.072,
          0.037,
          0.021,
          0.069,
          0.046,
          0.201,
          0.146,
          0.069,
          0.047,
          0.094,
          0.058,
          0.094,
          0.09,
          0.063,
          0.07,
          0.094,
          0.09,
          0.112,
          0.066,
          0.063,
          0.068,
          0.181,
          0.074,
          0.038,
          0.141,
          0.054,
          0.063,
          0.066,
          0.075,
          0.075,
          0.101,
          0.083,
          0.13,
          0.089,
          0.227,
          0.07,
          0.06,
          0.116,
          0.116,
          0.101,
          0.09,
          0.218,
          0.066,
          0.158,
          0.158,
          0.178,
          0.49,
          0.218,
          0.356,
          0.201,
          0.227,
          0.045,
          0.145,
          0.034,
          0.063,
          0.062,
          0.075,
          0.057,
          0.068,
          0.134,
          0.068,
          0.037,
          0.083,
          0.039,
          0.156,
          0.038,
          0.043,
          0.061,
          0.068,
          0.068,
          0.119,
          0.043,
          0.03,
          0.141,
          0.089,
          0.021,
          0.037,
          0.043,
          0.061
         ],
         "xaxis": "x",
         "y": [
          0.24285714285714285,
          0.45637583892617456,
          0.42592592592592593,
          0.4146981627296588,
          0.44257703081232497,
          0.2885906040268456,
          0.42592592592592593,
          0.2222222222222222,
          0.26495726495726496,
          0.3803418803418803,
          0.2013574660633484,
          0.20134228187919465,
          0.22580645161290322,
          0.22499999999999998,
          0.2692307692307692,
          0.32258064516129026,
          0.26330532212885155,
          0.3172866520787746,
          0.2580645161290322,
          0.26174496644295303,
          0.32805429864253394,
          0.20361990950226244,
          0.25895316804407714,
          0.25339366515837103,
          0.6946107784431138,
          0.3085399449035813,
          0.6919431279620852,
          0.25089605734767023,
          0.24671916010498687,
          0.30201342281879195,
          0.6774193548387097,
          0.6770833333333334,
          0.21641791044776118,
          0.6641791044776119,
          0.2723880597014925,
          0.24285714285714285,
          0.657142857142857,
          0.24253731343283583,
          0.6554621848739496,
          0.2829131652661065,
          0.25895316804407714,
          0.291044776119403,
          0.22818791946308728,
          0.23076923076923075,
          0.6223776223776224,
          0.2550335570469799,
          0.6197916666666666,
          0.22499999999999998,
          0.22850678733031676,
          0.25089605734767023,
          0.2220149253731343,
          0.6103896103896103,
          0.6052631578947368,
          0.24786324786324787,
          0.26785714285714285,
          0.2650918635170604,
          0.26305970149253727,
          0.2692307692307692,
          0.581081081081081,
          0.2357142857142857,
          0.2652329749103942,
          0.20568927789934355,
          0.25895316804407714,
          0.22850678733031676,
          0.5555555555555556,
          0.5373134328358208,
          0.2483221476510067,
          0.3888888888888889,
          0.5348837209302326,
          0.5287356321839081,
          0.5275590551181103,
          0.3832020997375328,
          0.2142857142857143,
          0.5222222222222223,
          0.5222222222222223,
          0.5178571428571429,
          0.5164835164835165,
          0.5142857142857143,
          0.5121951219512195,
          0.5109489051094891,
          0.5108695652173914,
          0.23622047244094488,
          0.5090909090909091,
          0.2357142857142857,
          0.5080645161290323,
          0.5074626865671642,
          0.5070028011204482,
          0.5068493150684932,
          0.5066666666666667,
          0.5053763440860214,
          0.5046728971962617,
          0.504,
          0.5038167938931297,
          0.5033557046979866,
          0.2329192546583851,
          0.5024875621890548,
          0.2324929971988796,
          0.36414565826330536,
          0.4972067039106145,
          0.49671772428884026,
          0.49645390070921996,
          0.49586776859504134,
          0.36024844720496896,
          0.49572649572649574,
          0.49509803921568635,
          0.4945054945054945,
          0.4932126696832579,
          0.4925373134328358,
          0.49221183800623053,
          0.4906832298136646,
          0.4903581267217631,
          0.49,
          0.218,
          0.356,
          0.201,
          0.227,
          0.4891304347826087,
          0.4882154882154882,
          0.4857142857142857,
          0.4846153846153846,
          0.484375,
          0.48387096774193544,
          0.48305084745762716,
          0.4788732394366198,
          0.47857142857142854,
          0.2111801242236025,
          0.47435897435897434,
          0.47428571428571437,
          0.4698795180722891,
          0.3413566739606127,
          0.4691358024691358,
          0.46236559139784944,
          0.45864661654135336,
          0.45637583892617456,
          0.45637583892617456,
          0.3278236914600551,
          0.4432989690721649,
          0.4411764705882352,
          0.3190045248868778,
          0.31785714285714284,
          0.4285714285714286,
          0.4157303370786517,
          0.2885906040268456,
          0.2186379928315412
         ],
         "yaxis": "y"
        }
       ],
       "layout": {
        "autosize": true,
        "coloraxis": {
         "colorbar": {
          "title": {
           "text": "Lift"
          }
         },
         "colorscale": [
          [
           0,
           "rgb(75, 41, 145)"
          ],
          [
           0.16666666666666666,
           "rgb(135, 44, 162)"
          ],
          [
           0.3333333333333333,
           "rgb(192, 54, 157)"
          ],
          [
           0.5,
           "rgb(234, 79, 136)"
          ],
          [
           0.6666666666666666,
           "rgb(250, 120, 118)"
          ],
          [
           0.8333333333333334,
           "rgb(246, 169, 122)"
          ],
          [
           1,
           "rgb(237, 217, 163)"
          ]
         ]
        },
        "legend": {
         "tracegroupgap": 0
        },
        "margin": {
         "t": 60
        },
        "template": {
         "data": {
          "bar": [
           {
            "error_x": {
             "color": "#2a3f5f"
            },
            "error_y": {
             "color": "#2a3f5f"
            },
            "marker": {
             "line": {
              "color": "#E5ECF6",
              "width": 0.5
             },
             "pattern": {
              "fillmode": "overlay",
              "size": 10,
              "solidity": 0.2
             }
            },
            "type": "bar"
           }
          ],
          "barpolar": [
           {
            "marker": {
             "line": {
              "color": "#E5ECF6",
              "width": 0.5
             },
             "pattern": {
              "fillmode": "overlay",
              "size": 10,
              "solidity": 0.2
             }
            },
            "type": "barpolar"
           }
          ],
          "carpet": [
           {
            "aaxis": {
             "endlinecolor": "#2a3f5f",
             "gridcolor": "white",
             "linecolor": "white",
             "minorgridcolor": "white",
             "startlinecolor": "#2a3f5f"
            },
            "baxis": {
             "endlinecolor": "#2a3f5f",
             "gridcolor": "white",
             "linecolor": "white",
             "minorgridcolor": "white",
             "startlinecolor": "#2a3f5f"
            },
            "type": "carpet"
           }
          ],
          "choropleth": [
           {
            "colorbar": {
             "outlinewidth": 0,
             "ticks": ""
            },
            "type": "choropleth"
           }
          ],
          "contour": [
           {
            "colorbar": {
             "outlinewidth": 0,
             "ticks": ""
            },
            "colorscale": [
             [
              0,
              "#0d0887"
             ],
             [
              0.1111111111111111,
              "#46039f"
             ],
             [
              0.2222222222222222,
              "#7201a8"
             ],
             [
              0.3333333333333333,
              "#9c179e"
             ],
             [
              0.4444444444444444,
              "#bd3786"
             ],
             [
              0.5555555555555556,
              "#d8576b"
             ],
             [
              0.6666666666666666,
              "#ed7953"
             ],
             [
              0.7777777777777778,
              "#fb9f3a"
             ],
             [
              0.8888888888888888,
              "#fdca26"
             ],
             [
              1,
              "#f0f921"
             ]
            ],
            "type": "contour"
           }
          ],
          "contourcarpet": [
           {
            "colorbar": {
             "outlinewidth": 0,
             "ticks": ""
            },
            "type": "contourcarpet"
           }
          ],
          "heatmap": [
           {
            "colorbar": {
             "outlinewidth": 0,
             "ticks": ""
            },
            "colorscale": [
             [
              0,
              "#0d0887"
             ],
             [
              0.1111111111111111,
              "#46039f"
             ],
             [
              0.2222222222222222,
              "#7201a8"
             ],
             [
              0.3333333333333333,
              "#9c179e"
             ],
             [
              0.4444444444444444,
              "#bd3786"
             ],
             [
              0.5555555555555556,
              "#d8576b"
             ],
             [
              0.6666666666666666,
              "#ed7953"
             ],
             [
              0.7777777777777778,
              "#fb9f3a"
             ],
             [
              0.8888888888888888,
              "#fdca26"
             ],
             [
              1,
              "#f0f921"
             ]
            ],
            "type": "heatmap"
           }
          ],
          "heatmapgl": [
           {
            "colorbar": {
             "outlinewidth": 0,
             "ticks": ""
            },
            "colorscale": [
             [
              0,
              "#0d0887"
             ],
             [
              0.1111111111111111,
              "#46039f"
             ],
             [
              0.2222222222222222,
              "#7201a8"
             ],
             [
              0.3333333333333333,
              "#9c179e"
             ],
             [
              0.4444444444444444,
              "#bd3786"
             ],
             [
              0.5555555555555556,
              "#d8576b"
             ],
             [
              0.6666666666666666,
              "#ed7953"
             ],
             [
              0.7777777777777778,
              "#fb9f3a"
             ],
             [
              0.8888888888888888,
              "#fdca26"
             ],
             [
              1,
              "#f0f921"
             ]
            ],
            "type": "heatmapgl"
           }
          ],
          "histogram": [
           {
            "marker": {
             "pattern": {
              "fillmode": "overlay",
              "size": 10,
              "solidity": 0.2
             }
            },
            "type": "histogram"
           }
          ],
          "histogram2d": [
           {
            "colorbar": {
             "outlinewidth": 0,
             "ticks": ""
            },
            "colorscale": [
             [
              0,
              "#0d0887"
             ],
             [
              0.1111111111111111,
              "#46039f"
             ],
             [
              0.2222222222222222,
              "#7201a8"
             ],
             [
              0.3333333333333333,
              "#9c179e"
             ],
             [
              0.4444444444444444,
              "#bd3786"
             ],
             [
              0.5555555555555556,
              "#d8576b"
             ],
             [
              0.6666666666666666,
              "#ed7953"
             ],
             [
              0.7777777777777778,
              "#fb9f3a"
             ],
             [
              0.8888888888888888,
              "#fdca26"
             ],
             [
              1,
              "#f0f921"
             ]
            ],
            "type": "histogram2d"
           }
          ],
          "histogram2dcontour": [
           {
            "colorbar": {
             "outlinewidth": 0,
             "ticks": ""
            },
            "colorscale": [
             [
              0,
              "#0d0887"
             ],
             [
              0.1111111111111111,
              "#46039f"
             ],
             [
              0.2222222222222222,
              "#7201a8"
             ],
             [
              0.3333333333333333,
              "#9c179e"
             ],
             [
              0.4444444444444444,
              "#bd3786"
             ],
             [
              0.5555555555555556,
              "#d8576b"
             ],
             [
              0.6666666666666666,
              "#ed7953"
             ],
             [
              0.7777777777777778,
              "#fb9f3a"
             ],
             [
              0.8888888888888888,
              "#fdca26"
             ],
             [
              1,
              "#f0f921"
             ]
            ],
            "type": "histogram2dcontour"
           }
          ],
          "mesh3d": [
           {
            "colorbar": {
             "outlinewidth": 0,
             "ticks": ""
            },
            "type": "mesh3d"
           }
          ],
          "parcoords": [
           {
            "line": {
             "colorbar": {
              "outlinewidth": 0,
              "ticks": ""
             }
            },
            "type": "parcoords"
           }
          ],
          "pie": [
           {
            "automargin": true,
            "type": "pie"
           }
          ],
          "scatter": [
           {
            "fillpattern": {
             "fillmode": "overlay",
             "size": 10,
             "solidity": 0.2
            },
            "type": "scatter"
           }
          ],
          "scatter3d": [
           {
            "line": {
             "colorbar": {
              "outlinewidth": 0,
              "ticks": ""
             }
            },
            "marker": {
             "colorbar": {
              "outlinewidth": 0,
              "ticks": ""
             }
            },
            "type": "scatter3d"
           }
          ],
          "scattercarpet": [
           {
            "marker": {
             "colorbar": {
              "outlinewidth": 0,
              "ticks": ""
             }
            },
            "type": "scattercarpet"
           }
          ],
          "scattergeo": [
           {
            "marker": {
             "colorbar": {
              "outlinewidth": 0,
              "ticks": ""
             }
            },
            "type": "scattergeo"
           }
          ],
          "scattergl": [
           {
            "marker": {
             "colorbar": {
              "outlinewidth": 0,
              "ticks": ""
             }
            },
            "type": "scattergl"
           }
          ],
          "scattermapbox": [
           {
            "marker": {
             "colorbar": {
              "outlinewidth": 0,
              "ticks": ""
             }
            },
            "type": "scattermapbox"
           }
          ],
          "scatterpolar": [
           {
            "marker": {
             "colorbar": {
              "outlinewidth": 0,
              "ticks": ""
             }
            },
            "type": "scatterpolar"
           }
          ],
          "scatterpolargl": [
           {
            "marker": {
             "colorbar": {
              "outlinewidth": 0,
              "ticks": ""
             }
            },
            "type": "scatterpolargl"
           }
          ],
          "scatterternary": [
           {
            "marker": {
             "colorbar": {
              "outlinewidth": 0,
              "ticks": ""
             }
            },
            "type": "scatterternary"
           }
          ],
          "surface": [
           {
            "colorbar": {
             "outlinewidth": 0,
             "ticks": ""
            },
            "colorscale": [
             [
              0,
              "#0d0887"
             ],
             [
              0.1111111111111111,
              "#46039f"
             ],
             [
              0.2222222222222222,
              "#7201a8"
             ],
             [
              0.3333333333333333,
              "#9c179e"
             ],
             [
              0.4444444444444444,
              "#bd3786"
             ],
             [
              0.5555555555555556,
              "#d8576b"
             ],
             [
              0.6666666666666666,
              "#ed7953"
             ],
             [
              0.7777777777777778,
              "#fb9f3a"
             ],
             [
              0.8888888888888888,
              "#fdca26"
             ],
             [
              1,
              "#f0f921"
             ]
            ],
            "type": "surface"
           }
          ],
          "table": [
           {
            "cells": {
             "fill": {
              "color": "#EBF0F8"
             },
             "line": {
              "color": "white"
             }
            },
            "header": {
             "fill": {
              "color": "#C8D4E3"
             },
             "line": {
              "color": "white"
             }
            },
            "type": "table"
           }
          ]
         },
         "layout": {
          "annotationdefaults": {
           "arrowcolor": "#2a3f5f",
           "arrowhead": 0,
           "arrowwidth": 1
          },
          "autotypenumbers": "strict",
          "coloraxis": {
           "colorbar": {
            "outlinewidth": 0,
            "ticks": ""
           }
          },
          "colorscale": {
           "diverging": [
            [
             0,
             "#8e0152"
            ],
            [
             0.1,
             "#c51b7d"
            ],
            [
             0.2,
             "#de77ae"
            ],
            [
             0.3,
             "#f1b6da"
            ],
            [
             0.4,
             "#fde0ef"
            ],
            [
             0.5,
             "#f7f7f7"
            ],
            [
             0.6,
             "#e6f5d0"
            ],
            [
             0.7,
             "#b8e186"
            ],
            [
             0.8,
             "#7fbc41"
            ],
            [
             0.9,
             "#4d9221"
            ],
            [
             1,
             "#276419"
            ]
           ],
           "sequential": [
            [
             0,
             "#0d0887"
            ],
            [
             0.1111111111111111,
             "#46039f"
            ],
            [
             0.2222222222222222,
             "#7201a8"
            ],
            [
             0.3333333333333333,
             "#9c179e"
            ],
            [
             0.4444444444444444,
             "#bd3786"
            ],
            [
             0.5555555555555556,
             "#d8576b"
            ],
            [
             0.6666666666666666,
             "#ed7953"
            ],
            [
             0.7777777777777778,
             "#fb9f3a"
            ],
            [
             0.8888888888888888,
             "#fdca26"
            ],
            [
             1,
             "#f0f921"
            ]
           ],
           "sequentialminus": [
            [
             0,
             "#0d0887"
            ],
            [
             0.1111111111111111,
             "#46039f"
            ],
            [
             0.2222222222222222,
             "#7201a8"
            ],
            [
             0.3333333333333333,
             "#9c179e"
            ],
            [
             0.4444444444444444,
             "#bd3786"
            ],
            [
             0.5555555555555556,
             "#d8576b"
            ],
            [
             0.6666666666666666,
             "#ed7953"
            ],
            [
             0.7777777777777778,
             "#fb9f3a"
            ],
            [
             0.8888888888888888,
             "#fdca26"
            ],
            [
             1,
             "#f0f921"
            ]
           ]
          },
          "colorway": [
           "#636efa",
           "#EF553B",
           "#00cc96",
           "#ab63fa",
           "#FFA15A",
           "#19d3f3",
           "#FF6692",
           "#B6E880",
           "#FF97FF",
           "#FECB52"
          ],
          "font": {
           "color": "#2a3f5f"
          },
          "geo": {
           "bgcolor": "white",
           "lakecolor": "white",
           "landcolor": "#E5ECF6",
           "showlakes": true,
           "showland": true,
           "subunitcolor": "white"
          },
          "hoverlabel": {
           "align": "left"
          },
          "hovermode": "closest",
          "mapbox": {
           "style": "light"
          },
          "paper_bgcolor": "white",
          "plot_bgcolor": "#E5ECF6",
          "polar": {
           "angularaxis": {
            "gridcolor": "white",
            "linecolor": "white",
            "ticks": ""
           },
           "bgcolor": "#E5ECF6",
           "radialaxis": {
            "gridcolor": "white",
            "linecolor": "white",
            "ticks": ""
           }
          },
          "scene": {
           "xaxis": {
            "backgroundcolor": "#E5ECF6",
            "gridcolor": "white",
            "gridwidth": 2,
            "linecolor": "white",
            "showbackground": true,
            "ticks": "",
            "zerolinecolor": "white"
           },
           "yaxis": {
            "backgroundcolor": "#E5ECF6",
            "gridcolor": "white",
            "gridwidth": 2,
            "linecolor": "white",
            "showbackground": true,
            "ticks": "",
            "zerolinecolor": "white"
           },
           "zaxis": {
            "backgroundcolor": "#E5ECF6",
            "gridcolor": "white",
            "gridwidth": 2,
            "linecolor": "white",
            "showbackground": true,
            "ticks": "",
            "zerolinecolor": "white"
           }
          },
          "shapedefaults": {
           "line": {
            "color": "#2a3f5f"
           }
          },
          "ternary": {
           "aaxis": {
            "gridcolor": "white",
            "linecolor": "white",
            "ticks": ""
           },
           "baxis": {
            "gridcolor": "white",
            "linecolor": "white",
            "ticks": ""
           },
           "bgcolor": "#E5ECF6",
           "caxis": {
            "gridcolor": "white",
            "linecolor": "white",
            "ticks": ""
           }
          },
          "title": {
           "x": 0.05
          },
          "xaxis": {
           "automargin": true,
           "gridcolor": "white",
           "linecolor": "white",
           "ticks": "",
           "title": {
            "standoff": 15
           },
           "zerolinecolor": "white",
           "zerolinewidth": 2
          },
          "yaxis": {
           "automargin": true,
           "gridcolor": "white",
           "linecolor": "white",
           "ticks": "",
           "title": {
            "standoff": 15
           },
           "zerolinecolor": "white",
           "zerolinewidth": 2
          }
         }
        },
        "xaxis": {
         "anchor": "y",
         "autorange": true,
         "domain": [
          0,
          1
         ],
         "range": [
          -0.009139498432601877,
          0.5201394984326019
         ],
         "title": {
          "text": "Support"
         },
         "type": "linear"
        },
        "yaxis": {
         "anchor": "x",
         "autorange": true,
         "domain": [
          0,
          1
         ],
         "range": [
          0.16278079274521823,
          0.7328299856978956
         ],
         "title": {
          "text": "Confidence"
         },
         "type": "linear"
        }
       }
      },
      "text/html": [
       "<div>                            <div id=\"d3ed996e-7801-46a5-93ff-5a53e6087e65\" class=\"plotly-graph-div\" style=\"height:525px; width:100%;\"></div>            <script type=\"text/javascript\">                require([\"plotly\"], function(Plotly) {                    window.PLOTLYENV=window.PLOTLYENV || {};                                    if (document.getElementById(\"d3ed996e-7801-46a5-93ff-5a53e6087e65\")) {                    Plotly.newPlot(                        \"d3ed996e-7801-46a5-93ff-5a53e6087e65\",                        [{\"customdata\":[[[\"coke\"],[\"turkey\",\"avocado\"]],[[\"turkey\"],[\"coke\",\"avocado\"]],[[\"apples\"],[\"choclate\",\"avocado\"]],[[\"cracker\"],[\"choclate\",\"avocado\"]],[[\"choclate\"],[\"cracker\",\"avocado\"]],[[\"turkey\"],[\"baguette\",\"avocado\"]],[[\"apples\"],[\"bourbon\",\"avocado\"]],[[\"baguette\"],[\"avocado\",\"soda\"]],[[\"soda\"],[\"baguette\",\"avocado\"]],[[\"soda\"],[\"bourbon\",\"avocado\"]],[[\"bourbon\"],[\"avocado\",\"soda\"]],[[\"turkey\"],[\"avocado\",\"soda\"]],[[\"baguette\"],[\"coke\",\"avocado\"]],[[\"coke\"],[\"baguette\",\"avocado\"]],[[\"soda\"],[\"avocado\",\"banana\"]],[[\"baguette\"],[\"bourbon\",\"avocado\"]],[[\"choclate\"],[\"avocado\",\"banana\"]],[[\"sardines\"],[\"bourbon\",\"avocado\"]],[[\"baguette\"],[\"avocado\",\"banana\"]],[[\"turkey\"],[\"choclate\",\"avocado\"]],[[\"bourbon\"],[\"sardines\",\"avocado\"]],[[\"bourbon\"],[\"baguette\",\"avocado\"]],[[\"banana\"],[\"choclate\",\"avocado\"]],[[\"bourbon\"],[\"avocado\",\"banana\"]],[[\"artichoke\",\"cosmetics\"],[\"avocado\"]],[[\"banana\"],[\"bourbon\",\"avocado\"]],[[\"cracker\",\"cosmetics\"],[\"avocado\"]],[[\"baguette\"],[\"choclate\",\"avocado\"]],[[\"cracker\"],[\"avocado\",\"banana\"]],[[\"turkey\"],[\"bourbon\",\"avocado\"]],[[\"apples\",\"cosmetics\"],[\"avocado\"]],[[\"cosmetics\",\"choclate\"],[\"avocado\"]],[[\"cosmetics\"],[\"artichoke\",\"avocado\"]],[[\"cosmetics\"],[\"avocado\"]],[[\"cosmetics\"],[\"cracker\",\"avocado\"]],[[\"coke\"],[\"choclate\",\"avocado\"]],[[\"apples\",\"bourbon\"],[\"avocado\"]],[[\"cosmetics\"],[\"choclate\",\"avocado\"]],[[\"sardines\",\"cosmetics\"],[\"avocado\"]],[[\"choclate\"],[\"bourbon\",\"avocado\"]],[[\"banana\"],[\"cracker\",\"avocado\"]],[[\"cosmetics\"],[\"sardines\",\"avocado\"]],[[\"turkey\"],[\"avocado\",\"banana\"]],[[\"soda\"],[\"choclate\",\"avocado\"]],[[\"cosmetics\",\"coke\"],[\"avocado\"]],[[\"turkey\"],[\"cracker\",\"avocado\"]],[[\"cosmetics\",\"banana\"],[\"avocado\"]],[[\"coke\"],[\"avocado\",\"banana\"]],[[\"bourbon\"],[\"choclate\",\"avocado\"]],[[\"baguette\"],[\"cracker\",\"avocado\"]],[[\"cosmetics\"],[\"avocado\",\"banana\"]],[[\"cosmetics\",\"bourbon\"],[\"avocado\"]],[[\"apples\",\"choclate\"],[\"avocado\"]],[[\"soda\"],[\"cracker\",\"avocado\"]],[[\"coke\"],[\"bourbon\",\"avocado\"]],[[\"cracker\"],[\"bourbon\",\"avocado\"]],[[\"cosmetics\"],[\"bourbon\",\"avocado\"]],[[\"soda\"],[\"sardines\",\"avocado\"]],[[\"cosmetics\",\"turkey\"],[\"avocado\"]],[[\"coke\"],[\"cracker\",\"avocado\"]],[[\"baguette\"],[\"sardines\",\"avocado\"]],[[\"sardines\"],[\"avocado\",\"banana\"]],[[\"banana\"],[\"sardines\",\"avocado\"]],[[\"bourbon\"],[\"cracker\",\"avocado\"]],[[\"apples\"],[\"avocado\"]],[[\"baguette\",\"banana\"],[\"avocado\"]],[[\"turkey\"],[\"sardines\",\"avocado\"]],[[\"apples\"],[\"cosmetics\",\"avocado\"]],[[\"cracker\",\"artichoke\"],[\"avocado\"]],[[\"cosmetics\",\"soda\"],[\"avocado\"]],[[\"cracker\"],[\"avocado\"]],[[\"cracker\"],[\"cosmetics\",\"avocado\"]],[[\"artichoke\"],[\"cracker\",\"avocado\"]],[[\"baguette\",\"artichoke\"],[\"avocado\"]],[[\"sardines\",\"banana\"],[\"avocado\"]],[[\"cracker\",\"soda\"],[\"avocado\"]],[[\"cracker\",\"banana\"],[\"avocado\"]],[[\"baguette\",\"bourbon\"],[\"avocado\"]],[[\"coke\",\"banana\"],[\"avocado\"]],[[\"baguette\",\"choclate\"],[\"avocado\"]],[[\"choclate\",\"banana\"],[\"avocado\"]],[[\"cracker\"],[\"sardines\",\"avocado\"]],[[\"bourbon\",\"banana\"],[\"avocado\"]],[[\"coke\"],[\"sardines\",\"avocado\"]],[[\"soda\",\"banana\"],[\"avocado\"]],[[\"choclate\",\"coke\"],[\"avocado\"]],[[\"choclate\"],[\"avocado\"]],[[\"sardines\",\"baguette\"],[\"avocado\"]],[[\"artichoke\",\"soda\"],[\"avocado\"]],[[\"baguette\"],[\"avocado\"]],[[\"choclate\",\"soda\"],[\"avocado\"]],[[\"baguette\",\"coke\"],[\"avocado\"]],[[\"cracker\",\"coke\"],[\"avocado\"]],[[\"coke\",\"bourbon\"],[\"avocado\"]],[[\"artichoke\"],[\"sardines\",\"avocado\"]],[[\"cracker\",\"bourbon\"],[\"avocado\"]],[[\"choclate\"],[\"sardines\",\"avocado\"]],[[\"choclate\"],[\"cosmetics\",\"avocado\"]],[[\"bourbon\",\"soda\"],[\"avocado\"]],[[\"sardines\"],[\"avocado\"]],[[\"baguette\",\"cracker\"],[\"avocado\"]],[[\"artichoke\",\"choclate\"],[\"avocado\"]],[[\"artichoke\"],[\"cosmetics\",\"avocado\"]],[[\"soda\"],[\"avocado\"]],[[\"choclate\",\"bourbon\"],[\"avocado\"]],[[\"sardines\",\"cracker\"],[\"avocado\"]],[[\"bourbon\"],[\"avocado\"]],[[\"sardines\",\"coke\"],[\"avocado\"]],[[\"cracker\",\"choclate\"],[\"avocado\"]],[[\"artichoke\"],[\"avocado\"]],[[\"banana\"],[\"avocado\"]],[[],[\"avocado\"]],[[],[\"bourbon\",\"avocado\"]],[[],[\"cosmetics\",\"avocado\"]],[[],[\"cracker\",\"avocado\"]],[[],[\"sardines\",\"avocado\"]],[[\"turkey\",\"bourbon\"],[\"avocado\"]],[[\"sardines\",\"bourbon\"],[\"avocado\"]],[[\"turkey\",\"banana\"],[\"avocado\"]],[[\"sardines\",\"soda\"],[\"avocado\"]],[[\"baguette\",\"soda\"],[\"avocado\"]],[[\"sardines\",\"artichoke\"],[\"avocado\"]],[[\"artichoke\",\"banana\"],[\"avocado\"]],[[\"artichoke\",\"bourbon\"],[\"avocado\"]],[[\"coke\"],[\"avocado\"]],[[\"artichoke\"],[\"bourbon\",\"avocado\"]],[[\"sardines\",\"turkey\"],[\"avocado\"]],[[\"sardines\",\"choclate\"],[\"avocado\"]],[[\"turkey\",\"choclate\"],[\"avocado\"]],[[\"sardines\"],[\"cosmetics\",\"avocado\"]],[[\"cracker\",\"turkey\"],[\"avocado\"]],[[\"coke\",\"soda\"],[\"avocado\"]],[[\"baguette\",\"cosmetics\"],[\"avocado\"]],[[\"turkey\"],[\"avocado\"]],[[\"turkey\",\"coke\"],[\"avocado\"]],[[\"banana\"],[\"cosmetics\",\"avocado\"]],[[\"baguette\",\"turkey\"],[\"avocado\"]],[[\"turkey\",\"soda\"],[\"avocado\"]],[[\"bourbon\"],[\"cosmetics\",\"avocado\"]],[[\"coke\"],[\"cosmetics\",\"avocado\"]],[[\"artichoke\",\"turkey\"],[\"avocado\"]],[[\"artichoke\",\"coke\"],[\"avocado\"]],[[\"turkey\"],[\"cosmetics\",\"avocado\"]],[[\"baguette\"],[\"cosmetics\",\"avocado\"]]],\"hovertemplate\":\"Support=%{x}\\u003cbr\\u003eConfidence=%{y}\\u003cbr\\u003eLHS=%{customdata[0]}\\u003cbr\\u003eRHS=%{customdata[1]}\\u003cbr\\u003eLift=%{marker.color}\\u003cextra\\u003e\\u003c\\u002fextra\\u003e\",\"legendgroup\":\"\",\"marker\":{\"color\":[3.571428571428571,3.405789842732646,2.353181911192961,2.2911500703296066,2.2018757751856963,2.04674187253082,1.9537886510363576,1.9157088122605361,1.879129538704007,1.744687524504038,1.7358402246840379,1.7357093265447814,1.6851227732306209,1.5957446808510638,1.512532411408816,1.4797277300976617,1.4792433827463571,1.4554433581595165,1.4498006524102933,1.446104786977641,1.4451731217732773,1.4441128333493791,1.4306804864313654,1.423559916620062,1.4175730172308445,1.4153208481815656,1.4121288325756842,1.3861660626943106,1.3860626972190275,1.385382673480697,1.382488479262673,1.3818027210884354,1.3697336104288682,1.3554675601583916,1.3551644761268282,1.3417521704814523,1.3411078717201164,1.3399851570874908,1.3376779283141829,1.2977668131472775,1.288324219124762,1.2821355776185153,1.2819546037252094,1.274968125796855,1.2701584130155559,1.2688236669003974,1.2648809523809523,1.2640449438202246,1.262468438289043,1.2482390912819414,1.2472748616468219,1.245693082427776,1.2352309344790549,1.2331504868818302,1.22870249017038,1.2160177225553228,1.2066958784061343,1.1860386309725517,1.1858797573083286,1.1727078891257994,1.1684272022484326,1.1555577410075482,1.140762854819723,1.136849688210531,1.1337868480725624,1.0965580261955525,1.0939301658634657,1.0923845193508115,1.0915994304698624,1.0790523105794043,1.0766511328941026,1.0764103925211594,1.0660980810234542,1.0657596371882088,1.0657596371882088,1.056851311953353,1.0540479928235031,1.0495626822157436,1.0452961672473868,1.0427528675703859,1.0425909494232477,1.0406188213257483,1.038961038961039,1.038388923851479,1.0368663594470047,1.0356381358513556,1.0346995941233637,1.034386357282639,1.034013605442177,1.031380294053105,1.0299446881556362,1.0285714285714287,1.0281975385574076,1.0272565401999727,1.0260760117109475,1.0254848207939893,1.024198225545725,1.0228810625373748,1.0147075590012542,1.0137096414057964,1.0131712259371837,1.011975037949064,1.011933840463396,1.0116867259724402,1.010404161664666,1.0091948867459073,1.0065564687413426,1.0051781906792567,1.0045139551147562,1.0013943465584991,1.000730870860741,1.0,1.0,1.0,1.0,1.0,0.9982253771073647,0.996358139215282,0.9912536443148688,0.989010989010989,0.9885204081632654,0.9874917709019091,0.9858180560359738,0.9772923253808568,0.9766763848396501,0.9687161661633142,0.9680795395081109,0.9679300291545191,0.9589377919842635,0.9588670616871143,0.9574200050390527,0.9436032477507131,0.9360135031456192,0.9313792631146419,0.9313792631146419,0.9208530658990312,0.904691773616663,0.9003601440576229,0.8960801260867355,0.8928571428571428,0.8746355685131196,0.8484292593441871,0.8106477641203529,0.6141516652571383],\"coloraxis\":\"coloraxis\",\"symbol\":\"circle\"},\"mode\":\"markers\",\"name\":\"\",\"orientation\":\"v\",\"showlegend\":false,\"x\":[0.068,0.068,0.023,0.158,0.158,0.043,0.023,0.062,0.062,0.089,0.089,0.03,0.063,0.063,0.063,0.09,0.094,0.145,0.072,0.039,0.145,0.09,0.094,0.112,0.116,0.112,0.146,0.07,0.094,0.045,0.021,0.13,0.116,0.356,0.146,0.068,0.023,0.13,0.156,0.101,0.094,0.156,0.034,0.054,0.089,0.038,0.119,0.063,0.101,0.07,0.119,0.141,0.023,0.058,0.075,0.101,0.141,0.063,0.043,0.066,0.074,0.094,0.094,0.101,0.03,0.072,0.037,0.021,0.069,0.046,0.201,0.146,0.069,0.047,0.094,0.058,0.094,0.09,0.063,0.07,0.094,0.09,0.112,0.066,0.063,0.068,0.181,0.074,0.038,0.141,0.054,0.063,0.066,0.075,0.075,0.101,0.083,0.13,0.089,0.227,0.07,0.06,0.116,0.116,0.101,0.09,0.218,0.066,0.158,0.158,0.178,0.49,0.218,0.356,0.201,0.227,0.045,0.145,0.034,0.063,0.062,0.075,0.057,0.068,0.134,0.068,0.037,0.083,0.039,0.156,0.038,0.043,0.061,0.068,0.068,0.119,0.043,0.03,0.141,0.089,0.021,0.037,0.043,0.061],\"xaxis\":\"x\",\"y\":[0.24285714285714285,0.45637583892617456,0.42592592592592593,0.4146981627296588,0.44257703081232497,0.2885906040268456,0.42592592592592593,0.2222222222222222,0.26495726495726496,0.3803418803418803,0.2013574660633484,0.20134228187919465,0.22580645161290322,0.22499999999999998,0.2692307692307692,0.32258064516129026,0.26330532212885155,0.3172866520787746,0.2580645161290322,0.26174496644295303,0.32805429864253394,0.20361990950226244,0.25895316804407714,0.25339366515837103,0.6946107784431138,0.3085399449035813,0.6919431279620852,0.25089605734767023,0.24671916010498687,0.30201342281879195,0.6774193548387097,0.6770833333333334,0.21641791044776118,0.6641791044776119,0.2723880597014925,0.24285714285714285,0.657142857142857,0.24253731343283583,0.6554621848739496,0.2829131652661065,0.25895316804407714,0.291044776119403,0.22818791946308728,0.23076923076923075,0.6223776223776224,0.2550335570469799,0.6197916666666666,0.22499999999999998,0.22850678733031676,0.25089605734767023,0.2220149253731343,0.6103896103896103,0.6052631578947368,0.24786324786324787,0.26785714285714285,0.2650918635170604,0.26305970149253727,0.2692307692307692,0.581081081081081,0.2357142857142857,0.2652329749103942,0.20568927789934355,0.25895316804407714,0.22850678733031676,0.5555555555555556,0.5373134328358208,0.2483221476510067,0.3888888888888889,0.5348837209302326,0.5287356321839081,0.5275590551181103,0.3832020997375328,0.2142857142857143,0.5222222222222223,0.5222222222222223,0.5178571428571429,0.5164835164835165,0.5142857142857143,0.5121951219512195,0.5109489051094891,0.5108695652173914,0.23622047244094488,0.5090909090909091,0.2357142857142857,0.5080645161290323,0.5074626865671642,0.5070028011204482,0.5068493150684932,0.5066666666666667,0.5053763440860214,0.5046728971962617,0.504,0.5038167938931297,0.5033557046979866,0.2329192546583851,0.5024875621890548,0.2324929971988796,0.36414565826330536,0.4972067039106145,0.49671772428884026,0.49645390070921996,0.49586776859504134,0.36024844720496896,0.49572649572649574,0.49509803921568635,0.4945054945054945,0.4932126696832579,0.4925373134328358,0.49221183800623053,0.4906832298136646,0.4903581267217631,0.49,0.218,0.356,0.201,0.227,0.4891304347826087,0.4882154882154882,0.4857142857142857,0.4846153846153846,0.484375,0.48387096774193544,0.48305084745762716,0.4788732394366198,0.47857142857142854,0.2111801242236025,0.47435897435897434,0.47428571428571437,0.4698795180722891,0.3413566739606127,0.4691358024691358,0.46236559139784944,0.45864661654135336,0.45637583892617456,0.45637583892617456,0.3278236914600551,0.4432989690721649,0.4411764705882352,0.3190045248868778,0.31785714285714284,0.4285714285714286,0.4157303370786517,0.2885906040268456,0.2186379928315412],\"yaxis\":\"y\",\"type\":\"scatter\"}],                        {\"template\":{\"data\":{\"histogram2dcontour\":[{\"type\":\"histogram2dcontour\",\"colorbar\":{\"outlinewidth\":0,\"ticks\":\"\"},\"colorscale\":[[0.0,\"#0d0887\"],[0.1111111111111111,\"#46039f\"],[0.2222222222222222,\"#7201a8\"],[0.3333333333333333,\"#9c179e\"],[0.4444444444444444,\"#bd3786\"],[0.5555555555555556,\"#d8576b\"],[0.6666666666666666,\"#ed7953\"],[0.7777777777777778,\"#fb9f3a\"],[0.8888888888888888,\"#fdca26\"],[1.0,\"#f0f921\"]]}],\"choropleth\":[{\"type\":\"choropleth\",\"colorbar\":{\"outlinewidth\":0,\"ticks\":\"\"}}],\"histogram2d\":[{\"type\":\"histogram2d\",\"colorbar\":{\"outlinewidth\":0,\"ticks\":\"\"},\"colorscale\":[[0.0,\"#0d0887\"],[0.1111111111111111,\"#46039f\"],[0.2222222222222222,\"#7201a8\"],[0.3333333333333333,\"#9c179e\"],[0.4444444444444444,\"#bd3786\"],[0.5555555555555556,\"#d8576b\"],[0.6666666666666666,\"#ed7953\"],[0.7777777777777778,\"#fb9f3a\"],[0.8888888888888888,\"#fdca26\"],[1.0,\"#f0f921\"]]}],\"heatmap\":[{\"type\":\"heatmap\",\"colorbar\":{\"outlinewidth\":0,\"ticks\":\"\"},\"colorscale\":[[0.0,\"#0d0887\"],[0.1111111111111111,\"#46039f\"],[0.2222222222222222,\"#7201a8\"],[0.3333333333333333,\"#9c179e\"],[0.4444444444444444,\"#bd3786\"],[0.5555555555555556,\"#d8576b\"],[0.6666666666666666,\"#ed7953\"],[0.7777777777777778,\"#fb9f3a\"],[0.8888888888888888,\"#fdca26\"],[1.0,\"#f0f921\"]]}],\"heatmapgl\":[{\"type\":\"heatmapgl\",\"colorbar\":{\"outlinewidth\":0,\"ticks\":\"\"},\"colorscale\":[[0.0,\"#0d0887\"],[0.1111111111111111,\"#46039f\"],[0.2222222222222222,\"#7201a8\"],[0.3333333333333333,\"#9c179e\"],[0.4444444444444444,\"#bd3786\"],[0.5555555555555556,\"#d8576b\"],[0.6666666666666666,\"#ed7953\"],[0.7777777777777778,\"#fb9f3a\"],[0.8888888888888888,\"#fdca26\"],[1.0,\"#f0f921\"]]}],\"contourcarpet\":[{\"type\":\"contourcarpet\",\"colorbar\":{\"outlinewidth\":0,\"ticks\":\"\"}}],\"contour\":[{\"type\":\"contour\",\"colorbar\":{\"outlinewidth\":0,\"ticks\":\"\"},\"colorscale\":[[0.0,\"#0d0887\"],[0.1111111111111111,\"#46039f\"],[0.2222222222222222,\"#7201a8\"],[0.3333333333333333,\"#9c179e\"],[0.4444444444444444,\"#bd3786\"],[0.5555555555555556,\"#d8576b\"],[0.6666666666666666,\"#ed7953\"],[0.7777777777777778,\"#fb9f3a\"],[0.8888888888888888,\"#fdca26\"],[1.0,\"#f0f921\"]]}],\"surface\":[{\"type\":\"surface\",\"colorbar\":{\"outlinewidth\":0,\"ticks\":\"\"},\"colorscale\":[[0.0,\"#0d0887\"],[0.1111111111111111,\"#46039f\"],[0.2222222222222222,\"#7201a8\"],[0.3333333333333333,\"#9c179e\"],[0.4444444444444444,\"#bd3786\"],[0.5555555555555556,\"#d8576b\"],[0.6666666666666666,\"#ed7953\"],[0.7777777777777778,\"#fb9f3a\"],[0.8888888888888888,\"#fdca26\"],[1.0,\"#f0f921\"]]}],\"mesh3d\":[{\"type\":\"mesh3d\",\"colorbar\":{\"outlinewidth\":0,\"ticks\":\"\"}}],\"scatter\":[{\"fillpattern\":{\"fillmode\":\"overlay\",\"size\":10,\"solidity\":0.2},\"type\":\"scatter\"}],\"parcoords\":[{\"type\":\"parcoords\",\"line\":{\"colorbar\":{\"outlinewidth\":0,\"ticks\":\"\"}}}],\"scatterpolargl\":[{\"type\":\"scatterpolargl\",\"marker\":{\"colorbar\":{\"outlinewidth\":0,\"ticks\":\"\"}}}],\"bar\":[{\"error_x\":{\"color\":\"#2a3f5f\"},\"error_y\":{\"color\":\"#2a3f5f\"},\"marker\":{\"line\":{\"color\":\"#E5ECF6\",\"width\":0.5},\"pattern\":{\"fillmode\":\"overlay\",\"size\":10,\"solidity\":0.2}},\"type\":\"bar\"}],\"scattergeo\":[{\"type\":\"scattergeo\",\"marker\":{\"colorbar\":{\"outlinewidth\":0,\"ticks\":\"\"}}}],\"scatterpolar\":[{\"type\":\"scatterpolar\",\"marker\":{\"colorbar\":{\"outlinewidth\":0,\"ticks\":\"\"}}}],\"histogram\":[{\"marker\":{\"pattern\":{\"fillmode\":\"overlay\",\"size\":10,\"solidity\":0.2}},\"type\":\"histogram\"}],\"scattergl\":[{\"type\":\"scattergl\",\"marker\":{\"colorbar\":{\"outlinewidth\":0,\"ticks\":\"\"}}}],\"scatter3d\":[{\"type\":\"scatter3d\",\"line\":{\"colorbar\":{\"outlinewidth\":0,\"ticks\":\"\"}},\"marker\":{\"colorbar\":{\"outlinewidth\":0,\"ticks\":\"\"}}}],\"scattermapbox\":[{\"type\":\"scattermapbox\",\"marker\":{\"colorbar\":{\"outlinewidth\":0,\"ticks\":\"\"}}}],\"scatterternary\":[{\"type\":\"scatterternary\",\"marker\":{\"colorbar\":{\"outlinewidth\":0,\"ticks\":\"\"}}}],\"scattercarpet\":[{\"type\":\"scattercarpet\",\"marker\":{\"colorbar\":{\"outlinewidth\":0,\"ticks\":\"\"}}}],\"carpet\":[{\"aaxis\":{\"endlinecolor\":\"#2a3f5f\",\"gridcolor\":\"white\",\"linecolor\":\"white\",\"minorgridcolor\":\"white\",\"startlinecolor\":\"#2a3f5f\"},\"baxis\":{\"endlinecolor\":\"#2a3f5f\",\"gridcolor\":\"white\",\"linecolor\":\"white\",\"minorgridcolor\":\"white\",\"startlinecolor\":\"#2a3f5f\"},\"type\":\"carpet\"}],\"table\":[{\"cells\":{\"fill\":{\"color\":\"#EBF0F8\"},\"line\":{\"color\":\"white\"}},\"header\":{\"fill\":{\"color\":\"#C8D4E3\"},\"line\":{\"color\":\"white\"}},\"type\":\"table\"}],\"barpolar\":[{\"marker\":{\"line\":{\"color\":\"#E5ECF6\",\"width\":0.5},\"pattern\":{\"fillmode\":\"overlay\",\"size\":10,\"solidity\":0.2}},\"type\":\"barpolar\"}],\"pie\":[{\"automargin\":true,\"type\":\"pie\"}]},\"layout\":{\"autotypenumbers\":\"strict\",\"colorway\":[\"#636efa\",\"#EF553B\",\"#00cc96\",\"#ab63fa\",\"#FFA15A\",\"#19d3f3\",\"#FF6692\",\"#B6E880\",\"#FF97FF\",\"#FECB52\"],\"font\":{\"color\":\"#2a3f5f\"},\"hovermode\":\"closest\",\"hoverlabel\":{\"align\":\"left\"},\"paper_bgcolor\":\"white\",\"plot_bgcolor\":\"#E5ECF6\",\"polar\":{\"bgcolor\":\"#E5ECF6\",\"angularaxis\":{\"gridcolor\":\"white\",\"linecolor\":\"white\",\"ticks\":\"\"},\"radialaxis\":{\"gridcolor\":\"white\",\"linecolor\":\"white\",\"ticks\":\"\"}},\"ternary\":{\"bgcolor\":\"#E5ECF6\",\"aaxis\":{\"gridcolor\":\"white\",\"linecolor\":\"white\",\"ticks\":\"\"},\"baxis\":{\"gridcolor\":\"white\",\"linecolor\":\"white\",\"ticks\":\"\"},\"caxis\":{\"gridcolor\":\"white\",\"linecolor\":\"white\",\"ticks\":\"\"}},\"coloraxis\":{\"colorbar\":{\"outlinewidth\":0,\"ticks\":\"\"}},\"colorscale\":{\"sequential\":[[0.0,\"#0d0887\"],[0.1111111111111111,\"#46039f\"],[0.2222222222222222,\"#7201a8\"],[0.3333333333333333,\"#9c179e\"],[0.4444444444444444,\"#bd3786\"],[0.5555555555555556,\"#d8576b\"],[0.6666666666666666,\"#ed7953\"],[0.7777777777777778,\"#fb9f3a\"],[0.8888888888888888,\"#fdca26\"],[1.0,\"#f0f921\"]],\"sequentialminus\":[[0.0,\"#0d0887\"],[0.1111111111111111,\"#46039f\"],[0.2222222222222222,\"#7201a8\"],[0.3333333333333333,\"#9c179e\"],[0.4444444444444444,\"#bd3786\"],[0.5555555555555556,\"#d8576b\"],[0.6666666666666666,\"#ed7953\"],[0.7777777777777778,\"#fb9f3a\"],[0.8888888888888888,\"#fdca26\"],[1.0,\"#f0f921\"]],\"diverging\":[[0,\"#8e0152\"],[0.1,\"#c51b7d\"],[0.2,\"#de77ae\"],[0.3,\"#f1b6da\"],[0.4,\"#fde0ef\"],[0.5,\"#f7f7f7\"],[0.6,\"#e6f5d0\"],[0.7,\"#b8e186\"],[0.8,\"#7fbc41\"],[0.9,\"#4d9221\"],[1,\"#276419\"]]},\"xaxis\":{\"gridcolor\":\"white\",\"linecolor\":\"white\",\"ticks\":\"\",\"title\":{\"standoff\":15},\"zerolinecolor\":\"white\",\"automargin\":true,\"zerolinewidth\":2},\"yaxis\":{\"gridcolor\":\"white\",\"linecolor\":\"white\",\"ticks\":\"\",\"title\":{\"standoff\":15},\"zerolinecolor\":\"white\",\"automargin\":true,\"zerolinewidth\":2},\"scene\":{\"xaxis\":{\"backgroundcolor\":\"#E5ECF6\",\"gridcolor\":\"white\",\"linecolor\":\"white\",\"showbackground\":true,\"ticks\":\"\",\"zerolinecolor\":\"white\",\"gridwidth\":2},\"yaxis\":{\"backgroundcolor\":\"#E5ECF6\",\"gridcolor\":\"white\",\"linecolor\":\"white\",\"showbackground\":true,\"ticks\":\"\",\"zerolinecolor\":\"white\",\"gridwidth\":2},\"zaxis\":{\"backgroundcolor\":\"#E5ECF6\",\"gridcolor\":\"white\",\"linecolor\":\"white\",\"showbackground\":true,\"ticks\":\"\",\"zerolinecolor\":\"white\",\"gridwidth\":2}},\"shapedefaults\":{\"line\":{\"color\":\"#2a3f5f\"}},\"annotationdefaults\":{\"arrowcolor\":\"#2a3f5f\",\"arrowhead\":0,\"arrowwidth\":1},\"geo\":{\"bgcolor\":\"white\",\"landcolor\":\"#E5ECF6\",\"subunitcolor\":\"white\",\"showland\":true,\"showlakes\":true,\"lakecolor\":\"white\"},\"title\":{\"x\":0.05},\"mapbox\":{\"style\":\"light\"}}},\"xaxis\":{\"anchor\":\"y\",\"domain\":[0.0,1.0],\"title\":{\"text\":\"Support\"}},\"yaxis\":{\"anchor\":\"x\",\"domain\":[0.0,1.0],\"title\":{\"text\":\"Confidence\"}},\"coloraxis\":{\"colorbar\":{\"title\":{\"text\":\"Lift\"}},\"colorscale\":[[0.0,\"rgb(75, 41, 145)\"],[0.16666666666666666,\"rgb(135, 44, 162)\"],[0.3333333333333333,\"rgb(192, 54, 157)\"],[0.5,\"rgb(234, 79, 136)\"],[0.6666666666666666,\"rgb(250, 120, 118)\"],[0.8333333333333334,\"rgb(246, 169, 122)\"],[1.0,\"rgb(237, 217, 163)\"]]},\"legend\":{\"tracegroupgap\":0},\"margin\":{\"t\":60}},                        {\"responsive\": true}                    ).then(function(){\n",
       "                            \n",
       "var gd = document.getElementById('d3ed996e-7801-46a5-93ff-5a53e6087e65');\n",
       "var x = new MutationObserver(function (mutations, observer) {{\n",
       "        var display = window.getComputedStyle(gd).display;\n",
       "        if (!display || display === 'none') {{\n",
       "            console.log([gd, 'removed!']);\n",
       "            Plotly.purge(gd);\n",
       "            observer.disconnect();\n",
       "        }}\n",
       "}});\n",
       "\n",
       "// Listen for the removal of the full notebook cells\n",
       "var notebookContainer = gd.closest('#notebook-container');\n",
       "if (notebookContainer) {{\n",
       "    x.observe(notebookContainer, {childList: true});\n",
       "}}\n",
       "\n",
       "// Listen for the clearing of the current output cell\n",
       "var outputEl = gd.closest('.output');\n",
       "if (outputEl) {{\n",
       "    x.observe(outputEl, {childList: true});\n",
       "}}\n",
       "\n",
       "                        })                };                });            </script>        </div>"
      ]
     },
     "metadata": {},
     "output_type": "display_data"
    }
   ],
   "source": [
    "fig = px.scatter(avocado_rules, x = 'Support', y='Confidence', color=\"Lift\", hover_data=['LHS','RHS'], color_continuous_scale=\"agsunset\")\n",
    "fig.show()"
   ]
  },
  {
   "cell_type": "code",
   "execution_count": null,
   "id": "0ed3fce8-b830-425d-85f5-816b28cdcf98",
   "metadata": {},
   "outputs": [],
   "source": []
  }
 ],
 "metadata": {
  "kernelspec": {
   "display_name": "mldmenv",
   "language": "python",
   "name": "mldmenv"
  },
  "language_info": {
   "codemirror_mode": {
    "name": "ipython",
    "version": 3
   },
   "file_extension": ".py",
   "mimetype": "text/x-python",
   "name": "python",
   "nbconvert_exporter": "python",
   "pygments_lexer": "ipython3",
   "version": "3.13.0"
  }
 },
 "nbformat": 4,
 "nbformat_minor": 5
}
